{
 "cells": [
  {
   "cell_type": "markdown",
   "metadata": {
    "id": "LYvAOR2VzHmW"
   },
   "source": [
    "\n",
    "**Diplomatura en Ciencia de Datos, Aprendizaje Automático y sus Aplicaciones**\n",
    "\n",
    "**Introducción al Aprendizaje Automatico 2022, Grupo 14**:\n",
    "\n",
    "**Integrantes:**\n",
    "\n",
    "\n",
    "*   Brunetto, Gisela\n",
    "*   Luna, Andres\n",
    "*   Robiglio, Guillermo\n",
    "*   Garay, Alejandro\n",
    "\n",
    "\n",
    "\n",
    "\n",
    "---\n"
   ]
  },
  {
   "cell_type": "markdown",
   "metadata": {
    "id": "qt3Gh6z4Jdxi"
   },
   "source": [
    "# Laboratorio 2: Armado de un esquema de aprendizaje automático\n",
    "\n",
    "En el laboratorio final se espera que puedan poner en práctica los conocimientos adquiridos en el curso, trabajando con un conjunto de datos de clasificación.\n",
    "\n",
    "El objetivo es que se introduzcan en el desarrollo de un esquema para hacer tareas de aprendizaje automático: selección de un modelo, ajuste de hiperparámetros y evaluación.\n",
    "\n",
    "El conjunto de datos a utilizar está en `./data/loan_data.csv`. Si abren el archivo verán que al principio (las líneas que empiezan con `#`) describen el conjunto de datos y sus atributos (incluyendo el atributo de etiqueta o clase).\n",
    "\n",
    "Se espera que hagan uso de las herramientas vistas en el curso. Se espera que hagan uso especialmente de las herramientas brindadas por `scikit-learn`."
   ]
  },
  {
   "cell_type": "markdown",
   "metadata": {
    "id": "tMEX0z4yiOyf"
   },
   "source": [
    "## Importaciones"
   ]
  },
  {
   "cell_type": "code",
   "execution_count": null,
   "metadata": {
    "id": "nHmFMnf-Jdxo"
   },
   "outputs": [],
   "source": [
    "import numpy as np\n",
    "import pandas as pd\n",
    "import matplotlib.pyplot as plt\n",
    "import seaborn as sns\n",
    "\n",
    "\n",
    "# TODO: Agregar las librerías que hagan falta\n",
    "from sklearn.model_selection import train_test_split\n",
    "from sklearn.preprocessing import StandardScaler\n",
    "from sklearn.pipeline import Pipeline\n",
    "from sklearn.metrics import classification_report\n",
    "from sklearn.metrics import confusion_matrix\n",
    "\n",
    "from sklearn.model_selection import GridSearchCV\n",
    "from scipy import stats\n",
    "\n",
    "from sklearn.linear_model import SGDClassifier\n",
    "\n",
    "from sklearn.tree import DecisionTreeClassifier\n",
    "from sklearn import tree\n",
    "\n",
    "\n",
    "%matplotlib inline\n",
    "\n",
    "\n",
    "\n",
    "\n"
   ]
  },
  {
   "cell_type": "markdown",
   "metadata": {
    "id": "DuEtDRjmiK5v"
   },
   "source": [
    "## Valores constantes"
   ]
  },
  {
   "cell_type": "code",
   "execution_count": null,
   "metadata": {
    "id": "8Dn8duSfiWij"
   },
   "outputs": [],
   "source": [
    "SEMILLA = 5 # Para asegurar repetitibilidad de resultados"
   ]
  },
  {
   "cell_type": "markdown",
   "metadata": {
    "id": "A8-xVlUrJdxq"
   },
   "source": [
    "## Carga de datos y división en entrenamiento y evaluación\n",
    "\n",
    "La celda siguiente se encarga de la carga de datos (haciendo uso de pandas). Estos serán los que se trabajarán en el resto del laboratorio."
   ]
  },
  {
   "cell_type": "code",
   "execution_count": null,
   "metadata": {
    "id": "zLy3b9qeKAAn"
   },
   "outputs": [],
   "source": [
    "url1=\"https://raw.githubusercontent.com/DiploDatos/IntroduccionAprendizajeAutomatico/master/data/loan_data.csv\""
   ]
  },
  {
   "cell_type": "code",
   "execution_count": null,
   "metadata": {
    "id": "Pwr4XuZkJdxq"
   },
   "outputs": [],
   "source": [
    "dataset = pd.read_csv(url1,comment=\"#\")\n",
    "\n",
    "# División entre instancias y etiquetas\n",
    "X, y = dataset.iloc[:, 1:], dataset.TARGET\n",
    "\n",
    "# división entre entrenamiento y evaluación\n",
    "X_train, X_test, y_train, y_test = train_test_split(X, y, test_size=0.2, stratify=y, random_state=SEMILLA)\n",
    "\n",
    "#agregamos stratify=y porque las clases del target están desbalanceadas (ver \"Visualización de los datos etiquetados\")"
   ]
  },
  {
   "cell_type": "code",
   "execution_count": null,
   "metadata": {
    "colab": {
     "base_uri": "https://localhost:8080/"
    },
    "id": "wHMc_07iJxH7",
    "outputId": "fcdb3637-2573-4a0a-ae31-57fb77c5a97e"
   },
   "outputs": [
    {
     "data": {
      "text/html": [
       "\n",
       "  <div id=\"df-0b25ef3b-b533-4ba7-8174-1d6f38ac8a92\">\n",
       "    <div class=\"colab-df-container\">\n",
       "      <div>\n",
       "<style scoped>\n",
       "    .dataframe tbody tr th:only-of-type {\n",
       "        vertical-align: middle;\n",
       "    }\n",
       "\n",
       "    .dataframe tbody tr th {\n",
       "        vertical-align: top;\n",
       "    }\n",
       "\n",
       "    .dataframe thead th {\n",
       "        text-align: right;\n",
       "    }\n",
       "</style>\n",
       "<table border=\"1\" class=\"dataframe\">\n",
       "  <thead>\n",
       "    <tr style=\"text-align: right;\">\n",
       "      <th></th>\n",
       "      <th>TARGET</th>\n",
       "      <th>LOAN</th>\n",
       "      <th>MORTDUE</th>\n",
       "      <th>VALUE</th>\n",
       "      <th>YOJ</th>\n",
       "      <th>DEROG</th>\n",
       "      <th>DELINQ</th>\n",
       "      <th>CLAGE</th>\n",
       "      <th>NINQ</th>\n",
       "      <th>CLNO</th>\n",
       "      <th>DEBTINC</th>\n",
       "    </tr>\n",
       "  </thead>\n",
       "  <tbody>\n",
       "    <tr>\n",
       "      <th>0</th>\n",
       "      <td>0</td>\n",
       "      <td>4700</td>\n",
       "      <td>88026.0</td>\n",
       "      <td>115506.0</td>\n",
       "      <td>6.0</td>\n",
       "      <td>0.0</td>\n",
       "      <td>0.0</td>\n",
       "      <td>182.248332</td>\n",
       "      <td>0.0</td>\n",
       "      <td>27.0</td>\n",
       "      <td>29.209023</td>\n",
       "    </tr>\n",
       "    <tr>\n",
       "      <th>1</th>\n",
       "      <td>0</td>\n",
       "      <td>19300</td>\n",
       "      <td>39926.0</td>\n",
       "      <td>101208.0</td>\n",
       "      <td>4.0</td>\n",
       "      <td>0.0</td>\n",
       "      <td>0.0</td>\n",
       "      <td>140.051638</td>\n",
       "      <td>0.0</td>\n",
       "      <td>14.0</td>\n",
       "      <td>31.545694</td>\n",
       "    </tr>\n",
       "    <tr>\n",
       "      <th>2</th>\n",
       "      <td>0</td>\n",
       "      <td>5700</td>\n",
       "      <td>71556.0</td>\n",
       "      <td>79538.0</td>\n",
       "      <td>2.0</td>\n",
       "      <td>0.0</td>\n",
       "      <td>0.0</td>\n",
       "      <td>92.643085</td>\n",
       "      <td>0.0</td>\n",
       "      <td>15.0</td>\n",
       "      <td>41.210012</td>\n",
       "    </tr>\n",
       "    <tr>\n",
       "      <th>3</th>\n",
       "      <td>0</td>\n",
       "      <td>13000</td>\n",
       "      <td>44875.0</td>\n",
       "      <td>57713.0</td>\n",
       "      <td>0.0</td>\n",
       "      <td>1.0</td>\n",
       "      <td>0.0</td>\n",
       "      <td>184.990324</td>\n",
       "      <td>1.0</td>\n",
       "      <td>12.0</td>\n",
       "      <td>28.602076</td>\n",
       "    </tr>\n",
       "    <tr>\n",
       "      <th>4</th>\n",
       "      <td>0</td>\n",
       "      <td>19300</td>\n",
       "      <td>72752.0</td>\n",
       "      <td>106084.0</td>\n",
       "      <td>11.0</td>\n",
       "      <td>0.0</td>\n",
       "      <td>0.0</td>\n",
       "      <td>193.707100</td>\n",
       "      <td>1.0</td>\n",
       "      <td>13.0</td>\n",
       "      <td>30.686106</td>\n",
       "    </tr>\n",
       "    <tr>\n",
       "      <th>...</th>\n",
       "      <td>...</td>\n",
       "      <td>...</td>\n",
       "      <td>...</td>\n",
       "      <td>...</td>\n",
       "      <td>...</td>\n",
       "      <td>...</td>\n",
       "      <td>...</td>\n",
       "      <td>...</td>\n",
       "      <td>...</td>\n",
       "      <td>...</td>\n",
       "      <td>...</td>\n",
       "    </tr>\n",
       "    <tr>\n",
       "      <th>1849</th>\n",
       "      <td>1</td>\n",
       "      <td>53400</td>\n",
       "      <td>228236.0</td>\n",
       "      <td>305514.0</td>\n",
       "      <td>6.0</td>\n",
       "      <td>0.0</td>\n",
       "      <td>0.0</td>\n",
       "      <td>11.148069</td>\n",
       "      <td>0.0</td>\n",
       "      <td>2.0</td>\n",
       "      <td>34.558417</td>\n",
       "    </tr>\n",
       "    <tr>\n",
       "      <th>1850</th>\n",
       "      <td>1</td>\n",
       "      <td>53600</td>\n",
       "      <td>235895.0</td>\n",
       "      <td>299772.0</td>\n",
       "      <td>5.0</td>\n",
       "      <td>0.0</td>\n",
       "      <td>0.0</td>\n",
       "      <td>112.748282</td>\n",
       "      <td>7.0</td>\n",
       "      <td>22.0</td>\n",
       "      <td>44.945929</td>\n",
       "    </tr>\n",
       "    <tr>\n",
       "      <th>1851</th>\n",
       "      <td>1</td>\n",
       "      <td>53600</td>\n",
       "      <td>208197.0</td>\n",
       "      <td>297280.0</td>\n",
       "      <td>4.0</td>\n",
       "      <td>1.0</td>\n",
       "      <td>1.0</td>\n",
       "      <td>160.485251</td>\n",
       "      <td>2.0</td>\n",
       "      <td>29.0</td>\n",
       "      <td>41.646731</td>\n",
       "    </tr>\n",
       "    <tr>\n",
       "      <th>1852</th>\n",
       "      <td>1</td>\n",
       "      <td>65500</td>\n",
       "      <td>205156.0</td>\n",
       "      <td>290239.0</td>\n",
       "      <td>2.0</td>\n",
       "      <td>0.0</td>\n",
       "      <td>0.0</td>\n",
       "      <td>98.808206</td>\n",
       "      <td>1.0</td>\n",
       "      <td>21.0</td>\n",
       "      <td>144.189001</td>\n",
       "    </tr>\n",
       "    <tr>\n",
       "      <th>1853</th>\n",
       "      <td>1</td>\n",
       "      <td>77400</td>\n",
       "      <td>87651.0</td>\n",
       "      <td>224630.0</td>\n",
       "      <td>9.0</td>\n",
       "      <td>0.0</td>\n",
       "      <td>2.0</td>\n",
       "      <td>73.469630</td>\n",
       "      <td>3.0</td>\n",
       "      <td>13.0</td>\n",
       "      <td>40.929793</td>\n",
       "    </tr>\n",
       "  </tbody>\n",
       "</table>\n",
       "<p>1854 rows × 11 columns</p>\n",
       "</div>\n",
       "      <button class=\"colab-df-convert\" onclick=\"convertToInteractive('df-0b25ef3b-b533-4ba7-8174-1d6f38ac8a92')\"\n",
       "              title=\"Convert this dataframe to an interactive table.\"\n",
       "              style=\"display:none;\">\n",
       "        \n",
       "  <svg xmlns=\"http://www.w3.org/2000/svg\" height=\"24px\"viewBox=\"0 0 24 24\"\n",
       "       width=\"24px\">\n",
       "    <path d=\"M0 0h24v24H0V0z\" fill=\"none\"/>\n",
       "    <path d=\"M18.56 5.44l.94 2.06.94-2.06 2.06-.94-2.06-.94-.94-2.06-.94 2.06-2.06.94zm-11 1L8.5 8.5l.94-2.06 2.06-.94-2.06-.94L8.5 2.5l-.94 2.06-2.06.94zm10 10l.94 2.06.94-2.06 2.06-.94-2.06-.94-.94-2.06-.94 2.06-2.06.94z\"/><path d=\"M17.41 7.96l-1.37-1.37c-.4-.4-.92-.59-1.43-.59-.52 0-1.04.2-1.43.59L10.3 9.45l-7.72 7.72c-.78.78-.78 2.05 0 2.83L4 21.41c.39.39.9.59 1.41.59.51 0 1.02-.2 1.41-.59l7.78-7.78 2.81-2.81c.8-.78.8-2.07 0-2.86zM5.41 20L4 18.59l7.72-7.72 1.47 1.35L5.41 20z\"/>\n",
       "  </svg>\n",
       "      </button>\n",
       "      \n",
       "  <style>\n",
       "    .colab-df-container {\n",
       "      display:flex;\n",
       "      flex-wrap:wrap;\n",
       "      gap: 12px;\n",
       "    }\n",
       "\n",
       "    .colab-df-convert {\n",
       "      background-color: #E8F0FE;\n",
       "      border: none;\n",
       "      border-radius: 50%;\n",
       "      cursor: pointer;\n",
       "      display: none;\n",
       "      fill: #1967D2;\n",
       "      height: 32px;\n",
       "      padding: 0 0 0 0;\n",
       "      width: 32px;\n",
       "    }\n",
       "\n",
       "    .colab-df-convert:hover {\n",
       "      background-color: #E2EBFA;\n",
       "      box-shadow: 0px 1px 2px rgba(60, 64, 67, 0.3), 0px 1px 3px 1px rgba(60, 64, 67, 0.15);\n",
       "      fill: #174EA6;\n",
       "    }\n",
       "\n",
       "    [theme=dark] .colab-df-convert {\n",
       "      background-color: #3B4455;\n",
       "      fill: #D2E3FC;\n",
       "    }\n",
       "\n",
       "    [theme=dark] .colab-df-convert:hover {\n",
       "      background-color: #434B5C;\n",
       "      box-shadow: 0px 1px 3px 1px rgba(0, 0, 0, 0.15);\n",
       "      filter: drop-shadow(0px 1px 2px rgba(0, 0, 0, 0.3));\n",
       "      fill: #FFFFFF;\n",
       "    }\n",
       "  </style>\n",
       "\n",
       "      <script>\n",
       "        const buttonEl =\n",
       "          document.querySelector('#df-0b25ef3b-b533-4ba7-8174-1d6f38ac8a92 button.colab-df-convert');\n",
       "        buttonEl.style.display =\n",
       "          google.colab.kernel.accessAllowed ? 'block' : 'none';\n",
       "\n",
       "        async function convertToInteractive(key) {\n",
       "          const element = document.querySelector('#df-0b25ef3b-b533-4ba7-8174-1d6f38ac8a92');\n",
       "          const dataTable =\n",
       "            await google.colab.kernel.invokeFunction('convertToInteractive',\n",
       "                                                     [key], {});\n",
       "          if (!dataTable) return;\n",
       "\n",
       "          const docLinkHtml = 'Like what you see? Visit the ' +\n",
       "            '<a target=\"_blank\" href=https://colab.research.google.com/notebooks/data_table.ipynb>data table notebook</a>'\n",
       "            + ' to learn more about interactive tables.';\n",
       "          element.innerHTML = '';\n",
       "          dataTable['output_type'] = 'display_data';\n",
       "          await google.colab.output.renderOutput(dataTable, element);\n",
       "          const docLink = document.createElement('div');\n",
       "          docLink.innerHTML = docLinkHtml;\n",
       "          element.appendChild(docLink);\n",
       "        }\n",
       "      </script>\n",
       "    </div>\n",
       "  </div>\n",
       "  "
      ],
      "text/plain": [
       "      TARGET   LOAN   MORTDUE     VALUE   YOJ  DEROG  DELINQ       CLAGE  \\\n",
       "0          0   4700   88026.0  115506.0   6.0    0.0     0.0  182.248332   \n",
       "1          0  19300   39926.0  101208.0   4.0    0.0     0.0  140.051638   \n",
       "2          0   5700   71556.0   79538.0   2.0    0.0     0.0   92.643085   \n",
       "3          0  13000   44875.0   57713.0   0.0    1.0     0.0  184.990324   \n",
       "4          0  19300   72752.0  106084.0  11.0    0.0     0.0  193.707100   \n",
       "...      ...    ...       ...       ...   ...    ...     ...         ...   \n",
       "1849       1  53400  228236.0  305514.0   6.0    0.0     0.0   11.148069   \n",
       "1850       1  53600  235895.0  299772.0   5.0    0.0     0.0  112.748282   \n",
       "1851       1  53600  208197.0  297280.0   4.0    1.0     1.0  160.485251   \n",
       "1852       1  65500  205156.0  290239.0   2.0    0.0     0.0   98.808206   \n",
       "1853       1  77400   87651.0  224630.0   9.0    0.0     2.0   73.469630   \n",
       "\n",
       "      NINQ  CLNO     DEBTINC  \n",
       "0      0.0  27.0   29.209023  \n",
       "1      0.0  14.0   31.545694  \n",
       "2      0.0  15.0   41.210012  \n",
       "3      1.0  12.0   28.602076  \n",
       "4      1.0  13.0   30.686106  \n",
       "...    ...   ...         ...  \n",
       "1849   0.0   2.0   34.558417  \n",
       "1850   7.0  22.0   44.945929  \n",
       "1851   2.0  29.0   41.646731  \n",
       "1852   1.0  21.0  144.189001  \n",
       "1853   3.0  13.0   40.929793  \n",
       "\n",
       "[1854 rows x 11 columns]"
      ]
     },
     "execution_count": 6,
     "metadata": {},
     "output_type": "execute_result"
    }
   ],
   "source": [
    "dataset"
   ]
  },
  {
   "cell_type": "markdown",
   "metadata": {
    "id": "7pKp6v5gJdxr"
   },
   "source": [
    "\n",
    "Documentación:\n",
    "\n",
    "- https://scikit-learn.org/stable/modules/generated/sklearn.model_selection.train_test_split.html"
   ]
  },
  {
   "cell_type": "markdown",
   "metadata": {
    "id": "aUrb6ovQew2j"
   },
   "source": [
    "## Visualización de la cantidad de datos etiquetados"
   ]
  },
  {
   "cell_type": "code",
   "execution_count": null,
   "metadata": {
    "colab": {
     "base_uri": "https://localhost:8080/"
    },
    "id": "A1on4fLme0rp",
    "outputId": "fdd7348e-c64b-43d2-ebcb-fe612e7a75a3"
   },
   "outputs": [
    {
     "data": {
      "text/plain": [
       "0    1545\n",
       "1     309\n",
       "Name: TARGET, dtype: int64"
      ]
     },
     "execution_count": 7,
     "metadata": {},
     "output_type": "execute_result"
    }
   ],
   "source": [
    "y.value_counts()"
   ]
  },
  {
   "cell_type": "code",
   "execution_count": null,
   "metadata": {
    "colab": {
     "base_uri": "https://localhost:8080/"
    },
    "id": "kCPqTAj-fBOJ",
    "outputId": "7d871d57-a073-4bca-8345-14cb9b1da977"
   },
   "outputs": [
    {
     "data": {
      "image/png": "[encoded data removed]",
      "text/plain": [
       "<Figure size 454x454 with 1 Axes>"
      ]
     },
     "metadata": {},
     "output_type": "display_data"
    }
   ],
   "source": [
    "cant_pagaron = y.value_counts()[0]\n",
    "cant_no_pagaron = y.value_counts()[1]\n",
    "\n",
    "nombres_de_categorias = ['Pagaron', 'No pagaron']\n",
    "cantidades = [cant_pagaron, cant_no_pagaron]\n",
    "\n",
    "plt.figure(figsize=(2, 2), dpi=227)\n",
    "plt.pie(cantidades, labels=nombres_de_categorias, textprops={'fontsize': 5}, startangle=90, autopct='%1.0f%%')\n",
    "plt.show()"
   ]
  },
  {
   "cell_type": "markdown",
   "metadata": {
    "id": "Q3KMBNX6idnD"
   },
   "source": [
    "Se puede apreciar que se disponde de un conjuto de datos desbalanceado en el que, de 1854 registros:\n",
    "- 1545 (83%) corresponden a personas que pagaron el préstamo.\n",
    "- 309 (17%) corresponden a personas en mora o que no pagaron."
   ]
  },
  {
   "cell_type": "markdown",
   "metadata": {
    "id": "9Grhr-j1Jdxs"
   },
   "source": [
    "## Ejercicio 1: Descripción de los Datos y la Tarea\n",
    "\n",
    "Responder las siguientes preguntas:\n",
    "\n",
    "1. ¿De qué se trata el conjunto de datos?\n",
    "2. ¿Cuál es la variable objetivo que hay que predecir? ¿Qué significado tiene?\n",
    "3. ¿Qué información (atributos) hay disponible para hacer la predicción?\n",
    "4. ¿Qué atributos imagina ud. que son los más determinantes para la predicción?\n",
    "\n",
    "**No hace falta escribir código para responder estas preguntas.**"
   ]
  },
  {
   "cell_type": "markdown",
   "metadata": {
    "id": "yt3rdkC-Jdxs"
   },
   "source": [
    "## Ejercicio 2: Predicción con Modelos Lineales\n",
    "\n",
    "En este ejercicio se entrenarán modelos lineales de clasificación para predecir la variable objetivo.\n",
    "\n",
    "Para ello, deberán utilizar la clase SGDClassifier de scikit-learn.\n",
    "\n",
    "Documentación:\n",
    "- https://scikit-learn.org/stable/modules/sgd.html\n",
    "- https://scikit-learn.org/stable/modules/generated/sklearn.linear_model.SGDClassifier.html\n"
   ]
  },
  {
   "cell_type": "markdown",
   "metadata": {
    "id": "d0Sr7VChJdxt"
   },
   "source": [
    "### Ejercicio 2.1: SGDClassifier con hiperparámetros por defecto\n",
    "\n",
    "Entrenar y evaluar el clasificador SGDClassifier usando los valores por omisión de scikit-learn para todos los parámetros. Únicamente **fijar la semilla aleatoria** para hacer repetible el experimento.\n",
    "\n",
    "Evaluar sobre el conjunto de **entrenamiento** y sobre el conjunto de **evaluación**, reportando:\n",
    "- Accuracy\n",
    "- Precision\n",
    "- Recall\n",
    "- F1\n",
    "- matriz de confusión"
   ]
  },
  {
   "cell_type": "markdown",
   "metadata": {
    "id": "qVNoe0OfJdxu"
   },
   "source": [
    "### Ejercicio 2.2: Ajuste de Hiperparámetros\n",
    "\n",
    "Seleccionar valores para los hiperparámetros principales del SGDClassifier. Como mínimo, probar diferentes funciones de loss, tasas de entrenamiento y tasas de regularización.\n",
    "\n",
    "Para ello, usar grid-search y 5-fold cross-validation sobre el conjunto de entrenamiento para explorar muchas combinaciones posibles de valores.\n",
    "\n",
    "Reportar accuracy promedio y varianza para todas las configuraciones.\n",
    "\n",
    "Para la mejor configuración encontrada, evaluar sobre el conjunto de **entrenamiento** y sobre el conjunto de **evaluación**, reportando:\n",
    "- Accuracy\n",
    "- Precision\n",
    "- Recall\n",
    "- F1\n",
    "- matriz de confusión\n",
    "\n",
    "Documentación:\n",
    "- https://scikit-learn.org/stable/modules/grid_search.html\n",
    "- https://scikit-learn.org/stable/modules/generated/sklearn.model_selection.GridSearchCV.html"
   ]
  },
  {
   "cell_type": "markdown",
   "metadata": {
    "id": "cXS6sbe-Jdxv"
   },
   "source": [
    "## Ejercicio 3: Árboles de Decisión\n",
    "\n",
    "En este ejercicio se entrenarán árboles de decisión para predecir la variable objetivo.\n",
    "\n",
    "Para ello, deberán utilizar la clase DecisionTreeClassifier de scikit-learn.\n",
    "\n",
    "Documentación:\n",
    "- https://scikit-learn.org/stable/modules/tree.html\n",
    "  - https://scikit-learn.org/stable/modules/tree.html#tips-on-practical-use\n",
    "- https://scikit-learn.org/stable/modules/generated/sklearn.tree.DecisionTreeClassifier.html\n",
    "- https://scikit-learn.org/stable/auto_examples/tree/plot_unveil_tree_structure.html"
   ]
  },
  {
   "cell_type": "markdown",
   "metadata": {
    "id": "mp88gFvDJdxv"
   },
   "source": [
    "### Ejercicio 3.1: DecisionTreeClassifier con hiperparámetros por defecto\n",
    "\n",
    "Entrenar y evaluar el clasificador DecisionTreeClassifier usando los valores por omisión de scikit-learn para todos los parámetros. Únicamente **fijar la semilla aleatoria** para hacer repetible el experimento.\n",
    "\n",
    "Evaluar sobre el conjunto de **entrenamiento** y sobre el conjunto de **evaluación**, reportando:\n",
    "- Accuracy\n",
    "- Precision\n",
    "- Recall\n",
    "- F1\n",
    "- matriz de confusión\n"
   ]
  },
  {
   "cell_type": "markdown",
   "metadata": {
    "id": "yWX0EVKrJdxw"
   },
   "source": [
    "### Ejercicio 3.2: Ajuste de Hiperparámetros\n",
    "\n",
    "Seleccionar valores para los hiperparámetros principales del DecisionTreeClassifier. Como mínimo, probar diferentes criterios de partición (criterion), profundidad máxima del árbol (max_depth), y cantidad mínima de samples por hoja (min_samples_leaf).\n",
    "\n",
    "Para ello, usar grid-search y 5-fold cross-validation sobre el conjunto de entrenamiento para explorar muchas combinaciones posibles de valores.\n",
    "\n",
    "Reportar accuracy promedio y varianza para todas las configuraciones.\n",
    "\n",
    "Para la mejor configuración encontrada, evaluar sobre el conjunto de **entrenamiento** y sobre el conjunto de **evaluación**, reportando:\n",
    "- Accuracy\n",
    "- Precision\n",
    "- Recall\n",
    "- F1\n",
    "- matriz de confusión\n",
    "\n",
    "\n",
    "Documentación:\n",
    "- https://scikit-learn.org/stable/modules/grid_search.html\n",
    "- https://scikit-learn.org/stable/modules/generated/sklearn.model_selection.GridSearchCV.html"
   ]
  },
  {
   "cell_type": "markdown",
   "metadata": {
    "id": "uqOWo69gX6Vn"
   },
   "source": [
    "# Respuestas\n"
   ]
  },
  {
   "cell_type": "markdown",
   "metadata": {
    "id": "94DZ5a_-YKgp"
   },
   "source": [
    "## Ejercicio 1: Descripción de los Datos y la Tarea\n"
   ]
  },
  {
   "cell_type": "markdown",
   "metadata": {
    "id": "eo772vU7SslI"
   },
   "source": [
    "### 1- ¿De qué se trata el conjunto de datos?"
   ]
  },
  {
   "cell_type": "markdown",
   "metadata": {
    "id": "oDgLb0kaSkEw"
   },
   "source": [
    "El conjunto de datos se trata de información sobre préstamos de solicitantes recientes a los que se les otorgó crédito, realizado por el departamento de créditos de un banco. \n",
    "\n",
    "El conjunto de datos es una fracción del conjunto de datos original que se encuentra en Kaggle (precisamente aquí 👉 [https://www.kaggle.com/ajay1735/hmeq-data](https://www.kaggle.com/ajay1735/hmeq-data)) sobre el valor acumulado de la vivienda (HMEQ, por sus siglas en inglés). El conjunto de datos original contiene información de línea de base y rendimiento de préstamos para 5960 préstamos sobre el valor acumulado de la vivienda recientes. Este conjunto de datos en particular tiene 1854 registros."
   ]
  },
  {
   "cell_type": "markdown",
   "metadata": {
    "id": "bGI9tpW-VmJH"
   },
   "source": [
    "### 2- ¿Cuál es la variable objetivo que hay que predecir? ¿Qué significado tiene?\n",
    "\n",
    "\n"
   ]
  },
  {
   "cell_type": "markdown",
   "metadata": {
    "id": "nJ2hikPPWVBA"
   },
   "source": [
    "La variable objetivo es la variable 'TARGET'. La misma tiene las siguientes asignaciones y significado:\n",
    "\n",
    "\n",
    "*   1 si el cliente incumplió el pago del préstamo\n",
    "*   0 si el cliente cumplió el pago del préstamo\n",
    "\n",
    "Esta es la variable que se utilizará para realizar la predicción de calificación crediticia de un nuevo solicitante, para poder decidir si se le debe otorgar o no un crédito.\n",
    "\n"
   ]
  },
  {
   "cell_type": "markdown",
   "metadata": {
    "id": "lyfbpFI-WJ_T"
   },
   "source": [
    "### 3- ¿Qué información (atributos) hay disponible para hacer la predicción?\n"
   ]
  },
  {
   "cell_type": "code",
   "execution_count": null,
   "metadata": {
    "colab": {
     "base_uri": "https://localhost:8080/"
    },
    "id": "GEYbKkq_Npd6",
    "outputId": "0c142f8a-7abc-4cf5-f3ae-2f1b30cf7ab5"
   },
   "outputs": [
    {
     "data": {
      "text/plain": [
       "Index(['TARGET', 'LOAN', 'MORTDUE', 'VALUE', 'YOJ', 'DEROG', 'DELINQ', 'CLAGE',\n",
       "       'NINQ', 'CLNO', 'DEBTINC'],\n",
       "      dtype='object')"
      ]
     },
     "execution_count": 9,
     "metadata": {},
     "output_type": "execute_result"
    }
   ],
   "source": [
    "dataset.columns"
   ]
  },
  {
   "cell_type": "markdown",
   "metadata": {
    "id": "dFzwhea5047u"
   },
   "source": [
    "Los atributos disponibles para realizar la predicción son:\n",
    "\n",
    "*   TARGET - Variable que indica el cumplimiento o no en el pago del préstamo.\n",
    "*   LOAN - Importe solicitado en el préstamo.\n",
    "*   MORTDUE - Monto adeudado sobre la hipoteca existente.\n",
    "*   VALUE - Valor actual de la propiedad.\n",
    "*   YOJ - Antigüedad en el trabajo actual.\n",
    "*   DEROG - Número de informes despectivos importantes.\n",
    "*   DELINQ - Número de líneas de crédito morosas\n",
    "*   CLAGE - Antigüedad de la línea comercial más antigua en meses\n",
    "*   NINQ - Número de líneas de crédito recientes\n",
    "*   CLNO - Número de líneas de crédito\n",
    "*   DEBTINC - Relación deuda-ingresos \n"
   ]
  },
  {
   "cell_type": "markdown",
   "metadata": {
    "id": "WKlmx9gnju-3"
   },
   "source": [
    "### 4- ¿Qué atributos imagina ud. que son los más determinantes para la predicción?\n",
    "\n",
    "Intuitivamente los atributos más determinantes para la predicción son aquellos relacionados con los antecedentes de incumplimiento crediticio, a saber: DEROG, DELINQ.\n"
   ]
  },
  {
   "cell_type": "markdown",
   "metadata": {
    "id": "jpU49N3ERAN7"
   },
   "source": [
    "## Ejercicio 2: Predicción con Modelos Lineales"
   ]
  },
  {
   "cell_type": "markdown",
   "metadata": {
    "id": "Uhz91Kr6RAN8"
   },
   "source": [
    "### Ejercicio 2.1: SGDClassifier con hiperparámetros por defecto\n",
    "\n"
   ]
  },
  {
   "cell_type": "markdown",
   "metadata": {
    "id": "Rndodck1omYW"
   },
   "source": [
    "**Entrenamiento del modelo**"
   ]
  },
  {
   "cell_type": "code",
   "execution_count": null,
   "metadata": {
    "colab": {
     "base_uri": "https://localhost:8080/"
    },
    "id": "Va-Xmi3Fxbzd",
    "outputId": "f5feaa48-a6b1-4cd1-b75b-500b5f880ae1"
   },
   "outputs": [
    {
     "data": {
      "text/plain": [
       "SGDClassifier(random_state=5)"
      ]
     },
     "execution_count": 10,
     "metadata": {},
     "output_type": "execute_result"
    }
   ],
   "source": [
    "model = SGDClassifier(random_state=SEMILLA)\n",
    "model.fit(X_train, y_train)"
   ]
  },
  {
   "cell_type": "code",
   "execution_count": null,
   "metadata": {
    "colab": {
     "base_uri": "https://localhost:8080/"
    },
    "id": "mF7fJnmKR1Gz",
    "outputId": "8513d6f0-0b9d-4871-a4d0-1eaef8ce80d3"
   },
   "outputs": [
    {
     "data": {
      "text/plain": [
       "Pipeline(steps=[('standardscaler', StandardScaler()),\n",
       "                ('model', SGDClassifier(random_state=5))])"
      ]
     },
     "execution_count": 11,
     "metadata": {},
     "output_type": "execute_result"
    }
   ],
   "source": [
    "model1=Pipeline([('standardscaler', StandardScaler()), ('model',SGDClassifier(random_state=SEMILLA))])\n",
    "\n",
    "model1.fit(X_train, y_train)"
   ]
  },
  {
   "cell_type": "markdown",
   "metadata": {
    "id": "15xCZ4uwN_dx"
   },
   "source": [
    "Predicción de valores de entrenamiento:"
   ]
  },
  {
   "cell_type": "code",
   "execution_count": null,
   "metadata": {
    "id": "7j0lHU80OMbK"
   },
   "outputs": [],
   "source": [
    "ypredtrain = model1.predict(X_train)"
   ]
  },
  {
   "cell_type": "code",
   "execution_count": null,
   "metadata": {
    "colab": {
     "base_uri": "https://localhost:8080/"
    },
    "id": "tvdZwG9HhG6O",
    "outputId": "0baece6f-d9f1-4230-bd53-d82358a3af33"
   },
   "outputs": [
    {
     "name": "stdout",
     "output_type": "stream",
     "text": [
      "Personas clasificadas correctamente: 1248\n",
      "Personas clasificadas incorrectamente: 235\n"
     ]
    }
   ],
   "source": [
    "predicciones_correctas = (y_train == ypredtrain).sum()\n",
    "print('Personas clasificadas correctamente:', predicciones_correctas)\n",
    "predicciones_incorrectas = y_train.shape[0] - predicciones_correctas\n",
    "print('Personas clasificadas incorrectamente:', predicciones_incorrectas)"
   ]
  },
  {
   "cell_type": "markdown",
   "metadata": {
    "id": "31OQlZY1Ny5s"
   },
   "source": [
    "Predicción para los valores de evaluación:"
   ]
  },
  {
   "cell_type": "code",
   "execution_count": null,
   "metadata": {
    "id": "w4qGJKVQHtWg"
   },
   "outputs": [],
   "source": [
    "ypred = model1.predict(X_test)"
   ]
  },
  {
   "cell_type": "code",
   "execution_count": null,
   "metadata": {
    "colab": {
     "base_uri": "https://localhost:8080/"
    },
    "id": "Hh-Za3mdi8X6",
    "outputId": "aecb8585-e827-4311-f2c4-86352baea2f7"
   },
   "outputs": [
    {
     "name": "stdout",
     "output_type": "stream",
     "text": [
      "Personas clasificadas correctamente: 313\n",
      "Personas clasificadas incorrectamente: 58\n"
     ]
    }
   ],
   "source": [
    "predicciones_correctas = (y_test == ypred).sum()\n",
    "print('Personas clasificadas correctamente:', predicciones_correctas)\n",
    "predicciones_incorrectas = y_test.shape[0] - predicciones_correctas\n",
    "print('Personas clasificadas incorrectamente:', predicciones_incorrectas)"
   ]
  },
  {
   "cell_type": "markdown",
   "metadata": {
    "id": "Le4QuMNvuXEv"
   },
   "source": [
    "**Reporte de métricas para train y test:**"
   ]
  },
  {
   "cell_type": "code",
   "execution_count": null,
   "metadata": {
    "colab": {
     "base_uri": "https://localhost:8080/"
    },
    "id": "3N3Pk5Y9uhJR",
    "outputId": "755938bb-586f-4c3e-fcc8-5d284696cd72"
   },
   "outputs": [
    {
     "name": "stdout",
     "output_type": "stream",
     "text": [
      "Reporte de métricas de entrenamiento\n",
      "------------------------------------------------------\n",
      "              precision    recall  f1-score   support\n",
      "\n",
      "           0       0.87      0.95      0.91      1236\n",
      "           1       0.54      0.32      0.40       247\n",
      "\n",
      "    accuracy                           0.84      1483\n",
      "   macro avg       0.71      0.63      0.66      1483\n",
      "weighted avg       0.82      0.84      0.82      1483\n",
      "\n",
      "Reporte de métricas de evaluación\n",
      "-------------------------------------------------------\n",
      "              precision    recall  f1-score   support\n",
      "\n",
      "           0       0.88      0.94      0.91       309\n",
      "           1       0.55      0.34      0.42        62\n",
      "\n",
      "    accuracy                           0.84       371\n",
      "   macro avg       0.71      0.64      0.66       371\n",
      "weighted avg       0.82      0.84      0.83       371\n",
      "\n"
     ]
    }
   ],
   "source": [
    "print(f'Reporte de métricas de entrenamiento\\n------------------------------------------------------')\n",
    "print(classification_report(y_train, ypredtrain))\n",
    "print(f'Reporte de métricas de evaluación\\n-------------------------------------------------------')\n",
    "print(classification_report(y_test, ypred))"
   ]
  },
  {
   "cell_type": "markdown",
   "metadata": {
    "id": "El983kweKyYq"
   },
   "source": [
    "**Matriz de confusión**"
   ]
  },
  {
   "cell_type": "markdown",
   "metadata": {
    "id": "glxLDB2zLJmD"
   },
   "source": [
    "1) Para la instancia de entrenamiento"
   ]
  },
  {
   "cell_type": "code",
   "execution_count": null,
   "metadata": {
    "colab": {
     "base_uri": "https://localhost:8080/",
     "height": 355
    },
    "id": "bFQS8sf3KxOe",
    "outputId": "008525bb-c760-4187-d459-261d3971a556"
   },
   "outputs": [
    {
     "data": {
      "image/png": "[encoded data removed]",
      "text/plain": [
       "<Figure size 432x360 with 2 Axes>"
      ]
     },
     "metadata": {},
     "output_type": "display_data"
    }
   ],
   "source": [
    "cm = confusion_matrix(y_train, ypredtrain)\n",
    "\n",
    "sns.set(color_codes=True)\n",
    "plt.figure(1, figsize=(6, 5))\n",
    "\n",
    "plt.title(\"Matriz de Confusión\" )\n",
    "\n",
    "labels = [\"0\", \"1\"] \n",
    "sns.set(font_scale=1)\n",
    "ax = sns.heatmap(cm.T, annot=True, fmt='.1f', cmap=\"Blues\", cbar_kws={'label': 'Scale'})\n",
    " \n",
    "ax.set_xticklabels(labels)\n",
    "ax.set_yticklabels(labels)\n",
    " \n",
    "ax.set(ylabel=\"Verdad\", xlabel=\"Predicción del modelo\")\n",
    "\n",
    "plt.show()"
   ]
  },
  {
   "cell_type": "markdown",
   "metadata": {
    "id": "0kqZUi3JLQkF"
   },
   "source": [
    "2) Para la instancia de evaluación"
   ]
  },
  {
   "cell_type": "code",
   "execution_count": null,
   "metadata": {
    "colab": {
     "base_uri": "https://localhost:8080/",
     "height": 355
    },
    "id": "KKg4_U2KLVYM",
    "outputId": "182671b4-884f-4571-e9cb-dcdc9b2081be"
   },
   "outputs": [
    {
     "data": {
      "image/png": "[encoded data removed]",
      "text/plain": [
       "<Figure size 432x360 with 2 Axes>"
      ]
     },
     "metadata": {},
     "output_type": "display_data"
    }
   ],
   "source": [
    "cm1 = confusion_matrix(y_test, ypred)\n",
    "\n",
    "sns.set(color_codes=True)\n",
    "plt.figure(1, figsize=(6, 5))\n",
    "\n",
    "plt.title(\"Matriz de Confusión\" )\n",
    "\n",
    "labels = [\"0\", \"1\"] \n",
    "sns.set(font_scale=1)\n",
    "ax = sns.heatmap(cm1.T, annot=True, fmt='.1f', cmap=\"Blues\", cbar_kws={'label': 'Scale'})\n",
    " \n",
    "ax.set_xticklabels(labels)\n",
    "ax.set_yticklabels(labels)\n",
    " \n",
    "ax.set(ylabel=\"Verdad\", xlabel=\"Predicción del modelo\")\n",
    "\n",
    "plt.show()"
   ]
  },
  {
   "cell_type": "markdown",
   "metadata": {
    "id": "O8RlrwN4pcT8"
   },
   "source": [
    "### Ejercicio 2.2: Ajuste de Hiperparámetros\n",
    "\n",
    "Selección de valores para los hiperparámetros principales del SGDClassifier. "
   ]
  },
  {
   "cell_type": "markdown",
   "metadata": {
    "id": "MTiC35XlXBs4"
   },
   "source": [
    "Se visualizan los parametros del modelo:"
   ]
  },
  {
   "cell_type": "code",
   "execution_count": null,
   "metadata": {
    "colab": {
     "base_uri": "https://localhost:8080/"
    },
    "id": "ZS14x9Gi-exA",
    "outputId": "7c52c39d-2038-46af-9aec-7a283f580fa3"
   },
   "outputs": [
    {
     "data": {
      "text/plain": [
       "{'alpha': 0.0001,\n",
       " 'average': False,\n",
       " 'class_weight': None,\n",
       " 'early_stopping': False,\n",
       " 'epsilon': 0.1,\n",
       " 'eta0': 0.0,\n",
       " 'fit_intercept': True,\n",
       " 'l1_ratio': 0.15,\n",
       " 'learning_rate': 'optimal',\n",
       " 'loss': 'hinge',\n",
       " 'max_iter': 1000,\n",
       " 'n_iter_no_change': 5,\n",
       " 'n_jobs': None,\n",
       " 'penalty': 'l2',\n",
       " 'power_t': 0.5,\n",
       " 'random_state': 5,\n",
       " 'shuffle': True,\n",
       " 'tol': 0.001,\n",
       " 'validation_fraction': 0.1,\n",
       " 'verbose': 0,\n",
       " 'warm_start': False}"
      ]
     },
     "execution_count": 19,
     "metadata": {},
     "output_type": "execute_result"
    }
   ],
   "source": [
    "model.get_params()"
   ]
  },
  {
   "cell_type": "markdown",
   "metadata": {
    "id": "q201OrWjcrnP"
   },
   "source": [
    "## Definición de parametros a comparar para encontar el mejor modelo (optimización)"
   ]
  },
  {
   "cell_type": "markdown",
   "metadata": {
    "id": "FhwW60Bzjsoz"
   },
   "source": [
    "**Valores de hiperparámetros para ajuste:**\n",
    "- Funciones de costo\n",
    "  - _hinge_: SVM\n",
    "  - _perceptron_: Algoritmo de perceptrón lineal\n",
    "  - _log_: Regresión logística\n",
    "- alpha: Constante que multiplica el término de regularización. Cuanto mayor sea el valor, más fuerte será la regularización.\n",
    "  - 0.0001, 0.0005, 0.001, 0.005, 0.01, 0.05, 0.1, 0.5, 1\n",
    "- Tasa de aprendizaje\n",
    "  - _constant_\n",
    "  - _optimal_\n",
    "  - _adaptative_\n"
   ]
  },
  {
   "cell_type": "code",
   "execution_count": null,
   "metadata": {
    "id": "BPJtFOuPafTl"
   },
   "outputs": [],
   "source": [
    "param_grid = {\n",
    "    'model__loss': ['hinge', 'log', 'perceptron'],\n",
    "    'model__learning_rate':['constant', 'optimal','adaptive'],\n",
    "    'model__alpha':[0.0001, 0.0005, 0.001, 0.005, 0.01, 0.05, 0.1, 0.5, 1, 10],\n",
    "     }"
   ]
  },
  {
   "cell_type": "markdown",
   "metadata": {
    "id": "bNmNDZSEritj"
   },
   "source": [
    "Utlizamos GridSearchCV para encontrar la mejor combinación de hiperparámetros."
   ]
  },
  {
   "cell_type": "code",
   "execution_count": null,
   "metadata": {
    "id": "kSwaIfKtVLTE"
   },
   "outputs": [],
   "source": [
    "model = Pipeline([('standardscaler', StandardScaler()), ('model',SGDClassifier(random_state=SEMILLA, eta0=0.1))])\n",
    "\n",
    "cv = GridSearchCV(model, param_grid, scoring ='accuracy', refit=True, cv=5)\n",
    "cv.fit(X_train, y_train);"
   ]
  },
  {
   "cell_type": "code",
   "execution_count": null,
   "metadata": {
    "colab": {
     "base_uri": "https://localhost:8080/",
     "height": 440
    },
    "id": "gDKO0aT_afTm",
    "outputId": "dcf18200-dfb4-4fb7-d2d0-e131999ff705"
   },
   "outputs": [
    {
     "data": {
      "text/html": [
       "\n",
       "  <div id=\"df-73a0409e-7ee4-4d7e-8b05-16e4da5feb0b\">\n",
       "    <div class=\"colab-df-container\">\n",
       "      <div>\n",
       "<style scoped>\n",
       "    .dataframe tbody tr th:only-of-type {\n",
       "        vertical-align: middle;\n",
       "    }\n",
       "\n",
       "    .dataframe tbody tr th {\n",
       "        vertical-align: top;\n",
       "    }\n",
       "\n",
       "    .dataframe thead th {\n",
       "        text-align: right;\n",
       "    }\n",
       "</style>\n",
       "<table border=\"1\" class=\"dataframe\">\n",
       "  <thead>\n",
       "    <tr style=\"text-align: right;\">\n",
       "      <th></th>\n",
       "      <th>mean_fit_time</th>\n",
       "      <th>std_fit_time</th>\n",
       "      <th>mean_score_time</th>\n",
       "      <th>std_score_time</th>\n",
       "      <th>param_model__alpha</th>\n",
       "      <th>param_model__learning_rate</th>\n",
       "      <th>param_model__loss</th>\n",
       "      <th>params</th>\n",
       "      <th>split0_test_score</th>\n",
       "      <th>split1_test_score</th>\n",
       "      <th>split2_test_score</th>\n",
       "      <th>split3_test_score</th>\n",
       "      <th>split4_test_score</th>\n",
       "      <th>mean_test_score</th>\n",
       "      <th>std_test_score</th>\n",
       "      <th>rank_test_score</th>\n",
       "    </tr>\n",
       "  </thead>\n",
       "  <tbody>\n",
       "    <tr>\n",
       "      <th>30</th>\n",
       "      <td>0.011102</td>\n",
       "      <td>0.000441</td>\n",
       "      <td>0.003364</td>\n",
       "      <td>0.000216</td>\n",
       "      <td>0.005</td>\n",
       "      <td>optimal</td>\n",
       "      <td>hinge</td>\n",
       "      <td>{'model__alpha': 0.005, 'model__learning_rate'...</td>\n",
       "      <td>0.868687</td>\n",
       "      <td>0.865320</td>\n",
       "      <td>0.861953</td>\n",
       "      <td>0.885135</td>\n",
       "      <td>0.878378</td>\n",
       "      <td>0.871895</td>\n",
       "      <td>0.008599</td>\n",
       "      <td>1</td>\n",
       "    </tr>\n",
       "    <tr>\n",
       "      <th>6</th>\n",
       "      <td>0.021475</td>\n",
       "      <td>0.008374</td>\n",
       "      <td>0.004192</td>\n",
       "      <td>0.000566</td>\n",
       "      <td>0.0001</td>\n",
       "      <td>adaptive</td>\n",
       "      <td>hinge</td>\n",
       "      <td>{'model__alpha': 0.0001, 'model__learning_rate...</td>\n",
       "      <td>0.865320</td>\n",
       "      <td>0.865320</td>\n",
       "      <td>0.861953</td>\n",
       "      <td>0.881757</td>\n",
       "      <td>0.878378</td>\n",
       "      <td>0.870546</td>\n",
       "      <td>0.007943</td>\n",
       "      <td>2</td>\n",
       "    </tr>\n",
       "    <tr>\n",
       "      <th>21</th>\n",
       "      <td>0.015014</td>\n",
       "      <td>0.000464</td>\n",
       "      <td>0.005887</td>\n",
       "      <td>0.002294</td>\n",
       "      <td>0.001</td>\n",
       "      <td>optimal</td>\n",
       "      <td>hinge</td>\n",
       "      <td>{'model__alpha': 0.001, 'model__learning_rate'...</td>\n",
       "      <td>0.861953</td>\n",
       "      <td>0.885522</td>\n",
       "      <td>0.861953</td>\n",
       "      <td>0.864865</td>\n",
       "      <td>0.878378</td>\n",
       "      <td>0.870534</td>\n",
       "      <td>0.009650</td>\n",
       "      <td>3</td>\n",
       "    </tr>\n",
       "    <tr>\n",
       "      <th>22</th>\n",
       "      <td>0.018116</td>\n",
       "      <td>0.001885</td>\n",
       "      <td>0.004370</td>\n",
       "      <td>0.000194</td>\n",
       "      <td>0.001</td>\n",
       "      <td>optimal</td>\n",
       "      <td>log</td>\n",
       "      <td>{'model__alpha': 0.001, 'model__learning_rate'...</td>\n",
       "      <td>0.858586</td>\n",
       "      <td>0.868687</td>\n",
       "      <td>0.861953</td>\n",
       "      <td>0.878378</td>\n",
       "      <td>0.881757</td>\n",
       "      <td>0.869872</td>\n",
       "      <td>0.009001</td>\n",
       "      <td>4</td>\n",
       "    </tr>\n",
       "    <tr>\n",
       "      <th>15</th>\n",
       "      <td>0.016128</td>\n",
       "      <td>0.000645</td>\n",
       "      <td>0.004574</td>\n",
       "      <td>0.000338</td>\n",
       "      <td>0.0005</td>\n",
       "      <td>adaptive</td>\n",
       "      <td>hinge</td>\n",
       "      <td>{'model__alpha': 0.0005, 'model__learning_rate...</td>\n",
       "      <td>0.865320</td>\n",
       "      <td>0.865320</td>\n",
       "      <td>0.861953</td>\n",
       "      <td>0.881757</td>\n",
       "      <td>0.875000</td>\n",
       "      <td>0.869870</td>\n",
       "      <td>0.007372</td>\n",
       "      <td>5</td>\n",
       "    </tr>\n",
       "    <tr>\n",
       "      <th>24</th>\n",
       "      <td>0.014633</td>\n",
       "      <td>0.000571</td>\n",
       "      <td>0.003234</td>\n",
       "      <td>0.000181</td>\n",
       "      <td>0.001</td>\n",
       "      <td>adaptive</td>\n",
       "      <td>hinge</td>\n",
       "      <td>{'model__alpha': 0.001, 'model__learning_rate'...</td>\n",
       "      <td>0.865320</td>\n",
       "      <td>0.865320</td>\n",
       "      <td>0.861953</td>\n",
       "      <td>0.881757</td>\n",
       "      <td>0.875000</td>\n",
       "      <td>0.869870</td>\n",
       "      <td>0.007372</td>\n",
       "      <td>5</td>\n",
       "    </tr>\n",
       "  </tbody>\n",
       "</table>\n",
       "</div>\n",
       "      <button class=\"colab-df-convert\" onclick=\"convertToInteractive('df-73a0409e-7ee4-4d7e-8b05-16e4da5feb0b')\"\n",
       "              title=\"Convert this dataframe to an interactive table.\"\n",
       "              style=\"display:none;\">\n",
       "        \n",
       "  <svg xmlns=\"http://www.w3.org/2000/svg\" height=\"24px\"viewBox=\"0 0 24 24\"\n",
       "       width=\"24px\">\n",
       "    <path d=\"M0 0h24v24H0V0z\" fill=\"none\"/>\n",
       "    <path d=\"M18.56 5.44l.94 2.06.94-2.06 2.06-.94-2.06-.94-.94-2.06-.94 2.06-2.06.94zm-11 1L8.5 8.5l.94-2.06 2.06-.94-2.06-.94L8.5 2.5l-.94 2.06-2.06.94zm10 10l.94 2.06.94-2.06 2.06-.94-2.06-.94-.94-2.06-.94 2.06-2.06.94z\"/><path d=\"M17.41 7.96l-1.37-1.37c-.4-.4-.92-.59-1.43-.59-.52 0-1.04.2-1.43.59L10.3 9.45l-7.72 7.72c-.78.78-.78 2.05 0 2.83L4 21.41c.39.39.9.59 1.41.59.51 0 1.02-.2 1.41-.59l7.78-7.78 2.81-2.81c.8-.78.8-2.07 0-2.86zM5.41 20L4 18.59l7.72-7.72 1.47 1.35L5.41 20z\"/>\n",
       "  </svg>\n",
       "      </button>\n",
       "      \n",
       "  <style>\n",
       "    .colab-df-container {\n",
       "      display:flex;\n",
       "      flex-wrap:wrap;\n",
       "      gap: 12px;\n",
       "    }\n",
       "\n",
       "    .colab-df-convert {\n",
       "      background-color: #E8F0FE;\n",
       "      border: none;\n",
       "      border-radius: 50%;\n",
       "      cursor: pointer;\n",
       "      display: none;\n",
       "      fill: #1967D2;\n",
       "      height: 32px;\n",
       "      padding: 0 0 0 0;\n",
       "      width: 32px;\n",
       "    }\n",
       "\n",
       "    .colab-df-convert:hover {\n",
       "      background-color: #E2EBFA;\n",
       "      box-shadow: 0px 1px 2px rgba(60, 64, 67, 0.3), 0px 1px 3px 1px rgba(60, 64, 67, 0.15);\n",
       "      fill: #174EA6;\n",
       "    }\n",
       "\n",
       "    [theme=dark] .colab-df-convert {\n",
       "      background-color: #3B4455;\n",
       "      fill: #D2E3FC;\n",
       "    }\n",
       "\n",
       "    [theme=dark] .colab-df-convert:hover {\n",
       "      background-color: #434B5C;\n",
       "      box-shadow: 0px 1px 3px 1px rgba(0, 0, 0, 0.15);\n",
       "      filter: drop-shadow(0px 1px 2px rgba(0, 0, 0, 0.3));\n",
       "      fill: #FFFFFF;\n",
       "    }\n",
       "  </style>\n",
       "\n",
       "      <script>\n",
       "        const buttonEl =\n",
       "          document.querySelector('#df-73a0409e-7ee4-4d7e-8b05-16e4da5feb0b button.colab-df-convert');\n",
       "        buttonEl.style.display =\n",
       "          google.colab.kernel.accessAllowed ? 'block' : 'none';\n",
       "\n",
       "        async function convertToInteractive(key) {\n",
       "          const element = document.querySelector('#df-73a0409e-7ee4-4d7e-8b05-16e4da5feb0b');\n",
       "          const dataTable =\n",
       "            await google.colab.kernel.invokeFunction('convertToInteractive',\n",
       "                                                     [key], {});\n",
       "          if (!dataTable) return;\n",
       "\n",
       "          const docLinkHtml = 'Like what you see? Visit the ' +\n",
       "            '<a target=\"_blank\" href=https://colab.research.google.com/notebooks/data_table.ipynb>data table notebook</a>'\n",
       "            + ' to learn more about interactive tables.';\n",
       "          element.innerHTML = '';\n",
       "          dataTable['output_type'] = 'display_data';\n",
       "          await google.colab.output.renderOutput(dataTable, element);\n",
       "          const docLink = document.createElement('div');\n",
       "          docLink.innerHTML = docLinkHtml;\n",
       "          element.appendChild(docLink);\n",
       "        }\n",
       "      </script>\n",
       "    </div>\n",
       "  </div>\n",
       "  "
      ],
      "text/plain": [
       "    mean_fit_time  std_fit_time  mean_score_time  std_score_time  \\\n",
       "30       0.011102      0.000441         0.003364        0.000216   \n",
       "6        0.021475      0.008374         0.004192        0.000566   \n",
       "21       0.015014      0.000464         0.005887        0.002294   \n",
       "22       0.018116      0.001885         0.004370        0.000194   \n",
       "15       0.016128      0.000645         0.004574        0.000338   \n",
       "24       0.014633      0.000571         0.003234        0.000181   \n",
       "\n",
       "   param_model__alpha param_model__learning_rate param_model__loss  \\\n",
       "30              0.005                    optimal             hinge   \n",
       "6              0.0001                   adaptive             hinge   \n",
       "21              0.001                    optimal             hinge   \n",
       "22              0.001                    optimal               log   \n",
       "15             0.0005                   adaptive             hinge   \n",
       "24              0.001                   adaptive             hinge   \n",
       "\n",
       "                                               params  split0_test_score  \\\n",
       "30  {'model__alpha': 0.005, 'model__learning_rate'...           0.868687   \n",
       "6   {'model__alpha': 0.0001, 'model__learning_rate...           0.865320   \n",
       "21  {'model__alpha': 0.001, 'model__learning_rate'...           0.861953   \n",
       "22  {'model__alpha': 0.001, 'model__learning_rate'...           0.858586   \n",
       "15  {'model__alpha': 0.0005, 'model__learning_rate...           0.865320   \n",
       "24  {'model__alpha': 0.001, 'model__learning_rate'...           0.865320   \n",
       "\n",
       "    split1_test_score  split2_test_score  split3_test_score  \\\n",
       "30           0.865320           0.861953           0.885135   \n",
       "6            0.865320           0.861953           0.881757   \n",
       "21           0.885522           0.861953           0.864865   \n",
       "22           0.868687           0.861953           0.878378   \n",
       "15           0.865320           0.861953           0.881757   \n",
       "24           0.865320           0.861953           0.881757   \n",
       "\n",
       "    split4_test_score  mean_test_score  std_test_score  rank_test_score  \n",
       "30           0.878378         0.871895        0.008599                1  \n",
       "6            0.878378         0.870546        0.007943                2  \n",
       "21           0.878378         0.870534        0.009650                3  \n",
       "22           0.881757         0.869872        0.009001                4  \n",
       "15           0.875000         0.869870        0.007372                5  \n",
       "24           0.875000         0.869870        0.007372                5  "
      ]
     },
     "execution_count": 22,
     "metadata": {},
     "output_type": "execute_result"
    }
   ],
   "source": [
    "results = cv.cv_results_\n",
    "\n",
    "data_sdg_classifier=pd.DataFrame(results)\n",
    "data_sdg_classifier.sort_values('rank_test_score')[:6]"
   ]
  },
  {
   "cell_type": "code",
   "execution_count": null,
   "metadata": {
    "colab": {
     "base_uri": "https://localhost:8080/",
     "height": 206
    },
    "id": "G8tkjqBiafTm",
    "outputId": "90dc2119-a4d2-44fd-fcfe-28f8f50b1fc8"
   },
   "outputs": [
    {
     "data": {
      "text/html": [
       "\n",
       "  <div id=\"df-6526639c-762a-489c-812f-3efd8a2bb4fe\">\n",
       "    <div class=\"colab-df-container\">\n",
       "      <div>\n",
       "<style scoped>\n",
       "    .dataframe tbody tr th:only-of-type {\n",
       "        vertical-align: middle;\n",
       "    }\n",
       "\n",
       "    .dataframe tbody tr th {\n",
       "        vertical-align: top;\n",
       "    }\n",
       "\n",
       "    .dataframe thead th {\n",
       "        text-align: right;\n",
       "    }\n",
       "</style>\n",
       "<table border=\"1\" class=\"dataframe\">\n",
       "  <thead>\n",
       "    <tr style=\"text-align: right;\">\n",
       "      <th></th>\n",
       "      <th>param_model__learning_rate</th>\n",
       "      <th>param_model__loss</th>\n",
       "      <th>param_model__alpha</th>\n",
       "      <th>mean_test_score</th>\n",
       "      <th>std_test_score</th>\n",
       "      <th>rank_test_score</th>\n",
       "    </tr>\n",
       "  </thead>\n",
       "  <tbody>\n",
       "    <tr>\n",
       "      <th>30</th>\n",
       "      <td>optimal</td>\n",
       "      <td>hinge</td>\n",
       "      <td>0.005</td>\n",
       "      <td>0.871895</td>\n",
       "      <td>0.008599</td>\n",
       "      <td>1</td>\n",
       "    </tr>\n",
       "    <tr>\n",
       "      <th>6</th>\n",
       "      <td>adaptive</td>\n",
       "      <td>hinge</td>\n",
       "      <td>0.0001</td>\n",
       "      <td>0.870546</td>\n",
       "      <td>0.007943</td>\n",
       "      <td>2</td>\n",
       "    </tr>\n",
       "    <tr>\n",
       "      <th>21</th>\n",
       "      <td>optimal</td>\n",
       "      <td>hinge</td>\n",
       "      <td>0.001</td>\n",
       "      <td>0.870534</td>\n",
       "      <td>0.009650</td>\n",
       "      <td>3</td>\n",
       "    </tr>\n",
       "    <tr>\n",
       "      <th>22</th>\n",
       "      <td>optimal</td>\n",
       "      <td>log</td>\n",
       "      <td>0.001</td>\n",
       "      <td>0.869872</td>\n",
       "      <td>0.009001</td>\n",
       "      <td>4</td>\n",
       "    </tr>\n",
       "    <tr>\n",
       "      <th>15</th>\n",
       "      <td>adaptive</td>\n",
       "      <td>hinge</td>\n",
       "      <td>0.0005</td>\n",
       "      <td>0.869870</td>\n",
       "      <td>0.007372</td>\n",
       "      <td>5</td>\n",
       "    </tr>\n",
       "  </tbody>\n",
       "</table>\n",
       "</div>\n",
       "      <button class=\"colab-df-convert\" onclick=\"convertToInteractive('df-6526639c-762a-489c-812f-3efd8a2bb4fe')\"\n",
       "              title=\"Convert this dataframe to an interactive table.\"\n",
       "              style=\"display:none;\">\n",
       "        \n",
       "  <svg xmlns=\"http://www.w3.org/2000/svg\" height=\"24px\"viewBox=\"0 0 24 24\"\n",
       "       width=\"24px\">\n",
       "    <path d=\"M0 0h24v24H0V0z\" fill=\"none\"/>\n",
       "    <path d=\"M18.56 5.44l.94 2.06.94-2.06 2.06-.94-2.06-.94-.94-2.06-.94 2.06-2.06.94zm-11 1L8.5 8.5l.94-2.06 2.06-.94-2.06-.94L8.5 2.5l-.94 2.06-2.06.94zm10 10l.94 2.06.94-2.06 2.06-.94-2.06-.94-.94-2.06-.94 2.06-2.06.94z\"/><path d=\"M17.41 7.96l-1.37-1.37c-.4-.4-.92-.59-1.43-.59-.52 0-1.04.2-1.43.59L10.3 9.45l-7.72 7.72c-.78.78-.78 2.05 0 2.83L4 21.41c.39.39.9.59 1.41.59.51 0 1.02-.2 1.41-.59l7.78-7.78 2.81-2.81c.8-.78.8-2.07 0-2.86zM5.41 20L4 18.59l7.72-7.72 1.47 1.35L5.41 20z\"/>\n",
       "  </svg>\n",
       "      </button>\n",
       "      \n",
       "  <style>\n",
       "    .colab-df-container {\n",
       "      display:flex;\n",
       "      flex-wrap:wrap;\n",
       "      gap: 12px;\n",
       "    }\n",
       "\n",
       "    .colab-df-convert {\n",
       "      background-color: #E8F0FE;\n",
       "      border: none;\n",
       "      border-radius: 50%;\n",
       "      cursor: pointer;\n",
       "      display: none;\n",
       "      fill: #1967D2;\n",
       "      height: 32px;\n",
       "      padding: 0 0 0 0;\n",
       "      width: 32px;\n",
       "    }\n",
       "\n",
       "    .colab-df-convert:hover {\n",
       "      background-color: #E2EBFA;\n",
       "      box-shadow: 0px 1px 2px rgba(60, 64, 67, 0.3), 0px 1px 3px 1px rgba(60, 64, 67, 0.15);\n",
       "      fill: #174EA6;\n",
       "    }\n",
       "\n",
       "    [theme=dark] .colab-df-convert {\n",
       "      background-color: #3B4455;\n",
       "      fill: #D2E3FC;\n",
       "    }\n",
       "\n",
       "    [theme=dark] .colab-df-convert:hover {\n",
       "      background-color: #434B5C;\n",
       "      box-shadow: 0px 1px 3px 1px rgba(0, 0, 0, 0.15);\n",
       "      filter: drop-shadow(0px 1px 2px rgba(0, 0, 0, 0.3));\n",
       "      fill: #FFFFFF;\n",
       "    }\n",
       "  </style>\n",
       "\n",
       "      <script>\n",
       "        const buttonEl =\n",
       "          document.querySelector('#df-6526639c-762a-489c-812f-3efd8a2bb4fe button.colab-df-convert');\n",
       "        buttonEl.style.display =\n",
       "          google.colab.kernel.accessAllowed ? 'block' : 'none';\n",
       "\n",
       "        async function convertToInteractive(key) {\n",
       "          const element = document.querySelector('#df-6526639c-762a-489c-812f-3efd8a2bb4fe');\n",
       "          const dataTable =\n",
       "            await google.colab.kernel.invokeFunction('convertToInteractive',\n",
       "                                                     [key], {});\n",
       "          if (!dataTable) return;\n",
       "\n",
       "          const docLinkHtml = 'Like what you see? Visit the ' +\n",
       "            '<a target=\"_blank\" href=https://colab.research.google.com/notebooks/data_table.ipynb>data table notebook</a>'\n",
       "            + ' to learn more about interactive tables.';\n",
       "          element.innerHTML = '';\n",
       "          dataTable['output_type'] = 'display_data';\n",
       "          await google.colab.output.renderOutput(dataTable, element);\n",
       "          const docLink = document.createElement('div');\n",
       "          docLink.innerHTML = docLinkHtml;\n",
       "          element.appendChild(docLink);\n",
       "        }\n",
       "      </script>\n",
       "    </div>\n",
       "  </div>\n",
       "  "
      ],
      "text/plain": [
       "   param_model__learning_rate param_model__loss param_model__alpha  \\\n",
       "30                    optimal             hinge              0.005   \n",
       "6                    adaptive             hinge             0.0001   \n",
       "21                    optimal             hinge              0.001   \n",
       "22                    optimal               log              0.001   \n",
       "15                   adaptive             hinge             0.0005   \n",
       "\n",
       "    mean_test_score  std_test_score  rank_test_score  \n",
       "30         0.871895        0.008599                1  \n",
       "6          0.870546        0.007943                2  \n",
       "21         0.870534        0.009650                3  \n",
       "22         0.869872        0.009001                4  \n",
       "15         0.869870        0.007372                5  "
      ]
     },
     "execution_count": 23,
     "metadata": {},
     "output_type": "execute_result"
    }
   ],
   "source": [
    "data_sdg_classifier[['param_model__learning_rate','param_model__loss','param_model__alpha','mean_test_score','std_test_score','rank_test_score']].sort_values(by='rank_test_score', ascending=True).head(5)"
   ]
  },
  {
   "cell_type": "markdown",
   "metadata": {
    "id": "ufjo1l9nPoo1"
   },
   "source": [
    "Como se puede observar en la grilla, los hiperparámetros mejor rankeados son:\n",
    "* $\\alpha=0.05$\n",
    "* $\\eta$= optimal\n",
    "* loss = hinge\n",
    "\n",
    "El accuracy promedio resultante de realizar las 5 capas en la validación cruzada es $0.871895$ con una desviasión estándar de $0.008599$."
   ]
  },
  {
   "cell_type": "markdown",
   "metadata": {
    "id": "KKSC-YlD-_Eh"
   },
   "source": [
    "**Seleccion del mejor modelo**"
   ]
  },
  {
   "cell_type": "code",
   "execution_count": null,
   "metadata": {
    "id": "3r0yBP9koISa"
   },
   "outputs": [],
   "source": [
    "BM = Pipeline([('standardscaler', StandardScaler()), ('model',SGDClassifier(alpha=0.05, loss='hinge', max_iter=3000, random_state=SEMILLA, eta0=0.1, learning_rate='optimal'))])"
   ]
  },
  {
   "cell_type": "markdown",
   "metadata": {
    "id": "ma6POYcMB_f7"
   },
   "source": [
    "**Entrenamiento del mejor modelo**"
   ]
  },
  {
   "cell_type": "code",
   "execution_count": null,
   "metadata": {
    "colab": {
     "base_uri": "https://localhost:8080/"
    },
    "id": "HmfUKjaQoPzM",
    "outputId": "86f1b47d-fbc0-47bf-933d-d6921d72900c"
   },
   "outputs": [
    {
     "data": {
      "text/plain": [
       "Pipeline(steps=[('standardscaler', StandardScaler()),\n",
       "                ('model',\n",
       "                 SGDClassifier(alpha=0.05, eta0=0.1, max_iter=3000,\n",
       "                               random_state=5))])"
      ]
     },
     "execution_count": 25,
     "metadata": {},
     "output_type": "execute_result"
    }
   ],
   "source": [
    "BM.fit(X_train, y_train)"
   ]
  },
  {
   "cell_type": "markdown",
   "metadata": {
    "id": "isCXsuuuB_f-"
   },
   "source": [
    "Predicción de valores de entrenamiento"
   ]
  },
  {
   "cell_type": "code",
   "execution_count": null,
   "metadata": {
    "id": "K1B-tu6lB_f_"
   },
   "outputs": [],
   "source": [
    "ypredtrain_bm = BM.predict(X_train)"
   ]
  },
  {
   "cell_type": "markdown",
   "metadata": {
    "id": "xNQpsJ00Dt6_"
   },
   "source": [
    "Predicción de valores de evaluación"
   ]
  },
  {
   "cell_type": "code",
   "execution_count": null,
   "metadata": {
    "id": "LXggzh0ADt7A"
   },
   "outputs": [],
   "source": [
    "ypred_bm = BM.predict(X_test)"
   ]
  },
  {
   "cell_type": "markdown",
   "metadata": {
    "id": "34IMx8poK2Fp"
   },
   "source": [
    "**Reporte de métricas para el mejor modelo**"
   ]
  },
  {
   "cell_type": "code",
   "execution_count": null,
   "metadata": {
    "colab": {
     "base_uri": "https://localhost:8080/"
    },
    "id": "95pXGtIGK0ji",
    "outputId": "0c8853fd-e20c-4da0-ea20-da435c89336f"
   },
   "outputs": [
    {
     "name": "stdout",
     "output_type": "stream",
     "text": [
      "Reporte de métricas de entrenamiento\n",
      "------------------------------------------------------\n",
      "              precision    recall  f1-score   support\n",
      "\n",
      "           0       0.86      1.00      0.92      1236\n",
      "           1       0.94      0.20      0.33       247\n",
      "\n",
      "    accuracy                           0.87      1483\n",
      "   macro avg       0.90      0.60      0.63      1483\n",
      "weighted avg       0.88      0.87      0.83      1483\n",
      "\n",
      "Reporte de métricas de evaluación\n",
      "-------------------------------------------------------\n",
      "              precision    recall  f1-score   support\n",
      "\n",
      "           0       0.86      0.99      0.92       309\n",
      "           1       0.88      0.23      0.36        62\n",
      "\n",
      "    accuracy                           0.87       371\n",
      "   macro avg       0.87      0.61      0.64       371\n",
      "weighted avg       0.87      0.87      0.83       371\n",
      "\n"
     ]
    }
   ],
   "source": [
    "print(f'Reporte de métricas de entrenamiento\\n------------------------------------------------------')\n",
    "print(classification_report(y_train, ypredtrain_bm))\n",
    "print(f'Reporte de métricas de evaluación\\n-------------------------------------------------------')\n",
    "print(classification_report(y_test, ypred_bm))"
   ]
  },
  {
   "cell_type": "markdown",
   "metadata": {
    "id": "wjKWX70uXID_"
   },
   "source": [
    "**Matriz de confusión**"
   ]
  },
  {
   "cell_type": "markdown",
   "metadata": {
    "id": "bBCrli4YTwFm"
   },
   "source": [
    "1) Para la instancia de entrenamiento"
   ]
  },
  {
   "cell_type": "code",
   "execution_count": null,
   "metadata": {
    "colab": {
     "base_uri": "https://localhost:8080/",
     "height": 355
    },
    "id": "Q5Dfv8woSXJu",
    "outputId": "4987fa73-6a65-438d-f42a-dd67411081a2"
   },
   "outputs": [
    {
     "data": {
      "image/png": "[encoded data removed]",
      "text/plain": [
       "<Figure size 432x360 with 2 Axes>"
      ]
     },
     "metadata": {},
     "output_type": "display_data"
    }
   ],
   "source": [
    "cm_bm = confusion_matrix(y_train, ypredtrain_bm)\n",
    "\n",
    "sns.set(color_codes=True)\n",
    "plt.figure(1, figsize=(6, 5))\n",
    "\n",
    "plt.title(\"Matriz de confusión\" )\n",
    "# define labels\n",
    "labels = [\"0\", \"1\"] \n",
    "sns.set(font_scale=1)\n",
    "ax = sns.heatmap(cm_bm.T, annot=True, fmt='.1f', cmap=\"Blues\", cbar_kws={'label': 'Scale'})\n",
    " \n",
    "ax.set_xticklabels(labels)\n",
    "ax.set_yticklabels(labels)\n",
    " \n",
    "ax.set(ylabel='Verdad', xlabel=\"Predicción del modelo\")\n",
    "\n",
    "plt.show()"
   ]
  },
  {
   "cell_type": "markdown",
   "metadata": {
    "id": "_uOvCU9bTtP1"
   },
   "source": [
    "2) Para la instancia de evaluación"
   ]
  },
  {
   "cell_type": "code",
   "execution_count": null,
   "metadata": {
    "colab": {
     "base_uri": "https://localhost:8080/",
     "height": 355
    },
    "id": "KKcU-S6DSYfs",
    "outputId": "9ddaa118-d16b-4423-c143-e8378999f827"
   },
   "outputs": [
    {
     "data": {
      "image/png": "[encoded data removed]",
      "text/plain": [
       "<Figure size 432x360 with 2 Axes>"
      ]
     },
     "metadata": {},
     "output_type": "display_data"
    }
   ],
   "source": [
    "from sklearn.metrics import confusion_matrix\n",
    "cm1_bm = confusion_matrix(y_test, ypred_bm)\n",
    "\n",
    "sns.set(color_codes=True)\n",
    "plt.figure(1, figsize=(6, 5))\n",
    "\n",
    "plt.title(\"Matriz de confusión\" )\n",
    "# define labels\n",
    "labels = [\"0\", \"1\"] \n",
    "sns.set(font_scale=1)\n",
    "ax = sns.heatmap(cm1_bm.T, annot=True, fmt='.1f', cmap=\"Blues\", cbar_kws={'label': 'Scale'})\n",
    " \n",
    "ax.set_xticklabels(labels)\n",
    "ax.set_yticklabels(labels)\n",
    " \n",
    "ax.set(ylabel=\"Verdad\", xlabel=\"Prediccion del modelo\")\n",
    "\n",
    "plt.show()"
   ]
  },
  {
   "cell_type": "markdown",
   "metadata": {
    "id": "q-UiF9ObpcT9"
   },
   "source": [
    "## Ejercicio 3: Árboles de Decisión\n",
    "\n",
    "En este ejercicio se entrenarán árboles de decisión para predecir la variable objetivo.\n",
    "\n",
    "Para ello, deberán utilizar la clase DecisionTreeClassifier de scikit-learn.\n",
    "\n",
    "Documentación:\n",
    "- https://scikit-learn.org/stable/modules/tree.html\n",
    "  - https://scikit-learn.org/stable/modules/tree.html#tips-on-practical-use\n",
    "- https://scikit-learn.org/stable/modules/generated/sklearn.tree.DecisionTreeClassifier.html\n",
    "- https://scikit-learn.org/stable/auto_examples/tree/plot_unveil_tree_structure.html"
   ]
  },
  {
   "cell_type": "markdown",
   "metadata": {
    "id": "yUX8Cw7ipcT-"
   },
   "source": [
    "### Ejercicio 3.1: DecisionTreeClassifier con hiperparámetros por defecto\n",
    "\n",
    "Entrenar y evaluar el clasificador DecisionTreeClassifier usando los valores por omisión de scikit-learn para todos los parámetros. Únicamente **fijar la semilla aleatoria** para hacer repetible el experimento.\n",
    "\n",
    "Evaluar sobre el conjunto de **entrenamiento** y sobre el conjunto de **evaluación**, reportando:\n",
    "- Accuracy\n",
    "- Precision\n",
    "- Recall\n",
    "- F1\n",
    "- matriz de confusión\n"
   ]
  },
  {
   "cell_type": "code",
   "execution_count": null,
   "metadata": {
    "colab": {
     "base_uri": "https://localhost:8080/"
    },
    "id": "og46WBXC15NM",
    "outputId": "5bdc745d-94d0-4851-9be2-7d04acd3e2fd"
   },
   "outputs": [
    {
     "data": {
      "text/plain": [
       "DecisionTreeClassifier(random_state=5)"
      ]
     },
     "execution_count": 31,
     "metadata": {},
     "output_type": "execute_result"
    }
   ],
   "source": [
    "tree_model = DecisionTreeClassifier(random_state=SEMILLA)\n",
    "tree_model.fit(X_train, y_train)"
   ]
  },
  {
   "cell_type": "markdown",
   "metadata": {
    "id": "ul_XxiLma_h3"
   },
   "source": [
    "Predicción de valores de entrenamiento:"
   ]
  },
  {
   "cell_type": "code",
   "execution_count": null,
   "metadata": {
    "id": "Rije3iI51_og"
   },
   "outputs": [],
   "source": [
    "y_train_pred = tree_model.predict(X_train)\n"
   ]
  },
  {
   "cell_type": "code",
   "execution_count": null,
   "metadata": {
    "colab": {
     "base_uri": "https://localhost:8080/"
    },
    "id": "n_z8fDKfo9Io",
    "outputId": "ce9b938e-3ebc-4c83-99ce-ec831e371aae"
   },
   "outputs": [
    {
     "name": "stdout",
     "output_type": "stream",
     "text": [
      "Personas clasificadas correctamente: 1483\n",
      "Personas clasificadas incorrectamebnte: 0\n"
     ]
    }
   ],
   "source": [
    "predicciones_correctas = (y_train == y_train_pred).sum()\n",
    "print('Personas clasificadas correctamente:', predicciones_correctas)\n",
    "predicciones_incorrectas = y_train.shape[0] - predicciones_correctas\n",
    "print('Personas clasificadas incorrectamebnte:', predicciones_incorrectas)"
   ]
  },
  {
   "cell_type": "markdown",
   "metadata": {
    "id": "k-9B7zR8bBv_"
   },
   "source": [
    "Predicción de valores de evaluación:"
   ]
  },
  {
   "cell_type": "code",
   "execution_count": null,
   "metadata": {
    "id": "XdKwNOsZbER8"
   },
   "outputs": [],
   "source": [
    "y_test_pred = tree_model.predict(X_test)"
   ]
  },
  {
   "cell_type": "markdown",
   "metadata": {
    "id": "1PaMrtMnbh2a"
   },
   "source": [
    "**Reporte de métricas**"
   ]
  },
  {
   "cell_type": "code",
   "execution_count": null,
   "metadata": {
    "colab": {
     "base_uri": "https://localhost:8080/"
    },
    "id": "iJivt-8Bbieo",
    "outputId": "390ea319-ec57-4877-d8f2-abcaccd30775"
   },
   "outputs": [
    {
     "name": "stdout",
     "output_type": "stream",
     "text": [
      "Reporte de métricas de entrenamiento\n",
      "------------------------------------------------------\n",
      "              precision    recall  f1-score   support\n",
      "\n",
      "           0       1.00      1.00      1.00      1236\n",
      "           1       1.00      1.00      1.00       247\n",
      "\n",
      "    accuracy                           1.00      1483\n",
      "   macro avg       1.00      1.00      1.00      1483\n",
      "weighted avg       1.00      1.00      1.00      1483\n",
      "\n",
      "Reporte de métricas de evaluación\n",
      "-------------------------------------------------------\n",
      "              precision    recall  f1-score   support\n",
      "\n",
      "           0       0.93      0.94      0.94       309\n",
      "           1       0.70      0.65      0.67        62\n",
      "\n",
      "    accuracy                           0.89       371\n",
      "   macro avg       0.82      0.80      0.80       371\n",
      "weighted avg       0.89      0.89      0.89       371\n",
      "\n"
     ]
    }
   ],
   "source": [
    "print(f'Reporte de métricas de entrenamiento\\n------------------------------------------------------')\n",
    "print(classification_report(y_train, y_train_pred))\n",
    "print(f'Reporte de métricas de evaluación\\n-------------------------------------------------------')\n",
    "print(classification_report(y_test, y_test_pred))"
   ]
  },
  {
   "cell_type": "markdown",
   "metadata": {
    "id": "SyvT7wBSDlqh"
   },
   "source": [
    "**Matriz de confusión**"
   ]
  },
  {
   "cell_type": "markdown",
   "metadata": {
    "id": "pXL7tSVib8Tf"
   },
   "source": [
    "1)  Para el conjunto de entrenamiento"
   ]
  },
  {
   "cell_type": "code",
   "execution_count": null,
   "metadata": {
    "colab": {
     "base_uri": "https://localhost:8080/",
     "height": 355
    },
    "id": "Qf27DqkkDowj",
    "outputId": "6edd7c02-8101-42e2-8f68-bfe938a6ca90"
   },
   "outputs": [
    {
     "data": {
      "image/png": "[encoded data removed]",
      "text/plain": [
       "<Figure size 432x360 with 2 Axes>"
      ]
     },
     "metadata": {},
     "output_type": "display_data"
    }
   ],
   "source": [
    "cm2=confusion_matrix(y_train, y_train_pred)\n",
    "\n",
    "sns.set(color_codes=True)\n",
    "plt.figure(1, figsize=(6, 5))\n",
    "\n",
    "plt.title(\"Matriz de confusión\" )\n",
    "\n",
    "labels = [\"0\", \"1\"] \n",
    "sns.set(font_scale=1)\n",
    "ax = sns.heatmap(cm2.T, annot=True, fmt='.1f', cmap=\"Blues\", cbar_kws={'label': 'Scale'})\n",
    " \n",
    "ax.set_xticklabels(labels)\n",
    "ax.set_yticklabels(labels)\n",
    " \n",
    "ax.set(ylabel=\"Verdad\", xlabel=\"Predicción del modelo\")\n",
    "\n",
    "plt.show()"
   ]
  },
  {
   "cell_type": "markdown",
   "metadata": {
    "id": "zCtvTWVFIACD"
   },
   "source": [
    "2) Para el conjunto de evaluación"
   ]
  },
  {
   "cell_type": "code",
   "execution_count": null,
   "metadata": {
    "colab": {
     "base_uri": "https://localhost:8080/",
     "height": 355
    },
    "id": "SpLlkknBIfTC",
    "outputId": "28f9bdbc-ba41-429f-a6c8-58da5d85aaec"
   },
   "outputs": [
    {
     "data": {
      "image/png": "[encoded data removed]",
      "text/plain": [
       "<Figure size 432x360 with 2 Axes>"
      ]
     },
     "metadata": {},
     "output_type": "display_data"
    }
   ],
   "source": [
    "cm3=confusion_matrix(y_test, y_test_pred)\n",
    "\n",
    "sns.set(color_codes=True)\n",
    "plt.figure(1, figsize=(6, 5))\n",
    "\n",
    "plt.title(\"Matriz de confusión\" )\n",
    "\n",
    "labels = [\"0\", \"1\"] \n",
    "sns.set(font_scale=1)\n",
    "ax = sns.heatmap(cm3.T, annot=True, fmt='.1f', cmap=\"Blues\", cbar_kws={'label': 'Scale'})\n",
    " \n",
    "ax.set_xticklabels(labels)\n",
    "ax.set_yticklabels(labels)\n",
    " \n",
    "ax.set(ylabel=\"Verdad\", xlabel=\"Predicción del modelo\")\n",
    "\n",
    "plt.show()"
   ]
  },
  {
   "cell_type": "markdown",
   "metadata": {
    "id": "WoyxZhllpcT-"
   },
   "source": [
    "### Ejercicio 3.2: Ajuste de Hiperparámetros"
   ]
  },
  {
   "cell_type": "markdown",
   "metadata": {
    "id": "rcRXMp4Lf4MR"
   },
   "source": [
    "Creamos un diccionario con los distintos hiperpárametros que deseamos optimizar y los valores que queremos combinar en la grilla."
   ]
  },
  {
   "cell_type": "markdown",
   "metadata": {
    "id": "kC9GgQvEpl0W"
   },
   "source": [
    "**Valores de hiperparámetros para ajuste:**\n",
    "- Criterio (mide la calidad de una división del arbol)\n",
    "  - _gini_\n",
    "  - _entropy_\n",
    "  - _log_loss_\n",
    "- max_depth (profundidad del árbol)\n",
    "  - Valores enteros de 1 a 15\n",
    "- min_samples_split (cantidad mínima de muestras para dividir un nodo interno)\n",
    "  - Valores enteros de 1 a 15\n",
    "- min_samples_leaf (El número mínimo de muestras requeridas para estar en un nodo hoja)\n",
    " - Valores enteros de 1 a 15\n"
   ]
  },
  {
   "cell_type": "code",
   "execution_count": null,
   "metadata": {
    "id": "scSZrYXsp2-W"
   },
   "outputs": [],
   "source": [
    "parameters = {\n",
    "    'criterion': ['gini', 'entropy', 'log_loss'],\n",
    "    'max_depth': range(1, 15, 1),\n",
    "    'min_samples_split': range(1, 15, 1),\n",
    "    'min_samples_leaf': range(1, 15, 1)\n",
    "    }"
   ]
  },
  {
   "cell_type": "markdown",
   "metadata": {
    "id": "bHF5KuHTQwoW"
   },
   "source": [
    "Utlizamos GridSearchCV para encontrar la mejor combinación de hiperparámetros."
   ]
  },
  {
   "cell_type": "code",
   "execution_count": null,
   "metadata": {
    "colab": {
     "base_uri": "https://localhost:8080/"
    },
    "id": "1JBeLRNnp2-W",
    "outputId": "651b696d-cf98-48c2-eeeb-4225fe0cc9a9"
   },
   "outputs": [
    {
     "name": "stderr",
     "output_type": "stream",
     "text": [
      "/usr/local/lib/python3.7/dist-packages/sklearn/model_selection/_validation.py:372: FitFailedWarning: \n",
      "15680 fits failed out of a total of 41160.\n",
      "The score on these train-test partitions for these parameters will be set to nan.\n",
      "If these failures are not expected, you can try to debug them by setting error_score='raise'.\n",
      "\n",
      "Below are more details about the failures:\n",
      "--------------------------------------------------------------------------------\n",
      "2940 fits failed with the following error:\n",
      "Traceback (most recent call last):\n",
      "  File \"/usr/local/lib/python3.7/dist-packages/sklearn/model_selection/_validation.py\", line 680, in _fit_and_score\n",
      "    estimator.fit(X_train, y_train, **fit_params)\n",
      "  File \"/usr/local/lib/python3.7/dist-packages/sklearn/tree/_classes.py\", line 942, in fit\n",
      "    X_idx_sorted=X_idx_sorted,\n",
      "  File \"/usr/local/lib/python3.7/dist-packages/sklearn/tree/_classes.py\", line 254, in fit\n",
      "    % self.min_samples_split\n",
      "ValueError: min_samples_split must be an integer greater than 1 or a float in (0.0, 1.0]; got the integer 1\n",
      "\n",
      "--------------------------------------------------------------------------------\n",
      "12740 fits failed with the following error:\n",
      "Traceback (most recent call last):\n",
      "  File \"/usr/local/lib/python3.7/dist-packages/sklearn/model_selection/_validation.py\", line 680, in _fit_and_score\n",
      "    estimator.fit(X_train, y_train, **fit_params)\n",
      "  File \"/usr/local/lib/python3.7/dist-packages/sklearn/tree/_classes.py\", line 942, in fit\n",
      "    X_idx_sorted=X_idx_sorted,\n",
      "  File \"/usr/local/lib/python3.7/dist-packages/sklearn/tree/_classes.py\", line 352, in fit\n",
      "    criterion = CRITERIA_CLF[self.criterion](\n",
      "KeyError: 'log_loss'\n",
      "\n",
      "  warnings.warn(some_fits_failed_message, FitFailedWarning)\n",
      "/usr/local/lib/python3.7/dist-packages/sklearn/model_selection/_search.py:972: UserWarning: One or more of the test scores are non-finite: [       nan 0.87052052 0.87052052 ...        nan        nan        nan]\n",
      "  category=UserWarning,\n"
     ]
    },
    {
     "data": {
      "text/plain": [
       "GridSearchCV(cv=5, estimator=DecisionTreeClassifier(random_state=5),\n",
       "             param_grid={'criterion': ['gini', 'entropy', 'log_loss'],\n",
       "                         'max_depth': range(1, 15),\n",
       "                         'min_samples_leaf': range(1, 15),\n",
       "                         'min_samples_split': range(1, 15)},\n",
       "             scoring='accuracy')"
      ]
     },
     "execution_count": 39,
     "metadata": {},
     "output_type": "execute_result"
    }
   ],
   "source": [
    "clf_GS = GridSearchCV(tree_model, parameters, scoring=\"accuracy\", cv=5)\n",
    "clf_GS.fit(X_train, y_train)\n"
   ]
  },
  {
   "cell_type": "code",
   "execution_count": null,
   "metadata": {
    "colab": {
     "base_uri": "https://localhost:8080/",
     "height": 363
    },
    "id": "kIEkiN6Np2-Y",
    "outputId": "c47322b9-db39-4c68-d2db-ca4caea2569e"
   },
   "outputs": [
    {
     "data": {
      "text/html": [
       "\n",
       "  <div id=\"df-f6ff1239-6492-4934-8db2-fd7f32cf8c55\">\n",
       "    <div class=\"colab-df-container\">\n",
       "      <div>\n",
       "<style scoped>\n",
       "    .dataframe tbody tr th:only-of-type {\n",
       "        vertical-align: middle;\n",
       "    }\n",
       "\n",
       "    .dataframe tbody tr th {\n",
       "        vertical-align: top;\n",
       "    }\n",
       "\n",
       "    .dataframe thead th {\n",
       "        text-align: right;\n",
       "    }\n",
       "</style>\n",
       "<table border=\"1\" class=\"dataframe\">\n",
       "  <thead>\n",
       "    <tr style=\"text-align: right;\">\n",
       "      <th></th>\n",
       "      <th>param_criterion</th>\n",
       "      <th>param_max_depth</th>\n",
       "      <th>param_min_samples_split</th>\n",
       "      <th>param_min_samples_leaf</th>\n",
       "      <th>mean_test_score</th>\n",
       "      <th>std_test_score</th>\n",
       "      <th>rank_test_score</th>\n",
       "    </tr>\n",
       "  </thead>\n",
       "  <tbody>\n",
       "    <tr>\n",
       "      <th>4314</th>\n",
       "      <td>entropy</td>\n",
       "      <td>9</td>\n",
       "      <td>3</td>\n",
       "      <td>1</td>\n",
       "      <td>0.900871</td>\n",
       "      <td>0.014419</td>\n",
       "      <td>1</td>\n",
       "    </tr>\n",
       "    <tr>\n",
       "      <th>4313</th>\n",
       "      <td>entropy</td>\n",
       "      <td>9</td>\n",
       "      <td>2</td>\n",
       "      <td>1</td>\n",
       "      <td>0.900198</td>\n",
       "      <td>0.013933</td>\n",
       "      <td>2</td>\n",
       "    </tr>\n",
       "    <tr>\n",
       "      <th>4316</th>\n",
       "      <td>entropy</td>\n",
       "      <td>9</td>\n",
       "      <td>5</td>\n",
       "      <td>1</td>\n",
       "      <td>0.898175</td>\n",
       "      <td>0.013905</td>\n",
       "      <td>3</td>\n",
       "    </tr>\n",
       "    <tr>\n",
       "      <th>4317</th>\n",
       "      <td>entropy</td>\n",
       "      <td>9</td>\n",
       "      <td>6</td>\n",
       "      <td>1</td>\n",
       "      <td>0.898173</td>\n",
       "      <td>0.014556</td>\n",
       "      <td>4</td>\n",
       "    </tr>\n",
       "    <tr>\n",
       "      <th>4315</th>\n",
       "      <td>entropy</td>\n",
       "      <td>9</td>\n",
       "      <td>4</td>\n",
       "      <td>1</td>\n",
       "      <td>0.898171</td>\n",
       "      <td>0.016619</td>\n",
       "      <td>5</td>\n",
       "    </tr>\n",
       "    <tr>\n",
       "      <th>4331</th>\n",
       "      <td>entropy</td>\n",
       "      <td>9</td>\n",
       "      <td>6</td>\n",
       "      <td>2</td>\n",
       "      <td>0.896822</td>\n",
       "      <td>0.015068</td>\n",
       "      <td>6</td>\n",
       "    </tr>\n",
       "    <tr>\n",
       "      <th>4318</th>\n",
       "      <td>entropy</td>\n",
       "      <td>9</td>\n",
       "      <td>7</td>\n",
       "      <td>1</td>\n",
       "      <td>0.896153</td>\n",
       "      <td>0.011970</td>\n",
       "      <td>7</td>\n",
       "    </tr>\n",
       "    <tr>\n",
       "      <th>4327</th>\n",
       "      <td>entropy</td>\n",
       "      <td>9</td>\n",
       "      <td>2</td>\n",
       "      <td>2</td>\n",
       "      <td>0.896151</td>\n",
       "      <td>0.015167</td>\n",
       "      <td>8</td>\n",
       "    </tr>\n",
       "    <tr>\n",
       "      <th>4328</th>\n",
       "      <td>entropy</td>\n",
       "      <td>9</td>\n",
       "      <td>3</td>\n",
       "      <td>2</td>\n",
       "      <td>0.896151</td>\n",
       "      <td>0.015167</td>\n",
       "      <td>8</td>\n",
       "    </tr>\n",
       "    <tr>\n",
       "      <th>4329</th>\n",
       "      <td>entropy</td>\n",
       "      <td>9</td>\n",
       "      <td>4</td>\n",
       "      <td>2</td>\n",
       "      <td>0.896151</td>\n",
       "      <td>0.015167</td>\n",
       "      <td>8</td>\n",
       "    </tr>\n",
       "  </tbody>\n",
       "</table>\n",
       "</div>\n",
       "      <button class=\"colab-df-convert\" onclick=\"convertToInteractive('df-f6ff1239-6492-4934-8db2-fd7f32cf8c55')\"\n",
       "              title=\"Convert this dataframe to an interactive table.\"\n",
       "              style=\"display:none;\">\n",
       "        \n",
       "  <svg xmlns=\"http://www.w3.org/2000/svg\" height=\"24px\"viewBox=\"0 0 24 24\"\n",
       "       width=\"24px\">\n",
       "    <path d=\"M0 0h24v24H0V0z\" fill=\"none\"/>\n",
       "    <path d=\"M18.56 5.44l.94 2.06.94-2.06 2.06-.94-2.06-.94-.94-2.06-.94 2.06-2.06.94zm-11 1L8.5 8.5l.94-2.06 2.06-.94-2.06-.94L8.5 2.5l-.94 2.06-2.06.94zm10 10l.94 2.06.94-2.06 2.06-.94-2.06-.94-.94-2.06-.94 2.06-2.06.94z\"/><path d=\"M17.41 7.96l-1.37-1.37c-.4-.4-.92-.59-1.43-.59-.52 0-1.04.2-1.43.59L10.3 9.45l-7.72 7.72c-.78.78-.78 2.05 0 2.83L4 21.41c.39.39.9.59 1.41.59.51 0 1.02-.2 1.41-.59l7.78-7.78 2.81-2.81c.8-.78.8-2.07 0-2.86zM5.41 20L4 18.59l7.72-7.72 1.47 1.35L5.41 20z\"/>\n",
       "  </svg>\n",
       "      </button>\n",
       "      \n",
       "  <style>\n",
       "    .colab-df-container {\n",
       "      display:flex;\n",
       "      flex-wrap:wrap;\n",
       "      gap: 12px;\n",
       "    }\n",
       "\n",
       "    .colab-df-convert {\n",
       "      background-color: #E8F0FE;\n",
       "      border: none;\n",
       "      border-radius: 50%;\n",
       "      cursor: pointer;\n",
       "      display: none;\n",
       "      fill: #1967D2;\n",
       "      height: 32px;\n",
       "      padding: 0 0 0 0;\n",
       "      width: 32px;\n",
       "    }\n",
       "\n",
       "    .colab-df-convert:hover {\n",
       "      background-color: #E2EBFA;\n",
       "      box-shadow: 0px 1px 2px rgba(60, 64, 67, 0.3), 0px 1px 3px 1px rgba(60, 64, 67, 0.15);\n",
       "      fill: #174EA6;\n",
       "    }\n",
       "\n",
       "    [theme=dark] .colab-df-convert {\n",
       "      background-color: #3B4455;\n",
       "      fill: #D2E3FC;\n",
       "    }\n",
       "\n",
       "    [theme=dark] .colab-df-convert:hover {\n",
       "      background-color: #434B5C;\n",
       "      box-shadow: 0px 1px 3px 1px rgba(0, 0, 0, 0.15);\n",
       "      filter: drop-shadow(0px 1px 2px rgba(0, 0, 0, 0.3));\n",
       "      fill: #FFFFFF;\n",
       "    }\n",
       "  </style>\n",
       "\n",
       "      <script>\n",
       "        const buttonEl =\n",
       "          document.querySelector('#df-f6ff1239-6492-4934-8db2-fd7f32cf8c55 button.colab-df-convert');\n",
       "        buttonEl.style.display =\n",
       "          google.colab.kernel.accessAllowed ? 'block' : 'none';\n",
       "\n",
       "        async function convertToInteractive(key) {\n",
       "          const element = document.querySelector('#df-f6ff1239-6492-4934-8db2-fd7f32cf8c55');\n",
       "          const dataTable =\n",
       "            await google.colab.kernel.invokeFunction('convertToInteractive',\n",
       "                                                     [key], {});\n",
       "          if (!dataTable) return;\n",
       "\n",
       "          const docLinkHtml = 'Like what you see? Visit the ' +\n",
       "            '<a target=\"_blank\" href=https://colab.research.google.com/notebooks/data_table.ipynb>data table notebook</a>'\n",
       "            + ' to learn more about interactive tables.';\n",
       "          element.innerHTML = '';\n",
       "          dataTable['output_type'] = 'display_data';\n",
       "          await google.colab.output.renderOutput(dataTable, element);\n",
       "          const docLink = document.createElement('div');\n",
       "          docLink.innerHTML = docLinkHtml;\n",
       "          element.appendChild(docLink);\n",
       "        }\n",
       "      </script>\n",
       "    </div>\n",
       "  </div>\n",
       "  "
      ],
      "text/plain": [
       "     param_criterion param_max_depth param_min_samples_split  \\\n",
       "4314         entropy               9                       3   \n",
       "4313         entropy               9                       2   \n",
       "4316         entropy               9                       5   \n",
       "4317         entropy               9                       6   \n",
       "4315         entropy               9                       4   \n",
       "4331         entropy               9                       6   \n",
       "4318         entropy               9                       7   \n",
       "4327         entropy               9                       2   \n",
       "4328         entropy               9                       3   \n",
       "4329         entropy               9                       4   \n",
       "\n",
       "     param_min_samples_leaf  mean_test_score  std_test_score  rank_test_score  \n",
       "4314                      1         0.900871        0.014419                1  \n",
       "4313                      1         0.900198        0.013933                2  \n",
       "4316                      1         0.898175        0.013905                3  \n",
       "4317                      1         0.898173        0.014556                4  \n",
       "4315                      1         0.898171        0.016619                5  \n",
       "4331                      2         0.896822        0.015068                6  \n",
       "4318                      1         0.896153        0.011970                7  \n",
       "4327                      2         0.896151        0.015167                8  \n",
       "4328                      2         0.896151        0.015167                8  \n",
       "4329                      2         0.896151        0.015167                8  "
      ]
     },
     "execution_count": 40,
     "metadata": {},
     "output_type": "execute_result"
    }
   ],
   "source": [
    "results = clf_GS.cv_results_\n",
    "df = pd.DataFrame(results)\n",
    "df[[ 'param_criterion','param_max_depth','param_min_samples_split', 'param_min_samples_leaf', 'mean_test_score', \n",
    "    'std_test_score', 'rank_test_score']].sort_values(by='rank_test_score', ascending=True).head(10)"
   ]
  },
  {
   "cell_type": "code",
   "execution_count": null,
   "metadata": {
    "colab": {
     "base_uri": "https://localhost:8080/"
    },
    "id": "kSue6B5ItadZ",
    "outputId": "12e66350-a838-42d0-be7a-cac0ec2043c2"
   },
   "outputs": [
    {
     "data": {
      "text/plain": [
       "DecisionTreeClassifier(criterion='entropy', max_depth=9, min_samples_split=3,\n",
       "                       random_state=5)"
      ]
     },
     "execution_count": 41,
     "metadata": {},
     "output_type": "execute_result"
    }
   ],
   "source": [
    "best_model_2 = clf_GS.best_estimator_\n",
    "best_model_2"
   ]
  },
  {
   "cell_type": "markdown",
   "metadata": {
    "id": "SKQDxS7F2nBR"
   },
   "source": [
    "Predicción de valores de entrenamiento para el mejor modelo"
   ]
  },
  {
   "cell_type": "code",
   "execution_count": null,
   "metadata": {
    "id": "kfMNklFZp2-b"
   },
   "outputs": [],
   "source": [
    "ypredtrain_bm_2= best_model_2.predict(X_train)\n"
   ]
  },
  {
   "cell_type": "markdown",
   "metadata": {
    "id": "hqghhodL2toT"
   },
   "source": [
    "Predicción de valores de evaluación para el mejor modelo"
   ]
  },
  {
   "cell_type": "code",
   "execution_count": null,
   "metadata": {
    "id": "7O7Vk5SS20PS"
   },
   "outputs": [],
   "source": [
    "ypred_bm_2 = best_model_2.predict(X_test)"
   ]
  },
  {
   "cell_type": "markdown",
   "metadata": {
    "id": "BiYjzNPi3NSg"
   },
   "source": [
    "**Reporte de métricas**"
   ]
  },
  {
   "cell_type": "code",
   "execution_count": null,
   "metadata": {
    "colab": {
     "base_uri": "https://localhost:8080/"
    },
    "id": "n8XwnilU3QoB",
    "outputId": "83727e0d-92fc-4b44-9ea3-1e6fdea4a422"
   },
   "outputs": [
    {
     "name": "stdout",
     "output_type": "stream",
     "text": [
      "Reporte de métricas de entrenamiento\n",
      "------------------------------------------------------\n",
      "              precision    recall  f1-score   support\n",
      "\n",
      "           0       0.95      0.99      0.97      1236\n",
      "           1       0.95      0.72      0.82       247\n",
      "\n",
      "    accuracy                           0.95      1483\n",
      "   macro avg       0.95      0.86      0.90      1483\n",
      "weighted avg       0.95      0.95      0.94      1483\n",
      "\n",
      "Reporte de métricas de evaluación\n",
      "-------------------------------------------------------\n",
      "              precision    recall  f1-score   support\n",
      "\n",
      "           0       0.90      0.98      0.94       309\n",
      "           1       0.82      0.44      0.57        62\n",
      "\n",
      "    accuracy                           0.89       371\n",
      "   macro avg       0.86      0.71      0.75       371\n",
      "weighted avg       0.88      0.89      0.88       371\n",
      "\n"
     ]
    }
   ],
   "source": [
    "print(f'Reporte de métricas de entrenamiento\\n------------------------------------------------------')\n",
    "print(classification_report(y_train, ypredtrain_bm_2))\n",
    "print(f'Reporte de métricas de evaluación\\n-------------------------------------------------------')\n",
    "print(classification_report(y_test, ypred_bm_2))"
   ]
  },
  {
   "cell_type": "markdown",
   "metadata": {
    "id": "zrcEo-YnrLcE"
   },
   "source": [
    "**Matriz de confusión**"
   ]
  },
  {
   "cell_type": "markdown",
   "metadata": {
    "id": "fRM-d_LA3ctO"
   },
   "source": [
    "1) Para el conjunto de entrenamiento"
   ]
  },
  {
   "cell_type": "code",
   "execution_count": null,
   "metadata": {
    "colab": {
     "base_uri": "https://localhost:8080/",
     "height": 355
    },
    "id": "lxWAbR4_rLcF",
    "outputId": "19884195-fc2e-4ca2-f1a1-f5ba8aa46b96"
   },
   "outputs": [
    {
     "data": {
      "image/png": "[encoded data removed]",
      "text/plain": [
       "<Figure size 432x360 with 2 Axes>"
      ]
     },
     "metadata": {},
     "output_type": "display_data"
    }
   ],
   "source": [
    "cm4=confusion_matrix(y_train,ypredtrain_bm_2)\n",
    "\n",
    "sns.set(color_codes=True)\n",
    "plt.figure(1, figsize=(6, 5))\n",
    "\n",
    "plt.title(\"Matriz de confusión\" )\n",
    "\n",
    "labels = [\"0\", \"1\"] \n",
    "sns.set(font_scale=1)\n",
    "ax = sns.heatmap(cm4.T, annot=True, fmt='.1f', cmap=\"Blues\", cbar_kws={'label': 'Scale'})\n",
    " \n",
    "ax.set_xticklabels(labels)\n",
    "ax.set_yticklabels(labels)\n",
    " \n",
    "ax.set(ylabel=\"Verdad\", xlabel=\"Predicción del modelo\")\n",
    "\n",
    "plt.show()"
   ]
  },
  {
   "cell_type": "markdown",
   "metadata": {
    "id": "hGgHj9GS3lSj"
   },
   "source": [
    "2) Para el conjunto de evaluación"
   ]
  },
  {
   "cell_type": "code",
   "execution_count": null,
   "metadata": {
    "colab": {
     "base_uri": "https://localhost:8080/",
     "height": 355
    },
    "id": "rJXpBa_urLcN",
    "outputId": "98a6afd7-8e47-4b61-ed47-20211085ac62"
   },
   "outputs": [
    {
     "data": {
      "image/png": "[encoded data removed]",
      "text/plain": [
       "<Figure size 432x360 with 2 Axes>"
      ]
     },
     "metadata": {},
     "output_type": "display_data"
    }
   ],
   "source": [
    "from sklearn.metrics import confusion_matrix\n",
    "cm6=confusion_matrix(y_test, ypred_bm_2)\n",
    "\n",
    "sns.set(color_codes=True)\n",
    "plt.figure(1, figsize=(6, 5))\n",
    "\n",
    "plt.title(\"Matriz de confusión\" )\n",
    "# define labels\n",
    "labels = [\"0\", \"1\"] \n",
    "sns.set(font_scale=1)\n",
    "ax = sns.heatmap(cm6.T, annot=True, fmt='.1f', cmap=\"Blues\", cbar_kws={'label': 'Scale'})\n",
    " \n",
    "ax.set_xticklabels(labels)\n",
    "ax.set_yticklabels(labels)\n",
    " \n",
    "ax.set(ylabel=\"Verdad\", xlabel=\"Predicción del modelo\")\n",
    "\n",
    "plt.show()"
   ]
  }
 ],
 "metadata": {
  "colab": {
   "collapsed_sections": [
    "WoyxZhllpcT-"
   ],
   "name": "Copia de IntroML_Grupo_14_Lab 2.ipynb",
   "provenance": []
  },
  "kernelspec": {
   "display_name": "Python 3 (ipykernel)",
   "language": "python",
   "name": "python3"
  },
  "language_info": {
   "codemirror_mode": {
    "name": "ipython",
    "version": 3
   },
   "file_extension": ".py",
   "mimetype": "text/x-python",
   "name": "python",
   "nbconvert_exporter": "python",
   "pygments_lexer": "ipython3",
   "version": "3.9.7"
  }
 },
 "nbformat": 4,
 "nbformat_minor": 1
}
