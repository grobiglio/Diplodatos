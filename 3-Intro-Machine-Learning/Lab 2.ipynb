{
 "cells": [
  {
   "cell_type": "markdown",
   "metadata": {
    "id": "LYvAOR2VzHmW"
   },
   "source": [
    "\n",
    "**Diplomatura en Ciencia de Datos, Aprendizaje Automático y sus Aplicaciones**\n",
    "\n",
    "**Introducción al Aprendizaje Automatico 2022, Grupo 14**:\n",
    "\n",
    "**Integrantes:**\n",
    "\n",
    "\n",
    "*   Brunetto, Gisela\n",
    "*   Luna, Andres\n",
    "*   Robiglio, Guillermo\n",
    "*   Garay, Alejandro\n",
    "\n",
    "\n",
    "\n",
    "\n",
    "---\n"
   ]
  },
  {
   "cell_type": "markdown",
   "metadata": {
    "id": "qt3Gh6z4Jdxi"
   },
   "source": [
    "# Laboratorio 2: Armado de un esquema de aprendizaje automático\n",
    "\n",
    "En el laboratorio final se espera que puedan poner en práctica los conocimientos adquiridos en el curso, trabajando con un conjunto de datos de clasificación.\n",
    "\n",
    "El objetivo es que se introduzcan en el desarrollo de un esquema para hacer tareas de aprendizaje automático: selección de un modelo, ajuste de hiperparámetros y evaluación.\n",
    "\n",
    "El conjunto de datos a utilizar está en `./data/loan_data.csv`. Si abren el archivo verán que al principio (las líneas que empiezan con `#`) describen el conjunto de datos y sus atributos (incluyendo el atributo de etiqueta o clase).\n",
    "\n",
    "Se espera que hagan uso de las herramientas vistas en el curso. Se espera que hagan uso especialmente de las herramientas brindadas por `scikit-learn`."
   ]
  },
  {
   "cell_type": "code",
   "execution_count": null,
   "metadata": {
    "id": "nHmFMnf-Jdxo"
   },
   "outputs": [],
   "source": [
    "import numpy as np\n",
    "import pandas as pd\n",
    "import matplotlib.pyplot as plt\n",
    "import seaborn as sns\n",
    "\n",
    "\n",
    "# TODO: Agregar las librerías que hagan falta\n",
    "from sklearn.model_selection import train_test_split\n",
    "from sklearn.preprocessing import StandardScaler\n",
    "from sklearn.pipeline import Pipeline\n",
    "from sklearn.metrics import classification_report\n",
    "from sklearn.metrics import confusion_matrix\n",
    "\n",
    "from sklearn.model_selection import GridSearchCV\n",
    "from scipy import stats\n",
    "\n",
    "from sklearn.linear_model import SGDClassifier\n",
    "\n",
    "from sklearn.tree import DecisionTreeClassifier\n",
    "from sklearn import tree\n",
    "\n",
    "\n",
    "\n",
    "\n",
    "\n"
   ]
  },
  {
   "cell_type": "markdown",
   "metadata": {
    "id": "A8-xVlUrJdxq"
   },
   "source": [
    "## Carga de datos y división en entrenamiento y evaluación\n",
    "\n",
    "La celda siguiente se encarga de la carga de datos (haciendo uso de pandas). Estos serán los que se trabajarán en el resto del laboratorio."
   ]
  },
  {
   "cell_type": "code",
   "execution_count": null,
   "metadata": {
    "id": "zLy3b9qeKAAn"
   },
   "outputs": [],
   "source": [
    "url1=\"https://raw.githubusercontent.com/DiploDatos/IntroduccionAprendizajeAutomatico/master/data/loan_data.csv\""
   ]
  },
  {
   "cell_type": "code",
   "execution_count": null,
   "metadata": {
    "id": "Pwr4XuZkJdxq"
   },
   "outputs": [],
   "source": [
    "dataset = pd.read_csv(url1,comment=\"#\")\n",
    "\n",
    "# División entre instancias y etiquetas\n",
    "X, y = dataset.iloc[:, 1:], dataset.TARGET\n",
    "\n",
    "# división entre entrenamiento y evaluación\n",
    "X_train, X_test, y_train, y_test = train_test_split(X, y, test_size=0.2, stratify=y, random_state=0)\n",
    "\n",
    "#agregamos stratify=y porque las clases del target están desbalanceadas (más adelante se ve en el gráfico de barras)"
   ]
  },
  {
   "cell_type": "code",
   "execution_count": null,
   "metadata": {
    "colab": {
     "base_uri": "https://localhost:8080/",
     "height": 423
    },
    "id": "wHMc_07iJxH7",
    "outputId": "f00f9b87-3d09-4d14-a932-1de341dddcfc"
   },
   "outputs": [
    {
     "data": {
      "text/html": [
       "\n",
       "  <div id=\"df-e56868b5-e672-47ef-a238-6febc0a03dcd\">\n",
       "    <div class=\"colab-df-container\">\n",
       "      <div>\n",
       "<style scoped>\n",
       "    .dataframe tbody tr th:only-of-type {\n",
       "        vertical-align: middle;\n",
       "    }\n",
       "\n",
       "    .dataframe tbody tr th {\n",
       "        vertical-align: top;\n",
       "    }\n",
       "\n",
       "    .dataframe thead th {\n",
       "        text-align: right;\n",
       "    }\n",
       "</style>\n",
       "<table border=\"1\" class=\"dataframe\">\n",
       "  <thead>\n",
       "    <tr style=\"text-align: right;\">\n",
       "      <th></th>\n",
       "      <th>TARGET</th>\n",
       "      <th>LOAN</th>\n",
       "      <th>MORTDUE</th>\n",
       "      <th>VALUE</th>\n",
       "      <th>YOJ</th>\n",
       "      <th>DEROG</th>\n",
       "      <th>DELINQ</th>\n",
       "      <th>CLAGE</th>\n",
       "      <th>NINQ</th>\n",
       "      <th>CLNO</th>\n",
       "      <th>DEBTINC</th>\n",
       "    </tr>\n",
       "  </thead>\n",
       "  <tbody>\n",
       "    <tr>\n",
       "      <th>0</th>\n",
       "      <td>0</td>\n",
       "      <td>4700</td>\n",
       "      <td>88026.0</td>\n",
       "      <td>115506.0</td>\n",
       "      <td>6.0</td>\n",
       "      <td>0.0</td>\n",
       "      <td>0.0</td>\n",
       "      <td>182.248332</td>\n",
       "      <td>0.0</td>\n",
       "      <td>27.0</td>\n",
       "      <td>29.209023</td>\n",
       "    </tr>\n",
       "    <tr>\n",
       "      <th>1</th>\n",
       "      <td>0</td>\n",
       "      <td>19300</td>\n",
       "      <td>39926.0</td>\n",
       "      <td>101208.0</td>\n",
       "      <td>4.0</td>\n",
       "      <td>0.0</td>\n",
       "      <td>0.0</td>\n",
       "      <td>140.051638</td>\n",
       "      <td>0.0</td>\n",
       "      <td>14.0</td>\n",
       "      <td>31.545694</td>\n",
       "    </tr>\n",
       "    <tr>\n",
       "      <th>2</th>\n",
       "      <td>0</td>\n",
       "      <td>5700</td>\n",
       "      <td>71556.0</td>\n",
       "      <td>79538.0</td>\n",
       "      <td>2.0</td>\n",
       "      <td>0.0</td>\n",
       "      <td>0.0</td>\n",
       "      <td>92.643085</td>\n",
       "      <td>0.0</td>\n",
       "      <td>15.0</td>\n",
       "      <td>41.210012</td>\n",
       "    </tr>\n",
       "    <tr>\n",
       "      <th>3</th>\n",
       "      <td>0</td>\n",
       "      <td>13000</td>\n",
       "      <td>44875.0</td>\n",
       "      <td>57713.0</td>\n",
       "      <td>0.0</td>\n",
       "      <td>1.0</td>\n",
       "      <td>0.0</td>\n",
       "      <td>184.990324</td>\n",
       "      <td>1.0</td>\n",
       "      <td>12.0</td>\n",
       "      <td>28.602076</td>\n",
       "    </tr>\n",
       "    <tr>\n",
       "      <th>4</th>\n",
       "      <td>0</td>\n",
       "      <td>19300</td>\n",
       "      <td>72752.0</td>\n",
       "      <td>106084.0</td>\n",
       "      <td>11.0</td>\n",
       "      <td>0.0</td>\n",
       "      <td>0.0</td>\n",
       "      <td>193.707100</td>\n",
       "      <td>1.0</td>\n",
       "      <td>13.0</td>\n",
       "      <td>30.686106</td>\n",
       "    </tr>\n",
       "    <tr>\n",
       "      <th>...</th>\n",
       "      <td>...</td>\n",
       "      <td>...</td>\n",
       "      <td>...</td>\n",
       "      <td>...</td>\n",
       "      <td>...</td>\n",
       "      <td>...</td>\n",
       "      <td>...</td>\n",
       "      <td>...</td>\n",
       "      <td>...</td>\n",
       "      <td>...</td>\n",
       "      <td>...</td>\n",
       "    </tr>\n",
       "    <tr>\n",
       "      <th>1849</th>\n",
       "      <td>1</td>\n",
       "      <td>53400</td>\n",
       "      <td>228236.0</td>\n",
       "      <td>305514.0</td>\n",
       "      <td>6.0</td>\n",
       "      <td>0.0</td>\n",
       "      <td>0.0</td>\n",
       "      <td>11.148069</td>\n",
       "      <td>0.0</td>\n",
       "      <td>2.0</td>\n",
       "      <td>34.558417</td>\n",
       "    </tr>\n",
       "    <tr>\n",
       "      <th>1850</th>\n",
       "      <td>1</td>\n",
       "      <td>53600</td>\n",
       "      <td>235895.0</td>\n",
       "      <td>299772.0</td>\n",
       "      <td>5.0</td>\n",
       "      <td>0.0</td>\n",
       "      <td>0.0</td>\n",
       "      <td>112.748282</td>\n",
       "      <td>7.0</td>\n",
       "      <td>22.0</td>\n",
       "      <td>44.945929</td>\n",
       "    </tr>\n",
       "    <tr>\n",
       "      <th>1851</th>\n",
       "      <td>1</td>\n",
       "      <td>53600</td>\n",
       "      <td>208197.0</td>\n",
       "      <td>297280.0</td>\n",
       "      <td>4.0</td>\n",
       "      <td>1.0</td>\n",
       "      <td>1.0</td>\n",
       "      <td>160.485251</td>\n",
       "      <td>2.0</td>\n",
       "      <td>29.0</td>\n",
       "      <td>41.646731</td>\n",
       "    </tr>\n",
       "    <tr>\n",
       "      <th>1852</th>\n",
       "      <td>1</td>\n",
       "      <td>65500</td>\n",
       "      <td>205156.0</td>\n",
       "      <td>290239.0</td>\n",
       "      <td>2.0</td>\n",
       "      <td>0.0</td>\n",
       "      <td>0.0</td>\n",
       "      <td>98.808206</td>\n",
       "      <td>1.0</td>\n",
       "      <td>21.0</td>\n",
       "      <td>144.189001</td>\n",
       "    </tr>\n",
       "    <tr>\n",
       "      <th>1853</th>\n",
       "      <td>1</td>\n",
       "      <td>77400</td>\n",
       "      <td>87651.0</td>\n",
       "      <td>224630.0</td>\n",
       "      <td>9.0</td>\n",
       "      <td>0.0</td>\n",
       "      <td>2.0</td>\n",
       "      <td>73.469630</td>\n",
       "      <td>3.0</td>\n",
       "      <td>13.0</td>\n",
       "      <td>40.929793</td>\n",
       "    </tr>\n",
       "  </tbody>\n",
       "</table>\n",
       "<p>1854 rows × 11 columns</p>\n",
       "</div>\n",
       "      <button class=\"colab-df-convert\" onclick=\"convertToInteractive('df-e56868b5-e672-47ef-a238-6febc0a03dcd')\"\n",
       "              title=\"Convert this dataframe to an interactive table.\"\n",
       "              style=\"display:none;\">\n",
       "        \n",
       "  <svg xmlns=\"http://www.w3.org/2000/svg\" height=\"24px\"viewBox=\"0 0 24 24\"\n",
       "       width=\"24px\">\n",
       "    <path d=\"M0 0h24v24H0V0z\" fill=\"none\"/>\n",
       "    <path d=\"M18.56 5.44l.94 2.06.94-2.06 2.06-.94-2.06-.94-.94-2.06-.94 2.06-2.06.94zm-11 1L8.5 8.5l.94-2.06 2.06-.94-2.06-.94L8.5 2.5l-.94 2.06-2.06.94zm10 10l.94 2.06.94-2.06 2.06-.94-2.06-.94-.94-2.06-.94 2.06-2.06.94z\"/><path d=\"M17.41 7.96l-1.37-1.37c-.4-.4-.92-.59-1.43-.59-.52 0-1.04.2-1.43.59L10.3 9.45l-7.72 7.72c-.78.78-.78 2.05 0 2.83L4 21.41c.39.39.9.59 1.41.59.51 0 1.02-.2 1.41-.59l7.78-7.78 2.81-2.81c.8-.78.8-2.07 0-2.86zM5.41 20L4 18.59l7.72-7.72 1.47 1.35L5.41 20z\"/>\n",
       "  </svg>\n",
       "      </button>\n",
       "      \n",
       "  <style>\n",
       "    .colab-df-container {\n",
       "      display:flex;\n",
       "      flex-wrap:wrap;\n",
       "      gap: 12px;\n",
       "    }\n",
       "\n",
       "    .colab-df-convert {\n",
       "      background-color: #E8F0FE;\n",
       "      border: none;\n",
       "      border-radius: 50%;\n",
       "      cursor: pointer;\n",
       "      display: none;\n",
       "      fill: #1967D2;\n",
       "      height: 32px;\n",
       "      padding: 0 0 0 0;\n",
       "      width: 32px;\n",
       "    }\n",
       "\n",
       "    .colab-df-convert:hover {\n",
       "      background-color: #E2EBFA;\n",
       "      box-shadow: 0px 1px 2px rgba(60, 64, 67, 0.3), 0px 1px 3px 1px rgba(60, 64, 67, 0.15);\n",
       "      fill: #174EA6;\n",
       "    }\n",
       "\n",
       "    [theme=dark] .colab-df-convert {\n",
       "      background-color: #3B4455;\n",
       "      fill: #D2E3FC;\n",
       "    }\n",
       "\n",
       "    [theme=dark] .colab-df-convert:hover {\n",
       "      background-color: #434B5C;\n",
       "      box-shadow: 0px 1px 3px 1px rgba(0, 0, 0, 0.15);\n",
       "      filter: drop-shadow(0px 1px 2px rgba(0, 0, 0, 0.3));\n",
       "      fill: #FFFFFF;\n",
       "    }\n",
       "  </style>\n",
       "\n",
       "      <script>\n",
       "        const buttonEl =\n",
       "          document.querySelector('#df-e56868b5-e672-47ef-a238-6febc0a03dcd button.colab-df-convert');\n",
       "        buttonEl.style.display =\n",
       "          google.colab.kernel.accessAllowed ? 'block' : 'none';\n",
       "\n",
       "        async function convertToInteractive(key) {\n",
       "          const element = document.querySelector('#df-e56868b5-e672-47ef-a238-6febc0a03dcd');\n",
       "          const dataTable =\n",
       "            await google.colab.kernel.invokeFunction('convertToInteractive',\n",
       "                                                     [key], {});\n",
       "          if (!dataTable) return;\n",
       "\n",
       "          const docLinkHtml = 'Like what you see? Visit the ' +\n",
       "            '<a target=\"_blank\" href=https://colab.research.google.com/notebooks/data_table.ipynb>data table notebook</a>'\n",
       "            + ' to learn more about interactive tables.';\n",
       "          element.innerHTML = '';\n",
       "          dataTable['output_type'] = 'display_data';\n",
       "          await google.colab.output.renderOutput(dataTable, element);\n",
       "          const docLink = document.createElement('div');\n",
       "          docLink.innerHTML = docLinkHtml;\n",
       "          element.appendChild(docLink);\n",
       "        }\n",
       "      </script>\n",
       "    </div>\n",
       "  </div>\n",
       "  "
      ],
      "text/plain": [
       "      TARGET   LOAN   MORTDUE     VALUE   YOJ  DEROG  DELINQ       CLAGE  \\\n",
       "0          0   4700   88026.0  115506.0   6.0    0.0     0.0  182.248332   \n",
       "1          0  19300   39926.0  101208.0   4.0    0.0     0.0  140.051638   \n",
       "2          0   5700   71556.0   79538.0   2.0    0.0     0.0   92.643085   \n",
       "3          0  13000   44875.0   57713.0   0.0    1.0     0.0  184.990324   \n",
       "4          0  19300   72752.0  106084.0  11.0    0.0     0.0  193.707100   \n",
       "...      ...    ...       ...       ...   ...    ...     ...         ...   \n",
       "1849       1  53400  228236.0  305514.0   6.0    0.0     0.0   11.148069   \n",
       "1850       1  53600  235895.0  299772.0   5.0    0.0     0.0  112.748282   \n",
       "1851       1  53600  208197.0  297280.0   4.0    1.0     1.0  160.485251   \n",
       "1852       1  65500  205156.0  290239.0   2.0    0.0     0.0   98.808206   \n",
       "1853       1  77400   87651.0  224630.0   9.0    0.0     2.0   73.469630   \n",
       "\n",
       "      NINQ  CLNO     DEBTINC  \n",
       "0      0.0  27.0   29.209023  \n",
       "1      0.0  14.0   31.545694  \n",
       "2      0.0  15.0   41.210012  \n",
       "3      1.0  12.0   28.602076  \n",
       "4      1.0  13.0   30.686106  \n",
       "...    ...   ...         ...  \n",
       "1849   0.0   2.0   34.558417  \n",
       "1850   7.0  22.0   44.945929  \n",
       "1851   2.0  29.0   41.646731  \n",
       "1852   1.0  21.0  144.189001  \n",
       "1853   3.0  13.0   40.929793  \n",
       "\n",
       "[1854 rows x 11 columns]"
      ]
     },
     "execution_count": 4,
     "metadata": {},
     "output_type": "execute_result"
    }
   ],
   "source": [
    "dataset"
   ]
  },
  {
   "cell_type": "markdown",
   "metadata": {
    "id": "7pKp6v5gJdxr"
   },
   "source": [
    "\n",
    "Documentación:\n",
    "\n",
    "- https://scikit-learn.org/stable/modules/generated/sklearn.model_selection.train_test_split.html"
   ]
  },
  {
   "cell_type": "markdown",
   "metadata": {
    "id": "9Grhr-j1Jdxs"
   },
   "source": [
    "## Ejercicio 1: Descripción de los Datos y la Tarea\n",
    "\n",
    "Responder las siguientes preguntas:\n",
    "\n",
    "1. ¿De qué se trata el conjunto de datos?\n",
    "2. ¿Cuál es la variable objetivo que hay que predecir? ¿Qué significado tiene?\n",
    "3. ¿Qué información (atributos) hay disponible para hacer la predicción?\n",
    "4. ¿Qué atributos imagina ud. que son los más determinantes para la predicción?\n",
    "\n",
    "**No hace falta escribir código para responder estas preguntas.**"
   ]
  },
  {
   "cell_type": "markdown",
   "metadata": {
    "id": "yt3rdkC-Jdxs"
   },
   "source": [
    "## Ejercicio 2: Predicción con Modelos Lineales\n",
    "\n",
    "En este ejercicio se entrenarán modelos lineales de clasificación para predecir la variable objetivo.\n",
    "\n",
    "Para ello, deberán utilizar la clase SGDClassifier de scikit-learn.\n",
    "\n",
    "Documentación:\n",
    "- https://scikit-learn.org/stable/modules/sgd.html\n",
    "- https://scikit-learn.org/stable/modules/generated/sklearn.linear_model.SGDClassifier.html\n"
   ]
  },
  {
   "cell_type": "markdown",
   "metadata": {
    "id": "d0Sr7VChJdxt"
   },
   "source": [
    "### Ejercicio 2.1: SGDClassifier con hiperparámetros por defecto\n",
    "\n",
    "Entrenar y evaluar el clasificador SGDClassifier usando los valores por omisión de scikit-learn para todos los parámetros. Únicamente **fijar la semilla aleatoria** para hacer repetible el experimento.\n",
    "\n",
    "Evaluar sobre el conjunto de **entrenamiento** y sobre el conjunto de **evaluación**, reportando:\n",
    "- Accuracy\n",
    "- Precision\n",
    "- Recall\n",
    "- F1\n",
    "- matriz de confusión"
   ]
  },
  {
   "cell_type": "markdown",
   "metadata": {
    "id": "qVNoe0OfJdxu"
   },
   "source": [
    "### Ejercicio 2.2: Ajuste de Hiperparámetros\n",
    "\n",
    "Seleccionar valores para los hiperparámetros principales del SGDClassifier. Como mínimo, probar diferentes funciones de loss, tasas de entrenamiento y tasas de regularización.\n",
    "\n",
    "Para ello, usar grid-search y 5-fold cross-validation sobre el conjunto de entrenamiento para explorar muchas combinaciones posibles de valores.\n",
    "\n",
    "Reportar accuracy promedio y varianza para todas las configuraciones.\n",
    "\n",
    "Para la mejor configuración encontrada, evaluar sobre el conjunto de **entrenamiento** y sobre el conjunto de **evaluación**, reportando:\n",
    "- Accuracy\n",
    "- Precision\n",
    "- Recall\n",
    "- F1\n",
    "- matriz de confusión\n",
    "\n",
    "Documentación:\n",
    "- https://scikit-learn.org/stable/modules/grid_search.html\n",
    "- https://scikit-learn.org/stable/modules/generated/sklearn.model_selection.GridSearchCV.html"
   ]
  },
  {
   "cell_type": "markdown",
   "metadata": {
    "id": "cXS6sbe-Jdxv"
   },
   "source": [
    "## Ejercicio 3: Árboles de Decisión\n",
    "\n",
    "En este ejercicio se entrenarán árboles de decisión para predecir la variable objetivo.\n",
    "\n",
    "Para ello, deberán utilizar la clase DecisionTreeClassifier de scikit-learn.\n",
    "\n",
    "Documentación:\n",
    "- https://scikit-learn.org/stable/modules/tree.html\n",
    "  - https://scikit-learn.org/stable/modules/tree.html#tips-on-practical-use\n",
    "- https://scikit-learn.org/stable/modules/generated/sklearn.tree.DecisionTreeClassifier.html\n",
    "- https://scikit-learn.org/stable/auto_examples/tree/plot_unveil_tree_structure.html"
   ]
  },
  {
   "cell_type": "markdown",
   "metadata": {
    "id": "mp88gFvDJdxv"
   },
   "source": [
    "### Ejercicio 3.1: DecisionTreeClassifier con hiperparámetros por defecto\n",
    "\n",
    "Entrenar y evaluar el clasificador DecisionTreeClassifier usando los valores por omisión de scikit-learn para todos los parámetros. Únicamente **fijar la semilla aleatoria** para hacer repetible el experimento.\n",
    "\n",
    "Evaluar sobre el conjunto de **entrenamiento** y sobre el conjunto de **evaluación**, reportando:\n",
    "- Accuracy\n",
    "- Precision\n",
    "- Recall\n",
    "- F1\n",
    "- matriz de confusión\n"
   ]
  },
  {
   "cell_type": "markdown",
   "metadata": {
    "id": "yWX0EVKrJdxw"
   },
   "source": [
    "### Ejercicio 3.2: Ajuste de Hiperparámetros\n",
    "\n",
    "Seleccionar valores para los hiperparámetros principales del DecisionTreeClassifier. Como mínimo, probar diferentes criterios de partición (criterion), profundidad máxima del árbol (max_depth), y cantidad mínima de samples por hoja (min_samples_leaf).\n",
    "\n",
    "Para ello, usar grid-search y 5-fold cross-validation sobre el conjunto de entrenamiento para explorar muchas combinaciones posibles de valores.\n",
    "\n",
    "Reportar accuracy promedio y varianza para todas las configuraciones.\n",
    "\n",
    "Para la mejor configuración encontrada, evaluar sobre el conjunto de **entrenamiento** y sobre el conjunto de **evaluación**, reportando:\n",
    "- Accuracy\n",
    "- Precision\n",
    "- Recall\n",
    "- F1\n",
    "- matriz de confusión\n",
    "\n",
    "\n",
    "Documentación:\n",
    "- https://scikit-learn.org/stable/modules/grid_search.html\n",
    "- https://scikit-learn.org/stable/modules/generated/sklearn.model_selection.GridSearchCV.html"
   ]
  },
  {
   "cell_type": "markdown",
   "metadata": {
    "id": "uqOWo69gX6Vn"
   },
   "source": [
    "# Respuestas\n"
   ]
  },
  {
   "cell_type": "markdown",
   "metadata": {
    "id": "94DZ5a_-YKgp"
   },
   "source": [
    "## Ejercicio 1: Descripción de los Datos y la Tarea\n"
   ]
  },
  {
   "cell_type": "markdown",
   "metadata": {
    "id": "eo772vU7SslI"
   },
   "source": [
    "### 1- ¿De qué se trata el conjunto de datos?"
   ]
  },
  {
   "cell_type": "markdown",
   "metadata": {
    "id": "oDgLb0kaSkEw"
   },
   "source": [
    "El conjunto de datos se trata de información sobre préstamos de solicitantes recientes a los que se les otorgó crédito, realizado por el departamento de créditos de un banco. "
   ]
  },
  {
   "cell_type": "markdown",
   "metadata": {
    "id": "bGI9tpW-VmJH"
   },
   "source": [
    "### 2- ¿Cuál es la variable objetivo que hay que predecir? ¿Qué significado tiene?\n",
    "\n",
    "\n"
   ]
  },
  {
   "cell_type": "markdown",
   "metadata": {
    "id": "nJ2hikPPWVBA"
   },
   "source": [
    "La variable objetivo es la variable 'TARGET'. La misma tiene las siguientes asignaciones y significado:\n",
    "\n",
    "\n",
    "*   1 si el cliente incumplió el pago del préstamo\n",
    "*   0 si el cliente cumplió el pago del préstamo\n",
    "\n",
    "Esta es la variable que se utilizará para realizar la predicción de calificación crediticia de un nuevo solicitante, para poder decidir si se le debe otorgar o no un crédito.\n",
    "\n"
   ]
  },
  {
   "cell_type": "markdown",
   "metadata": {
    "id": "lyfbpFI-WJ_T"
   },
   "source": [
    "### 3- ¿Qué información (atributos) hay disponible para hacer la predicción?\n"
   ]
  },
  {
   "cell_type": "code",
   "execution_count": null,
   "metadata": {
    "colab": {
     "base_uri": "https://localhost:8080/"
    },
    "id": "GEYbKkq_Npd6",
    "outputId": "aca2607b-e230-4c99-958c-4fa16b802187"
   },
   "outputs": [
    {
     "data": {
      "text/plain": [
       "Index(['TARGET', 'LOAN', 'MORTDUE', 'VALUE', 'YOJ', 'DEROG', 'DELINQ', 'CLAGE',\n",
       "       'NINQ', 'CLNO', 'DEBTINC'],\n",
       "      dtype='object')"
      ]
     },
     "execution_count": 5,
     "metadata": {},
     "output_type": "execute_result"
    }
   ],
   "source": [
    "dataset.columns"
   ]
  },
  {
   "cell_type": "markdown",
   "metadata": {
    "id": "dFzwhea5047u"
   },
   "source": [
    "Los atributos disponibles para realizar la predicción son:\n",
    "\n",
    "*   TARGET - Variable que indica el cumplimiento o no en el pago del préstamo.\n",
    "*   LOAN - Importe solicitado en el préstamo.\n",
    "*   MORTDUE - Monto adeudado sobre la hipoteca existente.\n",
    "*   VALUE - Valor actual de la propiedad.\n",
    "*   YOJ - Antigüedad en el trabajo actual.\n",
    "*   DEROG - Número de informes despectivos importantes.\n",
    "*   DELINQ - Número de líneas de crédito morosas\n",
    "*   CLAGE - Antigüedad de la línea comercial más antigua en meses\n",
    "*   NINQ - Número de líneas de crédito recientes\n",
    "*   CLNO - Número de líneas de crédito\n",
    "*   DEBTINC - Relación deuda-ingresos \n"
   ]
  },
  {
   "cell_type": "markdown",
   "metadata": {
    "id": "68AAPaEEgXNY"
   },
   "source": [
    "#### Visualización"
   ]
  },
  {
   "cell_type": "markdown",
   "metadata": {
    "id": "MyZAYv2YHQ6m"
   },
   "source": [
    "Variables característica"
   ]
  },
  {
   "cell_type": "code",
   "execution_count": null,
   "metadata": {
    "colab": {
     "base_uri": "https://localhost:8080/",
     "height": 860
    },
    "id": "iA1cRg-hNpeC",
    "outputId": "c43aa15d-e644-464f-aa93-5dd9ae70f0d2"
   },
   "outputs": [
    {
     "name": "stderr",
     "output_type": "stream",
     "text": [
      "/usr/local/lib/python3.7/dist-packages/seaborn/distributions.py:2619: FutureWarning: `distplot` is a deprecated function and will be removed in a future version. Please adapt your code to use either `displot` (a figure-level function with similar flexibility) or `histplot` (an axes-level function for histograms).\n",
      "  warnings.warn(msg, FutureWarning)\n",
      "/usr/local/lib/python3.7/dist-packages/seaborn/distributions.py:2619: FutureWarning: `distplot` is a deprecated function and will be removed in a future version. Please adapt your code to use either `displot` (a figure-level function with similar flexibility) or `histplot` (an axes-level function for histograms).\n",
      "  warnings.warn(msg, FutureWarning)\n",
      "/usr/local/lib/python3.7/dist-packages/seaborn/distributions.py:2619: FutureWarning: `distplot` is a deprecated function and will be removed in a future version. Please adapt your code to use either `displot` (a figure-level function with similar flexibility) or `histplot` (an axes-level function for histograms).\n",
      "  warnings.warn(msg, FutureWarning)\n",
      "/usr/local/lib/python3.7/dist-packages/seaborn/distributions.py:2619: FutureWarning: `distplot` is a deprecated function and will be removed in a future version. Please adapt your code to use either `displot` (a figure-level function with similar flexibility) or `histplot` (an axes-level function for histograms).\n",
      "  warnings.warn(msg, FutureWarning)\n",
      "/usr/local/lib/python3.7/dist-packages/seaborn/distributions.py:2619: FutureWarning: `distplot` is a deprecated function and will be removed in a future version. Please adapt your code to use either `displot` (a figure-level function with similar flexibility) or `histplot` (an axes-level function for histograms).\n",
      "  warnings.warn(msg, FutureWarning)\n",
      "/usr/local/lib/python3.7/dist-packages/seaborn/distributions.py:2619: FutureWarning: `distplot` is a deprecated function and will be removed in a future version. Please adapt your code to use either `displot` (a figure-level function with similar flexibility) or `histplot` (an axes-level function for histograms).\n",
      "  warnings.warn(msg, FutureWarning)\n",
      "/usr/local/lib/python3.7/dist-packages/seaborn/distributions.py:2619: FutureWarning: `distplot` is a deprecated function and will be removed in a future version. Please adapt your code to use either `displot` (a figure-level function with similar flexibility) or `histplot` (an axes-level function for histograms).\n",
      "  warnings.warn(msg, FutureWarning)\n",
      "/usr/local/lib/python3.7/dist-packages/seaborn/distributions.py:2619: FutureWarning: `distplot` is a deprecated function and will be removed in a future version. Please adapt your code to use either `displot` (a figure-level function with similar flexibility) or `histplot` (an axes-level function for histograms).\n",
      "  warnings.warn(msg, FutureWarning)\n",
      "/usr/local/lib/python3.7/dist-packages/seaborn/distributions.py:2619: FutureWarning: `distplot` is a deprecated function and will be removed in a future version. Please adapt your code to use either `displot` (a figure-level function with similar flexibility) or `histplot` (an axes-level function for histograms).\n",
      "  warnings.warn(msg, FutureWarning)\n",
      "/usr/local/lib/python3.7/dist-packages/seaborn/distributions.py:2619: FutureWarning: `distplot` is a deprecated function and will be removed in a future version. Please adapt your code to use either `displot` (a figure-level function with similar flexibility) or `histplot` (an axes-level function for histograms).\n",
      "  warnings.warn(msg, FutureWarning)\n"
     ]
    },
    {
     "data": {
      "text/plain": [
       "<matplotlib.axes._subplots.AxesSubplot at 0x7fe619fe8450>"
      ]
     },
     "execution_count": 6,
     "metadata": {},
     "output_type": "execute_result"
    },
    {
     "data": {
      "image/png": "[encoded data removed]",
      "text/plain": [
       "<Figure size 1728x648 with 10 Axes>"
      ]
     },
     "metadata": {
      "needs_background": "light"
     },
     "output_type": "display_data"
    }
   ],
   "source": [
    "f, axes = plt.subplots(2, 5, figsize=(24,9))\n",
    "sns.distplot( dataset['LOAN'] , color=\"gray\", ax=axes[0, 0])\n",
    "sns.distplot( dataset['MORTDUE'] , color=\"blue\", ax=axes[0, 1])\n",
    "sns.distplot( dataset['VALUE'] , color=\"pink\", ax=axes[0, 2])\n",
    "sns.distplot( dataset['YOJ'] , color=\"purple\", ax=axes[0, 3])\n",
    "sns.distplot( dataset['DEROG'] , color=\"yellow\", ax=axes[0, 4])\n",
    "sns.distplot( dataset['DELINQ'] , color=\"pink\", ax=axes[1, 0])\n",
    "sns.distplot( dataset['CLAGE'] , color=\"red\", ax=axes[1, 1])\n",
    "sns.distplot( dataset['NINQ'] , color=\"green\", ax=axes[1, 2])\n",
    "sns.distplot( dataset['CLNO'] , color=\"gold\", ax=axes[1, 3])\n",
    "sns.distplot( dataset['DEBTINC'] , color=\"orange\", ax=axes[1, 4])"
   ]
  },
  {
   "cell_type": "markdown",
   "metadata": {
    "id": "fCqFkM1jHOcP"
   },
   "source": [
    "Variable objetivo: TARGET"
   ]
  },
  {
   "cell_type": "code",
   "execution_count": null,
   "metadata": {
    "colab": {
     "base_uri": "https://localhost:8080/",
     "height": 395
    },
    "id": "Ouzl48dVNpeA",
    "outputId": "2c909af0-9772-4840-b318-4aefb62320e0"
   },
   "outputs": [
    {
     "data": {
      "text/plain": [
       "(array([   0.,  200.,  400.,  600.,  800., 1000., 1200., 1400., 1600.,\n",
       "        1800.]), <a list of 10 Text major ticklabel objects>)"
      ]
     },
     "execution_count": 7,
     "metadata": {},
     "output_type": "execute_result"
    },
    {
     "data": {
      "image/png": "[encoded data removed]",
      "text/plain": [
       "<Figure size 216x360 with 1 Axes>"
      ]
     },
     "metadata": {
      "needs_background": "light"
     },
     "output_type": "display_data"
    }
   ],
   "source": [
    "fig = plt.figure(figsize=(3,5))\n",
    "sns.countplot(data=dataset, x='TARGET', color='tab:green')\n",
    "\n",
    "plt.title('Cantidad de solicitantes de crédito vs cumplimiento en el pago (0=cumplió)', \n",
    "            loc='center', color='#505050', fontsize=15, fontweight='bold')\n",
    "\n",
    "plt.ylabel(\"Cantidad de solicitantes\", size=11, fontweight='bold', color='#505050')\n",
    "plt.xlabel(\"TARGET\", size=11, fontweight='bold', color='#505050')\n",
    "\n",
    "plt.xticks(fontsize=15, rotation=0)\n",
    "plt.yticks(fontsize=15)"
   ]
  },
  {
   "cell_type": "markdown",
   "metadata": {
    "id": "A6IK44fhK606"
   },
   "source": [
    "Diagramas de caja de variables característica vs TARGET"
   ]
  },
  {
   "cell_type": "code",
   "execution_count": null,
   "metadata": {
    "colab": {
     "base_uri": "https://localhost:8080/",
     "height": 461
    },
    "id": "J70_s7NC17Ns",
    "outputId": "0f7898f6-e94c-4372-c79d-77aba7658f7d"
   },
   "outputs": [
    {
     "data": {
      "text/plain": [
       "<matplotlib.axes._subplots.AxesSubplot at 0x7fe6159ba990>"
      ]
     },
     "execution_count": 8,
     "metadata": {},
     "output_type": "execute_result"
    },
    {
     "data": {
      "image/png": "[encoded data removed]",
      "text/plain": [
       "<Figure size 1728x648 with 10 Axes>"
      ]
     },
     "metadata": {
      "needs_background": "light"
     },
     "output_type": "display_data"
    }
   ],
   "source": [
    "f, axes = plt.subplots(2, 5, figsize=(24,9))\n",
    "sns.boxplot(x = 'TARGET', y = 'LOAN', data = dataset , color=\"gray\", ax=axes[0, 0])\n",
    "sns.boxplot(x = 'TARGET', y = 'MORTDUE', data = dataset , color=\"blue\", ax=axes[0, 1])\n",
    "sns.boxplot(x = 'TARGET', y = 'VALUE', data = dataset , color=\"pink\", ax=axes[0, 2])\n",
    "sns.boxplot(x = 'TARGET', y = 'YOJ', data = dataset , color=\"purple\", ax=axes[0, 3])\n",
    "sns.boxplot(x = 'TARGET', y = 'DEROG', data = dataset , color=\"yellow\", ax=axes[0, 4])\n",
    "sns.boxplot(x = 'TARGET', y = 'DELINQ', data = dataset , color=\"pink\", ax=axes[1, 0])\n",
    "sns.boxplot(x = 'TARGET', y = 'CLAGE', data = dataset , color=\"red\", ax=axes[1, 1])\n",
    "sns.boxplot(x = 'TARGET', y = 'NINQ', data = dataset , color=\"green\", ax=axes[1, 2])\n",
    "sns.boxplot(x = 'TARGET', y = 'CLNO', data = dataset , color=\"gold\", ax=axes[1, 3])\n",
    "sns.boxplot(x = 'TARGET', y = 'DEBTINC', data = dataset , color=\"orange\", ax=axes[1, 4])"
   ]
  },
  {
   "cell_type": "markdown",
   "metadata": {
    "id": "WKlmx9gnju-3"
   },
   "source": [
    "### 4- ¿Qué atributos imagina ud. que son los más determinantes para la predicción?\n"
   ]
  },
  {
   "cell_type": "markdown",
   "metadata": {
    "id": "goF9rAyD8Ero"
   },
   "source": [
    "Para establecer qué atributos son los mas determinantes para la predicción, se realiza matriz de correlación.\n"
   ]
  },
  {
   "cell_type": "code",
   "execution_count": null,
   "metadata": {
    "colab": {
     "base_uri": "https://localhost:8080/",
     "height": 519
    },
    "id": "GNBsNXZyNpeC",
    "outputId": "4abc460d-d8f8-44ca-8151-20f688695689"
   },
   "outputs": [
    {
     "data": {
      "text/plain": [
       "Text(0.5, 1.0, 'Matriz de correlación de las variables')"
      ]
     },
     "execution_count": 9,
     "metadata": {},
     "output_type": "execute_result"
    },
    {
     "data": {
      "image/png": "[encoded data removed]",
      "text/plain": [
       "<Figure size 1008x576 with 2 Axes>"
      ]
     },
     "metadata": {
      "needs_background": "light"
     },
     "output_type": "display_data"
    }
   ],
   "source": [
    "plt.figure(figsize=(14,8))\n",
    "sns.heatmap(dataset[dataset.columns].corr(),annot=True, fmt='.2g')\n",
    "plt.title('Matriz de correlación de las variables', fontsize=15)"
   ]
  },
  {
   "cell_type": "markdown",
   "metadata": {
    "id": "ZSPamkCIFNF2"
   },
   "source": [
    "En la primer columna de la matriz, se observa que los atributos que pueden ser mas determinantes para la predicción, son:\n",
    "\n",
    "*   DEROG - número de informes despectivos importantes.\n",
    "*   DELINQ - número de líneas de crédito morosas\n",
    "*   CLAGE - Antigüedad de la línea comercial más antigua en meses\n",
    "*   NINQ - Número de líneas de crédito recientes\n",
    "*   DEBTINC - Relación deuda-ingresos \n"
   ]
  },
  {
   "cell_type": "markdown",
   "metadata": {
    "id": "jpU49N3ERAN7"
   },
   "source": [
    "## Ejercicio 2: Predicción con Modelos Lineales"
   ]
  },
  {
   "cell_type": "markdown",
   "metadata": {
    "id": "Uhz91Kr6RAN8"
   },
   "source": [
    "### Ejercicio 2.1: SGDClassifier con hiperparámetros por defecto\n",
    "\n"
   ]
  },
  {
   "cell_type": "markdown",
   "metadata": {
    "id": "Rndodck1omYW"
   },
   "source": [
    "**Entrenamiento del modelo**"
   ]
  },
  {
   "cell_type": "code",
   "execution_count": null,
   "metadata": {
    "colab": {
     "base_uri": "https://localhost:8080/"
    },
    "id": "Va-Xmi3Fxbzd",
    "outputId": "ec12a396-4839-4f3d-bd3e-ac6049c3ad39"
   },
   "outputs": [
    {
     "data": {
      "text/plain": [
       "SGDClassifier(random_state=42)"
      ]
     },
     "execution_count": 10,
     "metadata": {},
     "output_type": "execute_result"
    }
   ],
   "source": [
    "model = SGDClassifier(random_state=42)\n",
    "model.fit(X_train, y_train)"
   ]
  },
  {
   "cell_type": "code",
   "execution_count": null,
   "metadata": {
    "colab": {
     "base_uri": "https://localhost:8080/"
    },
    "id": "mF7fJnmKR1Gz",
    "outputId": "5075e734-183e-4e66-9193-248708220bcd"
   },
   "outputs": [
    {
     "data": {
      "text/plain": [
       "Pipeline(steps=[('standardscaler', StandardScaler()),\n",
       "                ('model', SGDClassifier(random_state=42))])"
      ]
     },
     "execution_count": 11,
     "metadata": {},
     "output_type": "execute_result"
    }
   ],
   "source": [
    "model1=Pipeline([('standardscaler', StandardScaler()), ('model',SGDClassifier(random_state=42))])\n",
    "\n",
    "model1.fit(X_train, y_train)"
   ]
  },
  {
   "cell_type": "markdown",
   "metadata": {
    "id": "15xCZ4uwN_dx"
   },
   "source": [
    "Predicción de valores de entrenamiento:"
   ]
  },
  {
   "cell_type": "code",
   "execution_count": null,
   "metadata": {
    "id": "7j0lHU80OMbK"
   },
   "outputs": [],
   "source": [
    "ypredtrain = model1.predict(X_train)"
   ]
  },
  {
   "cell_type": "markdown",
   "metadata": {
    "id": "31OQlZY1Ny5s"
   },
   "source": [
    "Predicción para los valores de evaluación:"
   ]
  },
  {
   "cell_type": "code",
   "execution_count": null,
   "metadata": {
    "id": "w4qGJKVQHtWg"
   },
   "outputs": [],
   "source": [
    "ypred = model1.predict(X_test)"
   ]
  },
  {
   "cell_type": "markdown",
   "metadata": {
    "id": "Le4QuMNvuXEv"
   },
   "source": [
    "**Reporte de métricas para train y test:**"
   ]
  },
  {
   "cell_type": "code",
   "execution_count": null,
   "metadata": {
    "colab": {
     "base_uri": "https://localhost:8080/"
    },
    "id": "3N3Pk5Y9uhJR",
    "outputId": "0da4360b-e507-4d91-b202-101d526f09c1"
   },
   "outputs": [
    {
     "name": "stdout",
     "output_type": "stream",
     "text": [
      "Reporte de métricas de entrenamiento\n",
      "------------------------------------------------------\n",
      "              precision    recall  f1-score   support\n",
      "\n",
      "           0       0.87      0.97      0.92      1236\n",
      "           1       0.68      0.30      0.42       247\n",
      "\n",
      "    accuracy                           0.86      1483\n",
      "   macro avg       0.78      0.64      0.67      1483\n",
      "weighted avg       0.84      0.86      0.84      1483\n",
      "\n",
      "Reporte de métricas de evaluación\n",
      "-------------------------------------------------------\n",
      "              precision    recall  f1-score   support\n",
      "\n",
      "           0       0.87      0.99      0.93       309\n",
      "           1       0.89      0.27      0.42        62\n",
      "\n",
      "    accuracy                           0.87       371\n",
      "   macro avg       0.88      0.63      0.67       371\n",
      "weighted avg       0.88      0.87      0.84       371\n",
      "\n"
     ]
    }
   ],
   "source": [
    "print(f'Reporte de métricas de entrenamiento\\n------------------------------------------------------')\n",
    "print(classification_report(y_train, ypredtrain))\n",
    "print(f'Reporte de métricas de evaluación\\n-------------------------------------------------------')\n",
    "print(classification_report(y_test, ypred))"
   ]
  },
  {
   "cell_type": "markdown",
   "metadata": {
    "id": "El983kweKyYq"
   },
   "source": [
    "**Matriz de confusión**"
   ]
  },
  {
   "cell_type": "markdown",
   "metadata": {
    "id": "glxLDB2zLJmD"
   },
   "source": [
    "1) Para la instancia de entrenamiento"
   ]
  },
  {
   "cell_type": "code",
   "execution_count": null,
   "metadata": {
    "colab": {
     "base_uri": "https://localhost:8080/",
     "height": 355
    },
    "id": "bFQS8sf3KxOe",
    "outputId": "3aef5fc4-45cc-446f-dfe1-1f5f351420ea"
   },
   "outputs": [
    {
     "data": {
      "image/png": "[encoded data removed]",
      "text/plain": [
       "<Figure size 432x360 with 2 Axes>"
      ]
     },
     "metadata": {},
     "output_type": "display_data"
    }
   ],
   "source": [
    "cm = confusion_matrix(y_train, ypredtrain)\n",
    "\n",
    "sns.set(color_codes=True)\n",
    "plt.figure(1, figsize=(6, 5))\n",
    "\n",
    "plt.title(\"Matriz de Confusión\" )\n",
    "\n",
    "labels = [\"0\", \"1\"] \n",
    "sns.set(font_scale=1)\n",
    "ax = sns.heatmap(cm.T, annot=True, fmt='.1f', cmap=\"Blues\", cbar_kws={'label': 'Scale'})\n",
    " \n",
    "ax.set_xticklabels(labels)\n",
    "ax.set_yticklabels(labels)\n",
    " \n",
    "ax.set(ylabel=\"Verdad\", xlabel=\"Predicción del modelo\")\n",
    "\n",
    "plt.show()"
   ]
  },
  {
   "cell_type": "markdown",
   "metadata": {
    "id": "0kqZUi3JLQkF"
   },
   "source": [
    "2) Para la instancia de evaluación"
   ]
  },
  {
   "cell_type": "code",
   "execution_count": null,
   "metadata": {
    "colab": {
     "base_uri": "https://localhost:8080/",
     "height": 355
    },
    "id": "KKg4_U2KLVYM",
    "outputId": "bcd22ffa-c45e-4498-a483-948a5f4bfd4b"
   },
   "outputs": [
    {
     "data": {
      "image/png": "[encoded data removed]",
      "text/plain": [
       "<Figure size 432x360 with 2 Axes>"
      ]
     },
     "metadata": {},
     "output_type": "display_data"
    }
   ],
   "source": [
    "cm1 = confusion_matrix(y_test, ypred)\n",
    "\n",
    "sns.set(color_codes=True)\n",
    "plt.figure(1, figsize=(6, 5))\n",
    "\n",
    "plt.title(\"Matriz de Confusión\" )\n",
    "\n",
    "labels = [\"0\", \"1\"] \n",
    "sns.set(font_scale=1)\n",
    "ax = sns.heatmap(cm1.T, annot=True, fmt='.1f', cmap=\"Blues\", cbar_kws={'label': 'Scale'})\n",
    " \n",
    "ax.set_xticklabels(labels)\n",
    "ax.set_yticklabels(labels)\n",
    " \n",
    "ax.set(ylabel=\"Verdad\", xlabel=\"Predicción del modelo\")\n",
    "\n",
    "plt.show()"
   ]
  },
  {
   "cell_type": "markdown",
   "metadata": {
    "id": "O8RlrwN4pcT8"
   },
   "source": [
    "### Ejercicio 2.2: Ajuste de Hiperparámetros\n",
    "\n",
    "Selección de valores para los hiperparámetros principales del SGDClassifier. "
   ]
  },
  {
   "cell_type": "markdown",
   "metadata": {
    "id": "MTiC35XlXBs4"
   },
   "source": [
    "Se visualizan los parametros del modelo:"
   ]
  },
  {
   "cell_type": "code",
   "execution_count": null,
   "metadata": {
    "colab": {
     "base_uri": "https://localhost:8080/"
    },
    "id": "ZS14x9Gi-exA",
    "outputId": "f0e63539-d9dc-4608-e340-c665c90819cb"
   },
   "outputs": [
    {
     "data": {
      "text/plain": [
       "{'alpha': 0.0001,\n",
       " 'average': False,\n",
       " 'class_weight': None,\n",
       " 'early_stopping': False,\n",
       " 'epsilon': 0.1,\n",
       " 'eta0': 0.0,\n",
       " 'fit_intercept': True,\n",
       " 'l1_ratio': 0.15,\n",
       " 'learning_rate': 'optimal',\n",
       " 'loss': 'hinge',\n",
       " 'max_iter': 1000,\n",
       " 'n_iter_no_change': 5,\n",
       " 'n_jobs': None,\n",
       " 'penalty': 'l2',\n",
       " 'power_t': 0.5,\n",
       " 'random_state': 42,\n",
       " 'shuffle': True,\n",
       " 'tol': 0.001,\n",
       " 'validation_fraction': 0.1,\n",
       " 'verbose': 0,\n",
       " 'warm_start': False}"
      ]
     },
     "execution_count": 17,
     "metadata": {},
     "output_type": "execute_result"
    }
   ],
   "source": [
    "model.get_params()"
   ]
  },
  {
   "cell_type": "code",
   "execution_count": null,
   "metadata": {
    "colab": {
     "base_uri": "https://localhost:8080/"
    },
    "id": "Sj6V4dTBqLgH",
    "outputId": "9a176bb6-d859-4b2b-9e92-47ca131f8af1"
   },
   "outputs": [
    {
     "data": {
      "text/plain": [
       "{'epsilon_insensitive': (sklearn.linear_model._sgd_fast.EpsilonInsensitive,\n",
       "  0.1),\n",
       " 'hinge': (sklearn.linear_model._sgd_fast.Hinge, 1.0),\n",
       " 'huber': (sklearn.linear_model._sgd_fast.Huber, 0.1),\n",
       " 'log': (sklearn.linear_model._sgd_fast.Log,),\n",
       " 'modified_huber': (sklearn.linear_model._sgd_fast.ModifiedHuber,),\n",
       " 'perceptron': (sklearn.linear_model._sgd_fast.Hinge, 0.0),\n",
       " 'squared_epsilon_insensitive': (sklearn.linear_model._sgd_fast.SquaredEpsilonInsensitive,\n",
       "  0.1),\n",
       " 'squared_error': (sklearn.linear_model._sgd_fast.SquaredLoss,),\n",
       " 'squared_hinge': (sklearn.linear_model._sgd_fast.SquaredHinge, 1.0),\n",
       " 'squared_loss': (sklearn.linear_model._sgd_fast.SquaredLoss,)}"
      ]
     },
     "execution_count": 18,
     "metadata": {},
     "output_type": "execute_result"
    }
   ],
   "source": [
    "model.max_iter = 3000\n",
    "model.loss_functions"
   ]
  },
  {
   "cell_type": "markdown",
   "metadata": {
    "id": "q201OrWjcrnP"
   },
   "source": [
    "Definición de parametros a comparar para encontar el mejor modelo"
   ]
  },
  {
   "cell_type": "code",
   "execution_count": null,
   "metadata": {
    "id": "BPJtFOuPafTl"
   },
   "outputs": [],
   "source": [
    "\n",
    "param_grid = {\n",
    "    'model__loss': ['hinge', 'log', 'squared_error', 'squared_hinge'],\n",
    "    'model__learning_rate':['constant', 'optimal','adaptive'],\n",
    "    'model__alpha': [0.0, 0.001, 0.0001, 0.00001, 1.0, 10.0],\n",
    "     }"
   ]
  },
  {
   "cell_type": "code",
   "execution_count": null,
   "metadata": {
    "colab": {
     "base_uri": "https://localhost:8080/"
    },
    "id": "kSwaIfKtVLTE",
    "outputId": "c2006f8a-c23c-46ca-a0a9-201cdc5a7c55"
   },
   "outputs": [
    {
     "name": "stderr",
     "output_type": "stream",
     "text": [
      "/usr/local/lib/python3.7/dist-packages/sklearn/model_selection/_validation.py:372: FitFailedWarning: \n",
      "20 fits failed out of a total of 360.\n",
      "The score on these train-test partitions for these parameters will be set to nan.\n",
      "If these failures are not expected, you can try to debug them by setting error_score='raise'.\n",
      "\n",
      "Below are more details about the failures:\n",
      "--------------------------------------------------------------------------------\n",
      "20 fits failed with the following error:\n",
      "Traceback (most recent call last):\n",
      "  File \"/usr/local/lib/python3.7/dist-packages/sklearn/model_selection/_validation.py\", line 680, in _fit_and_score\n",
      "    estimator.fit(X_train, y_train, **fit_params)\n",
      "  File \"/usr/local/lib/python3.7/dist-packages/sklearn/pipeline.py\", line 394, in fit\n",
      "    self._final_estimator.fit(Xt, y, **fit_params_last_step)\n",
      "  File \"/usr/local/lib/python3.7/dist-packages/sklearn/linear_model/_stochastic_gradient.py\", line 892, in fit\n",
      "    sample_weight=sample_weight,\n",
      "  File \"/usr/local/lib/python3.7/dist-packages/sklearn/linear_model/_stochastic_gradient.py\", line 649, in _fit\n",
      "    self._validate_params()\n",
      "  File \"/usr/local/lib/python3.7/dist-packages/sklearn/linear_model/_stochastic_gradient.py\", line 152, in _validate_params\n",
      "    \"alpha must be > 0 since \"\n",
      "ValueError: alpha must be > 0 since learning_rate is 'optimal'. alpha is used to compute the optimal learning rate.\n",
      "\n",
      "  warnings.warn(some_fits_failed_message, FitFailedWarning)\n",
      "/usr/local/lib/python3.7/dist-packages/sklearn/model_selection/_search.py:972: UserWarning: One or more of the test scores are non-finite: [0.86717399 0.86650059 0.50933888 0.78290791        nan        nan\n",
      "        nan        nan 0.87189007 0.8712144  0.86446901 0.85568296\n",
      " 0.85840158 0.86582719 0.50933888 0.78560379 0.86986987 0.873908\n",
      " 0.84962007 0.83683911 0.87189007 0.8712144  0.86446901 0.85568296\n",
      " 0.86310629 0.86650059 0.50933888 0.78829739 0.85301893 0.8503094\n",
      " 0.52129857 0.78556056 0.87189007 0.8712144  0.86446901 0.85568296\n",
      " 0.8516653  0.86650059 0.50933888 0.78222086 0.81525617 0.81389116\n",
      " 0.50234553 0.80447265 0.87189007 0.8712144  0.86446901 0.85568296\n",
      " 0.84288152 0.83479843 0.81591364 0.78897989 0.83344708 0.83479388\n",
      " 0.8509828  0.85300983 0.83344708 0.83344708 0.85165848 0.85300983\n",
      " 0.83344708 0.83344708 0.83344708 0.83344708 0.83344708 0.83344708\n",
      " 0.83344708 0.83344708 0.83344708 0.83344708 0.83344708 0.83344708]\n",
      "  category=UserWarning,\n"
     ]
    }
   ],
   "source": [
    "model = Pipeline([('standardscaler', StandardScaler()), ('model',SGDClassifier(random_state=42, eta0=0.1))])\n",
    "\n",
    "cv = GridSearchCV(model, param_grid, scoring ='accuracy', refit=True, cv=5)\n",
    "cv.fit(X_train, y_train);"
   ]
  },
  {
   "cell_type": "code",
   "execution_count": null,
   "metadata": {
    "colab": {
     "base_uri": "https://localhost:8080/",
     "height": 458
    },
    "id": "gDKO0aT_afTm",
    "outputId": "9247af6a-ec45-4688-f432-b51adc2ed2bf"
   },
   "outputs": [
    {
     "data": {
      "text/html": [
       "\n",
       "  <div id=\"df-efd8af0a-dc9c-4e04-b3ae-ac1cef6ff2cc\">\n",
       "    <div class=\"colab-df-container\">\n",
       "      <div>\n",
       "<style scoped>\n",
       "    .dataframe tbody tr th:only-of-type {\n",
       "        vertical-align: middle;\n",
       "    }\n",
       "\n",
       "    .dataframe tbody tr th {\n",
       "        vertical-align: top;\n",
       "    }\n",
       "\n",
       "    .dataframe thead th {\n",
       "        text-align: right;\n",
       "    }\n",
       "</style>\n",
       "<table border=\"1\" class=\"dataframe\">\n",
       "  <thead>\n",
       "    <tr style=\"text-align: right;\">\n",
       "      <th></th>\n",
       "      <th>mean_fit_time</th>\n",
       "      <th>std_fit_time</th>\n",
       "      <th>mean_score_time</th>\n",
       "      <th>std_score_time</th>\n",
       "      <th>param_model__alpha</th>\n",
       "      <th>param_model__learning_rate</th>\n",
       "      <th>param_model__loss</th>\n",
       "      <th>params</th>\n",
       "      <th>split0_test_score</th>\n",
       "      <th>split1_test_score</th>\n",
       "      <th>split2_test_score</th>\n",
       "      <th>split3_test_score</th>\n",
       "      <th>split4_test_score</th>\n",
       "      <th>mean_test_score</th>\n",
       "      <th>std_test_score</th>\n",
       "      <th>rank_test_score</th>\n",
       "    </tr>\n",
       "  </thead>\n",
       "  <tbody>\n",
       "    <tr>\n",
       "      <th>17</th>\n",
       "      <td>0.022153</td>\n",
       "      <td>0.006277</td>\n",
       "      <td>0.005179</td>\n",
       "      <td>0.002916</td>\n",
       "      <td>0.001</td>\n",
       "      <td>optimal</td>\n",
       "      <td>log</td>\n",
       "      <td>{'model__alpha': 0.001, 'model__learning_rate'...</td>\n",
       "      <td>0.878788</td>\n",
       "      <td>0.872054</td>\n",
       "      <td>0.865320</td>\n",
       "      <td>0.858108</td>\n",
       "      <td>0.895270</td>\n",
       "      <td>0.873908</td>\n",
       "      <td>0.012704</td>\n",
       "      <td>1</td>\n",
       "    </tr>\n",
       "    <tr>\n",
       "      <th>20</th>\n",
       "      <td>0.014106</td>\n",
       "      <td>0.000959</td>\n",
       "      <td>0.004396</td>\n",
       "      <td>0.001662</td>\n",
       "      <td>0.001</td>\n",
       "      <td>adaptive</td>\n",
       "      <td>hinge</td>\n",
       "      <td>{'model__alpha': 0.001, 'model__learning_rate'...</td>\n",
       "      <td>0.868687</td>\n",
       "      <td>0.868687</td>\n",
       "      <td>0.865320</td>\n",
       "      <td>0.864865</td>\n",
       "      <td>0.891892</td>\n",
       "      <td>0.871890</td>\n",
       "      <td>0.010130</td>\n",
       "      <td>2</td>\n",
       "    </tr>\n",
       "    <tr>\n",
       "      <th>44</th>\n",
       "      <td>0.017187</td>\n",
       "      <td>0.003812</td>\n",
       "      <td>0.003666</td>\n",
       "      <td>0.000502</td>\n",
       "      <td>0.00001</td>\n",
       "      <td>adaptive</td>\n",
       "      <td>hinge</td>\n",
       "      <td>{'model__alpha': 1e-05, 'model__learning_rate'...</td>\n",
       "      <td>0.868687</td>\n",
       "      <td>0.868687</td>\n",
       "      <td>0.865320</td>\n",
       "      <td>0.864865</td>\n",
       "      <td>0.891892</td>\n",
       "      <td>0.871890</td>\n",
       "      <td>0.010130</td>\n",
       "      <td>2</td>\n",
       "    </tr>\n",
       "    <tr>\n",
       "      <th>32</th>\n",
       "      <td>0.014427</td>\n",
       "      <td>0.001898</td>\n",
       "      <td>0.006501</td>\n",
       "      <td>0.003737</td>\n",
       "      <td>0.0001</td>\n",
       "      <td>adaptive</td>\n",
       "      <td>hinge</td>\n",
       "      <td>{'model__alpha': 0.0001, 'model__learning_rate...</td>\n",
       "      <td>0.868687</td>\n",
       "      <td>0.868687</td>\n",
       "      <td>0.865320</td>\n",
       "      <td>0.864865</td>\n",
       "      <td>0.891892</td>\n",
       "      <td>0.871890</td>\n",
       "      <td>0.010130</td>\n",
       "      <td>2</td>\n",
       "    </tr>\n",
       "    <tr>\n",
       "      <th>8</th>\n",
       "      <td>0.009923</td>\n",
       "      <td>0.001390</td>\n",
       "      <td>0.002292</td>\n",
       "      <td>0.000067</td>\n",
       "      <td>0.0</td>\n",
       "      <td>adaptive</td>\n",
       "      <td>hinge</td>\n",
       "      <td>{'model__alpha': 0.0, 'model__learning_rate': ...</td>\n",
       "      <td>0.868687</td>\n",
       "      <td>0.868687</td>\n",
       "      <td>0.865320</td>\n",
       "      <td>0.864865</td>\n",
       "      <td>0.891892</td>\n",
       "      <td>0.871890</td>\n",
       "      <td>0.010130</td>\n",
       "      <td>2</td>\n",
       "    </tr>\n",
       "    <tr>\n",
       "      <th>33</th>\n",
       "      <td>0.028675</td>\n",
       "      <td>0.005540</td>\n",
       "      <td>0.004081</td>\n",
       "      <td>0.000855</td>\n",
       "      <td>0.0001</td>\n",
       "      <td>adaptive</td>\n",
       "      <td>log</td>\n",
       "      <td>{'model__alpha': 0.0001, 'model__learning_rate...</td>\n",
       "      <td>0.872054</td>\n",
       "      <td>0.858586</td>\n",
       "      <td>0.872054</td>\n",
       "      <td>0.861486</td>\n",
       "      <td>0.891892</td>\n",
       "      <td>0.871214</td>\n",
       "      <td>0.011688</td>\n",
       "      <td>6</td>\n",
       "    </tr>\n",
       "  </tbody>\n",
       "</table>\n",
       "</div>\n",
       "      <button class=\"colab-df-convert\" onclick=\"convertToInteractive('df-efd8af0a-dc9c-4e04-b3ae-ac1cef6ff2cc')\"\n",
       "              title=\"Convert this dataframe to an interactive table.\"\n",
       "              style=\"display:none;\">\n",
       "        \n",
       "  <svg xmlns=\"http://www.w3.org/2000/svg\" height=\"24px\"viewBox=\"0 0 24 24\"\n",
       "       width=\"24px\">\n",
       "    <path d=\"M0 0h24v24H0V0z\" fill=\"none\"/>\n",
       "    <path d=\"M18.56 5.44l.94 2.06.94-2.06 2.06-.94-2.06-.94-.94-2.06-.94 2.06-2.06.94zm-11 1L8.5 8.5l.94-2.06 2.06-.94-2.06-.94L8.5 2.5l-.94 2.06-2.06.94zm10 10l.94 2.06.94-2.06 2.06-.94-2.06-.94-.94-2.06-.94 2.06-2.06.94z\"/><path d=\"M17.41 7.96l-1.37-1.37c-.4-.4-.92-.59-1.43-.59-.52 0-1.04.2-1.43.59L10.3 9.45l-7.72 7.72c-.78.78-.78 2.05 0 2.83L4 21.41c.39.39.9.59 1.41.59.51 0 1.02-.2 1.41-.59l7.78-7.78 2.81-2.81c.8-.78.8-2.07 0-2.86zM5.41 20L4 18.59l7.72-7.72 1.47 1.35L5.41 20z\"/>\n",
       "  </svg>\n",
       "      </button>\n",
       "      \n",
       "  <style>\n",
       "    .colab-df-container {\n",
       "      display:flex;\n",
       "      flex-wrap:wrap;\n",
       "      gap: 12px;\n",
       "    }\n",
       "\n",
       "    .colab-df-convert {\n",
       "      background-color: #E8F0FE;\n",
       "      border: none;\n",
       "      border-radius: 50%;\n",
       "      cursor: pointer;\n",
       "      display: none;\n",
       "      fill: #1967D2;\n",
       "      height: 32px;\n",
       "      padding: 0 0 0 0;\n",
       "      width: 32px;\n",
       "    }\n",
       "\n",
       "    .colab-df-convert:hover {\n",
       "      background-color: #E2EBFA;\n",
       "      box-shadow: 0px 1px 2px rgba(60, 64, 67, 0.3), 0px 1px 3px 1px rgba(60, 64, 67, 0.15);\n",
       "      fill: #174EA6;\n",
       "    }\n",
       "\n",
       "    [theme=dark] .colab-df-convert {\n",
       "      background-color: #3B4455;\n",
       "      fill: #D2E3FC;\n",
       "    }\n",
       "\n",
       "    [theme=dark] .colab-df-convert:hover {\n",
       "      background-color: #434B5C;\n",
       "      box-shadow: 0px 1px 3px 1px rgba(0, 0, 0, 0.15);\n",
       "      filter: drop-shadow(0px 1px 2px rgba(0, 0, 0, 0.3));\n",
       "      fill: #FFFFFF;\n",
       "    }\n",
       "  </style>\n",
       "\n",
       "      <script>\n",
       "        const buttonEl =\n",
       "          document.querySelector('#df-efd8af0a-dc9c-4e04-b3ae-ac1cef6ff2cc button.colab-df-convert');\n",
       "        buttonEl.style.display =\n",
       "          google.colab.kernel.accessAllowed ? 'block' : 'none';\n",
       "\n",
       "        async function convertToInteractive(key) {\n",
       "          const element = document.querySelector('#df-efd8af0a-dc9c-4e04-b3ae-ac1cef6ff2cc');\n",
       "          const dataTable =\n",
       "            await google.colab.kernel.invokeFunction('convertToInteractive',\n",
       "                                                     [key], {});\n",
       "          if (!dataTable) return;\n",
       "\n",
       "          const docLinkHtml = 'Like what you see? Visit the ' +\n",
       "            '<a target=\"_blank\" href=https://colab.research.google.com/notebooks/data_table.ipynb>data table notebook</a>'\n",
       "            + ' to learn more about interactive tables.';\n",
       "          element.innerHTML = '';\n",
       "          dataTable['output_type'] = 'display_data';\n",
       "          await google.colab.output.renderOutput(dataTable, element);\n",
       "          const docLink = document.createElement('div');\n",
       "          docLink.innerHTML = docLinkHtml;\n",
       "          element.appendChild(docLink);\n",
       "        }\n",
       "      </script>\n",
       "    </div>\n",
       "  </div>\n",
       "  "
      ],
      "text/plain": [
       "    mean_fit_time  std_fit_time  mean_score_time  std_score_time  \\\n",
       "17       0.022153      0.006277         0.005179        0.002916   \n",
       "20       0.014106      0.000959         0.004396        0.001662   \n",
       "44       0.017187      0.003812         0.003666        0.000502   \n",
       "32       0.014427      0.001898         0.006501        0.003737   \n",
       "8        0.009923      0.001390         0.002292        0.000067   \n",
       "33       0.028675      0.005540         0.004081        0.000855   \n",
       "\n",
       "   param_model__alpha param_model__learning_rate param_model__loss  \\\n",
       "17              0.001                    optimal               log   \n",
       "20              0.001                   adaptive             hinge   \n",
       "44            0.00001                   adaptive             hinge   \n",
       "32             0.0001                   adaptive             hinge   \n",
       "8                 0.0                   adaptive             hinge   \n",
       "33             0.0001                   adaptive               log   \n",
       "\n",
       "                                               params  split0_test_score  \\\n",
       "17  {'model__alpha': 0.001, 'model__learning_rate'...           0.878788   \n",
       "20  {'model__alpha': 0.001, 'model__learning_rate'...           0.868687   \n",
       "44  {'model__alpha': 1e-05, 'model__learning_rate'...           0.868687   \n",
       "32  {'model__alpha': 0.0001, 'model__learning_rate...           0.868687   \n",
       "8   {'model__alpha': 0.0, 'model__learning_rate': ...           0.868687   \n",
       "33  {'model__alpha': 0.0001, 'model__learning_rate...           0.872054   \n",
       "\n",
       "    split1_test_score  split2_test_score  split3_test_score  \\\n",
       "17           0.872054           0.865320           0.858108   \n",
       "20           0.868687           0.865320           0.864865   \n",
       "44           0.868687           0.865320           0.864865   \n",
       "32           0.868687           0.865320           0.864865   \n",
       "8            0.868687           0.865320           0.864865   \n",
       "33           0.858586           0.872054           0.861486   \n",
       "\n",
       "    split4_test_score  mean_test_score  std_test_score  rank_test_score  \n",
       "17           0.895270         0.873908        0.012704                1  \n",
       "20           0.891892         0.871890        0.010130                2  \n",
       "44           0.891892         0.871890        0.010130                2  \n",
       "32           0.891892         0.871890        0.010130                2  \n",
       "8            0.891892         0.871890        0.010130                2  \n",
       "33           0.891892         0.871214        0.011688                6  "
      ]
     },
     "execution_count": 21,
     "metadata": {},
     "output_type": "execute_result"
    }
   ],
   "source": [
    "results = cv.cv_results_\n",
    "\n",
    "data_sdg_classifier=pd.DataFrame(results)\n",
    "data_sdg_classifier.sort_values('rank_test_score')[:6]"
   ]
  },
  {
   "cell_type": "code",
   "execution_count": null,
   "metadata": {
    "colab": {
     "base_uri": "https://localhost:8080/",
     "height": 206
    },
    "id": "G8tkjqBiafTm",
    "outputId": "cd1a3600-15e9-42b9-e6eb-f9e7f51ff951"
   },
   "outputs": [
    {
     "data": {
      "text/html": [
       "\n",
       "  <div id=\"df-95729e86-7f20-4e36-8373-a9e33386b69f\">\n",
       "    <div class=\"colab-df-container\">\n",
       "      <div>\n",
       "<style scoped>\n",
       "    .dataframe tbody tr th:only-of-type {\n",
       "        vertical-align: middle;\n",
       "    }\n",
       "\n",
       "    .dataframe tbody tr th {\n",
       "        vertical-align: top;\n",
       "    }\n",
       "\n",
       "    .dataframe thead th {\n",
       "        text-align: right;\n",
       "    }\n",
       "</style>\n",
       "<table border=\"1\" class=\"dataframe\">\n",
       "  <thead>\n",
       "    <tr style=\"text-align: right;\">\n",
       "      <th></th>\n",
       "      <th>param_model__learning_rate</th>\n",
       "      <th>param_model__loss</th>\n",
       "      <th>param_model__alpha</th>\n",
       "      <th>mean_test_score</th>\n",
       "      <th>std_test_score</th>\n",
       "      <th>rank_test_score</th>\n",
       "    </tr>\n",
       "  </thead>\n",
       "  <tbody>\n",
       "    <tr>\n",
       "      <th>17</th>\n",
       "      <td>optimal</td>\n",
       "      <td>log</td>\n",
       "      <td>0.001</td>\n",
       "      <td>0.873908</td>\n",
       "      <td>0.012704</td>\n",
       "      <td>1</td>\n",
       "    </tr>\n",
       "    <tr>\n",
       "      <th>20</th>\n",
       "      <td>adaptive</td>\n",
       "      <td>hinge</td>\n",
       "      <td>0.001</td>\n",
       "      <td>0.871890</td>\n",
       "      <td>0.010130</td>\n",
       "      <td>2</td>\n",
       "    </tr>\n",
       "    <tr>\n",
       "      <th>44</th>\n",
       "      <td>adaptive</td>\n",
       "      <td>hinge</td>\n",
       "      <td>0.00001</td>\n",
       "      <td>0.871890</td>\n",
       "      <td>0.010130</td>\n",
       "      <td>2</td>\n",
       "    </tr>\n",
       "    <tr>\n",
       "      <th>32</th>\n",
       "      <td>adaptive</td>\n",
       "      <td>hinge</td>\n",
       "      <td>0.0001</td>\n",
       "      <td>0.871890</td>\n",
       "      <td>0.010130</td>\n",
       "      <td>2</td>\n",
       "    </tr>\n",
       "    <tr>\n",
       "      <th>8</th>\n",
       "      <td>adaptive</td>\n",
       "      <td>hinge</td>\n",
       "      <td>0.0</td>\n",
       "      <td>0.871890</td>\n",
       "      <td>0.010130</td>\n",
       "      <td>2</td>\n",
       "    </tr>\n",
       "  </tbody>\n",
       "</table>\n",
       "</div>\n",
       "      <button class=\"colab-df-convert\" onclick=\"convertToInteractive('df-95729e86-7f20-4e36-8373-a9e33386b69f')\"\n",
       "              title=\"Convert this dataframe to an interactive table.\"\n",
       "              style=\"display:none;\">\n",
       "        \n",
       "  <svg xmlns=\"http://www.w3.org/2000/svg\" height=\"24px\"viewBox=\"0 0 24 24\"\n",
       "       width=\"24px\">\n",
       "    <path d=\"M0 0h24v24H0V0z\" fill=\"none\"/>\n",
       "    <path d=\"M18.56 5.44l.94 2.06.94-2.06 2.06-.94-2.06-.94-.94-2.06-.94 2.06-2.06.94zm-11 1L8.5 8.5l.94-2.06 2.06-.94-2.06-.94L8.5 2.5l-.94 2.06-2.06.94zm10 10l.94 2.06.94-2.06 2.06-.94-2.06-.94-.94-2.06-.94 2.06-2.06.94z\"/><path d=\"M17.41 7.96l-1.37-1.37c-.4-.4-.92-.59-1.43-.59-.52 0-1.04.2-1.43.59L10.3 9.45l-7.72 7.72c-.78.78-.78 2.05 0 2.83L4 21.41c.39.39.9.59 1.41.59.51 0 1.02-.2 1.41-.59l7.78-7.78 2.81-2.81c.8-.78.8-2.07 0-2.86zM5.41 20L4 18.59l7.72-7.72 1.47 1.35L5.41 20z\"/>\n",
       "  </svg>\n",
       "      </button>\n",
       "      \n",
       "  <style>\n",
       "    .colab-df-container {\n",
       "      display:flex;\n",
       "      flex-wrap:wrap;\n",
       "      gap: 12px;\n",
       "    }\n",
       "\n",
       "    .colab-df-convert {\n",
       "      background-color: #E8F0FE;\n",
       "      border: none;\n",
       "      border-radius: 50%;\n",
       "      cursor: pointer;\n",
       "      display: none;\n",
       "      fill: #1967D2;\n",
       "      height: 32px;\n",
       "      padding: 0 0 0 0;\n",
       "      width: 32px;\n",
       "    }\n",
       "\n",
       "    .colab-df-convert:hover {\n",
       "      background-color: #E2EBFA;\n",
       "      box-shadow: 0px 1px 2px rgba(60, 64, 67, 0.3), 0px 1px 3px 1px rgba(60, 64, 67, 0.15);\n",
       "      fill: #174EA6;\n",
       "    }\n",
       "\n",
       "    [theme=dark] .colab-df-convert {\n",
       "      background-color: #3B4455;\n",
       "      fill: #D2E3FC;\n",
       "    }\n",
       "\n",
       "    [theme=dark] .colab-df-convert:hover {\n",
       "      background-color: #434B5C;\n",
       "      box-shadow: 0px 1px 3px 1px rgba(0, 0, 0, 0.15);\n",
       "      filter: drop-shadow(0px 1px 2px rgba(0, 0, 0, 0.3));\n",
       "      fill: #FFFFFF;\n",
       "    }\n",
       "  </style>\n",
       "\n",
       "      <script>\n",
       "        const buttonEl =\n",
       "          document.querySelector('#df-95729e86-7f20-4e36-8373-a9e33386b69f button.colab-df-convert');\n",
       "        buttonEl.style.display =\n",
       "          google.colab.kernel.accessAllowed ? 'block' : 'none';\n",
       "\n",
       "        async function convertToInteractive(key) {\n",
       "          const element = document.querySelector('#df-95729e86-7f20-4e36-8373-a9e33386b69f');\n",
       "          const dataTable =\n",
       "            await google.colab.kernel.invokeFunction('convertToInteractive',\n",
       "                                                     [key], {});\n",
       "          if (!dataTable) return;\n",
       "\n",
       "          const docLinkHtml = 'Like what you see? Visit the ' +\n",
       "            '<a target=\"_blank\" href=https://colab.research.google.com/notebooks/data_table.ipynb>data table notebook</a>'\n",
       "            + ' to learn more about interactive tables.';\n",
       "          element.innerHTML = '';\n",
       "          dataTable['output_type'] = 'display_data';\n",
       "          await google.colab.output.renderOutput(dataTable, element);\n",
       "          const docLink = document.createElement('div');\n",
       "          docLink.innerHTML = docLinkHtml;\n",
       "          element.appendChild(docLink);\n",
       "        }\n",
       "      </script>\n",
       "    </div>\n",
       "  </div>\n",
       "  "
      ],
      "text/plain": [
       "   param_model__learning_rate param_model__loss param_model__alpha  \\\n",
       "17                    optimal               log              0.001   \n",
       "20                   adaptive             hinge              0.001   \n",
       "44                   adaptive             hinge            0.00001   \n",
       "32                   adaptive             hinge             0.0001   \n",
       "8                    adaptive             hinge                0.0   \n",
       "\n",
       "    mean_test_score  std_test_score  rank_test_score  \n",
       "17         0.873908        0.012704                1  \n",
       "20         0.871890        0.010130                2  \n",
       "44         0.871890        0.010130                2  \n",
       "32         0.871890        0.010130                2  \n",
       "8          0.871890        0.010130                2  "
      ]
     },
     "execution_count": 22,
     "metadata": {},
     "output_type": "execute_result"
    }
   ],
   "source": [
    "data_sdg_classifier[['param_model__learning_rate','param_model__loss','param_model__alpha','mean_test_score','std_test_score','rank_test_score']].sort_values(by='rank_test_score', ascending=True).head(5)"
   ]
  },
  {
   "cell_type": "markdown",
   "metadata": {
    "id": "ufjo1l9nPoo1"
   },
   "source": [
    "Como se puede observar en la grilla, los hiperparámetros mejor rankeados son:\n",
    "* $\\alpha=0.001$\n",
    "* $\\eta$= optimal\n",
    "* loss = log\n",
    "\n",
    "El accuracy promedio resultante de realizar las 5 capas en la validación cruzada es $0.873908$ con una desviasión estándar de $0.012704$."
   ]
  },
  {
   "cell_type": "markdown",
   "metadata": {
    "id": "KKSC-YlD-_Eh"
   },
   "source": [
    "**Seleccion del mejor modelo**"
   ]
  },
  {
   "cell_type": "code",
   "execution_count": null,
   "metadata": {
    "colab": {
     "base_uri": "https://localhost:8080/"
    },
    "id": "mhRTff_4PA_W",
    "outputId": "d3ad1091-35fd-4100-fc2c-c17a97229be1"
   },
   "outputs": [
    {
     "data": {
      "text/plain": [
       "Pipeline(steps=[('standardscaler', StandardScaler()),\n",
       "                ('model',\n",
       "                 SGDClassifier(alpha=0.001, eta0=0.1, loss='log',\n",
       "                               random_state=42))])"
      ]
     },
     "execution_count": 23,
     "metadata": {},
     "output_type": "execute_result"
    }
   ],
   "source": [
    "best_model = cv.best_estimator_\n",
    "best_model"
   ]
  },
  {
   "cell_type": "markdown",
   "metadata": {
    "id": "ma6POYcMB_f7"
   },
   "source": [
    "**Entrenamiento del mejor modelo**"
   ]
  },
  {
   "cell_type": "code",
   "execution_count": null,
   "metadata": {
    "colab": {
     "base_uri": "https://localhost:8080/"
    },
    "id": "KJ5SQxbeB_f8",
    "outputId": "b5683708-a94c-468e-9108-f1ab9a2b6c8a"
   },
   "outputs": [
    {
     "data": {
      "text/plain": [
       "Pipeline(steps=[('standardscaler', StandardScaler()),\n",
       "                ('model',\n",
       "                 SGDClassifier(alpha=0.001, eta0=0.1, loss='log',\n",
       "                               random_state=42))])"
      ]
     },
     "execution_count": 24,
     "metadata": {},
     "output_type": "execute_result"
    }
   ],
   "source": [
    "#BM = Pipeline([('standardscaler', StandardScaler()), ('model',SGDClassifier(alpha=0.001, loss='log', max_iter=3000, random_state=42, eta0=0.1, learning_rate='optimal', penalty='l2'))])\n",
    "best_model.fit(X_train, y_train)"
   ]
  },
  {
   "cell_type": "markdown",
   "metadata": {
    "id": "isCXsuuuB_f-"
   },
   "source": [
    "Predicción de valores de entrenamiento"
   ]
  },
  {
   "cell_type": "code",
   "execution_count": null,
   "metadata": {
    "id": "K1B-tu6lB_f_"
   },
   "outputs": [],
   "source": [
    "ypredtrain_bm = best_model.predict(X_train)"
   ]
  },
  {
   "cell_type": "markdown",
   "metadata": {
    "id": "xNQpsJ00Dt6_"
   },
   "source": [
    "Predicción de valores de evaluación"
   ]
  },
  {
   "cell_type": "code",
   "execution_count": null,
   "metadata": {
    "id": "LXggzh0ADt7A"
   },
   "outputs": [],
   "source": [
    "ypred_bm = best_model.predict(X_test)"
   ]
  },
  {
   "cell_type": "markdown",
   "metadata": {
    "id": "34IMx8poK2Fp"
   },
   "source": [
    "**Reporte de métricas para el mejor modelo**"
   ]
  },
  {
   "cell_type": "code",
   "execution_count": null,
   "metadata": {
    "colab": {
     "base_uri": "https://localhost:8080/"
    },
    "id": "95pXGtIGK0ji",
    "outputId": "4977674e-e651-4b02-d651-85740fb09beb"
   },
   "outputs": [
    {
     "name": "stdout",
     "output_type": "stream",
     "text": [
      "Reporte de métricas de entrenamiento\n",
      "------------------------------------------------------\n",
      "              precision    recall  f1-score   support\n",
      "\n",
      "           0       0.88      0.99      0.93      1236\n",
      "           1       0.80      0.30      0.44       247\n",
      "\n",
      "    accuracy                           0.87      1483\n",
      "   macro avg       0.84      0.64      0.68      1483\n",
      "weighted avg       0.86      0.87      0.85      1483\n",
      "\n",
      "Reporte de métricas de evaluación\n",
      "-------------------------------------------------------\n",
      "              precision    recall  f1-score   support\n",
      "\n",
      "           0       0.88      0.99      0.93       309\n",
      "           1       0.88      0.34      0.49        62\n",
      "\n",
      "    accuracy                           0.88       371\n",
      "   macro avg       0.88      0.66      0.71       371\n",
      "weighted avg       0.88      0.88      0.86       371\n",
      "\n"
     ]
    }
   ],
   "source": [
    "print(f'Reporte de métricas de entrenamiento\\n------------------------------------------------------')\n",
    "print(classification_report(y_train, ypredtrain_bm))\n",
    "print(f'Reporte de métricas de evaluación\\n-------------------------------------------------------')\n",
    "print(classification_report(y_test, ypred_bm))"
   ]
  },
  {
   "cell_type": "markdown",
   "metadata": {
    "id": "wjKWX70uXID_"
   },
   "source": [
    "**Matriz de confusión**"
   ]
  },
  {
   "cell_type": "markdown",
   "metadata": {
    "id": "bBCrli4YTwFm"
   },
   "source": [
    "1) Para la instancia de entrenamiento"
   ]
  },
  {
   "cell_type": "code",
   "execution_count": null,
   "metadata": {
    "colab": {
     "base_uri": "https://localhost:8080/",
     "height": 355
    },
    "id": "Q5Dfv8woSXJu",
    "outputId": "2f3a363e-a59a-42e7-aace-18d9c2d65ed4"
   },
   "outputs": [
    {
     "data": {
      "image/png": "[encoded data removed]",
      "text/plain": [
       "<Figure size 432x360 with 2 Axes>"
      ]
     },
     "metadata": {},
     "output_type": "display_data"
    }
   ],
   "source": [
    "cm_bm = confusion_matrix(y_train, ypredtrain_bm)\n",
    "\n",
    "sns.set(color_codes=True)\n",
    "plt.figure(1, figsize=(6, 5))\n",
    "\n",
    "plt.title(\"Matriz de confusión\" )\n",
    "# define labels\n",
    "labels = [\"0\", \"1\"] \n",
    "sns.set(font_scale=1)\n",
    "ax = sns.heatmap(cm_bm.T, annot=True, fmt='.1f', cmap=\"Blues\", cbar_kws={'label': 'Scale'})\n",
    " \n",
    "ax.set_xticklabels(labels)\n",
    "ax.set_yticklabels(labels)\n",
    " \n",
    "ax.set(ylabel='Verdad', xlabel=\"Predicción del modelo\")\n",
    "\n",
    "plt.show()"
   ]
  },
  {
   "cell_type": "markdown",
   "metadata": {
    "id": "_uOvCU9bTtP1"
   },
   "source": [
    "2) Para la instancia de evaluación"
   ]
  },
  {
   "cell_type": "code",
   "execution_count": null,
   "metadata": {
    "colab": {
     "base_uri": "https://localhost:8080/",
     "height": 355
    },
    "id": "KKcU-S6DSYfs",
    "outputId": "98788d67-8419-49b2-b2e6-ae6b3e98ca3b"
   },
   "outputs": [
    {
     "data": {
      "image/png": "[encoded data removed]",
      "text/plain": [
       "<Figure size 432x360 with 2 Axes>"
      ]
     },
     "metadata": {},
     "output_type": "display_data"
    }
   ],
   "source": [
    "from sklearn.metrics import confusion_matrix\n",
    "cm1_bm = confusion_matrix(y_test, ypred_bm)\n",
    "\n",
    "sns.set(color_codes=True)\n",
    "plt.figure(1, figsize=(6, 5))\n",
    "\n",
    "plt.title(\"Matriz de confusión\" )\n",
    "# define labels\n",
    "labels = [\"0\", \"1\"] \n",
    "sns.set(font_scale=1)\n",
    "ax = sns.heatmap(cm1_bm.T, annot=True, fmt='.1f', cmap=\"Blues\", cbar_kws={'label': 'Scale'})\n",
    " \n",
    "ax.set_xticklabels(labels)\n",
    "ax.set_yticklabels(labels)\n",
    " \n",
    "ax.set(ylabel=\"Verdad\", xlabel=\"Prediccion del modelo\")\n",
    "\n",
    "plt.show()"
   ]
  },
  {
   "cell_type": "markdown",
   "metadata": {
    "id": "q-UiF9ObpcT9"
   },
   "source": [
    "## Ejercicio 3: Árboles de Decisión\n",
    "\n",
    "En este ejercicio se entrenarán árboles de decisión para predecir la variable objetivo.\n",
    "\n",
    "Para ello, deberán utilizar la clase DecisionTreeClassifier de scikit-learn.\n",
    "\n",
    "Documentación:\n",
    "- https://scikit-learn.org/stable/modules/tree.html\n",
    "  - https://scikit-learn.org/stable/modules/tree.html#tips-on-practical-use\n",
    "- https://scikit-learn.org/stable/modules/generated/sklearn.tree.DecisionTreeClassifier.html\n",
    "- https://scikit-learn.org/stable/auto_examples/tree/plot_unveil_tree_structure.html"
   ]
  },
  {
   "cell_type": "markdown",
   "metadata": {
    "id": "yUX8Cw7ipcT-"
   },
   "source": [
    "### Ejercicio 3.1: DecisionTreeClassifier con hiperparámetros por defecto\n",
    "\n",
    "Entrenar y evaluar el clasificador DecisionTreeClassifier usando los valores por omisión de scikit-learn para todos los parámetros. Únicamente **fijar la semilla aleatoria** para hacer repetible el experimento.\n",
    "\n",
    "Evaluar sobre el conjunto de **entrenamiento** y sobre el conjunto de **evaluación**, reportando:\n",
    "- Accuracy\n",
    "- Precision\n",
    "- Recall\n",
    "- F1\n",
    "- matriz de confusión\n"
   ]
  },
  {
   "cell_type": "code",
   "execution_count": null,
   "metadata": {
    "colab": {
     "base_uri": "https://localhost:8080/"
    },
    "id": "og46WBXC15NM",
    "outputId": "dceabbce-3326-46cf-a447-e18f526cfe32"
   },
   "outputs": [
    {
     "data": {
      "text/plain": [
       "DecisionTreeClassifier(random_state=0)"
      ]
     },
     "execution_count": 30,
     "metadata": {},
     "output_type": "execute_result"
    }
   ],
   "source": [
    "tree_model = DecisionTreeClassifier(random_state=0)\n",
    "tree_model.fit(X_train, y_train)"
   ]
  },
  {
   "cell_type": "markdown",
   "metadata": {
    "id": "ul_XxiLma_h3"
   },
   "source": [
    "Predicción de valores de entrenamiento:"
   ]
  },
  {
   "cell_type": "code",
   "execution_count": null,
   "metadata": {
    "id": "Rije3iI51_og"
   },
   "outputs": [],
   "source": [
    "y_train_pred = tree_model.predict(X_train)\n"
   ]
  },
  {
   "cell_type": "markdown",
   "metadata": {
    "id": "k-9B7zR8bBv_"
   },
   "source": [
    "Predicción de valores de evaluación:"
   ]
  },
  {
   "cell_type": "code",
   "execution_count": null,
   "metadata": {
    "id": "XdKwNOsZbER8"
   },
   "outputs": [],
   "source": [
    "y_test_pred = tree_model.predict(X_test)"
   ]
  },
  {
   "cell_type": "markdown",
   "metadata": {
    "id": "1PaMrtMnbh2a"
   },
   "source": [
    "**Reporte de métricas**"
   ]
  },
  {
   "cell_type": "code",
   "execution_count": null,
   "metadata": {
    "colab": {
     "base_uri": "https://localhost:8080/"
    },
    "id": "iJivt-8Bbieo",
    "outputId": "130f788a-2ba3-4cef-cae0-b92ba61b718a"
   },
   "outputs": [
    {
     "name": "stdout",
     "output_type": "stream",
     "text": [
      "Reporte de métricas de entrenamiento\n",
      "------------------------------------------------------\n",
      "              precision    recall  f1-score   support\n",
      "\n",
      "           0       1.00      1.00      1.00      1236\n",
      "           1       1.00      1.00      1.00       247\n",
      "\n",
      "    accuracy                           1.00      1483\n",
      "   macro avg       1.00      1.00      1.00      1483\n",
      "weighted avg       1.00      1.00      1.00      1483\n",
      "\n",
      "Reporte de métricas de evaluación\n",
      "-------------------------------------------------------\n",
      "              precision    recall  f1-score   support\n",
      "\n",
      "           0       0.92      0.94      0.93       309\n",
      "           1       0.65      0.58      0.62        62\n",
      "\n",
      "    accuracy                           0.88       371\n",
      "   macro avg       0.79      0.76      0.77       371\n",
      "weighted avg       0.87      0.88      0.88       371\n",
      "\n"
     ]
    }
   ],
   "source": [
    "print(f'Reporte de métricas de entrenamiento\\n------------------------------------------------------')\n",
    "print(classification_report(y_train, y_train_pred))\n",
    "print(f'Reporte de métricas de evaluación\\n-------------------------------------------------------')\n",
    "print(classification_report(y_test, y_test_pred))"
   ]
  },
  {
   "cell_type": "markdown",
   "metadata": {
    "id": "SyvT7wBSDlqh"
   },
   "source": [
    "**Matriz de confusión**"
   ]
  },
  {
   "cell_type": "markdown",
   "metadata": {
    "id": "pXL7tSVib8Tf"
   },
   "source": [
    "1)  Para el conjunto de entrenamiento"
   ]
  },
  {
   "cell_type": "code",
   "execution_count": null,
   "metadata": {
    "colab": {
     "base_uri": "https://localhost:8080/",
     "height": 355
    },
    "id": "Qf27DqkkDowj",
    "outputId": "84e1d137-03b2-41df-83ae-4965da431a1c"
   },
   "outputs": [
    {
     "data": {
      "image/png": "[encoded data removed]",
      "text/plain": [
       "<Figure size 432x360 with 2 Axes>"
      ]
     },
     "metadata": {},
     "output_type": "display_data"
    }
   ],
   "source": [
    "cm2=confusion_matrix(y_train, y_train_pred)\n",
    "\n",
    "sns.set(color_codes=True)\n",
    "plt.figure(1, figsize=(6, 5))\n",
    "\n",
    "plt.title(\"Matriz de confusión\" )\n",
    "\n",
    "labels = [\"0\", \"1\"] \n",
    "sns.set(font_scale=1)\n",
    "ax = sns.heatmap(cm2.T, annot=True, fmt='.1f', cmap=\"Blues\", cbar_kws={'label': 'Scale'})\n",
    " \n",
    "ax.set_xticklabels(labels)\n",
    "ax.set_yticklabels(labels)\n",
    " \n",
    "ax.set(ylabel=\"Verdad\", xlabel=\"Predicción del modelo\")\n",
    "\n",
    "plt.show()"
   ]
  },
  {
   "cell_type": "markdown",
   "metadata": {
    "id": "zCtvTWVFIACD"
   },
   "source": [
    "2) Para el conjunto de evaluación"
   ]
  },
  {
   "cell_type": "code",
   "execution_count": null,
   "metadata": {
    "colab": {
     "base_uri": "https://localhost:8080/",
     "height": 355
    },
    "id": "SpLlkknBIfTC",
    "outputId": "31260b5f-28f8-4657-c280-f5c1d5aca27e"
   },
   "outputs": [
    {
     "data": {
      "image/png": "[encoded data removed]",
      "text/plain": [
       "<Figure size 432x360 with 2 Axes>"
      ]
     },
     "metadata": {},
     "output_type": "display_data"
    }
   ],
   "source": [
    "cm3=confusion_matrix(y_test, y_test_pred)\n",
    "\n",
    "sns.set(color_codes=True)\n",
    "plt.figure(1, figsize=(6, 5))\n",
    "\n",
    "plt.title(\"Matriz de confusión\" )\n",
    "\n",
    "labels = [\"0\", \"1\"] \n",
    "sns.set(font_scale=1)\n",
    "ax = sns.heatmap(cm3.T, annot=True, fmt='.1f', cmap=\"Blues\", cbar_kws={'label': 'Scale'})\n",
    " \n",
    "ax.set_xticklabels(labels)\n",
    "ax.set_yticklabels(labels)\n",
    " \n",
    "ax.set(ylabel=\"Verdad\", xlabel=\"Predicción del modelo\")\n",
    "\n",
    "plt.show()"
   ]
  },
  {
   "cell_type": "markdown",
   "metadata": {
    "id": "WoyxZhllpcT-"
   },
   "source": [
    "### Ejercicio 3.2: Ajuste de Hiperparámetros"
   ]
  },
  {
   "cell_type": "markdown",
   "metadata": {
    "id": "rcRXMp4Lf4MR"
   },
   "source": [
    "Creamos un diccionario con los distintos hiperpárametros que deseamos optimizar y los valores que queremos combinar en la grilla."
   ]
  },
  {
   "cell_type": "code",
   "execution_count": null,
   "metadata": {
    "id": "scSZrYXsp2-W"
   },
   "outputs": [],
   "source": [
    "parameters = {\n",
    "    'criterion': ['gini', 'entropy', 'log_loss'],\n",
    "    'max_depth': range(1, 15, 1),\n",
    "    'min_samples_split': range(1, 15, 1),\n",
    "    'min_samples_leaf': range(1, 15, 1)\n",
    "    }"
   ]
  },
  {
   "cell_type": "markdown",
   "metadata": {
    "id": "bHF5KuHTQwoW"
   },
   "source": [
    "Utlizamos GridSearchCV para encontrar la mejor combinación de hiperparámetros."
   ]
  },
  {
   "cell_type": "code",
   "execution_count": null,
   "metadata": {
    "colab": {
     "base_uri": "https://localhost:8080/"
    },
    "id": "1JBeLRNnp2-W",
    "outputId": "9743f5a1-7521-4c0f-9d49-27133ba46d6f"
   },
   "outputs": [
    {
     "name": "stderr",
     "output_type": "stream",
     "text": [
      "/usr/local/lib/python3.7/dist-packages/sklearn/model_selection/_validation.py:372: FitFailedWarning: \n",
      "15680 fits failed out of a total of 41160.\n",
      "The score on these train-test partitions for these parameters will be set to nan.\n",
      "If these failures are not expected, you can try to debug them by setting error_score='raise'.\n",
      "\n",
      "Below are more details about the failures:\n",
      "--------------------------------------------------------------------------------\n",
      "2940 fits failed with the following error:\n",
      "Traceback (most recent call last):\n",
      "  File \"/usr/local/lib/python3.7/dist-packages/sklearn/model_selection/_validation.py\", line 680, in _fit_and_score\n",
      "    estimator.fit(X_train, y_train, **fit_params)\n",
      "  File \"/usr/local/lib/python3.7/dist-packages/sklearn/tree/_classes.py\", line 942, in fit\n",
      "    X_idx_sorted=X_idx_sorted,\n",
      "  File \"/usr/local/lib/python3.7/dist-packages/sklearn/tree/_classes.py\", line 254, in fit\n",
      "    % self.min_samples_split\n",
      "ValueError: min_samples_split must be an integer greater than 1 or a float in (0.0, 1.0]; got the integer 1\n",
      "\n",
      "--------------------------------------------------------------------------------\n",
      "12740 fits failed with the following error:\n",
      "Traceback (most recent call last):\n",
      "  File \"/usr/local/lib/python3.7/dist-packages/sklearn/model_selection/_validation.py\", line 680, in _fit_and_score\n",
      "    estimator.fit(X_train, y_train, **fit_params)\n",
      "  File \"/usr/local/lib/python3.7/dist-packages/sklearn/tree/_classes.py\", line 942, in fit\n",
      "    X_idx_sorted=X_idx_sorted,\n",
      "  File \"/usr/local/lib/python3.7/dist-packages/sklearn/tree/_classes.py\", line 352, in fit\n",
      "    criterion = CRITERIA_CLF[self.criterion](\n",
      "KeyError: 'log_loss'\n",
      "\n",
      "  warnings.warn(some_fits_failed_message, FitFailedWarning)\n",
      "/usr/local/lib/python3.7/dist-packages/sklearn/model_selection/_search.py:972: UserWarning: One or more of the test scores are non-finite: [      nan 0.8705501 0.8705501 ...       nan       nan       nan]\n",
      "  category=UserWarning,\n"
     ]
    },
    {
     "data": {
      "text/plain": [
       "GridSearchCV(cv=5, estimator=DecisionTreeClassifier(random_state=0),\n",
       "             param_grid={'criterion': ['gini', 'entropy', 'log_loss'],\n",
       "                         'max_depth': range(1, 15),\n",
       "                         'min_samples_leaf': range(1, 15),\n",
       "                         'min_samples_split': range(1, 15)},\n",
       "             scoring='accuracy')"
      ]
     },
     "execution_count": 43,
     "metadata": {},
     "output_type": "execute_result"
    }
   ],
   "source": [
    "clf_GS = GridSearchCV(tree_model, parameters, scoring=\"accuracy\", cv=5)\n",
    "clf_GS.fit(X_train, y_train)\n"
   ]
  },
  {
   "cell_type": "code",
   "execution_count": null,
   "metadata": {
    "colab": {
     "base_uri": "https://localhost:8080/",
     "height": 363
    },
    "id": "kIEkiN6Np2-Y",
    "outputId": "7e6de06c-b5bf-4706-ae99-8382eb533663"
   },
   "outputs": [
    {
     "data": {
      "text/html": [
       "\n",
       "  <div id=\"df-ba8e8259-f76b-4d5a-85a7-365dda8d82bd\">\n",
       "    <div class=\"colab-df-container\">\n",
       "      <div>\n",
       "<style scoped>\n",
       "    .dataframe tbody tr th:only-of-type {\n",
       "        vertical-align: middle;\n",
       "    }\n",
       "\n",
       "    .dataframe tbody tr th {\n",
       "        vertical-align: top;\n",
       "    }\n",
       "\n",
       "    .dataframe thead th {\n",
       "        text-align: right;\n",
       "    }\n",
       "</style>\n",
       "<table border=\"1\" class=\"dataframe\">\n",
       "  <thead>\n",
       "    <tr style=\"text-align: right;\">\n",
       "      <th></th>\n",
       "      <th>param_criterion</th>\n",
       "      <th>param_max_depth</th>\n",
       "      <th>param_min_samples_split</th>\n",
       "      <th>param_min_samples_leaf</th>\n",
       "      <th>mean_test_score</th>\n",
       "      <th>std_test_score</th>\n",
       "      <th>rank_test_score</th>\n",
       "    </tr>\n",
       "  </thead>\n",
       "  <tbody>\n",
       "    <tr>\n",
       "      <th>4540</th>\n",
       "      <td>entropy</td>\n",
       "      <td>10</td>\n",
       "      <td>5</td>\n",
       "      <td>3</td>\n",
       "      <td>0.886036</td>\n",
       "      <td>0.011228</td>\n",
       "      <td>1</td>\n",
       "    </tr>\n",
       "    <tr>\n",
       "      <th>4539</th>\n",
       "      <td>entropy</td>\n",
       "      <td>10</td>\n",
       "      <td>4</td>\n",
       "      <td>3</td>\n",
       "      <td>0.886036</td>\n",
       "      <td>0.011228</td>\n",
       "      <td>1</td>\n",
       "    </tr>\n",
       "    <tr>\n",
       "      <th>4538</th>\n",
       "      <td>entropy</td>\n",
       "      <td>10</td>\n",
       "      <td>3</td>\n",
       "      <td>3</td>\n",
       "      <td>0.886036</td>\n",
       "      <td>0.011228</td>\n",
       "      <td>1</td>\n",
       "    </tr>\n",
       "    <tr>\n",
       "      <th>4537</th>\n",
       "      <td>entropy</td>\n",
       "      <td>10</td>\n",
       "      <td>2</td>\n",
       "      <td>3</td>\n",
       "      <td>0.886036</td>\n",
       "      <td>0.011228</td>\n",
       "      <td>1</td>\n",
       "    </tr>\n",
       "    <tr>\n",
       "      <th>4541</th>\n",
       "      <td>entropy</td>\n",
       "      <td>10</td>\n",
       "      <td>6</td>\n",
       "      <td>3</td>\n",
       "      <td>0.886036</td>\n",
       "      <td>0.011228</td>\n",
       "      <td>1</td>\n",
       "    </tr>\n",
       "    <tr>\n",
       "      <th>1609</th>\n",
       "      <td>gini</td>\n",
       "      <td>9</td>\n",
       "      <td>14</td>\n",
       "      <td>3</td>\n",
       "      <td>0.886036</td>\n",
       "      <td>0.013924</td>\n",
       "      <td>1</td>\n",
       "    </tr>\n",
       "    <tr>\n",
       "      <th>4330</th>\n",
       "      <td>entropy</td>\n",
       "      <td>9</td>\n",
       "      <td>5</td>\n",
       "      <td>2</td>\n",
       "      <td>0.885365</td>\n",
       "      <td>0.007727</td>\n",
       "      <td>7</td>\n",
       "    </tr>\n",
       "    <tr>\n",
       "      <th>4327</th>\n",
       "      <td>entropy</td>\n",
       "      <td>9</td>\n",
       "      <td>2</td>\n",
       "      <td>2</td>\n",
       "      <td>0.884694</td>\n",
       "      <td>0.006864</td>\n",
       "      <td>8</td>\n",
       "    </tr>\n",
       "    <tr>\n",
       "      <th>4328</th>\n",
       "      <td>entropy</td>\n",
       "      <td>9</td>\n",
       "      <td>3</td>\n",
       "      <td>2</td>\n",
       "      <td>0.884694</td>\n",
       "      <td>0.006864</td>\n",
       "      <td>8</td>\n",
       "    </tr>\n",
       "    <tr>\n",
       "      <th>4329</th>\n",
       "      <td>entropy</td>\n",
       "      <td>9</td>\n",
       "      <td>4</td>\n",
       "      <td>2</td>\n",
       "      <td>0.884694</td>\n",
       "      <td>0.006864</td>\n",
       "      <td>8</td>\n",
       "    </tr>\n",
       "  </tbody>\n",
       "</table>\n",
       "</div>\n",
       "      <button class=\"colab-df-convert\" onclick=\"convertToInteractive('df-ba8e8259-f76b-4d5a-85a7-365dda8d82bd')\"\n",
       "              title=\"Convert this dataframe to an interactive table.\"\n",
       "              style=\"display:none;\">\n",
       "        \n",
       "  <svg xmlns=\"http://www.w3.org/2000/svg\" height=\"24px\"viewBox=\"0 0 24 24\"\n",
       "       width=\"24px\">\n",
       "    <path d=\"M0 0h24v24H0V0z\" fill=\"none\"/>\n",
       "    <path d=\"M18.56 5.44l.94 2.06.94-2.06 2.06-.94-2.06-.94-.94-2.06-.94 2.06-2.06.94zm-11 1L8.5 8.5l.94-2.06 2.06-.94-2.06-.94L8.5 2.5l-.94 2.06-2.06.94zm10 10l.94 2.06.94-2.06 2.06-.94-2.06-.94-.94-2.06-.94 2.06-2.06.94z\"/><path d=\"M17.41 7.96l-1.37-1.37c-.4-.4-.92-.59-1.43-.59-.52 0-1.04.2-1.43.59L10.3 9.45l-7.72 7.72c-.78.78-.78 2.05 0 2.83L4 21.41c.39.39.9.59 1.41.59.51 0 1.02-.2 1.41-.59l7.78-7.78 2.81-2.81c.8-.78.8-2.07 0-2.86zM5.41 20L4 18.59l7.72-7.72 1.47 1.35L5.41 20z\"/>\n",
       "  </svg>\n",
       "      </button>\n",
       "      \n",
       "  <style>\n",
       "    .colab-df-container {\n",
       "      display:flex;\n",
       "      flex-wrap:wrap;\n",
       "      gap: 12px;\n",
       "    }\n",
       "\n",
       "    .colab-df-convert {\n",
       "      background-color: #E8F0FE;\n",
       "      border: none;\n",
       "      border-radius: 50%;\n",
       "      cursor: pointer;\n",
       "      display: none;\n",
       "      fill: #1967D2;\n",
       "      height: 32px;\n",
       "      padding: 0 0 0 0;\n",
       "      width: 32px;\n",
       "    }\n",
       "\n",
       "    .colab-df-convert:hover {\n",
       "      background-color: #E2EBFA;\n",
       "      box-shadow: 0px 1px 2px rgba(60, 64, 67, 0.3), 0px 1px 3px 1px rgba(60, 64, 67, 0.15);\n",
       "      fill: #174EA6;\n",
       "    }\n",
       "\n",
       "    [theme=dark] .colab-df-convert {\n",
       "      background-color: #3B4455;\n",
       "      fill: #D2E3FC;\n",
       "    }\n",
       "\n",
       "    [theme=dark] .colab-df-convert:hover {\n",
       "      background-color: #434B5C;\n",
       "      box-shadow: 0px 1px 3px 1px rgba(0, 0, 0, 0.15);\n",
       "      filter: drop-shadow(0px 1px 2px rgba(0, 0, 0, 0.3));\n",
       "      fill: #FFFFFF;\n",
       "    }\n",
       "  </style>\n",
       "\n",
       "      <script>\n",
       "        const buttonEl =\n",
       "          document.querySelector('#df-ba8e8259-f76b-4d5a-85a7-365dda8d82bd button.colab-df-convert');\n",
       "        buttonEl.style.display =\n",
       "          google.colab.kernel.accessAllowed ? 'block' : 'none';\n",
       "\n",
       "        async function convertToInteractive(key) {\n",
       "          const element = document.querySelector('#df-ba8e8259-f76b-4d5a-85a7-365dda8d82bd');\n",
       "          const dataTable =\n",
       "            await google.colab.kernel.invokeFunction('convertToInteractive',\n",
       "                                                     [key], {});\n",
       "          if (!dataTable) return;\n",
       "\n",
       "          const docLinkHtml = 'Like what you see? Visit the ' +\n",
       "            '<a target=\"_blank\" href=https://colab.research.google.com/notebooks/data_table.ipynb>data table notebook</a>'\n",
       "            + ' to learn more about interactive tables.';\n",
       "          element.innerHTML = '';\n",
       "          dataTable['output_type'] = 'display_data';\n",
       "          await google.colab.output.renderOutput(dataTable, element);\n",
       "          const docLink = document.createElement('div');\n",
       "          docLink.innerHTML = docLinkHtml;\n",
       "          element.appendChild(docLink);\n",
       "        }\n",
       "      </script>\n",
       "    </div>\n",
       "  </div>\n",
       "  "
      ],
      "text/plain": [
       "     param_criterion param_max_depth param_min_samples_split  \\\n",
       "4540         entropy              10                       5   \n",
       "4539         entropy              10                       4   \n",
       "4538         entropy              10                       3   \n",
       "4537         entropy              10                       2   \n",
       "4541         entropy              10                       6   \n",
       "1609            gini               9                      14   \n",
       "4330         entropy               9                       5   \n",
       "4327         entropy               9                       2   \n",
       "4328         entropy               9                       3   \n",
       "4329         entropy               9                       4   \n",
       "\n",
       "     param_min_samples_leaf  mean_test_score  std_test_score  rank_test_score  \n",
       "4540                      3         0.886036        0.011228                1  \n",
       "4539                      3         0.886036        0.011228                1  \n",
       "4538                      3         0.886036        0.011228                1  \n",
       "4537                      3         0.886036        0.011228                1  \n",
       "4541                      3         0.886036        0.011228                1  \n",
       "1609                      3         0.886036        0.013924                1  \n",
       "4330                      2         0.885365        0.007727                7  \n",
       "4327                      2         0.884694        0.006864                8  \n",
       "4328                      2         0.884694        0.006864                8  \n",
       "4329                      2         0.884694        0.006864                8  "
      ]
     },
     "execution_count": 45,
     "metadata": {},
     "output_type": "execute_result"
    }
   ],
   "source": [
    "results = clf_GS.cv_results_\n",
    "df = pd.DataFrame(results)\n",
    "df[[ 'param_criterion','param_max_depth','param_min_samples_split', 'param_min_samples_leaf', 'mean_test_score', \n",
    "    'std_test_score', 'rank_test_score']].sort_values(by='rank_test_score', ascending=True).head(10)"
   ]
  },
  {
   "cell_type": "code",
   "execution_count": null,
   "metadata": {
    "colab": {
     "base_uri": "https://localhost:8080/"
    },
    "id": "kSue6B5ItadZ",
    "outputId": "a28ad372-b1a7-4800-e477-fddc290d9786"
   },
   "outputs": [
    {
     "data": {
      "text/plain": [
       "DecisionTreeClassifier(max_depth=9, min_samples_leaf=3, min_samples_split=14,\n",
       "                       random_state=0)"
      ]
     },
     "execution_count": 46,
     "metadata": {},
     "output_type": "execute_result"
    }
   ],
   "source": [
    "best_model_2 = clf_GS.best_estimator_\n",
    "best_model_2"
   ]
  },
  {
   "cell_type": "markdown",
   "metadata": {
    "id": "SKQDxS7F2nBR"
   },
   "source": [
    "Predicción de valores de entrenamiento para el mejor modelo"
   ]
  },
  {
   "cell_type": "code",
   "execution_count": null,
   "metadata": {
    "id": "kfMNklFZp2-b"
   },
   "outputs": [],
   "source": [
    "ypredtrain_bm_2= best_model_2.predict(X_train)\n"
   ]
  },
  {
   "cell_type": "markdown",
   "metadata": {
    "id": "hqghhodL2toT"
   },
   "source": [
    "Predicción de valores de evaluación para el mejor modelo"
   ]
  },
  {
   "cell_type": "code",
   "execution_count": null,
   "metadata": {
    "id": "7O7Vk5SS20PS"
   },
   "outputs": [],
   "source": [
    "ypred_bm_2 = best_model_2.predict(X_test)"
   ]
  },
  {
   "cell_type": "markdown",
   "metadata": {
    "id": "BiYjzNPi3NSg"
   },
   "source": [
    "**Reporte de métricas**"
   ]
  },
  {
   "cell_type": "code",
   "execution_count": null,
   "metadata": {
    "colab": {
     "base_uri": "https://localhost:8080/"
    },
    "id": "n8XwnilU3QoB",
    "outputId": "d906bcfc-6ac9-46d0-8e08-f4b993aae3c6"
   },
   "outputs": [
    {
     "name": "stdout",
     "output_type": "stream",
     "text": [
      "Reporte de métricas de entrenamiento\n",
      "------------------------------------------------------\n",
      "              precision    recall  f1-score   support\n",
      "\n",
      "           0       0.94      0.99      0.96      1236\n",
      "           1       0.91      0.67      0.77       247\n",
      "\n",
      "    accuracy                           0.93      1483\n",
      "   macro avg       0.92      0.83      0.87      1483\n",
      "weighted avg       0.93      0.93      0.93      1483\n",
      "\n",
      "Reporte de métricas de evaluación\n",
      "-------------------------------------------------------\n",
      "              precision    recall  f1-score   support\n",
      "\n",
      "           0       0.91      0.98      0.94       309\n",
      "           1       0.84      0.52      0.64        62\n",
      "\n",
      "    accuracy                           0.90       371\n",
      "   macro avg       0.88      0.75      0.79       371\n",
      "weighted avg       0.90      0.90      0.89       371\n",
      "\n"
     ]
    }
   ],
   "source": [
    "print(f'Reporte de métricas de entrenamiento\\n------------------------------------------------------')\n",
    "print(classification_report(y_train, ypredtrain_bm_2))\n",
    "print(f'Reporte de métricas de evaluación\\n-------------------------------------------------------')\n",
    "print(classification_report(y_test, ypred_bm_2))"
   ]
  },
  {
   "cell_type": "markdown",
   "metadata": {
    "id": "zrcEo-YnrLcE"
   },
   "source": [
    "**Matriz de confusión**"
   ]
  },
  {
   "cell_type": "markdown",
   "metadata": {
    "id": "fRM-d_LA3ctO"
   },
   "source": [
    "1) Para el conjunto de entrenamiento"
   ]
  },
  {
   "cell_type": "code",
   "execution_count": null,
   "metadata": {
    "colab": {
     "base_uri": "https://localhost:8080/",
     "height": 355
    },
    "id": "lxWAbR4_rLcF",
    "outputId": "252f217b-b426-4e97-ac54-e731921b32ed"
   },
   "outputs": [
    {
     "data": {
      "image/png": "[encoded data removed]",
      "text/plain": [
       "<Figure size 432x360 with 2 Axes>"
      ]
     },
     "metadata": {},
     "output_type": "display_data"
    }
   ],
   "source": [
    "cm4=confusion_matrix(y_train,ypredtrain_bm_2)\n",
    "\n",
    "sns.set(color_codes=True)\n",
    "plt.figure(1, figsize=(6, 5))\n",
    "\n",
    "plt.title(\"Matriz de confusión\" )\n",
    "\n",
    "labels = [\"0\", \"1\"] \n",
    "sns.set(font_scale=1)\n",
    "ax = sns.heatmap(cm4.T, annot=True, fmt='.1f', cmap=\"Blues\", cbar_kws={'label': 'Scale'})\n",
    " \n",
    "ax.set_xticklabels(labels)\n",
    "ax.set_yticklabels(labels)\n",
    " \n",
    "ax.set(ylabel=\"Verdad\", xlabel=\"Predicción del modelo\")\n",
    "\n",
    "plt.show()"
   ]
  },
  {
   "cell_type": "markdown",
   "metadata": {
    "id": "hGgHj9GS3lSj"
   },
   "source": [
    "2) Para el conjunto de evaluación"
   ]
  },
  {
   "cell_type": "code",
   "execution_count": null,
   "metadata": {
    "colab": {
     "base_uri": "https://localhost:8080/",
     "height": 355
    },
    "id": "rJXpBa_urLcN",
    "outputId": "90db698f-daaf-431a-cc43-dfa7e66940d8"
   },
   "outputs": [
    {
     "data": {
      "image/png": "[encoded data removed]",
      "text/plain": [
       "<Figure size 432x360 with 2 Axes>"
      ]
     },
     "metadata": {},
     "output_type": "display_data"
    }
   ],
   "source": [
    "from sklearn.metrics import confusion_matrix\n",
    "cm6=confusion_matrix(y_test, ypred_bm_2)\n",
    "\n",
    "sns.set(color_codes=True)\n",
    "plt.figure(1, figsize=(6, 5))\n",
    "\n",
    "plt.title(\"Matriz de confusión\" )\n",
    "# define labels\n",
    "labels = [\"0\", \"1\"] \n",
    "sns.set(font_scale=1)\n",
    "ax = sns.heatmap(cm6.T, annot=True, fmt='.1f', cmap=\"Blues\", cbar_kws={'label': 'Scale'})\n",
    " \n",
    "ax.set_xticklabels(labels)\n",
    "ax.set_yticklabels(labels)\n",
    " \n",
    "ax.set(ylabel=\"Verdad\", xlabel=\"Predicción del modelo\")\n",
    "\n",
    "plt.show()"
   ]
  }
 ],
 "metadata": {
  "colab": {
   "collapsed_sections": [
    "WoyxZhllpcT-"
   ],
   "name": "Copia de IntroML_Grupo_14_Lab 2.ipynb",
   "provenance": []
  },
  "kernelspec": {
   "display_name": "Python 3 (ipykernel)",
   "language": "python",
   "name": "python3"
  },
  "language_info": {
   "codemirror_mode": {
    "name": "ipython",
    "version": 3
   },
   "file_extension": ".py",
   "mimetype": "text/x-python",
   "name": "python",
   "nbconvert_exporter": "python",
   "pygments_lexer": "ipython3",
   "version": "3.9.7"
  }
 },
 "nbformat": 4,
 "nbformat_minor": 1
}
