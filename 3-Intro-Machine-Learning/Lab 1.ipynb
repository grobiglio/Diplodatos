{
 "cells": [
  {
   "cell_type": "markdown",
   "metadata": {},
   "source": [
    "# Laboratorio 1: Regresión en Boston\n",
    "\n",
    "En este laboratorio deben hacer experimentos de regresión con el conjunto de datos \"Boston house prices dataset\".\n",
    "\n",
    "Estudiarán el dataset, harán visualizaciones y seleccionarán atributos relevantes a mano.\n",
    "\n",
    "Luego, entrenarán y evaluarán diferentes tipos de regresiones, buscando las configuraciones que mejores resultados den."
   ]
  },
  {
   "cell_type": "markdown",
   "metadata": {},
   "source": [
    "## Importaciones"
   ]
  },
  {
   "cell_type": "code",
   "execution_count": null,
   "metadata": {},
   "outputs": [],
   "source": [
    "import numpy as np\n",
    "import pandas as pd\n",
    "import matplotlib.pyplot as plt\n",
    "\n",
    "from sklearn.datasets import load_boston\n",
    "from sklearn.model_selection import train_test_split\n",
    "from sklearn.linear_model import LinearRegression\n",
    "from sklearn.preprocessing import PolynomialFeatures\n",
    "from sklearn.pipeline import make_pipeline\n",
    "from sklearn.metrics import mean_squared_error\n",
    "\n",
    "from rich.console import Console\n",
    "from rich.table import Table\n",
    "\n",
    "%matplotlib inline\n",
    "# %matplotlib notebook"
   ]
  },
  {
   "cell_type": "markdown",
   "metadata": {},
   "source": [
    "## Carga del Conjunto de Datos\n",
    "\n",
    "Cargamos el conjunto de datos y vemos su contenido."
   ]
  },
  {
   "cell_type": "code",
   "execution_count": null,
   "metadata": {},
   "outputs": [],
   "source": [
    "boston = load_boston()\n",
    "print(boston.DESCR)"
   ]
  },
  {
   "cell_type": "markdown",
   "metadata": {},
   "source": [
    "## Ejercicio 1: Descripción de los Datos y la Tarea\n",
    "\n",
    "Responda las siguientes preguntas:\n",
    "\n",
    "1. ¿De qué se trata el conjunto de datos?\n",
    "2. ¿Cuál es la variable objetivo que hay que predecir? ¿Qué significado tiene?\n",
    "3. ¿Qué información (atributos) hay disponibles para hacer la predicción?\n",
    "4. ¿Qué atributos imagina ud. que serán los más determinantes para la predicción?\n",
    "5. ¿Qué problemas observa a priori en el conjunto de datos? ¿Observa posibles sesgos, riesgos, dilemas éticos, etc? Piense que los datos pueden ser utilizados para hacer predicciones futuras.\n",
    "\n",
    "**No hace falta escribir código para responder estas preguntas.**"
   ]
  },
  {
   "cell_type": "markdown",
   "metadata": {},
   "source": [
    "**1.** El conjunto de datos, tal como consta en la [descripción de los mismos](#Carga-del-Conjunto-de-Datos), se trata de valor de propiedades en Boston en base a 13 variables. Estos datos están tomados de un paper de Harrison, D. and Rubinfeld, D.L.: [Hedonic prices and the demand for clean air](https://www.researchgate.net/publication/4974606_Hedonic_housing_prices_and_the_demand_for_clean_air)."
   ]
  },
  {
   "cell_type": "markdown",
   "metadata": {},
   "source": [
    "**2.** La variable objetivo es **MEDV, el valor medio (en miles de dólares) de una propiedad en Boston**. Lo que se debe tener en cuenta es que el dataset es del año 1978, por lo que si no se tienen en cuenta los incrementos por inflación, cualquier algoritmo de regresión que se haga con base en estos datos, la prediciión de valor de las viviendas serán para el año de publicación de paper, valor desactualizado para la presente época."
   ]
  },
  {
   "cell_type": "markdown",
   "metadata": {},
   "source": [
    "**3.** Se dispone de 13 variables según se explica en la [descripción del dataset](#Carga-del-Conjunto-de-Datos).\n",
    "\n",
    "- CRIM: Tasa de criminalidad.\n",
    "- ZN: Proporción de suelo residencial zonificado para lotes de más de 25,000 pies cuadrados.\n",
    "- INDUS: Proporción de acres comerciales no minoristas por ciudad.\n",
    "- CHAS: Variable ficticia de Charles River (= 1 si la casa limita con el ría; 0 en caso contrario).\n",
    "- NOX: Concentración de óxidos nítricos (partes por 10 millones), es un indicio del nivel de contaminación.\n",
    "- RM: Promedio de habitaciones.\n",
    "- AGE: Proporción de unidades ocupadas por sus propietarios construidas antes de 1940.\n",
    "- DIS: Distancias ponderadas a 5 zonas de trabajo en Boston.\n",
    "- RAD: Índice de accesibilidad a autopistas.\n",
    "- TAX: Tasa de impuesto a la propiedad de valor total por 10,000 dólares.\n",
    "- PTRATIO: Realción entre cantidad de alumnos y maestros.\n",
    "- B: Atributo que da un indicio de la población de personas de color (específicamente negros). B = 0 (63% de población negra). B aumenta en la medida en que disminuye la población negra.\n",
    "- LSTAT: Porcentaje de población de bajo estatus"
   ]
  },
  {
   "cell_type": "markdown",
   "metadata": {},
   "source": [
    "**4.** A priori, intuimos que el atributo más determinante para la predicción, es la cantidad de habitaciones (RM) que tiene la propiedad."
   ]
  },
  {
   "cell_type": "markdown",
   "metadata": {},
   "source": [
    "**5.** Este dataset presenta problemas éticos; de hecho, consta en la misma documentación de scikit.learn, a la que se puede acceder haciendo [click aquí](https://scikit-learn.org/stable/modules/generated/sklearn.datasets.load_boston.html#sklearn-datasets-load-boston). El dataset es obsoleto en la versión 1.0 y ya no estará disponible en la versión 1.2.\n",
    "\n",
    "Seguramente la razón de esto son los sesgos raciales implícitos en las variables LSTAT (porcentaje de población de bajo estatus social) y B (que depende de la proporción de gente negra).\n",
    "\n",
    "Estos datos presentan sesgos que ponen en evidencia ciertos paradigmas sociales que, con justa razón, se pueden entender como discriminatorios. Por ende, pretender hacer predicciones con este dataset podría ofender a algunas personas o exponernos a acusaciones por discriminación y racismo."
   ]
  },
  {
   "cell_type": "markdown",
   "metadata": {},
   "source": [
    "## Ejercicio 2: Visualización de los Datos\n",
    "\n",
    "1. Para cada atributo de entrada, haga una gráfica que muestre su relación con la variable objetivo.\n",
    "2. Estudie las gráficas, identificando **a ojo** los atributos que a su criterio sean los más informativos para la predicción.\n",
    "3. Para ud., ¿cuáles son esos atributos? Lístelos en orden de importancia."
   ]
  },
  {
   "cell_type": "markdown",
   "metadata": {},
   "source": [
    "A modo de preparación de los datos, creamos un DataFrame de Pandas con la información del dataset para usarlo en el ejercicio y el resto del Notebook."
   ]
  },
  {
   "cell_type": "code",
   "execution_count": null,
   "metadata": {},
   "outputs": [],
   "source": [
    "data = pd.DataFrame(data=boston.data, columns=boston.feature_names)\n",
    "data['MEDV'] = boston.target\n",
    "data.head()"
   ]
  },
  {
   "cell_type": "markdown",
   "metadata": {},
   "source": [
    "**1.** En la próxima celda se encuentra una gráfica del valor medio de la propiedad en miles de dólares (MEDV) en función de cada uno de los atributos. 13 gráficos en total."
   ]
  },
  {
   "cell_type": "code",
   "execution_count": null,
   "metadata": {},
   "outputs": [],
   "source": [
    "for feature in boston['feature_names']:\n",
    "    plt.figure()\n",
    "    plt.scatter(data[feature], data.MEDV, facecolor=\"dodgerblue\", edgecolor=\"k\", label=\"datos\")\n",
    "    plt.xlabel(feature)\n",
    "    plt.ylabel('MEDV')\n",
    "    plt.show()"
   ]
  },
  {
   "cell_type": "markdown",
   "metadata": {},
   "source": [
    "**2. y 3.** Después de estudiar \"a ojo\" cada una de las gráficas, se puede apreciar que los atributos que más influyen sobre el valor medio de la propiedad, ergo son los más informativos para la predicción, en orden de mayor a menor son:\n",
    "- LSTAT: El valor de las propiedades disminuye notablemente en la medida en que se encuentra en zonas pobladas por personas de bajo estatus social.\n",
    "- RM: El valor de la propiedad aumenta notablemente en función de la cantidad de habitaciones que posee.\n",
    "- DIS: El valor de las propiedades aumenta en la medida en que se alejan de zonas que seguramente son industriales, por ser estas concentradores de empleo. Esta tendencia es coherente con NOX, que permite entender también que el valor de las propiedades disminuyen con el nivel de contaminación, que se encuentra muy relacionado con la industria.\n",
    "- CRIM: Queda claro con este índice que las propiedades tienen poco valor en zonas de alta criminalidad.\n",
    "- B: Este índice pone en evidencia que los valores de las propiedades son bajos en zonas con alta población de personas de color."
   ]
  },
  {
   "cell_type": "markdown",
   "metadata": {},
   "source": [
    "## Ejercicio 3: Regresión Lineal\n",
    "\n",
    "1. Seleccione **un solo atributo** que considere puede ser el más apropiado.\n",
    "2. Instancie una regresión lineal de **scikit-learn**, y entrénela usando sólo el atributo seleccionado.\n",
    "3. Evalúe, calculando error cuadrático medio para los conjuntos de entrenamiento y evaluación.\n",
    "4. Grafique el modelo resultante, junto con los puntos de entrenamiento y evaluación.\n",
    "5. Interprete el resultado, haciendo algún comentario sobre las cualidades del modelo obtenido.\n",
    "\n",
    "**Observación:** Con algunos atributos se puede obtener un error en test menor a 50."
   ]
  },
  {
   "cell_type": "markdown",
   "metadata": {},
   "source": [
    "**1.** Seleccionamos el atributo RM (cantidad de habitaciones), en virtud de que, entendemos, tiene mayor influencia sobre el valor de la propiedad."
   ]
  },
  {
   "cell_type": "code",
   "execution_count": null,
   "metadata": {},
   "outputs": [],
   "source": [
    "feature = 'RM'\n",
    "X = data[[feature]]\n",
    "y = data.MEDV"
   ]
  },
  {
   "cell_type": "markdown",
   "metadata": {},
   "source": [
    "**2.** Instanciación y entrenamiento del atributo seleccionado."
   ]
  },
  {
   "cell_type": "code",
   "execution_count": null,
   "metadata": {},
   "outputs": [],
   "source": [
    "X_train, X_test, y_train, y_test = train_test_split(X, y, train_size=0.8, random_state=0)"
   ]
  },
  {
   "cell_type": "markdown",
   "metadata": {},
   "source": [
    "**3.** Evaluación mediante cálculo del error medio cuatrático."
   ]
  },
  {
   "cell_type": "code",
   "execution_count": null,
   "metadata": {},
   "outputs": [],
   "source": [
    "regr = LinearRegression()\n",
    "regr.fit(X_train, y_train)\n",
    "\n",
    "print(f'El error medio cuadrático para el conjunto de entrenamiento es: {round(regr.score(X_train, y_train), 3)}.')\n",
    "print(f'El error medio cuadrático para el conjunto de evaluación es: {round(regr.score(X_test, y_test), 3)}.')"
   ]
  },
  {
   "cell_type": "markdown",
   "metadata": {},
   "source": [
    "**4.** Gráfica del modelo resultante"
   ]
  },
  {
   "cell_type": "code",
   "execution_count": null,
   "metadata": {},
   "outputs": [],
   "source": [
    "plt.figure()\n",
    "plt.scatter(X_train, y_train, facecolor=\"dodgerblue\", edgecolor=\"k\", label=\"train\")\n",
    "plt.scatter(X_test, y_test, facecolor=\"white\", edgecolor=\"k\", label=\"test\")\n",
    "plt.plot(X, regr.predict(X), color=\"tomato\", label=\"modelo\")\n",
    "plt.xlabel(feature)\n",
    "plt.ylabel('MEDV')\n",
    "plt.legend()\n",
    "plt.show()"
   ]
  },
  {
   "cell_type": "markdown",
   "metadata": {},
   "source": [
    "**5.** El modelo aparenta tener un buen comportamiento. Representa la realidad que expresan los datos, que el valor medio de la propiedad es directamente proporcional a la cantidad de habitaciones.\n",
    "\n",
    "La mayor objeción que se puede hacer del mismo es la predicción de un valor nulo para una propiedad con 4 habitaciones."
   ]
  },
  {
   "cell_type": "markdown",
   "metadata": {},
   "source": [
    "## Ejercicio 4: Regresión Polinomial\n",
    "\n",
    "En este ejercicio deben entrenar regresiones polinomiales de diferente complejidad, siempre usando **scikit-learn**.\n",
    "\n",
    "Deben usar **el mismo atributo** seleccionado para el ejercicio anterior.\n",
    "\n",
    "1. Para varios grados de polinomio, haga lo siguiente:\n",
    "    1. Instancie y entrene una regresión polinomial.\n",
    "    2. Prediga y calcule error en entrenamiento y evaluación. Imprima los valores.\n",
    "    3. Guarde los errores en una lista.\n",
    "2. Grafique las curvas de error en términos del grado del polinomio.\n",
    "3. Interprete la curva, identificando el punto en que comienza a haber sobreajuste, si lo hay.\n",
    "4. Seleccione el modelo que mejor funcione, y grafique el modelo conjuntamente con los puntos.\n",
    "5. Interprete el resultado, haciendo algún comentario sobre las cualidades del modelo obtenido.\n",
    "\n",
    "**Observación:** Con algunos atributos se pueden obtener errores en test menores a 40 e incluso a 35."
   ]
  },
  {
   "cell_type": "code",
   "execution_count": null,
   "metadata": {},
   "outputs": [],
   "source": [
    "# 1.\n",
    "\n",
    "def instantiate_pol_regr (degree, X, y):\n",
    "    '''Instancia y entrena una regresión polinomial de grado deegree.\n",
    "    \n",
    "    Parámetros:\n",
    "    -----------\n",
    "    deegre: Grado del polinomio\n",
    "    X: Conjunto de atributos\n",
    "    y: Conjunto de datos objetivo\n",
    "    \n",
    "    Salida:\n",
    "    -------\n",
    "    model: Objeto con el modelo de la regresión polinimial\n",
    "    '''\n",
    "    pf = PolynomialFeatures(degree)\n",
    "    lr = LinearRegression(fit_intercept=False)  # el bias ya esta como feature\n",
    "    model = make_pipeline(pf, lr)\n",
    "    model.fit(X, y)\n",
    "    return model\n",
    "\n",
    "reg_errores = []\n",
    "max_degree = 35\n",
    "\n",
    "deegrees = range(2, max_degree)\n",
    "\n",
    "titulo = \"Errores del modelo.\"\n",
    "columnas = [\"Grado del polinomio\",\n",
    "            \"Error de entrenamiento\",\n",
    "            \"Error de evaluación\"]\n",
    "\n",
    "table = Table(title=titulo)\n",
    "\n",
    "for columna in columnas:\n",
    "    table.add_column(columna, justify=\"center\", style=\"blue\")\n",
    "            \n",
    "for degree in deegrees:\n",
    "    model = instantiate_pol_regr(degree, X_train, y_train)\n",
    "    y_train_pred = model.predict(X_train)\n",
    "    y_val_pred = model.predict(X_test)\n",
    "    train_error = mean_squared_error(y_train, y_train_pred)\n",
    "    val_error = mean_squared_error(y_test, y_val_pred)\n",
    "    reg_errores.append([degree, round(train_error, 2), round(val_error, 2)])\n",
    "    table.add_row(str(degree),\n",
    "                  str(round(train_error, 2)),\n",
    "                  str(round(val_error, 2)))\n",
    "    \n",
    "console = Console()\n",
    "console.print(table)"
   ]
  },
  {
   "cell_type": "code",
   "execution_count": null,
   "metadata": {},
   "outputs": [],
   "source": [
    "# 2. Graficar curvas de error acá.\n",
    "\n",
    "degree = [x[0] for x in reg_errores]\n",
    "train_error = [x[1] for x in reg_errores]\n",
    "test_error = [x[2] for x in reg_errores]\n",
    "\n",
    "plt.figure()\n",
    "plt.plot(degree, train_error)\n",
    "plt.plot(degree, test_error)\n",
    "plt.show()"
   ]
  },
  {
   "cell_type": "markdown",
   "metadata": {},
   "source": [
    "**3.** El sobreajuste comienza a partir del grado 19. A partir de ese grado aumenta el error de evaluación y entrenamiento."
   ]
  },
  {
   "cell_type": "code",
   "execution_count": null,
   "metadata": {},
   "outputs": [],
   "source": [
    "# 4. Reconstruir mejor modelo acá y graficar.\n",
    "\n",
    "model = instantiate_pol_regr(19, X_train, y_train)\n",
    "\n",
    "X = np.linspace(0, 9, 100)\n",
    "y = model.predict(X.reshape(-1, 1))\n",
    "\n",
    "plt.figure()\n",
    "plt.scatter(data.RM, data.MEDV, facecolor=\"dodgerblue\", edgecolor=\"k\", label=\"data\")\n",
    "plt.plot(X, y, color=\"tomato\", label=\"modelo\")\n",
    "plt.xlim([0, 9])\n",
    "plt.ylim([0, 52])\n",
    "plt.legend()\n",
    "plt.show()"
   ]
  },
  {
   "cell_type": "markdown",
   "metadata": {},
   "source": [
    "**5.** El modelo ajusta con bastante precisión los valores extremos, cantidades máxima y mínimas de habitaciones, pero ello no significa que sea un buen modelo, ya que presenta un comportamientos que no tiene mucho sentido, a saber:\n",
    "- Un máximo local en 3.3 aproximadamente\n",
    "- Caída abrupta del valor de la propiedad para más de 8.8 habitaciones\n",
    "\n",
    "Esto último significa que el modelo no es útil para extrapolar valores de propiedades por sobre 9 habitaciones.\n",
    "\n",
    "Aún así, presenta un comportamiento adecuado entre 4.6 y 8.4."
   ]
  },
  {
   "cell_type": "markdown",
   "metadata": {},
   "source": [
    "## Ejercicio 5: Regresión con más de un Atributo\n",
    "\n",
    "En este ejercicio deben entrenar regresiones que toman más de un atributo de entrada.\n",
    "\n",
    "1. Seleccione **dos o tres atributos** entre los más relevantes encontrados en el ejercicio 2.\n",
    "2. Repita el ejercicio anterior, pero usando los atributos seleccionados. No hace falta graficar el modelo final.\n",
    "3. Interprete el resultado y compare con los ejercicios anteriores. ¿Se obtuvieron mejores modelos? ¿Porqué?"
   ]
  },
  {
   "cell_type": "code",
   "execution_count": null,
   "metadata": {},
   "outputs": [],
   "source": [
    "# 1. Resolver acá. Ayuda (con dos atributos):\n",
    "\n",
    "atributos_relevantes = ['RM', 'LSTAT']\n",
    "x = \n",
    "selector = (boston['feature_names'] == 'CRIM') | (boston['feature_names'] == 'ZN')\n",
    "X_train_fs = X_train[:, selector]\n",
    "X_test_fs = X_test[:, selector]\n",
    "X_train_fs.shape, X_test_fs.shape"
   ]
  },
  {
   "cell_type": "code",
   "execution_count": null,
   "metadata": {},
   "outputs": [],
   "source": [
    "# 2. Resolver acá."
   ]
  },
  {
   "cell_type": "raw",
   "metadata": {},
   "source": [
    "**3. Responder acá.**"
   ]
  },
  {
   "cell_type": "markdown",
   "metadata": {},
   "source": [
    "## Más ejercicios (opcionales)\n",
    "\n",
    "### Ejercicio 6: A Todo Feature\n",
    "\n",
    "Entrene y evalúe regresiones pero utilizando todos los atributos de entrada (va a andar mucho más lento). Estudie los resultados.\n",
    "\n",
    "### Ejercicio 7: Regularización\n",
    "\n",
    "Entrene y evalúe regresiones con regularización \"ridge\". Deberá probar distintos valores de \"alpha\" (fuerza de la regularización). ¿Mejoran los resultados?\n"
   ]
  }
 ],
 "metadata": {
  "kernelspec": {
   "display_name": "Python 3 (ipykernel)",
   "language": "python",
   "name": "python3"
  },
  "language_info": {
   "codemirror_mode": {
    "name": "ipython",
    "version": 3
   },
   "file_extension": ".py",
   "mimetype": "text/x-python",
   "name": "python",
   "nbconvert_exporter": "python",
   "pygments_lexer": "ipython3",
   "version": "3.9.7"
  }
 },
 "nbformat": 4,
 "nbformat_minor": 4
}
