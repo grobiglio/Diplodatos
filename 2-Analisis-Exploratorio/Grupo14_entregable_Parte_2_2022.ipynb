{
  "nbformat": 4,
  "nbformat_minor": 0,
  "metadata": {
    "colab": {
      "name": "Grupo14_entregable_Parte_2_2022.ipynb",
      "provenance": [],
      "collapsed_sections": []
    },
    "kernelspec": {
      "name": "python3",
      "display_name": "Python 3"
    },
    "language_info": {
      "name": "python"
    }
  },
  "cells": [
    {
      "cell_type": "markdown",
      "metadata": {
        "id": "view-in-github"
      },
      "source": [
        "<a href=\"https://colab.research.google.com/github/DiploDatos/AnalisisYCuracion/blob/master/Entregable_Parte_2.ipynb\" target=\"_parent\"><img src=\"https://colab.research.google.com/assets/colab-badge.svg\" alt=\"Open In Colab\"/></a>"
      ]
    },
    {
      "cell_type": "markdown",
      "metadata": {
        "id": "zO4bRoxr2Apy"
      },
      "source": [
        "**Diplomatura en Ciencia de Datos, Aprendizaje Automático y sus Aplicaciones**\n",
        "\n",
        "**Exploración y Curación de Datos**\n",
        "\n",
        "*Edición 2021*\n",
        "\n",
        "----\n",
        "\n",
        "# Trabajo práctico entregable - parte 2\n",
        "\n",
        "\n",
        "En el ejercicio 1 de la parte 1 del entregable seleccionaron las filas y columnas relevantes al problema de predicción de precios de una propiedad. Además de ello, tuvieron que reducir el número de valores posibles para las variables categóricas utilizando información de dominio.\n",
        "\n",
        "En el ejercicio 2 de la parte 1 del entregable imputaron los valores faltantes de las columnas `Suburb` y las columnas obtenidas a partir del conjunto de datos `airbnb`.\n",
        "\n",
        "En esta notebook, **se utilizará resultado de dichas operaciones.**\n"
      ]
    },
    {
      "cell_type": "code",
      "metadata": {
        "id": "4udjxjk1EtVU"
      },
      "source": [
        "import matplotlib.pyplot as plt\n",
        "import numpy\n",
        "import pandas \n",
        "\n",
        "import seaborn\n",
        "seaborn.set_context('talk')"
      ],
      "execution_count": null,
      "outputs": []
    },
    {
      "cell_type": "code",
      "metadata": {
        "colab": {
          "base_uri": "https://localhost:8080/",
          "height": 207
        },
        "id": "_qeFN3GnEvMk",
        "outputId": "ae395303-de80-4d85-e11b-22a49814c873"
      },
      "source": [
        "# Acá deberían leer el conjunto de datos que ya tienen.\n",
        "melb_df = pandas.read_csv('/content/melb_data_complet.csv')\n",
        "melb_df[:3]"
      ],
      "execution_count": null,
      "outputs": [
        {
          "output_type": "execute_result",
          "data": {
            "text/plain": [
              "       Suburb SellerG CouncilArea Type  BuildingArea  Rooms  Propertycount  \\\n",
              "0  Abbotsford  Biggin       Yarra    h           NaN      2         4019.0   \n",
              "1  Abbotsford  Biggin       Yarra    h          79.0      2         4019.0   \n",
              "2  Abbotsford  Biggin       Yarra    h         150.0      3         4019.0   \n",
              "\n",
              "   Lattitude  Longtitude  Distance  YearBuilt  Postcode  airbnb_price_median  \\\n",
              "0   -37.7996    144.9984       2.5        NaN    3067.0                100.0   \n",
              "1   -37.8079    144.9934       2.5     1900.0    3067.0                100.0   \n",
              "2   -37.8093    144.9944       2.5     1900.0    3067.0                100.0   \n",
              "\n",
              "   airbnb_weekly_price_median  airbnb_monthly_price_median  \n",
              "0                       380.0                       1440.0  \n",
              "1                       380.0                       1440.0  \n",
              "2                       380.0                       1440.0  "
            ],
            "text/html": [
              "\n",
              "  <div id=\"df-a59fa1f7-7f0b-413d-881d-174127a10987\">\n",
              "    <div class=\"colab-df-container\">\n",
              "      <div>\n",
              "<style scoped>\n",
              "    .dataframe tbody tr th:only-of-type {\n",
              "        vertical-align: middle;\n",
              "    }\n",
              "\n",
              "    .dataframe tbody tr th {\n",
              "        vertical-align: top;\n",
              "    }\n",
              "\n",
              "    .dataframe thead th {\n",
              "        text-align: right;\n",
              "    }\n",
              "</style>\n",
              "<table border=\"1\" class=\"dataframe\">\n",
              "  <thead>\n",
              "    <tr style=\"text-align: right;\">\n",
              "      <th></th>\n",
              "      <th>Suburb</th>\n",
              "      <th>SellerG</th>\n",
              "      <th>CouncilArea</th>\n",
              "      <th>Type</th>\n",
              "      <th>BuildingArea</th>\n",
              "      <th>Rooms</th>\n",
              "      <th>Propertycount</th>\n",
              "      <th>Lattitude</th>\n",
              "      <th>Longtitude</th>\n",
              "      <th>Distance</th>\n",
              "      <th>YearBuilt</th>\n",
              "      <th>Postcode</th>\n",
              "      <th>airbnb_price_median</th>\n",
              "      <th>airbnb_weekly_price_median</th>\n",
              "      <th>airbnb_monthly_price_median</th>\n",
              "    </tr>\n",
              "  </thead>\n",
              "  <tbody>\n",
              "    <tr>\n",
              "      <th>0</th>\n",
              "      <td>Abbotsford</td>\n",
              "      <td>Biggin</td>\n",
              "      <td>Yarra</td>\n",
              "      <td>h</td>\n",
              "      <td>NaN</td>\n",
              "      <td>2</td>\n",
              "      <td>4019.0</td>\n",
              "      <td>-37.7996</td>\n",
              "      <td>144.9984</td>\n",
              "      <td>2.5</td>\n",
              "      <td>NaN</td>\n",
              "      <td>3067.0</td>\n",
              "      <td>100.0</td>\n",
              "      <td>380.0</td>\n",
              "      <td>1440.0</td>\n",
              "    </tr>\n",
              "    <tr>\n",
              "      <th>1</th>\n",
              "      <td>Abbotsford</td>\n",
              "      <td>Biggin</td>\n",
              "      <td>Yarra</td>\n",
              "      <td>h</td>\n",
              "      <td>79.0</td>\n",
              "      <td>2</td>\n",
              "      <td>4019.0</td>\n",
              "      <td>-37.8079</td>\n",
              "      <td>144.9934</td>\n",
              "      <td>2.5</td>\n",
              "      <td>1900.0</td>\n",
              "      <td>3067.0</td>\n",
              "      <td>100.0</td>\n",
              "      <td>380.0</td>\n",
              "      <td>1440.0</td>\n",
              "    </tr>\n",
              "    <tr>\n",
              "      <th>2</th>\n",
              "      <td>Abbotsford</td>\n",
              "      <td>Biggin</td>\n",
              "      <td>Yarra</td>\n",
              "      <td>h</td>\n",
              "      <td>150.0</td>\n",
              "      <td>3</td>\n",
              "      <td>4019.0</td>\n",
              "      <td>-37.8093</td>\n",
              "      <td>144.9944</td>\n",
              "      <td>2.5</td>\n",
              "      <td>1900.0</td>\n",
              "      <td>3067.0</td>\n",
              "      <td>100.0</td>\n",
              "      <td>380.0</td>\n",
              "      <td>1440.0</td>\n",
              "    </tr>\n",
              "  </tbody>\n",
              "</table>\n",
              "</div>\n",
              "      <button class=\"colab-df-convert\" onclick=\"convertToInteractive('df-a59fa1f7-7f0b-413d-881d-174127a10987')\"\n",
              "              title=\"Convert this dataframe to an interactive table.\"\n",
              "              style=\"display:none;\">\n",
              "        \n",
              "  <svg xmlns=\"http://www.w3.org/2000/svg\" height=\"24px\"viewBox=\"0 0 24 24\"\n",
              "       width=\"24px\">\n",
              "    <path d=\"M0 0h24v24H0V0z\" fill=\"none\"/>\n",
              "    <path d=\"M18.56 5.44l.94 2.06.94-2.06 2.06-.94-2.06-.94-.94-2.06-.94 2.06-2.06.94zm-11 1L8.5 8.5l.94-2.06 2.06-.94-2.06-.94L8.5 2.5l-.94 2.06-2.06.94zm10 10l.94 2.06.94-2.06 2.06-.94-2.06-.94-.94-2.06-.94 2.06-2.06.94z\"/><path d=\"M17.41 7.96l-1.37-1.37c-.4-.4-.92-.59-1.43-.59-.52 0-1.04.2-1.43.59L10.3 9.45l-7.72 7.72c-.78.78-.78 2.05 0 2.83L4 21.41c.39.39.9.59 1.41.59.51 0 1.02-.2 1.41-.59l7.78-7.78 2.81-2.81c.8-.78.8-2.07 0-2.86zM5.41 20L4 18.59l7.72-7.72 1.47 1.35L5.41 20z\"/>\n",
              "  </svg>\n",
              "      </button>\n",
              "      \n",
              "  <style>\n",
              "    .colab-df-container {\n",
              "      display:flex;\n",
              "      flex-wrap:wrap;\n",
              "      gap: 12px;\n",
              "    }\n",
              "\n",
              "    .colab-df-convert {\n",
              "      background-color: #E8F0FE;\n",
              "      border: none;\n",
              "      border-radius: 50%;\n",
              "      cursor: pointer;\n",
              "      display: none;\n",
              "      fill: #1967D2;\n",
              "      height: 32px;\n",
              "      padding: 0 0 0 0;\n",
              "      width: 32px;\n",
              "    }\n",
              "\n",
              "    .colab-df-convert:hover {\n",
              "      background-color: #E2EBFA;\n",
              "      box-shadow: 0px 1px 2px rgba(60, 64, 67, 0.3), 0px 1px 3px 1px rgba(60, 64, 67, 0.15);\n",
              "      fill: #174EA6;\n",
              "    }\n",
              "\n",
              "    [theme=dark] .colab-df-convert {\n",
              "      background-color: #3B4455;\n",
              "      fill: #D2E3FC;\n",
              "    }\n",
              "\n",
              "    [theme=dark] .colab-df-convert:hover {\n",
              "      background-color: #434B5C;\n",
              "      box-shadow: 0px 1px 3px 1px rgba(0, 0, 0, 0.15);\n",
              "      filter: drop-shadow(0px 1px 2px rgba(0, 0, 0, 0.3));\n",
              "      fill: #FFFFFF;\n",
              "    }\n",
              "  </style>\n",
              "\n",
              "      <script>\n",
              "        const buttonEl =\n",
              "          document.querySelector('#df-a59fa1f7-7f0b-413d-881d-174127a10987 button.colab-df-convert');\n",
              "        buttonEl.style.display =\n",
              "          google.colab.kernel.accessAllowed ? 'block' : 'none';\n",
              "\n",
              "        async function convertToInteractive(key) {\n",
              "          const element = document.querySelector('#df-a59fa1f7-7f0b-413d-881d-174127a10987');\n",
              "          const dataTable =\n",
              "            await google.colab.kernel.invokeFunction('convertToInteractive',\n",
              "                                                     [key], {});\n",
              "          if (!dataTable) return;\n",
              "\n",
              "          const docLinkHtml = 'Like what you see? Visit the ' +\n",
              "            '<a target=\"_blank\" href=https://colab.research.google.com/notebooks/data_table.ipynb>data table notebook</a>'\n",
              "            + ' to learn more about interactive tables.';\n",
              "          element.innerHTML = '';\n",
              "          dataTable['output_type'] = 'display_data';\n",
              "          await google.colab.output.renderOutput(dataTable, element);\n",
              "          const docLink = document.createElement('div');\n",
              "          docLink.innerHTML = docLinkHtml;\n",
              "          element.appendChild(docLink);\n",
              "        }\n",
              "      </script>\n",
              "    </div>\n",
              "  </div>\n",
              "  "
            ]
          },
          "metadata": {},
          "execution_count": 2
        }
      ]
    },
    {
      "cell_type": "code",
      "source": [
        "melb_df.info()"
      ],
      "metadata": {
        "colab": {
          "base_uri": "https://localhost:8080/"
        },
        "id": "QyCrO-thZN0D",
        "outputId": "8e1245dd-f9db-4959-cf47-2ad9a043e3e7"
      },
      "execution_count": null,
      "outputs": [
        {
          "output_type": "stream",
          "name": "stdout",
          "text": [
            "<class 'pandas.core.frame.DataFrame'>\n",
            "RangeIndex: 12317 entries, 0 to 12316\n",
            "Data columns (total 15 columns):\n",
            " #   Column                       Non-Null Count  Dtype  \n",
            "---  ------                       --------------  -----  \n",
            " 0   Suburb                       12317 non-null  object \n",
            " 1   SellerG                      12317 non-null  object \n",
            " 2   CouncilArea                  11039 non-null  object \n",
            " 3   Type                         12317 non-null  object \n",
            " 4   BuildingArea                 5907 non-null   float64\n",
            " 5   Rooms                        12317 non-null  int64  \n",
            " 6   Propertycount                12317 non-null  float64\n",
            " 7   Lattitude                    12317 non-null  float64\n",
            " 8   Longtitude                   12317 non-null  float64\n",
            " 9   Distance                     12317 non-null  float64\n",
            " 10  YearBuilt                    7080 non-null   float64\n",
            " 11  Postcode                     12317 non-null  float64\n",
            " 12  airbnb_price_median          12296 non-null  float64\n",
            " 13  airbnb_weekly_price_median   11490 non-null  float64\n",
            " 14  airbnb_monthly_price_median  11121 non-null  float64\n",
            "dtypes: float64(10), int64(1), object(4)\n",
            "memory usage: 1.4+ MB\n"
          ]
        }
      ]
    },
    {
      "cell_type": "code",
      "source": [
        "melb_df.shape"
      ],
      "metadata": {
        "colab": {
          "base_uri": "https://localhost:8080/"
        },
        "id": "hXXPSwiSJghj",
        "outputId": "d3f3bac0-d4a2-4717-e593-bdb5623b3804"
      },
      "execution_count": null,
      "outputs": [
        {
          "output_type": "execute_result",
          "data": {
            "text/plain": [
              "(12448, 15)"
            ]
          },
          "metadata": {},
          "execution_count": 140
        }
      ]
    },
    {
      "cell_type": "markdown",
      "metadata": {
        "id": "s-mixICN22kA"
      },
      "source": [
        "## Ejercicio 1: Encoding\n",
        "\n",
        "1. Seleccionar todas las filas y columnas del conjunto de datos obtenido en la parte 1 del entregable, **excepto** `BuildingArea` y `YearBuilt`, que volveremos a imputar más adelante.\n",
        "\n",
        "2. Aplicar una codificación One-hot encoding a cada fila, tanto para variables numéricas como categóricas. Si lo consideran necesario, pueden volver a reducir el número de categorías únicas.\n",
        "\n",
        "Algunas opciones:\n",
        "  1. Utilizar `OneHotEncoder` junto con el parámetro `categories` para las variables categóricas y luego usar `numpy.hstack` para concatenar el resultado con las variables numéricas. \n",
        "  2. `DictVectorizer` con algunos pasos de pre-proceso previo.\n",
        "\n",
        "Recordar también que el atributo `pandas.DataFrame.values` permite acceder a la matriz de numpy subyacente a un DataFrame.\n"
      ]
    },
    {
      "cell_type": "code",
      "source": [
        "melb_df.columns"
      ],
      "metadata": {
        "colab": {
          "base_uri": "https://localhost:8080/"
        },
        "id": "jm5OM-z87OQg",
        "outputId": "04d71f47-9e28-471f-d44a-c66ab11f9a37"
      },
      "execution_count": null,
      "outputs": [
        {
          "output_type": "execute_result",
          "data": {
            "text/plain": [
              "Index(['Suburb', 'SellerG', 'CouncilArea', 'Type', 'BuildingArea', 'Rooms',\n",
              "       'Propertycount', 'Lattitude', 'Longtitude', 'Distance', 'YearBuilt',\n",
              "       'Postcode', 'airbnb_price_median', 'airbnb_weekly_price_median',\n",
              "       'airbnb_monthly_price_median'],\n",
              "      dtype='object')"
            ]
          },
          "metadata": {},
          "execution_count": 174
        }
      ]
    },
    {
      "cell_type": "code",
      "source": [
        "melb_df2 = melb_df.drop(columns=['YearBuilt', 'BuildingArea'])\n",
        "melb_df2.columns"
      ],
      "metadata": {
        "colab": {
          "base_uri": "https://localhost:8080/"
        },
        "id": "AGPF088zpSSj",
        "outputId": "5b175d03-45b9-41d1-97cf-a878dbfcda89"
      },
      "execution_count": null,
      "outputs": [
        {
          "output_type": "execute_result",
          "data": {
            "text/plain": [
              "Index(['Suburb', 'SellerG', 'CouncilArea', 'Type', 'Rooms', 'Propertycount',\n",
              "       'Lattitude', 'Longtitude', 'Distance', 'Postcode',\n",
              "       'airbnb_price_median', 'airbnb_weekly_price_median',\n",
              "       'airbnb_monthly_price_median'],\n",
              "      dtype='object')"
            ]
          },
          "metadata": {},
          "execution_count": 3
        }
      ]
    },
    {
      "cell_type": "markdown",
      "source": [
        "Definimos una lista de las columnas que se corresponden a variables categoricas"
      ],
      "metadata": {
        "id": "XdihJt6SmfFL"
      }
    },
    {
      "cell_type": "code",
      "source": [
        "columns_to_encode = ['Type', 'SellerG', 'Suburb', 'CouncilArea']"
      ],
      "metadata": {
        "id": "I1zcZcHtmfjF"
      },
      "execution_count": null,
      "outputs": []
    },
    {
      "cell_type": "markdown",
      "source": [
        "Hacemos OneHot Encoding en las columnas identificadas"
      ],
      "metadata": {
        "id": "tsShL0EimTNz"
      }
    },
    {
      "cell_type": "code",
      "source": [
        "from sklearn.preprocessing import OneHotEncoder\n",
        "\n",
        "encoded_melb_df = pandas.get_dummies(melb_df2, columns=columns_to_encode)"
      ],
      "metadata": {
        "id": "zd7a27SI7fqX"
      },
      "execution_count": null,
      "outputs": []
    },
    {
      "cell_type": "code",
      "source": [
        "encoded_melb_df[:5]"
      ],
      "metadata": {
        "colab": {
          "base_uri": "https://localhost:8080/",
          "height": 317
        },
        "id": "aKFck4h0nbb5",
        "outputId": "7e9e15d2-b5b4-40dc-e1ae-53a9d06ca16a"
      },
      "execution_count": null,
      "outputs": [
        {
          "output_type": "execute_result",
          "data": {
            "text/plain": [
              "   Rooms  Propertycount  Lattitude  Longtitude  Distance  Postcode  \\\n",
              "0      2         4019.0   -37.7996    144.9984       2.5    3067.0   \n",
              "1      2         4019.0   -37.8079    144.9934       2.5    3067.0   \n",
              "2      3         4019.0   -37.8093    144.9944       2.5    3067.0   \n",
              "3      3         4019.0   -37.7969    144.9969       2.5    3067.0   \n",
              "4      4         4019.0   -37.8072    144.9941       2.5    3067.0   \n",
              "\n",
              "   airbnb_price_median  airbnb_weekly_price_median  \\\n",
              "0                100.0                       380.0   \n",
              "1                100.0                       380.0   \n",
              "2                100.0                       380.0   \n",
              "3                100.0                       380.0   \n",
              "4                100.0                       380.0   \n",
              "\n",
              "   airbnb_monthly_price_median  Type_h  ...  CouncilArea_Moreland  \\\n",
              "0                       1440.0       1  ...                     0   \n",
              "1                       1440.0       1  ...                     0   \n",
              "2                       1440.0       1  ...                     0   \n",
              "3                       1440.0       1  ...                     0   \n",
              "4                       1440.0       1  ...                     0   \n",
              "\n",
              "   CouncilArea_Nillumbik  CouncilArea_Port Phillip  CouncilArea_Stonnington  \\\n",
              "0                      0                         0                        0   \n",
              "1                      0                         0                        0   \n",
              "2                      0                         0                        0   \n",
              "3                      0                         0                        0   \n",
              "4                      0                         0                        0   \n",
              "\n",
              "   CouncilArea_Unavailable  CouncilArea_Whitehorse  CouncilArea_Whittlesea  \\\n",
              "0                        0                       0                       0   \n",
              "1                        0                       0                       0   \n",
              "2                        0                       0                       0   \n",
              "3                        0                       0                       0   \n",
              "4                        0                       0                       0   \n",
              "\n",
              "   CouncilArea_Wyndham  CouncilArea_Yarra  CouncilArea_Yarra Ranges  \n",
              "0                    0                  1                         0  \n",
              "1                    0                  1                         0  \n",
              "2                    0                  1                         0  \n",
              "3                    0                  1                         0  \n",
              "4                    0                  1                         0  \n",
              "\n",
              "[5 rows x 616 columns]"
            ],
            "text/html": [
              "\n",
              "  <div id=\"df-6cd356b7-06bc-461e-9aab-dbab52a11b2e\">\n",
              "    <div class=\"colab-df-container\">\n",
              "      <div>\n",
              "<style scoped>\n",
              "    .dataframe tbody tr th:only-of-type {\n",
              "        vertical-align: middle;\n",
              "    }\n",
              "\n",
              "    .dataframe tbody tr th {\n",
              "        vertical-align: top;\n",
              "    }\n",
              "\n",
              "    .dataframe thead th {\n",
              "        text-align: right;\n",
              "    }\n",
              "</style>\n",
              "<table border=\"1\" class=\"dataframe\">\n",
              "  <thead>\n",
              "    <tr style=\"text-align: right;\">\n",
              "      <th></th>\n",
              "      <th>Rooms</th>\n",
              "      <th>Propertycount</th>\n",
              "      <th>Lattitude</th>\n",
              "      <th>Longtitude</th>\n",
              "      <th>Distance</th>\n",
              "      <th>Postcode</th>\n",
              "      <th>airbnb_price_median</th>\n",
              "      <th>airbnb_weekly_price_median</th>\n",
              "      <th>airbnb_monthly_price_median</th>\n",
              "      <th>Type_h</th>\n",
              "      <th>...</th>\n",
              "      <th>CouncilArea_Moreland</th>\n",
              "      <th>CouncilArea_Nillumbik</th>\n",
              "      <th>CouncilArea_Port Phillip</th>\n",
              "      <th>CouncilArea_Stonnington</th>\n",
              "      <th>CouncilArea_Unavailable</th>\n",
              "      <th>CouncilArea_Whitehorse</th>\n",
              "      <th>CouncilArea_Whittlesea</th>\n",
              "      <th>CouncilArea_Wyndham</th>\n",
              "      <th>CouncilArea_Yarra</th>\n",
              "      <th>CouncilArea_Yarra Ranges</th>\n",
              "    </tr>\n",
              "  </thead>\n",
              "  <tbody>\n",
              "    <tr>\n",
              "      <th>0</th>\n",
              "      <td>2</td>\n",
              "      <td>4019.0</td>\n",
              "      <td>-37.7996</td>\n",
              "      <td>144.9984</td>\n",
              "      <td>2.5</td>\n",
              "      <td>3067.0</td>\n",
              "      <td>100.0</td>\n",
              "      <td>380.0</td>\n",
              "      <td>1440.0</td>\n",
              "      <td>1</td>\n",
              "      <td>...</td>\n",
              "      <td>0</td>\n",
              "      <td>0</td>\n",
              "      <td>0</td>\n",
              "      <td>0</td>\n",
              "      <td>0</td>\n",
              "      <td>0</td>\n",
              "      <td>0</td>\n",
              "      <td>0</td>\n",
              "      <td>1</td>\n",
              "      <td>0</td>\n",
              "    </tr>\n",
              "    <tr>\n",
              "      <th>1</th>\n",
              "      <td>2</td>\n",
              "      <td>4019.0</td>\n",
              "      <td>-37.8079</td>\n",
              "      <td>144.9934</td>\n",
              "      <td>2.5</td>\n",
              "      <td>3067.0</td>\n",
              "      <td>100.0</td>\n",
              "      <td>380.0</td>\n",
              "      <td>1440.0</td>\n",
              "      <td>1</td>\n",
              "      <td>...</td>\n",
              "      <td>0</td>\n",
              "      <td>0</td>\n",
              "      <td>0</td>\n",
              "      <td>0</td>\n",
              "      <td>0</td>\n",
              "      <td>0</td>\n",
              "      <td>0</td>\n",
              "      <td>0</td>\n",
              "      <td>1</td>\n",
              "      <td>0</td>\n",
              "    </tr>\n",
              "    <tr>\n",
              "      <th>2</th>\n",
              "      <td>3</td>\n",
              "      <td>4019.0</td>\n",
              "      <td>-37.8093</td>\n",
              "      <td>144.9944</td>\n",
              "      <td>2.5</td>\n",
              "      <td>3067.0</td>\n",
              "      <td>100.0</td>\n",
              "      <td>380.0</td>\n",
              "      <td>1440.0</td>\n",
              "      <td>1</td>\n",
              "      <td>...</td>\n",
              "      <td>0</td>\n",
              "      <td>0</td>\n",
              "      <td>0</td>\n",
              "      <td>0</td>\n",
              "      <td>0</td>\n",
              "      <td>0</td>\n",
              "      <td>0</td>\n",
              "      <td>0</td>\n",
              "      <td>1</td>\n",
              "      <td>0</td>\n",
              "    </tr>\n",
              "    <tr>\n",
              "      <th>3</th>\n",
              "      <td>3</td>\n",
              "      <td>4019.0</td>\n",
              "      <td>-37.7969</td>\n",
              "      <td>144.9969</td>\n",
              "      <td>2.5</td>\n",
              "      <td>3067.0</td>\n",
              "      <td>100.0</td>\n",
              "      <td>380.0</td>\n",
              "      <td>1440.0</td>\n",
              "      <td>1</td>\n",
              "      <td>...</td>\n",
              "      <td>0</td>\n",
              "      <td>0</td>\n",
              "      <td>0</td>\n",
              "      <td>0</td>\n",
              "      <td>0</td>\n",
              "      <td>0</td>\n",
              "      <td>0</td>\n",
              "      <td>0</td>\n",
              "      <td>1</td>\n",
              "      <td>0</td>\n",
              "    </tr>\n",
              "    <tr>\n",
              "      <th>4</th>\n",
              "      <td>4</td>\n",
              "      <td>4019.0</td>\n",
              "      <td>-37.8072</td>\n",
              "      <td>144.9941</td>\n",
              "      <td>2.5</td>\n",
              "      <td>3067.0</td>\n",
              "      <td>100.0</td>\n",
              "      <td>380.0</td>\n",
              "      <td>1440.0</td>\n",
              "      <td>1</td>\n",
              "      <td>...</td>\n",
              "      <td>0</td>\n",
              "      <td>0</td>\n",
              "      <td>0</td>\n",
              "      <td>0</td>\n",
              "      <td>0</td>\n",
              "      <td>0</td>\n",
              "      <td>0</td>\n",
              "      <td>0</td>\n",
              "      <td>1</td>\n",
              "      <td>0</td>\n",
              "    </tr>\n",
              "  </tbody>\n",
              "</table>\n",
              "<p>5 rows × 616 columns</p>\n",
              "</div>\n",
              "      <button class=\"colab-df-convert\" onclick=\"convertToInteractive('df-6cd356b7-06bc-461e-9aab-dbab52a11b2e')\"\n",
              "              title=\"Convert this dataframe to an interactive table.\"\n",
              "              style=\"display:none;\">\n",
              "        \n",
              "  <svg xmlns=\"http://www.w3.org/2000/svg\" height=\"24px\"viewBox=\"0 0 24 24\"\n",
              "       width=\"24px\">\n",
              "    <path d=\"M0 0h24v24H0V0z\" fill=\"none\"/>\n",
              "    <path d=\"M18.56 5.44l.94 2.06.94-2.06 2.06-.94-2.06-.94-.94-2.06-.94 2.06-2.06.94zm-11 1L8.5 8.5l.94-2.06 2.06-.94-2.06-.94L8.5 2.5l-.94 2.06-2.06.94zm10 10l.94 2.06.94-2.06 2.06-.94-2.06-.94-.94-2.06-.94 2.06-2.06.94z\"/><path d=\"M17.41 7.96l-1.37-1.37c-.4-.4-.92-.59-1.43-.59-.52 0-1.04.2-1.43.59L10.3 9.45l-7.72 7.72c-.78.78-.78 2.05 0 2.83L4 21.41c.39.39.9.59 1.41.59.51 0 1.02-.2 1.41-.59l7.78-7.78 2.81-2.81c.8-.78.8-2.07 0-2.86zM5.41 20L4 18.59l7.72-7.72 1.47 1.35L5.41 20z\"/>\n",
              "  </svg>\n",
              "      </button>\n",
              "      \n",
              "  <style>\n",
              "    .colab-df-container {\n",
              "      display:flex;\n",
              "      flex-wrap:wrap;\n",
              "      gap: 12px;\n",
              "    }\n",
              "\n",
              "    .colab-df-convert {\n",
              "      background-color: #E8F0FE;\n",
              "      border: none;\n",
              "      border-radius: 50%;\n",
              "      cursor: pointer;\n",
              "      display: none;\n",
              "      fill: #1967D2;\n",
              "      height: 32px;\n",
              "      padding: 0 0 0 0;\n",
              "      width: 32px;\n",
              "    }\n",
              "\n",
              "    .colab-df-convert:hover {\n",
              "      background-color: #E2EBFA;\n",
              "      box-shadow: 0px 1px 2px rgba(60, 64, 67, 0.3), 0px 1px 3px 1px rgba(60, 64, 67, 0.15);\n",
              "      fill: #174EA6;\n",
              "    }\n",
              "\n",
              "    [theme=dark] .colab-df-convert {\n",
              "      background-color: #3B4455;\n",
              "      fill: #D2E3FC;\n",
              "    }\n",
              "\n",
              "    [theme=dark] .colab-df-convert:hover {\n",
              "      background-color: #434B5C;\n",
              "      box-shadow: 0px 1px 3px 1px rgba(0, 0, 0, 0.15);\n",
              "      filter: drop-shadow(0px 1px 2px rgba(0, 0, 0, 0.3));\n",
              "      fill: #FFFFFF;\n",
              "    }\n",
              "  </style>\n",
              "\n",
              "      <script>\n",
              "        const buttonEl =\n",
              "          document.querySelector('#df-6cd356b7-06bc-461e-9aab-dbab52a11b2e button.colab-df-convert');\n",
              "        buttonEl.style.display =\n",
              "          google.colab.kernel.accessAllowed ? 'block' : 'none';\n",
              "\n",
              "        async function convertToInteractive(key) {\n",
              "          const element = document.querySelector('#df-6cd356b7-06bc-461e-9aab-dbab52a11b2e');\n",
              "          const dataTable =\n",
              "            await google.colab.kernel.invokeFunction('convertToInteractive',\n",
              "                                                     [key], {});\n",
              "          if (!dataTable) return;\n",
              "\n",
              "          const docLinkHtml = 'Like what you see? Visit the ' +\n",
              "            '<a target=\"_blank\" href=https://colab.research.google.com/notebooks/data_table.ipynb>data table notebook</a>'\n",
              "            + ' to learn more about interactive tables.';\n",
              "          element.innerHTML = '';\n",
              "          dataTable['output_type'] = 'display_data';\n",
              "          await google.colab.output.renderOutput(dataTable, element);\n",
              "          const docLink = document.createElement('div');\n",
              "          docLink.innerHTML = docLinkHtml;\n",
              "          element.appendChild(docLink);\n",
              "        }\n",
              "      </script>\n",
              "    </div>\n",
              "  </div>\n",
              "  "
            ]
          },
          "metadata": {},
          "execution_count": 145
        }
      ]
    },
    {
      "cell_type": "code",
      "source": [
        "print(f'Dimensiones (original): {len(melb_df2.columns)}')\n",
        "print(f'Dimensiones (despues del encoding): {len(encoded_melb_df.columns)}')"
      ],
      "metadata": {
        "colab": {
          "base_uri": "https://localhost:8080/"
        },
        "id": "qoNoF6kS-MF3",
        "outputId": "0a5ec6cc-a86e-44ce-f72c-d97ad421b1cb"
      },
      "execution_count": null,
      "outputs": [
        {
          "output_type": "stream",
          "name": "stdout",
          "text": [
            "Dimensiones (original): 13\n",
            "Dimensiones (despues del encoding): 614\n"
          ]
        }
      ]
    },
    {
      "cell_type": "markdown",
      "metadata": {
        "id": "ismngxPcfoWb"
      },
      "source": [
        "## Ejercicio 2: Imputación por KNN\n",
        "\n",
        "En el teórico se presentó el método `IterativeImputer` para imputar valores faltantes en variables numéricas. Sin embargo, los ejemplos presentados sólo utilizaban algunas variables numéricas presentes en el conjunto de datos. En este ejercicio, utilizaremos la matriz de datos codificada para imputar datos faltantes de manera más precisa.\n",
        "\n",
        "1. Agregue a la matriz obtenida en el punto anterior las columnas `YearBuilt` y `BuildingArea`.\n",
        "2. Aplique una instancia de `IterativeImputer` con un estimador `KNeighborsRegressor` para imputar los valores de las variables. ¿Es necesario estandarizar o escalar los datos previamente?\n",
        "3. Realice un gráfico mostrando la distribución de cada variable antes de ser imputada, y con ambos métodos de imputación."
      ]
    },
    {
      "cell_type": "markdown",
      "source": [
        "**1. Agregue a la matriz obtenida en el punto anterior las columnas `YearBuilt` y `BuildingArea`.**"
      ],
      "metadata": {
        "id": "HYXESjYtxIrN"
      }
    },
    {
      "cell_type": "code",
      "source": [
        "encoded_melb_df = encoded_melb_df.join(melb_df[['YearBuilt', 'BuildingArea']])"
      ],
      "metadata": {
        "id": "NrAngXvsxHrL"
      },
      "execution_count": null,
      "outputs": []
    },
    {
      "cell_type": "markdown",
      "source": [
        "**2. Aplique una instancia de `IterativeImputer` con un estimador `KNeighborsRegressor` para imputar los valores de las variables. ¿Es necesario estandarizar o escalar los datos previamente?**\n",
        "\n"
      ],
      "metadata": {
        "id": "tzf_DgeMxQqp"
      }
    },
    {
      "cell_type": "markdown",
      "source": [
        "A continuacion vamos a mostrar graficos de la imputacion para ambas columnas, con los datos escalados y no escalados. \n",
        "\n",
        "Cuando se usa un algoritmo en el que se asocia como similar un vector con otro esa similitud suele medirse (aunque no siempre) con la distancia euclidea, como es el caso de KNN. Esto quiere decir que todas las columnas (features) van a tener la misma importancia (si no proveemos un array con los pesos de cada una) por lo cual para la correcta asociacion de vecinos mas cercanos es necesario que todas esten en la misma escala."
      ],
      "metadata": {
        "id": "7OgTnfhfFx4c"
      }
    },
    {
      "cell_type": "code",
      "metadata": {
        "id": "G4ClSr_JapCw",
        "colab": {
          "base_uri": "https://localhost:8080/"
        },
        "outputId": "799e2f27-5a06-47b9-f417-0798bc0e173a"
      },
      "source": [
        "from sklearn.experimental import enable_iterative_imputer\n",
        "from sklearn.neighbors import KNeighborsRegressor\n",
        "from sklearn.impute import IterativeImputer\n",
        "\n",
        "melb_data_mice = encoded_melb_df.copy(deep=True)\n",
        "\n",
        "imputer = IterativeImputer(random_state=0, estimator=KNeighborsRegressor())\n",
        "melb_data_mice[['YearBuilt','BuildingArea']] = imputer.fit_transform(melb_data_mice[['YearBuilt', 'BuildingArea']])"
      ],
      "execution_count": null,
      "outputs": [
        {
          "output_type": "stream",
          "name": "stderr",
          "text": [
            "/usr/local/lib/python3.7/dist-packages/sklearn/impute/_iterative.py:701: ConvergenceWarning: [IterativeImputer] Early stopping criterion not reached.\n",
            "  ConvergenceWarning,\n"
          ]
        }
      ]
    },
    {
      "cell_type": "markdown",
      "source": [
        "Chequeamos que hayan 0 filas para datos nullos en ambas columnas"
      ],
      "metadata": {
        "id": "A7nnBBjT4rj4"
      }
    },
    {
      "cell_type": "code",
      "source": [
        "print(len(melb_data_mice[melb_data_mice['BuildingArea'].isna()]))\n",
        "print(len(melb_data_mice[melb_data_mice['YearBuilt'].isna()]))"
      ],
      "metadata": {
        "colab": {
          "base_uri": "https://localhost:8080/"
        },
        "id": "xS6HApEP4C8_",
        "outputId": "31dd93b7-edc4-46e7-b8d7-05e84af6fad0"
      },
      "execution_count": null,
      "outputs": [
        {
          "output_type": "stream",
          "name": "stdout",
          "text": [
            "0\n",
            "0\n"
          ]
        }
      ]
    },
    {
      "cell_type": "markdown",
      "source": [
        "**3. Realice un gráfico mostrando la distribución de cada variable antes de ser imputada, y con ambos métodos de imputación.**"
      ],
      "metadata": {
        "id": "ZD8ZAiHvyeex"
      }
    },
    {
      "cell_type": "markdown",
      "source": [
        "#### Sin scaling"
      ],
      "metadata": {
        "id": "Cg2nk8TGy_mR"
      }
    },
    {
      "cell_type": "markdown",
      "source": [
        "###### YearBuilt"
      ],
      "metadata": {
        "id": "IhMoqz-ODVIb"
      }
    },
    {
      "cell_type": "markdown",
      "source": [
        ""
      ],
      "metadata": {
        "id": "dU8F0XM2DOZb"
      }
    },
    {
      "cell_type": "code",
      "metadata": {
        "colab": {
          "base_uri": "https://localhost:8080/",
          "height": 481
        },
        "id": "PMK1ktqYQTJK",
        "outputId": "b84bbf62-6483-4748-9609-d571d9416e05"
      },
      "source": [
        "mice_year_built = melb_data_mice.YearBuilt.to_frame()\n",
        "mice_year_built['Imputation'] = 'KNN over YearBuilt'\n",
        "melb_year_build = melb_df.YearBuilt.dropna().to_frame()\n",
        "melb_year_build['Imputation'] = 'Original'\n",
        "data = pandas.concat([mice_year_built, melb_year_build], ignore_index=True) #agregué: ignore_index=True para solucionar el error\n",
        "fig = plt.figure(figsize=(10, 7))\n",
        "g = seaborn.kdeplot(data=data, x='YearBuilt', hue='Imputation')\n",
        "plt.xlim([1850, 2050])\n"
      ],
      "execution_count": null,
      "outputs": [
        {
          "output_type": "execute_result",
          "data": {
            "text/plain": [
              "(1850.0, 2050.0)"
            ]
          },
          "metadata": {},
          "execution_count": 10
        },
        {
          "output_type": "display_data",
          "data": {
            "text/plain": [
              "<Figure size 720x504 with 1 Axes>"
            ],
            "image/png": "[encoded data removed]"
          },
          "metadata": {
            "needs_background": "light"
          }
        }
      ]
    },
    {
      "cell_type": "markdown",
      "source": [
        "###### BuildingArea"
      ],
      "metadata": {
        "id": "xv5_rBaHDY75"
      }
    },
    {
      "cell_type": "code",
      "source": [
        "mice_year_built = melb_data_mice.BuildingArea.to_frame()\n",
        "mice_year_built['Imputation'] = 'KNN over BuildingArea'\n",
        "melb_year_build = melb_df.BuildingArea.dropna().to_frame()\n",
        "melb_year_build['Imputation'] = 'Original'\n",
        "data = pandas.concat([mice_year_built, melb_year_build], ignore_index=True) #agregué: ignore_index=True para solucionar el error\n",
        "fig = plt.figure(figsize=(10, 7))\n",
        "g = seaborn.kdeplot(data=data, x='BuildingArea', hue='Imputation')"
      ],
      "metadata": {
        "colab": {
          "base_uri": "https://localhost:8080/",
          "height": 464
        },
        "id": "6Clq2XHuCdWI",
        "outputId": "8335b5cb-2e09-49a0-ac98-fd0cb40560a3"
      },
      "execution_count": null,
      "outputs": [
        {
          "output_type": "display_data",
          "data": {
            "text/plain": [
              "<Figure size 720x504 with 1 Axes>"
            ],
            "image/png": "[encoded data removed]"
          },
          "metadata": {
            "needs_background": "light"
          }
        }
      ]
    },
    {
      "cell_type": "markdown",
      "source": [
        "#### Con scaling"
      ],
      "metadata": {
        "id": "fwQ34nef5AFJ"
      }
    },
    {
      "cell_type": "code",
      "source": [
        "from sklearn.preprocessing import MinMaxScaler, StandardScaler\n",
        "\n",
        "# Scale encoded melb_df\n",
        "scaler = MinMaxScaler()\n",
        "scaler.fit(encoded_melb_df.to_numpy())\n",
        "melb_data_scaled = scaler.transform(encoded_melb_df.to_numpy())\n",
        "melb_data_scaled = pandas.DataFrame(melb_data_scaled, columns=encoded_melb_df.columns)\n",
        "\n",
        "# Scale a copy of encoded melb_df and impute YearBuilt\n",
        "melb_data_mice_scaled = melb_data_scaled.copy(deep=True)\n",
        "\n",
        "imputer = IterativeImputer(random_state=0, estimator=KNeighborsRegressor())\n",
        "melb_data_mice_scaled[['YearBuilt', 'BuildingArea']] = imputer.fit_transform(melb_data_mice_scaled[['YearBuilt', 'BuildingArea']])\n",
        "\n",
        "\n",
        "melb_data_mice_unscaled = scaler.inverse_transform(melb_data_mice_scaled.to_numpy())\n",
        "melb_data_mice_unscaled = pandas.DataFrame(melb_data_mice_unscaled, columns=encoded_melb_df.columns)\n"
      ],
      "metadata": {
        "colab": {
          "base_uri": "https://localhost:8080/"
        },
        "id": "XdxPn4KKDuZX",
        "outputId": "44df5d04-9cb9-4534-8a5a-796bbf048aa9"
      },
      "execution_count": null,
      "outputs": [
        {
          "output_type": "stream",
          "name": "stderr",
          "text": [
            "/usr/local/lib/python3.7/dist-packages/sklearn/impute/_iterative.py:701: ConvergenceWarning: [IterativeImputer] Early stopping criterion not reached.\n",
            "  ConvergenceWarning,\n"
          ]
        }
      ]
    },
    {
      "cell_type": "code",
      "source": [
        "print(len(melb_data_mice_scaled[melb_data_mice['BuildingArea'].isna()]))\n",
        "print(len(melb_data_mice_scaled[melb_data_mice['YearBuilt'].isna()]))"
      ],
      "metadata": {
        "colab": {
          "base_uri": "https://localhost:8080/"
        },
        "id": "01Gs1jghJEQ6",
        "outputId": "e6571336-985a-4218-a688-de9bc4a65562"
      },
      "execution_count": null,
      "outputs": [
        {
          "output_type": "stream",
          "name": "stdout",
          "text": [
            "0\n",
            "0\n"
          ]
        }
      ]
    },
    {
      "cell_type": "markdown",
      "source": [
        "##### YearBuilt"
      ],
      "metadata": {
        "id": "I4YTX2Y7Dmb_"
      }
    },
    {
      "cell_type": "code",
      "source": [
        "mice_year_built = melb_data_mice_unscaled.YearBuilt.to_frame()\n",
        "mice_year_built['Imputation'] = 'KNN over YearBuilt'\n",
        "\n",
        "melb_year_build = encoded_melb_df.YearBuilt.dropna().to_frame()\n",
        "melb_year_build['Imputation'] = 'Original'\n",
        "\n",
        "data = pandas.concat([mice_year_built, melb_year_build], ignore_index=True) #agregué: ignore_index=True para solucionar el error\n",
        "\n",
        "fig = plt.figure(figsize=(10, 7))\n",
        "g = seaborn.kdeplot(data=data, x='YearBuilt', hue='Imputation')\n",
        "print(encoded_melb_df.YearBuilt.min())\n",
        "plt.xlim(1850, 2050)"
      ],
      "metadata": {
        "colab": {
          "base_uri": "https://localhost:8080/",
          "height": 499
        },
        "id": "lMeCKfQt4_Ac",
        "outputId": "0f45cb58-498f-4ff3-b9c0-755db9c73c5b"
      },
      "execution_count": null,
      "outputs": [
        {
          "output_type": "stream",
          "name": "stdout",
          "text": [
            "1196.0\n"
          ]
        },
        {
          "output_type": "execute_result",
          "data": {
            "text/plain": [
              "(1850.0, 2050.0)"
            ]
          },
          "metadata": {},
          "execution_count": 13
        },
        {
          "output_type": "display_data",
          "data": {
            "text/plain": [
              "<Figure size 720x504 with 1 Axes>"
            ],
            "image/png": "[encoded data removed]"
          },
          "metadata": {
            "needs_background": "light"
          }
        }
      ]
    },
    {
      "cell_type": "markdown",
      "source": [
        "##### BuildingArea"
      ],
      "metadata": {
        "id": "TUPq_sqhEBnD"
      }
    },
    {
      "cell_type": "code",
      "source": [
        "mice_year_built = melb_data_mice_unscaled.BuildingArea.to_frame()\n",
        "mice_year_built['Imputation'] = 'KNN over BuildingArea'\n",
        "\n",
        "melb_year_build = encoded_melb_df.BuildingArea.dropna().to_frame()\n",
        "melb_year_build['Imputation'] = 'Original'\n",
        "\n",
        "data = pandas.concat([mice_year_built, melb_year_build], ignore_index=True) #agregué: ignore_index=True para solucionar el error\n",
        "\n",
        "fig = plt.figure(figsize=(10, 7))\n",
        "g = seaborn.kdeplot(data=data, x='BuildingArea', hue='Imputation')\n"
      ],
      "metadata": {
        "colab": {
          "base_uri": "https://localhost:8080/",
          "height": 464
        },
        "id": "HvfTsIjyC5q3",
        "outputId": "66d820ec-6ce1-458d-947c-81d7e601e00f"
      },
      "execution_count": null,
      "outputs": [
        {
          "output_type": "display_data",
          "data": {
            "text/plain": [
              "<Figure size 720x504 with 1 Axes>"
            ],
            "image/png": "[encoded data removed]"
          },
          "metadata": {
            "needs_background": "light"
          }
        }
      ]
    },
    {
      "cell_type": "markdown",
      "metadata": {
        "id": "NBN7-5OIxjJW"
      },
      "source": [
        "## Ejercicio 3: Reducción de dimensionalidad.\n",
        "\n",
        "Utilizando la matriz obtenida en el ejercicio anterior:\n",
        "1. Aplique `PCA` para obtener $n$ componentes principales de la matriz, donde `n = min(20, X.shape[0])`. ¿Es necesario estandarizar o escalar los datos?\n",
        "2. Grafique la varianza capturada por los primeros $n$ componentes principales, para cada $n$.\n",
        "3. En base al gráfico, seleccione las primeras $m$ columnas de la matriz transformada para agregar como nuevas características al conjunto de datos."
      ]
    },
    {
      "cell_type": "markdown",
      "source": [
        "**1. Aplique `PCA` para obtener $n$ componentes principales de la matriz, donde `n = min(20, X.shape[0])`. ¿Es necesario estandarizar o escalar los datos?**"
      ],
      "metadata": {
        "id": "SeeZ0MCKHhQJ"
      }
    },
    {
      "cell_type": "markdown",
      "source": [
        "El proceso de PCA identifica aquellas direcciones en las que la varianza es mayor. Como la varianza de una variable se mide en su misma escala elevada al cuadrado, si antes de calcular las componentes no se estandarizan todas las variables para que tengan media 0 y desviación estándar 1, aquellas variables cuya escala sea mayor dominarán al resto. De ahí que sea recomendable estandarizar siempre los datos.\n",
        "\n",
        "Por otro lado, es necesario imputar en las columnas que faltan ya que PCA no puede trabajar con datos no numericos como None y NaN. \n"
      ],
      "metadata": {
        "id": "XbbKlq9gHnKB"
      }
    },
    {
      "cell_type": "code",
      "source": [
        "cols_to_impute = []\n",
        "\n",
        "for col in melb_data_mice_scaled.columns:\n",
        "  nan_count = melb_data_mice_scaled[col].isnull().sum()\n",
        "  if nan_count > 0:\n",
        "    print(f'Columna {col} tiene {nan_count} NaN')\n",
        "    cols_to_impute.append(col)"
      ],
      "metadata": {
        "colab": {
          "base_uri": "https://localhost:8080/"
        },
        "id": "o5Kn0sTCJchy",
        "outputId": "fdb60edd-f26e-451d-b3bd-14683b4b94a0"
      },
      "execution_count": null,
      "outputs": [
        {
          "output_type": "stream",
          "name": "stdout",
          "text": [
            "Columna airbnb_price_median tiene 21 NaN\n",
            "Columna airbnb_weekly_price_median tiene 827 NaN\n",
            "Columna airbnb_monthly_price_median tiene 1196 NaN\n"
          ]
        }
      ]
    },
    {
      "cell_type": "markdown",
      "source": [
        "Procedemos a imputar en las columnas arriba listadas"
      ],
      "metadata": {
        "id": "875S9evCMAKy"
      }
    },
    {
      "cell_type": "code",
      "source": [
        "imputer = IterativeImputer(random_state=0, estimator=KNeighborsRegressor())\n",
        "melb_data_mice_scaled[cols_to_impute] = imputer.fit_transform(melb_data_mice_scaled[cols_to_impute])"
      ],
      "metadata": {
        "id": "9FTERdNcL6wt"
      },
      "execution_count": null,
      "outputs": []
    },
    {
      "cell_type": "code",
      "source": [
        "from sklearn.decomposition import PCA\n",
        "\n",
        "n_dim = min(20, melb_data_mice_scaled.shape[0])\n",
        "pca = PCA(n_dim)\n",
        "melb_dim_red = pca.fit_transform(melb_data_mice_scaled)"
      ],
      "metadata": {
        "id": "v4TlaHagHQF-"
      },
      "execution_count": null,
      "outputs": []
    },
    {
      "cell_type": "markdown",
      "source": [
        "**2. Grafique la varianza capturada por los primeros $n$ componentes principales, para cada $n$.**"
      ],
      "metadata": {
        "id": "o-0iLbvNPMgK"
      }
    },
    {
      "cell_type": "code",
      "source": [
        "plt.plot(range(0, n_dim), pca.explained_variance_ratio_)\n",
        "plt.ylabel('Varianza')\n",
        "plt.xlabel('Componentes principales')\n",
        "plt.title('Varianza en componentes principales')\n",
        "plt.show()\n"
      ],
      "metadata": {
        "id": "pJTtc_cMsfo7",
        "colab": {
          "base_uri": "https://localhost:8080/",
          "height": 321
        },
        "outputId": "9d3f2a97-3cf0-422d-fb45-12f6a13f674d"
      },
      "execution_count": null,
      "outputs": [
        {
          "output_type": "display_data",
          "data": {
            "text/plain": [
              "<Figure size 432x288 with 1 Axes>"
            ],
            "image/png": "[encoded data removed]"
          },
          "metadata": {
            "needs_background": "light"
          }
        }
      ]
    },
    {
      "cell_type": "markdown",
      "source": [
        "**3. En base al gráfico, seleccione las primeras $m$ columnas de la matriz transformada para agregar como nuevas características al conjunto de datos.**"
      ],
      "metadata": {
        "id": "LzWBJdl4PRze"
      }
    },
    {
      "cell_type": "code",
      "source": [
        " pca.explained_variance_ratio_"
      ],
      "metadata": {
        "colab": {
          "base_uri": "https://localhost:8080/"
        },
        "id": "M1wMILt5RD5z",
        "outputId": "c99e7fba-fc1c-4450-998b-5d5e36487e1f"
      },
      "execution_count": null,
      "outputs": [
        {
          "output_type": "execute_result",
          "data": {
            "text/plain": [
              "array([0.1035609 , 0.04157238, 0.03407362, 0.03332154, 0.03038204,\n",
              "       0.02788615, 0.02687145, 0.02330826, 0.02189091, 0.02142892,\n",
              "       0.02047628, 0.01844635, 0.01763827, 0.0162702 , 0.01578874,\n",
              "       0.01546321, 0.0138553 , 0.01369381, 0.01304785, 0.0122617 ])"
            ]
          },
          "metadata": {},
          "execution_count": 20
        }
      ]
    },
    {
      "cell_type": "code",
      "source": [
        "pca.singular_values_"
      ],
      "metadata": {
        "colab": {
          "base_uri": "https://localhost:8080/"
        },
        "id": "1nhyEvoNRLbF",
        "outputId": "c2c79ee2-2c32-4707-f1e0-26b02079056e"
      },
      "execution_count": null,
      "outputs": [
        {
          "output_type": "execute_result",
          "data": {
            "text/plain": [
              "array([66.44254485, 42.09696531, 38.11162529, 37.68867874, 35.98792688,\n",
              "       34.47804419, 33.84495   , 31.52124198, 30.54782239, 30.22376223,\n",
              "       29.54431459, 28.0416484 , 27.42055909, 26.33569531, 25.94311611,\n",
              "       25.67427489, 24.30279948, 24.16075375, 23.58402238, 22.86249664])"
            ]
          },
          "metadata": {},
          "execution_count": 21
        }
      ]
    },
    {
      "cell_type": "markdown",
      "source": [
        "La gráfica de sedimentación muestra que los valores de la varianza explicada comienzan a formar una línea recta después del tercer componente principal. Por lo tanto, los componentes principales restantes explican una proporción muy pequeña de la variabilidad (cercana a cero) y probablemente carezcan de importancia."
      ],
      "metadata": {
        "id": "Xdpm58nPwPV9"
      }
    },
    {
      "cell_type": "code",
      "source": [
        "n_pca_components = 3\n",
        "melb_pca_to_add = melb_dim_red[:, 0:n_pca_components]"
      ],
      "metadata": {
        "id": "ynFIR49sDNdJ"
      },
      "execution_count": null,
      "outputs": []
    },
    {
      "cell_type": "markdown",
      "metadata": {
        "id": "WrZTYmG_ZyDy"
      },
      "source": [
        "## Ejercicio 4: Composición del resultado\n",
        "\n",
        "Transformar nuevamente el conjunto de datos procesado en un `pandas.DataFrame` y guardarlo en un archivo.\n",
        "\n",
        "Para eso, será necesario recordar el nombre original de cada columna de la matriz, en el orden correcto. Tener en cuenta:\n",
        "1. El método `OneHotEncoder.get_feature_names` o el atributo `OneHotEncoder.categories_` permiten obtener una lista con los valores de la categoría que le corresponde a cada índice de la matriz.\n",
        "2. Ninguno de los métodos aplicados intercambia de lugar las columnas o las filas de la matriz."
      ]
    },
    {
      "cell_type": "code",
      "source": [
        "melb_extended_pca = numpy.hstack([melb_data_mice_scaled, melb_pca_to_add])\n",
        "\n",
        "new_pca_cols = [f'pca{i}' for i in range(1, n_pca_components + 1)]\n",
        "all_columns = [col_name.lower() for col_name in melb_data_mice_scaled.columns.to_list()] + new_pca_cols\n",
        "melb_extended_pca_df = pandas.DataFrame(data=melb_extended_pca, columns=all_columns)\n"
      ],
      "metadata": {
        "id": "F2d894F5LYfg"
      },
      "execution_count": null,
      "outputs": []
    },
    {
      "cell_type": "code",
      "source": [
        "melb_extended_pca_df[:10]"
      ],
      "metadata": {
        "colab": {
          "base_uri": "https://localhost:8080/",
          "height": 474
        },
        "id": "9kHX6mC2x3Mm",
        "outputId": "6bffa59f-e2fb-4263-d93c-002da4cf8395"
      },
      "execution_count": null,
      "outputs": [
        {
          "output_type": "execute_result",
          "data": {
            "text/plain": [
              "   rooms  propertycount  lattitude  longtitude  distance  postcode  \\\n",
              "0   0.25        0.17616   0.494755    0.517651  0.052854  0.068577   \n",
              "1   0.25        0.17616   0.484031    0.513083  0.052854  0.068577   \n",
              "2   0.50        0.17616   0.482223    0.513997  0.052854  0.068577   \n",
              "3   0.50        0.17616   0.498243    0.516281  0.052854  0.068577   \n",
              "4   0.75        0.17616   0.484936    0.513723  0.052854  0.068577   \n",
              "5   0.25        0.17616   0.488941    0.514819  0.052854  0.068577   \n",
              "6   0.50        0.17616   0.491137    0.518474  0.052854  0.068577   \n",
              "7   0.25        0.17616   0.486486    0.514910  0.052854  0.068577   \n",
              "8   0.00        0.17616   0.493204    0.516646  0.052854  0.068577   \n",
              "9   0.25        0.17616   0.492946    0.518108  0.052854  0.068577   \n",
              "\n",
              "   airbnb_price_median  airbnb_weekly_price_median  \\\n",
              "0             0.248509                    0.129794   \n",
              "1             0.248509                    0.129794   \n",
              "2             0.248509                    0.129794   \n",
              "3             0.248509                    0.129794   \n",
              "4             0.248509                    0.129794   \n",
              "5             0.248509                    0.129794   \n",
              "6             0.248509                    0.129794   \n",
              "7             0.248509                    0.129794   \n",
              "8             0.248509                    0.129794   \n",
              "9             0.248509                    0.129794   \n",
              "\n",
              "   airbnb_monthly_price_median  type_h  ...  councilarea_whitehorse  \\\n",
              "0                     0.088795     1.0  ...                     0.0   \n",
              "1                     0.088795     1.0  ...                     0.0   \n",
              "2                     0.088795     1.0  ...                     0.0   \n",
              "3                     0.088795     1.0  ...                     0.0   \n",
              "4                     0.088795     1.0  ...                     0.0   \n",
              "5                     0.088795     1.0  ...                     0.0   \n",
              "6                     0.088795     1.0  ...                     0.0   \n",
              "7                     0.088795     1.0  ...                     0.0   \n",
              "8                     0.088795     0.0  ...                     0.0   \n",
              "9                     0.088795     1.0  ...                     0.0   \n",
              "\n",
              "   councilarea_whittlesea  councilarea_wyndham  councilarea_yarra  \\\n",
              "0                     0.0                  0.0                1.0   \n",
              "1                     0.0                  0.0                1.0   \n",
              "2                     0.0                  0.0                1.0   \n",
              "3                     0.0                  0.0                1.0   \n",
              "4                     0.0                  0.0                1.0   \n",
              "5                     0.0                  0.0                1.0   \n",
              "6                     0.0                  0.0                1.0   \n",
              "7                     0.0                  0.0                1.0   \n",
              "8                     0.0                  0.0                1.0   \n",
              "9                     0.0                  0.0                1.0   \n",
              "\n",
              "   councilarea_yarra ranges  yearbuilt  buildingarea      pca1      pca2  \\\n",
              "0                       0.0   0.987835      0.634483 -0.287493 -0.082357   \n",
              "1                       0.0   0.856448      0.059113 -0.226038 -0.047867   \n",
              "2                       0.0   0.856448      0.408867 -0.314810 -0.085200   \n",
              "3                       0.0   0.987835      0.634483 -0.338276 -0.097169   \n",
              "4                       0.0   0.995134      0.369458 -0.408063  0.633152   \n",
              "5                       0.0   0.987835      0.634483 -0.279855 -0.220492   \n",
              "6                       0.0   0.868613      0.704433 -0.395524  0.628071   \n",
              "7                       0.0   0.844282      0.197044 -0.289696  0.674522   \n",
              "8                       0.0   0.987835      0.634483  1.091568  0.017846   \n",
              "9                       0.0   0.856448      0.039409 -0.224091 -0.045897   \n",
              "\n",
              "       pca3  \n",
              "0 -0.128862  \n",
              "1 -0.151283  \n",
              "2 -0.113642  \n",
              "3 -0.103432  \n",
              "4 -0.237850  \n",
              "5 -0.389964  \n",
              "6 -0.255057  \n",
              "7 -0.298432  \n",
              "8 -0.244128  \n",
              "9 -0.152325  \n",
              "\n",
              "[10 rows x 619 columns]"
            ],
            "text/html": [
              "\n",
              "  <div id=\"df-a4508abc-1244-4b16-bd8d-3c5dd713db80\">\n",
              "    <div class=\"colab-df-container\">\n",
              "      <div>\n",
              "<style scoped>\n",
              "    .dataframe tbody tr th:only-of-type {\n",
              "        vertical-align: middle;\n",
              "    }\n",
              "\n",
              "    .dataframe tbody tr th {\n",
              "        vertical-align: top;\n",
              "    }\n",
              "\n",
              "    .dataframe thead th {\n",
              "        text-align: right;\n",
              "    }\n",
              "</style>\n",
              "<table border=\"1\" class=\"dataframe\">\n",
              "  <thead>\n",
              "    <tr style=\"text-align: right;\">\n",
              "      <th></th>\n",
              "      <th>rooms</th>\n",
              "      <th>propertycount</th>\n",
              "      <th>lattitude</th>\n",
              "      <th>longtitude</th>\n",
              "      <th>distance</th>\n",
              "      <th>postcode</th>\n",
              "      <th>airbnb_price_median</th>\n",
              "      <th>airbnb_weekly_price_median</th>\n",
              "      <th>airbnb_monthly_price_median</th>\n",
              "      <th>type_h</th>\n",
              "      <th>...</th>\n",
              "      <th>councilarea_whitehorse</th>\n",
              "      <th>councilarea_whittlesea</th>\n",
              "      <th>councilarea_wyndham</th>\n",
              "      <th>councilarea_yarra</th>\n",
              "      <th>councilarea_yarra ranges</th>\n",
              "      <th>yearbuilt</th>\n",
              "      <th>buildingarea</th>\n",
              "      <th>pca1</th>\n",
              "      <th>pca2</th>\n",
              "      <th>pca3</th>\n",
              "    </tr>\n",
              "  </thead>\n",
              "  <tbody>\n",
              "    <tr>\n",
              "      <th>0</th>\n",
              "      <td>0.25</td>\n",
              "      <td>0.17616</td>\n",
              "      <td>0.494755</td>\n",
              "      <td>0.517651</td>\n",
              "      <td>0.052854</td>\n",
              "      <td>0.068577</td>\n",
              "      <td>0.248509</td>\n",
              "      <td>0.129794</td>\n",
              "      <td>0.088795</td>\n",
              "      <td>1.0</td>\n",
              "      <td>...</td>\n",
              "      <td>0.0</td>\n",
              "      <td>0.0</td>\n",
              "      <td>0.0</td>\n",
              "      <td>1.0</td>\n",
              "      <td>0.0</td>\n",
              "      <td>0.987835</td>\n",
              "      <td>0.634483</td>\n",
              "      <td>-0.287493</td>\n",
              "      <td>-0.082357</td>\n",
              "      <td>-0.128862</td>\n",
              "    </tr>\n",
              "    <tr>\n",
              "      <th>1</th>\n",
              "      <td>0.25</td>\n",
              "      <td>0.17616</td>\n",
              "      <td>0.484031</td>\n",
              "      <td>0.513083</td>\n",
              "      <td>0.052854</td>\n",
              "      <td>0.068577</td>\n",
              "      <td>0.248509</td>\n",
              "      <td>0.129794</td>\n",
              "      <td>0.088795</td>\n",
              "      <td>1.0</td>\n",
              "      <td>...</td>\n",
              "      <td>0.0</td>\n",
              "      <td>0.0</td>\n",
              "      <td>0.0</td>\n",
              "      <td>1.0</td>\n",
              "      <td>0.0</td>\n",
              "      <td>0.856448</td>\n",
              "      <td>0.059113</td>\n",
              "      <td>-0.226038</td>\n",
              "      <td>-0.047867</td>\n",
              "      <td>-0.151283</td>\n",
              "    </tr>\n",
              "    <tr>\n",
              "      <th>2</th>\n",
              "      <td>0.50</td>\n",
              "      <td>0.17616</td>\n",
              "      <td>0.482223</td>\n",
              "      <td>0.513997</td>\n",
              "      <td>0.052854</td>\n",
              "      <td>0.068577</td>\n",
              "      <td>0.248509</td>\n",
              "      <td>0.129794</td>\n",
              "      <td>0.088795</td>\n",
              "      <td>1.0</td>\n",
              "      <td>...</td>\n",
              "      <td>0.0</td>\n",
              "      <td>0.0</td>\n",
              "      <td>0.0</td>\n",
              "      <td>1.0</td>\n",
              "      <td>0.0</td>\n",
              "      <td>0.856448</td>\n",
              "      <td>0.408867</td>\n",
              "      <td>-0.314810</td>\n",
              "      <td>-0.085200</td>\n",
              "      <td>-0.113642</td>\n",
              "    </tr>\n",
              "    <tr>\n",
              "      <th>3</th>\n",
              "      <td>0.50</td>\n",
              "      <td>0.17616</td>\n",
              "      <td>0.498243</td>\n",
              "      <td>0.516281</td>\n",
              "      <td>0.052854</td>\n",
              "      <td>0.068577</td>\n",
              "      <td>0.248509</td>\n",
              "      <td>0.129794</td>\n",
              "      <td>0.088795</td>\n",
              "      <td>1.0</td>\n",
              "      <td>...</td>\n",
              "      <td>0.0</td>\n",
              "      <td>0.0</td>\n",
              "      <td>0.0</td>\n",
              "      <td>1.0</td>\n",
              "      <td>0.0</td>\n",
              "      <td>0.987835</td>\n",
              "      <td>0.634483</td>\n",
              "      <td>-0.338276</td>\n",
              "      <td>-0.097169</td>\n",
              "      <td>-0.103432</td>\n",
              "    </tr>\n",
              "    <tr>\n",
              "      <th>4</th>\n",
              "      <td>0.75</td>\n",
              "      <td>0.17616</td>\n",
              "      <td>0.484936</td>\n",
              "      <td>0.513723</td>\n",
              "      <td>0.052854</td>\n",
              "      <td>0.068577</td>\n",
              "      <td>0.248509</td>\n",
              "      <td>0.129794</td>\n",
              "      <td>0.088795</td>\n",
              "      <td>1.0</td>\n",
              "      <td>...</td>\n",
              "      <td>0.0</td>\n",
              "      <td>0.0</td>\n",
              "      <td>0.0</td>\n",
              "      <td>1.0</td>\n",
              "      <td>0.0</td>\n",
              "      <td>0.995134</td>\n",
              "      <td>0.369458</td>\n",
              "      <td>-0.408063</td>\n",
              "      <td>0.633152</td>\n",
              "      <td>-0.237850</td>\n",
              "    </tr>\n",
              "    <tr>\n",
              "      <th>5</th>\n",
              "      <td>0.25</td>\n",
              "      <td>0.17616</td>\n",
              "      <td>0.488941</td>\n",
              "      <td>0.514819</td>\n",
              "      <td>0.052854</td>\n",
              "      <td>0.068577</td>\n",
              "      <td>0.248509</td>\n",
              "      <td>0.129794</td>\n",
              "      <td>0.088795</td>\n",
              "      <td>1.0</td>\n",
              "      <td>...</td>\n",
              "      <td>0.0</td>\n",
              "      <td>0.0</td>\n",
              "      <td>0.0</td>\n",
              "      <td>1.0</td>\n",
              "      <td>0.0</td>\n",
              "      <td>0.987835</td>\n",
              "      <td>0.634483</td>\n",
              "      <td>-0.279855</td>\n",
              "      <td>-0.220492</td>\n",
              "      <td>-0.389964</td>\n",
              "    </tr>\n",
              "    <tr>\n",
              "      <th>6</th>\n",
              "      <td>0.50</td>\n",
              "      <td>0.17616</td>\n",
              "      <td>0.491137</td>\n",
              "      <td>0.518474</td>\n",
              "      <td>0.052854</td>\n",
              "      <td>0.068577</td>\n",
              "      <td>0.248509</td>\n",
              "      <td>0.129794</td>\n",
              "      <td>0.088795</td>\n",
              "      <td>1.0</td>\n",
              "      <td>...</td>\n",
              "      <td>0.0</td>\n",
              "      <td>0.0</td>\n",
              "      <td>0.0</td>\n",
              "      <td>1.0</td>\n",
              "      <td>0.0</td>\n",
              "      <td>0.868613</td>\n",
              "      <td>0.704433</td>\n",
              "      <td>-0.395524</td>\n",
              "      <td>0.628071</td>\n",
              "      <td>-0.255057</td>\n",
              "    </tr>\n",
              "    <tr>\n",
              "      <th>7</th>\n",
              "      <td>0.25</td>\n",
              "      <td>0.17616</td>\n",
              "      <td>0.486486</td>\n",
              "      <td>0.514910</td>\n",
              "      <td>0.052854</td>\n",
              "      <td>0.068577</td>\n",
              "      <td>0.248509</td>\n",
              "      <td>0.129794</td>\n",
              "      <td>0.088795</td>\n",
              "      <td>1.0</td>\n",
              "      <td>...</td>\n",
              "      <td>0.0</td>\n",
              "      <td>0.0</td>\n",
              "      <td>0.0</td>\n",
              "      <td>1.0</td>\n",
              "      <td>0.0</td>\n",
              "      <td>0.844282</td>\n",
              "      <td>0.197044</td>\n",
              "      <td>-0.289696</td>\n",
              "      <td>0.674522</td>\n",
              "      <td>-0.298432</td>\n",
              "    </tr>\n",
              "    <tr>\n",
              "      <th>8</th>\n",
              "      <td>0.00</td>\n",
              "      <td>0.17616</td>\n",
              "      <td>0.493204</td>\n",
              "      <td>0.516646</td>\n",
              "      <td>0.052854</td>\n",
              "      <td>0.068577</td>\n",
              "      <td>0.248509</td>\n",
              "      <td>0.129794</td>\n",
              "      <td>0.088795</td>\n",
              "      <td>0.0</td>\n",
              "      <td>...</td>\n",
              "      <td>0.0</td>\n",
              "      <td>0.0</td>\n",
              "      <td>0.0</td>\n",
              "      <td>1.0</td>\n",
              "      <td>0.0</td>\n",
              "      <td>0.987835</td>\n",
              "      <td>0.634483</td>\n",
              "      <td>1.091568</td>\n",
              "      <td>0.017846</td>\n",
              "      <td>-0.244128</td>\n",
              "    </tr>\n",
              "    <tr>\n",
              "      <th>9</th>\n",
              "      <td>0.25</td>\n",
              "      <td>0.17616</td>\n",
              "      <td>0.492946</td>\n",
              "      <td>0.518108</td>\n",
              "      <td>0.052854</td>\n",
              "      <td>0.068577</td>\n",
              "      <td>0.248509</td>\n",
              "      <td>0.129794</td>\n",
              "      <td>0.088795</td>\n",
              "      <td>1.0</td>\n",
              "      <td>...</td>\n",
              "      <td>0.0</td>\n",
              "      <td>0.0</td>\n",
              "      <td>0.0</td>\n",
              "      <td>1.0</td>\n",
              "      <td>0.0</td>\n",
              "      <td>0.856448</td>\n",
              "      <td>0.039409</td>\n",
              "      <td>-0.224091</td>\n",
              "      <td>-0.045897</td>\n",
              "      <td>-0.152325</td>\n",
              "    </tr>\n",
              "  </tbody>\n",
              "</table>\n",
              "<p>10 rows × 619 columns</p>\n",
              "</div>\n",
              "      <button class=\"colab-df-convert\" onclick=\"convertToInteractive('df-a4508abc-1244-4b16-bd8d-3c5dd713db80')\"\n",
              "              title=\"Convert this dataframe to an interactive table.\"\n",
              "              style=\"display:none;\">\n",
              "        \n",
              "  <svg xmlns=\"http://www.w3.org/2000/svg\" height=\"24px\"viewBox=\"0 0 24 24\"\n",
              "       width=\"24px\">\n",
              "    <path d=\"M0 0h24v24H0V0z\" fill=\"none\"/>\n",
              "    <path d=\"M18.56 5.44l.94 2.06.94-2.06 2.06-.94-2.06-.94-.94-2.06-.94 2.06-2.06.94zm-11 1L8.5 8.5l.94-2.06 2.06-.94-2.06-.94L8.5 2.5l-.94 2.06-2.06.94zm10 10l.94 2.06.94-2.06 2.06-.94-2.06-.94-.94-2.06-.94 2.06-2.06.94z\"/><path d=\"M17.41 7.96l-1.37-1.37c-.4-.4-.92-.59-1.43-.59-.52 0-1.04.2-1.43.59L10.3 9.45l-7.72 7.72c-.78.78-.78 2.05 0 2.83L4 21.41c.39.39.9.59 1.41.59.51 0 1.02-.2 1.41-.59l7.78-7.78 2.81-2.81c.8-.78.8-2.07 0-2.86zM5.41 20L4 18.59l7.72-7.72 1.47 1.35L5.41 20z\"/>\n",
              "  </svg>\n",
              "      </button>\n",
              "      \n",
              "  <style>\n",
              "    .colab-df-container {\n",
              "      display:flex;\n",
              "      flex-wrap:wrap;\n",
              "      gap: 12px;\n",
              "    }\n",
              "\n",
              "    .colab-df-convert {\n",
              "      background-color: #E8F0FE;\n",
              "      border: none;\n",
              "      border-radius: 50%;\n",
              "      cursor: pointer;\n",
              "      display: none;\n",
              "      fill: #1967D2;\n",
              "      height: 32px;\n",
              "      padding: 0 0 0 0;\n",
              "      width: 32px;\n",
              "    }\n",
              "\n",
              "    .colab-df-convert:hover {\n",
              "      background-color: #E2EBFA;\n",
              "      box-shadow: 0px 1px 2px rgba(60, 64, 67, 0.3), 0px 1px 3px 1px rgba(60, 64, 67, 0.15);\n",
              "      fill: #174EA6;\n",
              "    }\n",
              "\n",
              "    [theme=dark] .colab-df-convert {\n",
              "      background-color: #3B4455;\n",
              "      fill: #D2E3FC;\n",
              "    }\n",
              "\n",
              "    [theme=dark] .colab-df-convert:hover {\n",
              "      background-color: #434B5C;\n",
              "      box-shadow: 0px 1px 3px 1px rgba(0, 0, 0, 0.15);\n",
              "      filter: drop-shadow(0px 1px 2px rgba(0, 0, 0, 0.3));\n",
              "      fill: #FFFFFF;\n",
              "    }\n",
              "  </style>\n",
              "\n",
              "      <script>\n",
              "        const buttonEl =\n",
              "          document.querySelector('#df-a4508abc-1244-4b16-bd8d-3c5dd713db80 button.colab-df-convert');\n",
              "        buttonEl.style.display =\n",
              "          google.colab.kernel.accessAllowed ? 'block' : 'none';\n",
              "\n",
              "        async function convertToInteractive(key) {\n",
              "          const element = document.querySelector('#df-a4508abc-1244-4b16-bd8d-3c5dd713db80');\n",
              "          const dataTable =\n",
              "            await google.colab.kernel.invokeFunction('convertToInteractive',\n",
              "                                                     [key], {});\n",
              "          if (!dataTable) return;\n",
              "\n",
              "          const docLinkHtml = 'Like what you see? Visit the ' +\n",
              "            '<a target=\"_blank\" href=https://colab.research.google.com/notebooks/data_table.ipynb>data table notebook</a>'\n",
              "            + ' to learn more about interactive tables.';\n",
              "          element.innerHTML = '';\n",
              "          dataTable['output_type'] = 'display_data';\n",
              "          await google.colab.output.renderOutput(dataTable, element);\n",
              "          const docLink = document.createElement('div');\n",
              "          docLink.innerHTML = docLinkHtml;\n",
              "          element.appendChild(docLink);\n",
              "        }\n",
              "      </script>\n",
              "    </div>\n",
              "  </div>\n",
              "  "
            ]
          },
          "metadata": {},
          "execution_count": 24
        }
      ]
    },
    {
      "cell_type": "code",
      "source": [
        "melb_extended_pca_df.columns"
      ],
      "metadata": {
        "colab": {
          "base_uri": "https://localhost:8080/"
        },
        "id": "hkm2ktsHpr9I",
        "outputId": "59103ece-873b-40be-b10a-ec2a94251a1c"
      },
      "execution_count": null,
      "outputs": [
        {
          "output_type": "execute_result",
          "data": {
            "text/plain": [
              "Index(['rooms', 'propertycount', 'lattitude', 'longtitude', 'distance',\n",
              "       'postcode', 'airbnb_price_median', 'airbnb_weekly_price_median',\n",
              "       'airbnb_monthly_price_median', 'type_h',\n",
              "       ...\n",
              "       'councilarea_whitehorse', 'councilarea_whittlesea',\n",
              "       'councilarea_wyndham', 'councilarea_yarra', 'councilarea_yarra ranges',\n",
              "       'yearbuilt', 'buildingarea', 'pca1', 'pca2', 'pca3'],\n",
              "      dtype='object', length=619)"
            ]
          },
          "metadata": {},
          "execution_count": 29
        }
      ]
    },
    {
      "cell_type": "code",
      "source": [
        "melb_extended_pca_df.to_csv('melb_pca_extended.csv')"
      ],
      "metadata": {
        "id": "nOkgFoVpw9Cc"
      },
      "execution_count": null,
      "outputs": []
    },
    {
      "cell_type": "code",
      "metadata": {
        "id": "DfchYPgTxvQ4"
      },
      "source": [
        "# ## Small example\n",
        "# from sklearn.decomposition import PCA\n",
        "# from sklearn.preprocessing import OneHotEncoder\n",
        "\n",
        "# ## If we process our data with the following steps:\n",
        "# categorical_cols = ['Type', 'Regionname']\n",
        "# numerical_cols = ['Rooms', 'Distance']\n",
        "# new_columns = []\n",
        "\n",
        "# # Step 1: encode categorical columns\n",
        "# encoder = OneHotEncoder(handle_unknown='ignore', sparse=False)\n",
        "# X_cat = encoder.fit_transform(melb_df[categorical_cols])\n",
        "# for col, col_values in zip(categorical_cols, encoder.categories_):\n",
        "#   for col_value in col_values:\n",
        "#     new_columns.append('{}={}'.format(col, col_value))\n",
        "# print(\"Matrix has shape {}, with columns: {}\".format(X_cat.shape, new_columns))\n",
        "\n",
        "# # Step 2: Append the numerical columns\n",
        "# X = numpy.hstack([X_cat, melb_df[numerical_cols].values])\n",
        "# new_columns.extend(numerical_cols)\n",
        "# print(\"Matrix has shape {}, with columns: {}\".format(X_cat.shape, new_columns))\n",
        "\n",
        "# # Step 3: Append some new features, like PCA\n",
        "# pca = PCA(n_components=2)\n",
        "# pca_dummy_features = pca.fit_transform(X)\n",
        "# X_pca = numpy.hstack([X, pca_dummy_features])\n",
        "# new_columns.extend(['pca1', 'pca2'])\n",
        "\n",
        "# ## Re-build dataframe\n",
        "# processed_melb_df = pandas.DataFrame(data=X_pca, columns=new_columns)\n",
        "# processed_melb_df.head()"
      ],
      "execution_count": null,
      "outputs": []
    },
    {
      "cell_type": "markdown",
      "metadata": {
        "id": "mVBLFc8PhRtW"
      },
      "source": [
        "## Ejercicio 5: Documentación\n",
        "\n",
        "En un documento `.pdf` o `.md` realizar un reporte de las operaciones que realizaron para obtener el conjunto de datos final. Se debe incluir:\n",
        "  1. Criterios de exclusión (o inclusión) de filas\n",
        "  2. Interpretación de las columnas presentes\n",
        "  2. Todas las transofrmaciones realizadas\n",
        "\n",
        "Este documento es de uso técnico exclusivamente, y su objetivo es permitir que otres desarrolladores puedan reproducir los mismos pasos y obtener el mismo resultado. Debe ser detallado pero consiso. Por ejemplo:\n",
        "\n",
        "```\n",
        "  ## Criterios de exclusión de ejemplos\n",
        "  1. Se eliminan ejemplos donde el año de construcción es previo a 1900\n",
        "\n",
        "  ## Características seleccionadas\n",
        "  ### Características categóricas\n",
        "  1. Type: tipo de propiedad. 3 valores posibles\n",
        "  2. ...\n",
        "  Todas las características categóricas fueron codificadas con un\n",
        "  método OneHotEncoding utilizando como máximo sus 30 valores más \n",
        "  frecuentes.\n",
        "  \n",
        "  ### Características numéricas\n",
        "  1. Rooms: Cantidad de habitaciones\n",
        "  2. Distance: Distancia al centro de la ciudad.\n",
        "  3. airbnb_mean_price: Se agrega el precio promedio diario de \n",
        "     publicaciones de la plataforma AirBnB en el mismo código \n",
        "     postal. [Link al repositorio con datos externos].\n",
        "\n",
        "  ### Transformaciones:\n",
        "  1. Todas las características numéricas fueron estandarizadas.\n",
        "  2. La columna `Suburb` fue imputada utilizando el método ...\n",
        "  3. Las columnas `YearBuilt` y ... fueron imputadas utilizando el \n",
        "     algoritmo ...\n",
        "  4. ...\n",
        "\n",
        "  ### Datos aumentados\n",
        "  1. Se agregan las 5 primeras columnas obtenidas a través del\n",
        "     método de PCA, aplicado sobre el conjunto de datos\n",
        "     totalmente procesado.\n",
        "```\n"
      ]
    }
  ]
}