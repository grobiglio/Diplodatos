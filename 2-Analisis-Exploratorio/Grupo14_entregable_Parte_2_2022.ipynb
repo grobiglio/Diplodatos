{
 "cells": [
  {
   "cell_type": "markdown",
   "metadata": {
    "id": "view-in-github"
   },
   "source": [
    "<a href=\"https://colab.research.google.com/github/DiploDatos/AnalisisYCuracion/blob/master/Entregable_Parte_2.ipynb\" target=\"_parent\"><img src=\"https://colab.research.google.com/assets/colab-badge.svg\" alt=\"Open In Colab\"/></a>"
   ]
  },
  {
   "cell_type": "markdown",
   "metadata": {
    "id": "zO4bRoxr2Apy"
   },
   "source": [
    "**Diplomatura en Ciencia de Datos, Aprendizaje Automático y sus Aplicaciones**\n",
    "\n",
    "**Exploración y Curación de Datos**\n",
    "\n",
    "*Edición 2021*\n",
    "\n",
    "----\n",
    "\n",
    "# Trabajo práctico entregable - parte 2\n",
    "\n",
    "\n",
    "En el ejercicio 1 de la parte 1 del entregable seleccionaron las filas y columnas relevantes al problema de predicción de precios de una propiedad. Además de ello, tuvieron que reducir el número de valores posibles para las variables categóricas utilizando información de dominio.\n",
    "\n",
    "En el ejercicio 2 de la parte 1 del entregable imputaron los valores faltantes de las columnas `Suburb` y las columnas obtenidas a partir del conjunto de datos `airbnb`.\n",
    "\n",
    "En esta notebook, **se utilizará resultado de dichas operaciones.**\n"
   ]
  },
  {
   "cell_type": "code",
   "execution_count": 4,
   "metadata": {
    "id": "4udjxjk1EtVU"
   },
   "outputs": [],
   "source": [
    "import matplotlib.pyplot as plt\n",
    "import numpy\n",
    "import pandas \n",
    "\n",
    "import seaborn\n",
    "seaborn.set_context('talk')\n",
    "\n",
    "\n",
    "import missingno as msno"
   ]
  },
  {
   "cell_type": "code",
   "execution_count": 5,
   "metadata": {
    "colab": {
     "base_uri": "https://localhost:8080/",
     "height": 207
    },
    "id": "_qeFN3GnEvMk",
    "outputId": "cf70fbc4-34fd-4ea1-9b8d-078a22832b04"
   },
   "outputs": [
    {
     "data": {
      "text/html": [
       "<div>\n",
       "<style scoped>\n",
       "    .dataframe tbody tr th:only-of-type {\n",
       "        vertical-align: middle;\n",
       "    }\n",
       "\n",
       "    .dataframe tbody tr th {\n",
       "        vertical-align: top;\n",
       "    }\n",
       "\n",
       "    .dataframe thead th {\n",
       "        text-align: right;\n",
       "    }\n",
       "</style>\n",
       "<table border=\"1\" class=\"dataframe\">\n",
       "  <thead>\n",
       "    <tr style=\"text-align: right;\">\n",
       "      <th></th>\n",
       "      <th>Suburb</th>\n",
       "      <th>SellerG</th>\n",
       "      <th>CouncilArea</th>\n",
       "      <th>Type</th>\n",
       "      <th>BuildingArea</th>\n",
       "      <th>Rooms</th>\n",
       "      <th>Propertycount</th>\n",
       "      <th>Lattitude</th>\n",
       "      <th>Longtitude</th>\n",
       "      <th>Distance</th>\n",
       "      <th>YearBuilt</th>\n",
       "      <th>Postcode</th>\n",
       "      <th>airbnb_price_median</th>\n",
       "      <th>airbnb_weekly_price_median</th>\n",
       "      <th>airbnb_monthly_price_median</th>\n",
       "    </tr>\n",
       "  </thead>\n",
       "  <tbody>\n",
       "    <tr>\n",
       "      <th>0</th>\n",
       "      <td>Abbotsford</td>\n",
       "      <td>Biggin</td>\n",
       "      <td>Yarra</td>\n",
       "      <td>h</td>\n",
       "      <td>NaN</td>\n",
       "      <td>2</td>\n",
       "      <td>4019.0</td>\n",
       "      <td>-37.7996</td>\n",
       "      <td>144.9984</td>\n",
       "      <td>2.5</td>\n",
       "      <td>NaN</td>\n",
       "      <td>3067.0</td>\n",
       "      <td>100.0</td>\n",
       "      <td>380.0</td>\n",
       "      <td>1440.0</td>\n",
       "    </tr>\n",
       "    <tr>\n",
       "      <th>1</th>\n",
       "      <td>Abbotsford</td>\n",
       "      <td>Biggin</td>\n",
       "      <td>Yarra</td>\n",
       "      <td>h</td>\n",
       "      <td>79.0</td>\n",
       "      <td>2</td>\n",
       "      <td>4019.0</td>\n",
       "      <td>-37.8079</td>\n",
       "      <td>144.9934</td>\n",
       "      <td>2.5</td>\n",
       "      <td>1900.0</td>\n",
       "      <td>3067.0</td>\n",
       "      <td>100.0</td>\n",
       "      <td>380.0</td>\n",
       "      <td>1440.0</td>\n",
       "    </tr>\n",
       "    <tr>\n",
       "      <th>2</th>\n",
       "      <td>Abbotsford</td>\n",
       "      <td>Biggin</td>\n",
       "      <td>Yarra</td>\n",
       "      <td>h</td>\n",
       "      <td>150.0</td>\n",
       "      <td>3</td>\n",
       "      <td>4019.0</td>\n",
       "      <td>-37.8093</td>\n",
       "      <td>144.9944</td>\n",
       "      <td>2.5</td>\n",
       "      <td>1900.0</td>\n",
       "      <td>3067.0</td>\n",
       "      <td>100.0</td>\n",
       "      <td>380.0</td>\n",
       "      <td>1440.0</td>\n",
       "    </tr>\n",
       "  </tbody>\n",
       "</table>\n",
       "</div>"
      ],
      "text/plain": [
       "       Suburb SellerG CouncilArea Type  BuildingArea  Rooms  Propertycount  \\\n",
       "0  Abbotsford  Biggin       Yarra    h           NaN      2         4019.0   \n",
       "1  Abbotsford  Biggin       Yarra    h          79.0      2         4019.0   \n",
       "2  Abbotsford  Biggin       Yarra    h         150.0      3         4019.0   \n",
       "\n",
       "   Lattitude  Longtitude  Distance  YearBuilt  Postcode  airbnb_price_median  \\\n",
       "0   -37.7996    144.9984       2.5        NaN    3067.0                100.0   \n",
       "1   -37.8079    144.9934       2.5     1900.0    3067.0                100.0   \n",
       "2   -37.8093    144.9944       2.5     1900.0    3067.0                100.0   \n",
       "\n",
       "   airbnb_weekly_price_median  airbnb_monthly_price_median  \n",
       "0                       380.0                       1440.0  \n",
       "1                       380.0                       1440.0  \n",
       "2                       380.0                       1440.0  "
      ]
     },
     "execution_count": 5,
     "metadata": {},
     "output_type": "execute_result"
    }
   ],
   "source": [
    "# Acá deberían leer el conjunto de datos que ya tienen.\n",
    "melb_df = pandas.read_csv('./melb_data_complet.csv')\n",
    "melb_df[:3]"
   ]
  },
  {
   "cell_type": "code",
   "execution_count": 6,
   "metadata": {
    "colab": {
     "base_uri": "https://localhost:8080/"
    },
    "id": "QyCrO-thZN0D",
    "outputId": "d60114ea-8886-4ab4-a22b-afba2ad70251"
   },
   "outputs": [
    {
     "name": "stdout",
     "output_type": "stream",
     "text": [
      "<class 'pandas.core.frame.DataFrame'>\n",
      "RangeIndex: 12448 entries, 0 to 12447\n",
      "Data columns (total 15 columns):\n",
      " #   Column                       Non-Null Count  Dtype  \n",
      "---  ------                       --------------  -----  \n",
      " 0   Suburb                       12448 non-null  object \n",
      " 1   SellerG                      12448 non-null  object \n",
      " 2   CouncilArea                  11152 non-null  object \n",
      " 3   Type                         12448 non-null  object \n",
      " 4   BuildingArea                 6038 non-null   float64\n",
      " 5   Rooms                        12448 non-null  int64  \n",
      " 6   Propertycount                12448 non-null  float64\n",
      " 7   Lattitude                    12448 non-null  float64\n",
      " 8   Longtitude                   12448 non-null  float64\n",
      " 9   Distance                     12448 non-null  float64\n",
      " 10  YearBuilt                    7201 non-null   float64\n",
      " 11  Postcode                     12448 non-null  float64\n",
      " 12  airbnb_price_median          12426 non-null  float64\n",
      " 13  airbnb_weekly_price_median   11615 non-null  float64\n",
      " 14  airbnb_monthly_price_median  11244 non-null  float64\n",
      "dtypes: float64(10), int64(1), object(4)\n",
      "memory usage: 1.4+ MB\n"
     ]
    }
   ],
   "source": [
    "melb_df.info()"
   ]
  },
  {
   "cell_type": "code",
   "execution_count": 7,
   "metadata": {
    "colab": {
     "base_uri": "https://localhost:8080/"
    },
    "id": "hXXPSwiSJghj",
    "outputId": "bb114fbc-ead3-4feb-8237-42df3dfcbcd6"
   },
   "outputs": [
    {
     "data": {
      "text/plain": [
       "(12448, 15)"
      ]
     },
     "execution_count": 7,
     "metadata": {},
     "output_type": "execute_result"
    }
   ],
   "source": [
    "melb_df.shape"
   ]
  },
  {
   "cell_type": "markdown",
   "metadata": {
    "id": "s-mixICN22kA"
   },
   "source": [
    "## Ejercicio 1: Encoding\n",
    "\n",
    "1. Seleccionar todas las filas y columnas del conjunto de datos obtenido en la parte 1 del entregable, **excepto** `BuildingArea` y `YearBuilt`, que volveremos a imputar más adelante.\n",
    "\n",
    "2. Aplicar una codificación One-hot encoding a cada fila, tanto para variables numéricas como categóricas. Si lo consideran necesario, pueden volver a reducir el número de categorías únicas.\n",
    "\n",
    "Algunas opciones:\n",
    "  1. Utilizar `OneHotEncoder` junto con el parámetro `categories` para las variables categóricas y luego usar `numpy.hstack` para concatenar el resultado con las variables numéricas. \n",
    "  2. `DictVectorizer` con algunos pasos de pre-proceso previo.\n",
    "\n",
    "Recordar también que el atributo `pandas.DataFrame.values` permite acceder a la matriz de numpy subyacente a un DataFrame.\n"
   ]
  },
  {
   "cell_type": "code",
   "execution_count": 8,
   "metadata": {
    "colab": {
     "base_uri": "https://localhost:8080/"
    },
    "id": "jm5OM-z87OQg",
    "outputId": "a3147d71-4699-474e-9368-a52354e51463"
   },
   "outputs": [
    {
     "data": {
      "text/plain": [
       "Index(['Suburb', 'SellerG', 'CouncilArea', 'Type', 'BuildingArea', 'Rooms',\n",
       "       'Propertycount', 'Lattitude', 'Longtitude', 'Distance', 'YearBuilt',\n",
       "       'Postcode', 'airbnb_price_median', 'airbnb_weekly_price_median',\n",
       "       'airbnb_monthly_price_median'],\n",
       "      dtype='object')"
      ]
     },
     "execution_count": 8,
     "metadata": {},
     "output_type": "execute_result"
    }
   ],
   "source": [
    "melb_df.columns"
   ]
  },
  {
   "cell_type": "markdown",
   "metadata": {
    "id": "QFCj5es2mVq1"
   },
   "source": [
    "1. Seleccionamos todas las filas y columnas del conjunto de datos generados en la parte I, excepto aquellos relacionados con YearBuilt y BuildingArea."
   ]
  },
  {
   "cell_type": "code",
   "execution_count": 9,
   "metadata": {
    "colab": {
     "base_uri": "https://localhost:8080/"
    },
    "id": "AGPF088zpSSj",
    "outputId": "c5da537a-85eb-45f4-c014-077e500de78a"
   },
   "outputs": [
    {
     "data": {
      "text/plain": [
       "Index(['Suburb', 'SellerG', 'CouncilArea', 'Type', 'Rooms', 'Propertycount',\n",
       "       'Lattitude', 'Longtitude', 'Distance', 'Postcode',\n",
       "       'airbnb_price_median', 'airbnb_weekly_price_median',\n",
       "       'airbnb_monthly_price_median'],\n",
       "      dtype='object')"
      ]
     },
     "execution_count": 9,
     "metadata": {},
     "output_type": "execute_result"
    }
   ],
   "source": [
    "melb_df2 = melb_df.drop(columns=['YearBuilt', 'BuildingArea'])\n",
    "melb_df2.columns"
   ]
  },
  {
   "cell_type": "markdown",
   "metadata": {
    "id": "T8Kkku-vmoeA"
   },
   "source": [
    "2. Codificación de variables categóricas"
   ]
  },
  {
   "cell_type": "markdown",
   "metadata": {
    "id": "XdihJt6SmfFL"
   },
   "source": [
    "Definimos una lista de las columnas que se corresponden a variables categoricas para realizar la codificación."
   ]
  },
  {
   "cell_type": "code",
   "execution_count": 10,
   "metadata": {
    "id": "I1zcZcHtmfjF"
   },
   "outputs": [],
   "source": [
    "columns_to_encode = ['Type', 'SellerG', 'Suburb', 'CouncilArea']"
   ]
  },
  {
   "cell_type": "markdown",
   "metadata": {
    "id": "CdBkIe9rgSyG"
   },
   "source": [
    "Tratamiento de valores faltantes antes de realizar la codificación"
   ]
  },
  {
   "cell_type": "code",
   "execution_count": 11,
   "metadata": {
    "colab": {
     "base_uri": "https://localhost:8080/",
     "height": 456
    },
    "id": "SPjQOSVLTX10",
    "outputId": "4c5de991-b538-4815-c6de-b0c9ecd9cc03"
   },
   "outputs": [
    {
     "data": {
      "text/plain": [
       "<AxesSubplot:>"
      ]
     },
     "execution_count": 11,
     "metadata": {},
     "output_type": "execute_result"
    },
    {
     "data": {
      "image/png": "[encoded data removed]",
      "text/plain": [
       "<Figure size 864x432 with 2 Axes>"
      ]
     },
     "metadata": {
      "needs_background": "light"
     },
     "output_type": "display_data"
    }
   ],
   "source": [
    "# melb_df.CouncilArea.value_counts()\n",
    "msno.matrix(melb_df2[columns_to_encode].sample(200), figsize=(12, 6), fontsize=12, color=[0, 0, 1])"
   ]
  },
  {
   "cell_type": "markdown",
   "metadata": {
    "id": "SUhPSzNDRP8y"
   },
   "source": [
    "CouncilArea es la única variable categórica que tiene valores faltantes. La ciudad de Melbourne tiene un total de 32 municipios cubriendo el área metropolitana (algunos se extienden a áreas rurales cercanas). \n",
    "\n",
    "En nuestro dataset la cantidad de categorias reflejadas para esta variable es de 33. Notar que hay una categoría que se denomina 'Unavailable' y que contiene sólo un registro, éste fue designado al conjunto NaN para su tratamiento (este conjunto no es considerado una clase de la variable categórica en cuestión). Esto nos dice que en nuestro conjunto de datos contamos con todas las categorias reales de CouncilArea."
   ]
  },
  {
   "cell_type": "code",
   "execution_count": 12,
   "metadata": {
    "colab": {
     "base_uri": "https://localhost:8080/"
    },
    "id": "otqqn9PPSX4l",
    "outputId": "df345998-8730-459e-cb37-e696a6f848d8"
   },
   "outputs": [
    {
     "data": {
      "text/plain": [
       "33"
      ]
     },
     "execution_count": 12,
     "metadata": {},
     "output_type": "execute_result"
    }
   ],
   "source": [
    "melb_df2.CouncilArea.nunique()"
   ]
  },
  {
   "cell_type": "code",
   "execution_count": 13,
   "metadata": {
    "colab": {
     "base_uri": "https://localhost:8080/"
    },
    "id": "AqZFQFy4RRLr",
    "outputId": "890012df-94f0-48bb-d2e0-c523cba6b58d"
   },
   "outputs": [
    {
     "data": {
      "text/plain": [
       "array(['Yarra', 'Moonee Valley', 'Port Phillip', 'Darebin', 'Hobsons Bay',\n",
       "       'Stonnington', 'Boroondara', 'Monash', 'Glen Eira', 'Whitehorse',\n",
       "       'Maribyrnong', 'Bayside', 'Moreland', 'Manningham', 'Banyule',\n",
       "       'Melbourne', 'Kingston', 'Brimbank', 'Hume', nan, 'Knox',\n",
       "       'Maroondah', 'Casey', 'Melton', 'Greater Dandenong', 'Whittlesea',\n",
       "       'Nillumbik', 'Frankston', 'Macedon Ranges', 'Yarra Ranges',\n",
       "       'Wyndham', 'Cardinia', 'Unavailable', 'Moorabool'], dtype=object)"
      ]
     },
     "execution_count": 13,
     "metadata": {},
     "output_type": "execute_result"
    }
   ],
   "source": [
    "melb_df2.CouncilArea.unique()"
   ]
  },
  {
   "cell_type": "code",
   "execution_count": 14,
   "metadata": {
    "colab": {
     "base_uri": "https://localhost:8080/",
     "height": 145
    },
    "id": "u3qNApiYT3QH",
    "outputId": "c48dac25-c530-4092-dc7f-eede38f3f45b"
   },
   "outputs": [
    {
     "data": {
      "text/html": [
       "<div>\n",
       "<style scoped>\n",
       "    .dataframe tbody tr th:only-of-type {\n",
       "        vertical-align: middle;\n",
       "    }\n",
       "\n",
       "    .dataframe tbody tr th {\n",
       "        vertical-align: top;\n",
       "    }\n",
       "\n",
       "    .dataframe thead th {\n",
       "        text-align: right;\n",
       "    }\n",
       "</style>\n",
       "<table border=\"1\" class=\"dataframe\">\n",
       "  <thead>\n",
       "    <tr style=\"text-align: right;\">\n",
       "      <th></th>\n",
       "      <th>Suburb</th>\n",
       "      <th>SellerG</th>\n",
       "      <th>CouncilArea</th>\n",
       "      <th>Type</th>\n",
       "      <th>Rooms</th>\n",
       "      <th>Propertycount</th>\n",
       "      <th>Lattitude</th>\n",
       "      <th>Longtitude</th>\n",
       "      <th>Distance</th>\n",
       "      <th>Postcode</th>\n",
       "      <th>airbnb_price_median</th>\n",
       "      <th>airbnb_weekly_price_median</th>\n",
       "      <th>airbnb_monthly_price_median</th>\n",
       "    </tr>\n",
       "  </thead>\n",
       "  <tbody>\n",
       "    <tr>\n",
       "      <th>9018</th>\n",
       "      <td>Hampton</td>\n",
       "      <td>RT</td>\n",
       "      <td>Unavailable</td>\n",
       "      <td>h</td>\n",
       "      <td>3</td>\n",
       "      <td>5454.0</td>\n",
       "      <td>-37.93434</td>\n",
       "      <td>145.00816</td>\n",
       "      <td>13.8</td>\n",
       "      <td>3188.0</td>\n",
       "      <td>163.0</td>\n",
       "      <td>650.0</td>\n",
       "      <td>2500.0</td>\n",
       "    </tr>\n",
       "  </tbody>\n",
       "</table>\n",
       "</div>"
      ],
      "text/plain": [
       "       Suburb SellerG  CouncilArea Type  Rooms  Propertycount  Lattitude  \\\n",
       "9018  Hampton      RT  Unavailable    h      3         5454.0  -37.93434   \n",
       "\n",
       "      Longtitude  Distance  Postcode  airbnb_price_median  \\\n",
       "9018   145.00816      13.8    3188.0                163.0   \n",
       "\n",
       "      airbnb_weekly_price_median  airbnb_monthly_price_median  \n",
       "9018                       650.0                       2500.0  "
      ]
     },
     "execution_count": 14,
     "metadata": {},
     "output_type": "execute_result"
    }
   ],
   "source": [
    "melb_df2[melb_df['CouncilArea'] == 'Unavailable']"
   ]
  },
  {
   "cell_type": "code",
   "execution_count": 15,
   "metadata": {
    "id": "OJkhGgk4RWXZ"
   },
   "outputs": [],
   "source": [
    "melb_df2[melb_df2['CouncilArea'] == 'Unavailable'] = numpy.nan"
   ]
  },
  {
   "cell_type": "code",
   "execution_count": 16,
   "metadata": {
    "colab": {
     "base_uri": "https://localhost:8080/",
     "height": 113
    },
    "id": "Vhq-dbevRa45",
    "outputId": "e4be8ff1-86b7-46ca-ab62-b647592bef19"
   },
   "outputs": [
    {
     "data": {
      "text/html": [
       "<div>\n",
       "<style scoped>\n",
       "    .dataframe tbody tr th:only-of-type {\n",
       "        vertical-align: middle;\n",
       "    }\n",
       "\n",
       "    .dataframe tbody tr th {\n",
       "        vertical-align: top;\n",
       "    }\n",
       "\n",
       "    .dataframe thead th {\n",
       "        text-align: right;\n",
       "    }\n",
       "</style>\n",
       "<table border=\"1\" class=\"dataframe\">\n",
       "  <thead>\n",
       "    <tr style=\"text-align: right;\">\n",
       "      <th></th>\n",
       "      <th>Suburb</th>\n",
       "      <th>SellerG</th>\n",
       "      <th>CouncilArea</th>\n",
       "      <th>Type</th>\n",
       "      <th>Rooms</th>\n",
       "      <th>Propertycount</th>\n",
       "      <th>Lattitude</th>\n",
       "      <th>Longtitude</th>\n",
       "      <th>Distance</th>\n",
       "      <th>Postcode</th>\n",
       "      <th>airbnb_price_median</th>\n",
       "      <th>airbnb_weekly_price_median</th>\n",
       "      <th>airbnb_monthly_price_median</th>\n",
       "    </tr>\n",
       "  </thead>\n",
       "  <tbody>\n",
       "  </tbody>\n",
       "</table>\n",
       "</div>"
      ],
      "text/plain": [
       "Empty DataFrame\n",
       "Columns: [Suburb, SellerG, CouncilArea, Type, Rooms, Propertycount, Lattitude, Longtitude, Distance, Postcode, airbnb_price_median, airbnb_weekly_price_median, airbnb_monthly_price_median]\n",
       "Index: []"
      ]
     },
     "execution_count": 16,
     "metadata": {},
     "output_type": "execute_result"
    }
   ],
   "source": [
    "melb_df2[melb_df2['CouncilArea'] == 'Unavailable']"
   ]
  },
  {
   "cell_type": "code",
   "execution_count": 17,
   "metadata": {
    "colab": {
     "base_uri": "https://localhost:8080/"
    },
    "id": "__ypTI7TVx-L",
    "outputId": "9126c10a-9eb0-441c-b062-78d59fe5e69d"
   },
   "outputs": [
    {
     "data": {
      "text/plain": [
       "32"
      ]
     },
     "execution_count": 17,
     "metadata": {},
     "output_type": "execute_result"
    }
   ],
   "source": [
    "melb_df2.CouncilArea.nunique()"
   ]
  },
  {
   "cell_type": "markdown",
   "metadata": {
    "id": "qgsjm0YcU_Tr"
   },
   "source": [
    "Ahora tenemos dentro de CouncilArea 32 categorías y un conjunto con registros asociados a datos faltantes. Al final de la imputación vamos a obtener la cantidad real de categorías, es decir, 32."
   ]
  },
  {
   "cell_type": "markdown",
   "metadata": {
    "id": "WAqbMJ0Yg1Tq"
   },
   "source": [
    "Realizamos una exploración para intentar imputar los valores faltantes de CouncilArea. Las variables que nos pueden ayudar son Suburb y Postcode."
   ]
  },
  {
   "cell_type": "code",
   "execution_count": 18,
   "metadata": {
    "colab": {
     "base_uri": "https://localhost:8080/",
     "height": 423
    },
    "id": "5SrKlI4idg7W",
    "outputId": "b56d6ba9-3c91-4dad-f2bc-7ce16ab9b3dc"
   },
   "outputs": [
    {
     "data": {
      "text/html": [
       "<div>\n",
       "<style scoped>\n",
       "    .dataframe tbody tr th:only-of-type {\n",
       "        vertical-align: middle;\n",
       "    }\n",
       "\n",
       "    .dataframe tbody tr th {\n",
       "        vertical-align: top;\n",
       "    }\n",
       "\n",
       "    .dataframe thead th {\n",
       "        text-align: right;\n",
       "    }\n",
       "</style>\n",
       "<table border=\"1\" class=\"dataframe\">\n",
       "  <thead>\n",
       "    <tr style=\"text-align: right;\">\n",
       "      <th></th>\n",
       "      <th>CouncilArea</th>\n",
       "      <th>Suburb</th>\n",
       "      <th>Postcode</th>\n",
       "    </tr>\n",
       "  </thead>\n",
       "  <tbody>\n",
       "    <tr>\n",
       "      <th>0</th>\n",
       "      <td>Yarra</td>\n",
       "      <td>Abbotsford</td>\n",
       "      <td>3067.0</td>\n",
       "    </tr>\n",
       "    <tr>\n",
       "      <th>1</th>\n",
       "      <td>Yarra</td>\n",
       "      <td>Abbotsford</td>\n",
       "      <td>3067.0</td>\n",
       "    </tr>\n",
       "    <tr>\n",
       "      <th>2</th>\n",
       "      <td>Yarra</td>\n",
       "      <td>Abbotsford</td>\n",
       "      <td>3067.0</td>\n",
       "    </tr>\n",
       "    <tr>\n",
       "      <th>3</th>\n",
       "      <td>Yarra</td>\n",
       "      <td>Abbotsford</td>\n",
       "      <td>3067.0</td>\n",
       "    </tr>\n",
       "    <tr>\n",
       "      <th>4</th>\n",
       "      <td>Yarra</td>\n",
       "      <td>Abbotsford</td>\n",
       "      <td>3067.0</td>\n",
       "    </tr>\n",
       "    <tr>\n",
       "      <th>...</th>\n",
       "      <td>...</td>\n",
       "      <td>...</td>\n",
       "      <td>...</td>\n",
       "    </tr>\n",
       "    <tr>\n",
       "      <th>12443</th>\n",
       "      <td>NaN</td>\n",
       "      <td>Wheelers Hill</td>\n",
       "      <td>3150.0</td>\n",
       "    </tr>\n",
       "    <tr>\n",
       "      <th>12444</th>\n",
       "      <td>NaN</td>\n",
       "      <td>Williamstown</td>\n",
       "      <td>3016.0</td>\n",
       "    </tr>\n",
       "    <tr>\n",
       "      <th>12445</th>\n",
       "      <td>NaN</td>\n",
       "      <td>Williamstown</td>\n",
       "      <td>3016.0</td>\n",
       "    </tr>\n",
       "    <tr>\n",
       "      <th>12446</th>\n",
       "      <td>NaN</td>\n",
       "      <td>Williamstown</td>\n",
       "      <td>3016.0</td>\n",
       "    </tr>\n",
       "    <tr>\n",
       "      <th>12447</th>\n",
       "      <td>NaN</td>\n",
       "      <td>Yarraville</td>\n",
       "      <td>3013.0</td>\n",
       "    </tr>\n",
       "  </tbody>\n",
       "</table>\n",
       "<p>12448 rows × 3 columns</p>\n",
       "</div>"
      ],
      "text/plain": [
       "      CouncilArea         Suburb  Postcode\n",
       "0           Yarra     Abbotsford    3067.0\n",
       "1           Yarra     Abbotsford    3067.0\n",
       "2           Yarra     Abbotsford    3067.0\n",
       "3           Yarra     Abbotsford    3067.0\n",
       "4           Yarra     Abbotsford    3067.0\n",
       "...           ...            ...       ...\n",
       "12443         NaN  Wheelers Hill    3150.0\n",
       "12444         NaN   Williamstown    3016.0\n",
       "12445         NaN   Williamstown    3016.0\n",
       "12446         NaN   Williamstown    3016.0\n",
       "12447         NaN     Yarraville    3013.0\n",
       "\n",
       "[12448 rows x 3 columns]"
      ]
     },
     "execution_count": 18,
     "metadata": {},
     "output_type": "execute_result"
    }
   ],
   "source": [
    "melb_df2[['CouncilArea','Suburb', 'Postcode']]"
   ]
  },
  {
   "cell_type": "code",
   "execution_count": 19,
   "metadata": {
    "colab": {
     "base_uri": "https://localhost:8080/",
     "height": 423
    },
    "id": "_3IxTQxRdti5",
    "outputId": "a2c5dc28-f8eb-46c5-b1c7-0be2e3ff718a"
   },
   "outputs": [
    {
     "data": {
      "text/html": [
       "<div>\n",
       "<style scoped>\n",
       "    .dataframe tbody tr th:only-of-type {\n",
       "        vertical-align: middle;\n",
       "    }\n",
       "\n",
       "    .dataframe tbody tr th {\n",
       "        vertical-align: top;\n",
       "    }\n",
       "\n",
       "    .dataframe thead th {\n",
       "        text-align: right;\n",
       "    }\n",
       "</style>\n",
       "<table border=\"1\" class=\"dataframe\">\n",
       "  <thead>\n",
       "    <tr style=\"text-align: right;\">\n",
       "      <th></th>\n",
       "      <th>Suburb</th>\n",
       "      <th>Postcode</th>\n",
       "    </tr>\n",
       "  </thead>\n",
       "  <tbody>\n",
       "    <tr>\n",
       "      <th>6868</th>\n",
       "      <td>Brighton East</td>\n",
       "      <td>3187.0</td>\n",
       "    </tr>\n",
       "    <tr>\n",
       "      <th>9018</th>\n",
       "      <td>NaN</td>\n",
       "      <td>NaN</td>\n",
       "    </tr>\n",
       "    <tr>\n",
       "      <th>9845</th>\n",
       "      <td>Reservoir</td>\n",
       "      <td>3073.0</td>\n",
       "    </tr>\n",
       "    <tr>\n",
       "      <th>11154</th>\n",
       "      <td>Aberfeldie</td>\n",
       "      <td>3040.0</td>\n",
       "    </tr>\n",
       "    <tr>\n",
       "      <th>11155</th>\n",
       "      <td>Albion</td>\n",
       "      <td>3020.0</td>\n",
       "    </tr>\n",
       "    <tr>\n",
       "      <th>...</th>\n",
       "      <td>...</td>\n",
       "      <td>...</td>\n",
       "    </tr>\n",
       "    <tr>\n",
       "      <th>12443</th>\n",
       "      <td>Wheelers Hill</td>\n",
       "      <td>3150.0</td>\n",
       "    </tr>\n",
       "    <tr>\n",
       "      <th>12444</th>\n",
       "      <td>Williamstown</td>\n",
       "      <td>3016.0</td>\n",
       "    </tr>\n",
       "    <tr>\n",
       "      <th>12445</th>\n",
       "      <td>Williamstown</td>\n",
       "      <td>3016.0</td>\n",
       "    </tr>\n",
       "    <tr>\n",
       "      <th>12446</th>\n",
       "      <td>Williamstown</td>\n",
       "      <td>3016.0</td>\n",
       "    </tr>\n",
       "    <tr>\n",
       "      <th>12447</th>\n",
       "      <td>Yarraville</td>\n",
       "      <td>3013.0</td>\n",
       "    </tr>\n",
       "  </tbody>\n",
       "</table>\n",
       "<p>1297 rows × 2 columns</p>\n",
       "</div>"
      ],
      "text/plain": [
       "              Suburb  Postcode\n",
       "6868   Brighton East    3187.0\n",
       "9018             NaN       NaN\n",
       "9845       Reservoir    3073.0\n",
       "11154     Aberfeldie    3040.0\n",
       "11155         Albion    3020.0\n",
       "...              ...       ...\n",
       "12443  Wheelers Hill    3150.0\n",
       "12444   Williamstown    3016.0\n",
       "12445   Williamstown    3016.0\n",
       "12446   Williamstown    3016.0\n",
       "12447     Yarraville    3013.0\n",
       "\n",
       "[1297 rows x 2 columns]"
      ]
     },
     "execution_count": 19,
     "metadata": {},
     "output_type": "execute_result"
    }
   ],
   "source": [
    "(melb_df2[melb_df2.CouncilArea.isna()])[['Suburb', 'Postcode']] #Suburb y postcode cuando CouncilArea es NaN"
   ]
  },
  {
   "cell_type": "code",
   "execution_count": 20,
   "metadata": {
    "colab": {
     "base_uri": "https://localhost:8080/"
    },
    "id": "EjwMwBl8d_Qu",
    "outputId": "db1c3a06-7be8-4dd9-9cb3-84b116a4a6a4"
   },
   "outputs": [
    {
     "data": {
      "text/plain": [
       "194"
      ]
     },
     "execution_count": 20,
     "metadata": {},
     "output_type": "execute_result"
    }
   ],
   "source": [
    "df_ca_not_null = melb_df2[melb_df2.CouncilArea.notna()] #Creo dataframe con los registros con CouncilArea no NaN\n",
    "\n",
    "len(df_ca_not_null.Postcode.unique()) #cantidad de valores distintos de Postcode con CouncilArea no NaN"
   ]
  },
  {
   "cell_type": "code",
   "execution_count": 21,
   "metadata": {
    "colab": {
     "base_uri": "https://localhost:8080/"
    },
    "id": "920tl9KUh6n-",
    "outputId": "298e2945-d53d-4775-ceed-9120e564b8f9"
   },
   "outputs": [
    {
     "data": {
      "text/plain": [
       "306"
      ]
     },
     "execution_count": 21,
     "metadata": {},
     "output_type": "execute_result"
    }
   ],
   "source": [
    "len(df_ca_not_null.Suburb.unique()) #cantidad de valores distintos de Suburb con CouncilArea no NaN"
   ]
  },
  {
   "cell_type": "code",
   "execution_count": 22,
   "metadata": {
    "colab": {
     "base_uri": "https://localhost:8080/"
    },
    "id": "fSziLVUSeLyi",
    "outputId": "45c8eebc-f5b5-4844-8439-b5943ae0375e"
   },
   "outputs": [
    {
     "data": {
      "text/plain": [
       "169"
      ]
     },
     "execution_count": 22,
     "metadata": {},
     "output_type": "execute_result"
    }
   ],
   "source": [
    "df_ca_null = melb_df2[melb_df2.CouncilArea.isna()] #dataframe con los registros con CouncilArea NaN\n",
    "\n",
    "len(df_ca_null.Postcode.unique()) #cantidad de los distintos valores de Postcode con CouncilArea no NaN"
   ]
  },
  {
   "cell_type": "code",
   "execution_count": 23,
   "metadata": {
    "colab": {
     "base_uri": "https://localhost:8080/"
    },
    "id": "ZUbnwjXPiKGB",
    "outputId": "540420f9-e9fd-4487-84fb-8eadd5c1f7b8"
   },
   "outputs": [
    {
     "data": {
      "text/plain": [
       "261"
      ]
     },
     "execution_count": 23,
     "metadata": {},
     "output_type": "execute_result"
    }
   ],
   "source": [
    "len(df_ca_null.Suburb.unique())"
   ]
  },
  {
   "cell_type": "markdown",
   "metadata": {
    "id": "yJqXfTYWJKS0"
   },
   "source": [
    "Vamos a elegir la información de Postcode para imputar los valores faltantes de CouncilArea ya que tiene menor cantidad de valores únicos en df_ca_null. Con ésto intentaríamos evitar que luego ambas variables tengan una correlación alta."
   ]
  },
  {
   "cell_type": "code",
   "execution_count": 24,
   "metadata": {
    "colab": {
     "base_uri": "https://localhost:8080/"
    },
    "id": "ue7sS4lneeCs",
    "outputId": "54f02fd5-bf46-4946-ed54-c213e268f85c"
   },
   "outputs": [
    {
     "name": "stdout",
     "output_type": "stream",
     "text": [
      "[3187.0, nan, 3073.0, 3040.0, 3020.0, 3078.0, 3018.0, 3028.0, 3025.0, 3143.0, 3032.0, 3183.0, 3104.0, 3153.0, 3165.0, 3193.0, 3130.0, 3128.0, 3088.0, 3186.0, 3047.0, 3056.0, 3057.0, 3083.0, 3023.0, 3151.0, 3124.0, 3054.0, 3145.0, 3192.0, 3169.0, 3068.0, 3058.0, 3048.0, 3064.0, 3136.0, 3175.0, 3089.0, 3172.0, 3108.0, 3109.0, 3111.0, 3754.0, 3095.0, 3184.0, 3076.0, 3041.0, 3060.0, 3156.0, 3065.0, 3031.0, 3011.0, 3199.0, 3043.0, 3146.0, 3150.0, 3046.0, 3059.0, 3188.0, 3190.0, 3029.0, 3166.0, 3021.0, 3033.0, 3101.0, 3102.0, 3075.0, 3012.0, 3337.0, 3194.0, 3039.0, 3189.0, 3195.0, 3149.0, 3170.0, 3015.0, 3042.0, 3051.0, 3070.0, 3167.0, 3204.0, 3044.0, 3030.0, 3207.0, 3181.0, 3121.0, 3134.0, 3205.0, 3141.0, 3171.0, 3429.0, 3038.0, 3071.0, 3113.0, 3003.0, 3016.0, 3013.0, 3147.0, 3049.0, 3019.0, 3055.0, 3105.0, 3125.0, 3126.0, 3053.0, 3066.0, 3437.0, 3122.0, 3123.0, 3135.0, 3081.0, 3037.0, 3099.0, 3079.0, 3036.0, 3144.0, 3338.0, 3206.0, 3082.0, 3132.0, 3127.0, 3138.0, 3163.0, 3072.0, 3084.0, 3191.0, 3198.0, 3752.0, 3107.0, 3152.0, 3750.0, 3034.0, 3103.0, 3196.0, 3155.0, 3201.0, 3168.0, 3177.0, 3131.0, 3803.0, 3094.0, 3805.0, 3179.0, 3074.0, 3142.0, 3133.0, 3756.0, 3087.0, 3067.0, 3022.0, 3061.0, 3185.0, 3137.0, 3796.0, 3106.0, 3024.0, 3085.0, 3806.0, 3173.0, 3335.0, 3182.0, 3154.0, 3162.0, 3148.0, 3977.0, 3200.0, 3976.0, 3910.0, 3793.0]\n"
     ]
    }
   ],
   "source": [
    "postcode_list_ca_null = (df_ca_null).Postcode.unique().tolist() #lista de postcodes únicos cuando CouncilArea es NaN\n",
    "print(postcode_list_ca_null)"
   ]
  },
  {
   "cell_type": "code",
   "execution_count": 25,
   "metadata": {
    "colab": {
     "base_uri": "https://localhost:8080/"
    },
    "id": "fEFHn3ELekgp",
    "outputId": "4f23d30f-fb54-4c13-d19f-bab02432be4a"
   },
   "outputs": [
    {
     "name": "stdout",
     "output_type": "stream",
     "text": [
      "166\n"
     ]
    },
    {
     "data": {
      "text/plain": [
       "{3067.0: 'Yarra',\n",
       " 3042.0: 'Brimbank',\n",
       " 3206.0: 'Port Phillip',\n",
       " 3078.0: 'Darebin',\n",
       " 3018.0: 'Hobsons Bay',\n",
       " 3025.0: 'Hobsons Bay',\n",
       " 3143.0: 'Stonnington',\n",
       " 3032.0: 'Moonee Valley',\n",
       " 3147.0: 'Monash',\n",
       " 3034.0: 'Moonee Valley',\n",
       " 3183.0: 'Port Phillip',\n",
       " 3103.0: 'Boroondara',\n",
       " 3104.0: 'Boroondara',\n",
       " 3204.0: 'Glen Eira',\n",
       " 3165.0: 'Glen Eira',\n",
       " 3128.0: 'Whitehorse',\n",
       " 3019.0: 'Maribyrnong',\n",
       " 3186.0: 'Bayside',\n",
       " 3187.0: 'Bayside',\n",
       " 3056.0: 'Moreland',\n",
       " 3055.0: 'Moreland',\n",
       " 3105.0: 'Manningham',\n",
       " 3125.0: 'Whitehorse',\n",
       " 3124.0: 'Boroondara',\n",
       " 3126.0: 'Boroondara',\n",
       " 3054.0: 'Yarra',\n",
       " 3163.0: 'Glen Eira',\n",
       " 3162.0: 'Glen Eira',\n",
       " 3148.0: 'Monash',\n",
       " 3068.0: 'Yarra',\n",
       " 3058.0: 'Moreland',\n",
       " 3066.0: 'Yarra',\n",
       " 3108.0: 'Manningham',\n",
       " 3084.0: 'Banyule',\n",
       " 3185.0: 'Glen Eira',\n",
       " 3184.0: 'Port Phillip',\n",
       " 3040.0: 'Moonee Valley',\n",
       " 3041.0: 'Moonee Valley',\n",
       " 3065.0: 'Yarra',\n",
       " 3031.0: 'Melbourne',\n",
       " 3011.0: 'Maribyrnong',\n",
       " 3146.0: 'Boroondara',\n",
       " 3046.0: 'Moreland',\n",
       " 3043.0: 'Hume',\n",
       " 3188.0: 'Bayside',\n",
       " 3122.0: 'Boroondara',\n",
       " 3081.0: 'Banyule',\n",
       " 3166.0: 'Monash',\n",
       " 3079.0: 'Banyule',\n",
       " 3021.0: 'Brimbank',\n",
       " 3033.0: 'Moonee Valley',\n",
       " 3101.0: 'Boroondara',\n",
       " 3102.0: 'Boroondara',\n",
       " 3144.0: 'Stonnington',\n",
       " 3012.0: 'Maribyrnong',\n",
       " 3145.0: 'Stonnington',\n",
       " 3127.0: 'Whitehorse',\n",
       " 3039.0: 'Moonee Valley',\n",
       " 3189.0: 'Kingston',\n",
       " 3015.0: 'Hobsons Bay',\n",
       " 3051.0: 'Melbourne',\n",
       " 3070.0: 'Darebin',\n",
       " 3167.0: 'Kingston',\n",
       " 3044.0: 'Moreland',\n",
       " 3207.0: 'Port Phillip',\n",
       " 3181.0: 'Stonnington',\n",
       " 3072.0: 'Darebin',\n",
       " 3073.0: 'Darebin',\n",
       " 3121.0: 'Yarra',\n",
       " 3205.0: 'Port Phillip',\n",
       " 3141.0: 'Stonnington',\n",
       " 3182.0: 'Port Phillip',\n",
       " 3020.0: 'Brimbank',\n",
       " 3107.0: 'Manningham',\n",
       " 3071.0: 'Darebin',\n",
       " 3142.0: 'Stonnington',\n",
       " 3087.0: 'Banyule',\n",
       " 3003.0: 'Melbourne',\n",
       " 3016.0: 'Hobsons Bay',\n",
       " 3085.0: 'Banyule',\n",
       " 3013.0: 'Maribyrnong',\n",
       " 3057.0: 'Moreland',\n",
       " 3061.0: 'Hume',\n",
       " 3053.0: 'Melbourne',\n",
       " 3060.0: 'Moreland',\n",
       " 3123.0: 'Boroondara',\n",
       " 3047.0: 'Hume',\n",
       " 3083.0: 'Banyule',\n",
       " 3153.0: 'Knox',\n",
       " 3193.0: 'Bayside',\n",
       " 3806.0: 'Casey',\n",
       " 3155.0: 'Knox',\n",
       " 3088.0: 'Banyule',\n",
       " 3023.0: 'Melton',\n",
       " 3151.0: 'Whitehorse',\n",
       " 3192.0: 'Kingston',\n",
       " 3064.0: 'Hume',\n",
       " 3977.0: 'Casey',\n",
       " 3136.0: 'Maroondah',\n",
       " 3175.0: 'Greater Dandenong',\n",
       " 3172.0: 'Greater Dandenong',\n",
       " 3754.0: 'Whittlesea',\n",
       " 3095.0: 'Nillumbik',\n",
       " 3076.0: 'Whittlesea',\n",
       " 3131.0: 'Whitehorse',\n",
       " 3199.0: 'Frankston',\n",
       " 3200.0: 'Frankston',\n",
       " 3437.0: 'Macedon Ranges',\n",
       " 3803.0: 'Casey',\n",
       " 3037.0: 'Brimbank',\n",
       " 3038.0: 'Brimbank',\n",
       " 3173.0: 'Greater Dandenong',\n",
       " 3075.0: 'Whittlesea',\n",
       " 3337.0: 'Melton',\n",
       " 3082.0: 'Whittlesea',\n",
       " 3132.0: 'Whitehorse',\n",
       " 3094.0: 'Banyule',\n",
       " 3195.0: 'Kingston',\n",
       " 3149.0: 'Monash',\n",
       " 3805.0: 'Casey',\n",
       " 3030.0: 'Wyndham',\n",
       " 3135.0: 'Maroondah',\n",
       " 3335.0: 'Melton',\n",
       " 3191.0: 'Bayside',\n",
       " 3198.0: 'Frankston',\n",
       " 3752.0: 'Whittlesea',\n",
       " 3171.0: 'Greater Dandenong',\n",
       " 3429.0: 'Hume',\n",
       " 3029.0: 'Wyndham',\n",
       " 3154.0: 'Knox',\n",
       " 3074.0: 'Whittlesea',\n",
       " 3133.0: 'Whitehorse',\n",
       " 3152.0: 'Knox',\n",
       " 3049.0: 'Hume',\n",
       " 3750.0: 'Whittlesea',\n",
       " 3024.0: 'Wyndham',\n",
       " 3130.0: 'Whitehorse',\n",
       " 3196.0: 'Kingston',\n",
       " 3168.0: 'Monash',\n",
       " 3109.0: 'Manningham',\n",
       " 3177.0: 'Casey',\n",
       " 3156.0: 'Knox',\n",
       " 3150.0: 'Monash',\n",
       " 3059.0: 'Hume',\n",
       " 3190.0: 'Bayside',\n",
       " 3338.0: 'Melton',\n",
       " 3194.0: 'Kingston',\n",
       " 3138.0: 'Yarra Ranges',\n",
       " 3170.0: 'Monash',\n",
       " 3134.0: 'Maroondah',\n",
       " 3028.0: 'Hobsons Bay',\n",
       " 3106.0: 'Manningham',\n",
       " 3113.0: 'Manningham',\n",
       " 3201.0: 'Frankston',\n",
       " 3169.0: 'Kingston',\n",
       " 3910.0: 'Frankston',\n",
       " 3111.0: 'Manningham',\n",
       " 3036.0: 'Brimbank',\n",
       " 3048.0: 'Hume',\n",
       " 3796.0: 'Yarra Ranges',\n",
       " 3179.0: 'Knox',\n",
       " 3976.0: 'Casey',\n",
       " 3137.0: 'Maroondah',\n",
       " 3089.0: 'Nillumbik',\n",
       " 3099.0: 'Nillumbik',\n",
       " 3022.0: 'Brimbank'}"
      ]
     },
     "execution_count": 25,
     "metadata": {},
     "output_type": "execute_result"
    }
   ],
   "source": [
    "#df con los postcodes que tienen asociado CouncilArea no nulo al menos una vez pero que aparecen en el listado \n",
    "#de los postcodes asociados a al menos un CouncilArea \n",
    "df_common_postcodes = df_ca_not_null[df_ca_not_null.Postcode.isin(postcode_list_ca_null)] \n",
    "\n",
    "#diccionario con Postcode como clave y CouncilArea como valor\n",
    "dictionary = dict(zip(df_common_postcodes.Postcode, df_common_postcodes.CouncilArea)) \n",
    "print(len(dictionary))\n",
    "dictionary"
   ]
  },
  {
   "cell_type": "code",
   "execution_count": 26,
   "metadata": {
    "colab": {
     "base_uri": "https://localhost:8080/"
    },
    "id": "TZQZc6UNe9Ir",
    "outputId": "bdcc56a7-fc3e-4e78-8303-d607c91dd231"
   },
   "outputs": [
    {
     "data": {
      "text/plain": [
       "{6868: 'Bayside',\n",
       " 9845: 'Darebin',\n",
       " 11154: 'Moonee Valley',\n",
       " 11155: 'Brimbank',\n",
       " 11156: 'Darebin',\n",
       " 11157: 'Hobsons Bay',\n",
       " 11158: 'Hobsons Bay',\n",
       " 11159: 'Hobsons Bay',\n",
       " 11160: 'Stonnington',\n",
       " 11161: 'Stonnington',\n",
       " 11162: 'Moonee Valley',\n",
       " 11163: 'Port Phillip',\n",
       " 11164: 'Boroondara',\n",
       " 11165: 'Boroondara',\n",
       " 11166: 'Boroondara',\n",
       " 11167: 'Knox',\n",
       " 11168: 'Glen Eira',\n",
       " 11169: 'Glen Eira',\n",
       " 11170: 'Glen Eira',\n",
       " 11171: 'Bayside',\n",
       " 11172: 'Whitehorse',\n",
       " 11173: 'Whitehorse',\n",
       " 11174: 'Whitehorse',\n",
       " 11175: 'Whitehorse',\n",
       " 11176: 'Whitehorse',\n",
       " 11177: 'Banyule',\n",
       " 11178: 'Bayside',\n",
       " 11179: 'Bayside',\n",
       " 11180: 'Bayside',\n",
       " 11181: 'Bayside',\n",
       " 11182: 'Hume',\n",
       " 11183: 'Moreland',\n",
       " 11184: 'Moreland',\n",
       " 11185: 'Moreland',\n",
       " 11186: 'Banyule',\n",
       " 11187: 'Banyule',\n",
       " 11188: 'Melton',\n",
       " 11189: 'Whitehorse',\n",
       " 11190: 'Boroondara',\n",
       " 11191: 'Boroondara',\n",
       " 11192: 'Yarra',\n",
       " 11193: 'Stonnington',\n",
       " 11194: 'Kingston',\n",
       " 11195: 'Kingston',\n",
       " 11196: 'Yarra',\n",
       " 11197: 'Moreland',\n",
       " 11198: 'Moreland',\n",
       " 11199: 'Moreland',\n",
       " 11200: 'Moreland',\n",
       " 11201: 'Moreland',\n",
       " 11202: 'Hume',\n",
       " 11203: 'Hume',\n",
       " 11204: 'Maroondah',\n",
       " 11205: 'Maroondah',\n",
       " 11206: 'Maroondah',\n",
       " 11207: 'Maroondah',\n",
       " 11208: 'Maroondah',\n",
       " 11209: 'Hume',\n",
       " 11210: 'Greater Dandenong',\n",
       " 11211: 'Greater Dandenong',\n",
       " 11212: 'Greater Dandenong',\n",
       " 11213: 'Nillumbik',\n",
       " 11214: 'Greater Dandenong',\n",
       " 11215: 'Manningham',\n",
       " 11216: 'Manningham',\n",
       " 11217: 'Manningham',\n",
       " 11218: 'Manningham',\n",
       " 11219: 'Manningham',\n",
       " 11220: 'Manningham',\n",
       " 11221: 'Manningham',\n",
       " 11222: 'Manningham',\n",
       " 11223: 'Whittlesea',\n",
       " 11224: 'Nillumbik',\n",
       " 11225: 'Port Phillip',\n",
       " 11226: 'Whittlesea',\n",
       " 11227: 'Whittlesea',\n",
       " 11228: 'Moonee Valley',\n",
       " 11229: 'Moonee Valley',\n",
       " 11230: 'Moonee Valley',\n",
       " 11231: 'Moonee Valley',\n",
       " 11232: 'Moonee Valley',\n",
       " 11233: 'Darebin',\n",
       " 11234: 'Moreland',\n",
       " 11235: 'Knox',\n",
       " 11236: 'Yarra',\n",
       " 11237: 'Melbourne',\n",
       " 11238: 'Melbourne',\n",
       " 11239: 'Maribyrnong',\n",
       " 11240: 'Frankston',\n",
       " 11241: 'Frankston',\n",
       " 11242: 'Frankston',\n",
       " 11243: 'Frankston',\n",
       " 11244: 'Hume',\n",
       " 11245: 'Hume',\n",
       " 11246: 'Hume',\n",
       " 11247: 'Hume',\n",
       " 11248: 'Boroondara',\n",
       " 11249: 'Boroondara',\n",
       " 11250: 'Boroondara',\n",
       " 11251: 'Boroondara',\n",
       " 11252: 'Boroondara',\n",
       " 11253: 'Boroondara',\n",
       " 11254: 'Boroondara',\n",
       " 11255: 'Monash',\n",
       " 11256: 'Monash',\n",
       " 11257: 'Moreland',\n",
       " 11258: 'Moreland',\n",
       " 11259: 'Moreland',\n",
       " 11260: 'Moreland',\n",
       " 11261: 'Moreland',\n",
       " 11262: 'Banyule',\n",
       " 11263: 'Hume',\n",
       " 11264: 'Bayside',\n",
       " 11265: 'Bayside',\n",
       " 11266: 'Bayside',\n",
       " 11267: 'Bayside',\n",
       " 11268: 'Wyndham',\n",
       " 11269: 'Wyndham',\n",
       " 11270: 'Monash',\n",
       " 11271: 'Brimbank',\n",
       " 11272: 'Moonee Valley',\n",
       " 11273: 'Boroondara',\n",
       " 11274: 'Boroondara',\n",
       " 11275: 'Boroondara',\n",
       " 11276: 'Whittlesea',\n",
       " 11277: 'Whittlesea',\n",
       " 11278: 'Whittlesea',\n",
       " 11279: 'Maribyrnong',\n",
       " 11280: 'Stonnington',\n",
       " 11281: 'Moonee Valley',\n",
       " 11282: 'Hume',\n",
       " 11283: 'Hume',\n",
       " 11284: 'Melton',\n",
       " 11285: 'Melton',\n",
       " 11286: 'Melton',\n",
       " 11287: 'Kingston',\n",
       " 11288: 'Kingston',\n",
       " 11289: 'Kingston',\n",
       " 11290: 'Moonee Valley',\n",
       " 11291: 'Moonee Valley',\n",
       " 11292: 'Kingston',\n",
       " 11293: 'Kingston',\n",
       " 11294: 'Monash',\n",
       " 11295: 'Monash',\n",
       " 11296: 'Monash',\n",
       " 11297: 'Hobsons Bay',\n",
       " 11298: 'Hobsons Bay',\n",
       " 11299: 'Brimbank',\n",
       " 11300: 'Brimbank',\n",
       " 11301: 'Melbourne',\n",
       " 11302: 'Melbourne',\n",
       " 11303: 'Melbourne',\n",
       " 11304: 'Darebin',\n",
       " 11305: 'Darebin',\n",
       " 11306: 'Monash',\n",
       " 11307: 'Kingston',\n",
       " 11308: 'Glen Eira',\n",
       " 11309: 'Kingston',\n",
       " 11310: 'Kingston',\n",
       " 11311: 'Moreland',\n",
       " 11312: 'Moreland',\n",
       " 11313: 'Moreland',\n",
       " 11314: 'Moreland',\n",
       " 11315: 'Wyndham',\n",
       " 11316: 'Port Phillip',\n",
       " 11317: 'Port Phillip',\n",
       " 11318: 'Port Phillip',\n",
       " 11319: 'Stonnington',\n",
       " 11320: 'Darebin',\n",
       " 11321: 'Darebin',\n",
       " 11322: 'Darebin',\n",
       " 11323: 'Darebin',\n",
       " 11324: 'Darebin',\n",
       " 11325: 'Darebin',\n",
       " 11326: 'Darebin',\n",
       " 11327: 'Yarra',\n",
       " 11328: 'Maroondah',\n",
       " 11329: 'Hume',\n",
       " 11330: 'Port Phillip',\n",
       " 11331: 'Stonnington',\n",
       " 11332: 'Greater Dandenong',\n",
       " 11333: 'Greater Dandenong',\n",
       " 11334: 'Brimbank',\n",
       " 11335: 'Hume',\n",
       " 11336: 'Hume',\n",
       " 11337: 'Hume',\n",
       " 11338: 'Hume',\n",
       " 11339: 'Brimbank',\n",
       " 11340: 'Brimbank',\n",
       " 11341: 'Brimbank',\n",
       " 11342: 'Brimbank',\n",
       " 11343: 'Darebin',\n",
       " 11344: 'Hume',\n",
       " 11345: 'Manningham',\n",
       " 11346: 'Wyndham',\n",
       " 11347: 'Wyndham',\n",
       " 11348: 'Wyndham',\n",
       " 11349: 'Maribyrnong',\n",
       " 11350: 'Melbourne',\n",
       " 11351: 'Monash',\n",
       " 11352: 'Monash',\n",
       " 11353: 'Monash',\n",
       " 11354: 'Monash',\n",
       " 11355: 'Hobsons Bay',\n",
       " 11356: 'Stonnington',\n",
       " 11357: 'Maribyrnong',\n",
       " 11358: 'Moonee Valley',\n",
       " 11359: 'Brimbank',\n",
       " 11360: 'Brimbank',\n",
       " 11361: 'Brimbank',\n",
       " 11362: 'Darebin',\n",
       " 11363: 'Hobsons Bay',\n",
       " 11364: 'Moonee Valley',\n",
       " 11365: 'Moonee Valley',\n",
       " 11366: 'Monash',\n",
       " 11367: 'Kingston',\n",
       " 11368: 'Kingston',\n",
       " 11369: 'Hume',\n",
       " 11370: 'Boroondara',\n",
       " 11371: 'Knox',\n",
       " 11372: 'Bayside',\n",
       " 11373: 'Bayside',\n",
       " 11374: 'Glen Eira',\n",
       " 11375: 'Glen Eira',\n",
       " 11376: 'Bayside',\n",
       " 11377: 'Bayside',\n",
       " 11378: 'Whitehorse',\n",
       " 11379: 'Whitehorse',\n",
       " 11380: 'Maribyrnong',\n",
       " 11381: 'Hume',\n",
       " 11382: 'Hume',\n",
       " 11383: 'Moreland',\n",
       " 11384: 'Moreland',\n",
       " 11385: 'Manningham',\n",
       " 11386: 'Whitehorse',\n",
       " 11387: 'Boroondara',\n",
       " 11388: 'Melbourne',\n",
       " 11389: 'Melbourne',\n",
       " 11390: 'Yarra',\n",
       " 11391: 'Yarra',\n",
       " 11392: 'Kingston',\n",
       " 11393: 'Kingston',\n",
       " 11394: 'Kingston',\n",
       " 11395: 'Kingston',\n",
       " 11396: 'Kingston',\n",
       " 11397: 'Yarra',\n",
       " 11398: 'Moreland',\n",
       " 11399: 'Yarra',\n",
       " 11400: 'Hume',\n",
       " 11401: 'Yarra',\n",
       " 11402: 'Melton',\n",
       " 11403: 'Wyndham',\n",
       " 11404: 'Nillumbik',\n",
       " 11405: 'Greater Dandenong',\n",
       " 11406: 'Manningham',\n",
       " 11407: 'Manningham',\n",
       " 11408: 'Manningham',\n",
       " 11409: 'Manningham',\n",
       " 11410: 'Manningham',\n",
       " 11411: 'Manningham',\n",
       " 11412: 'Whittlesea',\n",
       " 11413: 'Nillumbik',\n",
       " 11414: 'Nillumbik',\n",
       " 11415: 'Port Phillip',\n",
       " 11416: 'Port Phillip',\n",
       " 11417: 'Whittlesea',\n",
       " 11418: 'Whittlesea',\n",
       " 11419: 'Whittlesea',\n",
       " 11420: 'Moonee Valley',\n",
       " 11421: 'Knox',\n",
       " 11422: 'Knox',\n",
       " 11423: 'Yarra',\n",
       " 11424: 'Melbourne',\n",
       " 11425: 'Melbourne',\n",
       " 11426: 'Maribyrnong',\n",
       " 11427: 'Frankston',\n",
       " 11428: 'Frankston',\n",
       " 11429: 'Macedon Ranges',\n",
       " 11430: 'Macedon Ranges',\n",
       " 11431: 'Hume',\n",
       " 11432: 'Hume',\n",
       " 11433: 'Boroondara',\n",
       " 11434: 'Boroondara',\n",
       " 11435: 'Boroondara',\n",
       " 11436: 'Boroondara',\n",
       " 11437: 'Monash',\n",
       " 11438: 'Monash',\n",
       " 11439: 'Monash',\n",
       " 11440: 'Monash',\n",
       " 11441: 'Monash',\n",
       " 11442: 'Moreland',\n",
       " 11443: 'Moreland',\n",
       " 11444: 'Banyule',\n",
       " 11445: 'Moreland',\n",
       " 11446: 'Bayside',\n",
       " 11447: 'Boroondara',\n",
       " 11448: 'Boroondara',\n",
       " 11449: 'Boroondara',\n",
       " 11450: 'Maroondah',\n",
       " 11451: 'Maroondah',\n",
       " 11452: 'Maroondah',\n",
       " 11453: 'Banyule',\n",
       " 11454: 'Bayside',\n",
       " 11455: 'Brimbank',\n",
       " 11456: 'Wyndham',\n",
       " 11457: 'Nillumbik',\n",
       " 11458: 'Banyule',\n",
       " 11459: 'Brimbank',\n",
       " 11460: 'Brimbank',\n",
       " 11461: 'Moonee Valley',\n",
       " 11462: 'Moonee Valley',\n",
       " 11463: 'Moonee Valley',\n",
       " 11464: 'Moonee Valley',\n",
       " 11465: 'Brimbank',\n",
       " 11466: 'Boroondara',\n",
       " 11467: 'Boroondara',\n",
       " 11468: 'Boroondara',\n",
       " 11469: 'Boroondara',\n",
       " 11470: 'Boroondara',\n",
       " 11471: 'Maribyrnong',\n",
       " 11472: 'Maribyrnong',\n",
       " 11473: 'Whittlesea',\n",
       " 11474: 'Whittlesea',\n",
       " 11475: 'Maribyrnong',\n",
       " 11476: 'Stonnington',\n",
       " 11477: 'Stonnington',\n",
       " 11478: 'Stonnington',\n",
       " 11479: 'Hume',\n",
       " 11480: 'Melton',\n",
       " 11481: 'Whittlesea',\n",
       " 11482: 'Port Phillip',\n",
       " 11483: 'Whittlesea',\n",
       " 11484: 'Whittlesea',\n",
       " 11485: 'Whitehorse',\n",
       " 11486: 'Whitehorse',\n",
       " 11487: 'Moonee Valley',\n",
       " 11488: 'Moonee Valley',\n",
       " 11489: 'Yarra Ranges',\n",
       " 11490: 'Monash',\n",
       " 11491: 'Glen Eira',\n",
       " 11492: 'Hobsons Bay',\n",
       " 11493: 'Hobsons Bay',\n",
       " 11494: 'Brimbank',\n",
       " 11495: 'Manningham',\n",
       " 11496: 'Darebin',\n",
       " 11497: 'Darebin',\n",
       " 11498: 'Monash',\n",
       " 11499: 'Kingston',\n",
       " 11500: 'Glen Eira',\n",
       " 11501: 'Kingston',\n",
       " 11502: 'Kingston',\n",
       " 11503: 'Moreland',\n",
       " 11504: 'Port Phillip',\n",
       " 11505: 'Port Phillip',\n",
       " 11506: 'Port Phillip',\n",
       " 11507: 'Stonnington',\n",
       " 11508: 'Stonnington',\n",
       " 11509: 'Darebin',\n",
       " 11510: 'Darebin',\n",
       " 11511: 'Darebin',\n",
       " 11512: 'Darebin',\n",
       " 11513: 'Darebin',\n",
       " 11514: 'Darebin',\n",
       " 11515: 'Yarra',\n",
       " 11516: 'Yarra',\n",
       " 11517: 'Yarra',\n",
       " 11518: 'Maroondah',\n",
       " 11519: 'Maroondah',\n",
       " 11520: 'Maroondah',\n",
       " 11521: 'Banyule',\n",
       " 11522: 'Hume',\n",
       " 11523: 'Bayside',\n",
       " 11524: 'Bayside',\n",
       " 11525: 'Bayside',\n",
       " 11526: 'Frankston',\n",
       " 11527: 'Port Phillip',\n",
       " 11528: 'Port Phillip',\n",
       " 11529: 'Port Phillip',\n",
       " 11530: 'Port Phillip',\n",
       " 11531: 'Whittlesea',\n",
       " 11532: 'Stonnington',\n",
       " 11533: 'Stonnington',\n",
       " 11534: 'Hume',\n",
       " 11535: 'Hume',\n",
       " 11536: 'Hume',\n",
       " 11537: 'Brimbank',\n",
       " 11538: 'Manningham',\n",
       " 11539: 'Knox',\n",
       " 11540: 'Kingston',\n",
       " 11541: 'Wyndham',\n",
       " 11542: 'Wyndham',\n",
       " 11543: 'Hume',\n",
       " 11544: 'Hobsons Bay',\n",
       " 11545: 'Stonnington',\n",
       " 11546: 'Whittlesea',\n",
       " 11547: 'Whittlesea',\n",
       " 11548: 'Maribyrnong',\n",
       " 11549: 'Maribyrnong',\n",
       " 11550: 'Maribyrnong',\n",
       " 11551: 'Moonee Valley',\n",
       " 11552: 'Port Phillip',\n",
       " 11553: 'Hobsons Bay',\n",
       " 11554: 'Hobsons Bay',\n",
       " 11555: 'Hobsons Bay',\n",
       " 11556: 'Stonnington',\n",
       " 11557: 'Stonnington',\n",
       " 11558: 'Monash',\n",
       " 11559: 'Kingston',\n",
       " 11560: 'Kingston',\n",
       " 11561: 'Moonee Valley',\n",
       " 11562: 'Boroondara',\n",
       " 11563: 'Boroondara',\n",
       " 11564: 'Boroondara',\n",
       " 11565: 'Bayside',\n",
       " 11566: 'Glen Eira',\n",
       " 11567: 'Glen Eira',\n",
       " 11568: 'Glen Eira',\n",
       " 11569: 'Glen Eira',\n",
       " 11570: 'Whitehorse',\n",
       " 11571: 'Whitehorse',\n",
       " 11572: 'Whitehorse',\n",
       " 11573: 'Whitehorse',\n",
       " 11574: 'Kingston',\n",
       " 11575: 'Knox',\n",
       " 11576: 'Whitehorse',\n",
       " 11577: 'Maribyrnong',\n",
       " 11578: 'Bayside',\n",
       " 11579: 'Bayside',\n",
       " 11580: 'Moreland',\n",
       " 11581: 'Moreland',\n",
       " 11582: 'Moreland',\n",
       " 11583: 'Moreland',\n",
       " 11584: 'Moreland',\n",
       " 11585: 'Manningham',\n",
       " 11586: 'Banyule',\n",
       " 11587: 'Banyule',\n",
       " 11588: 'Whitehorse',\n",
       " 11589: 'Whitehorse',\n",
       " 11590: 'Whitehorse',\n",
       " 11591: 'Boroondara',\n",
       " 11592: 'Boroondara',\n",
       " 11593: 'Glen Eira',\n",
       " 11594: 'Glen Eira',\n",
       " 11595: 'Glen Eira',\n",
       " 11596: 'Glen Eira',\n",
       " 11597: 'Glen Eira',\n",
       " 11598: 'Frankston',\n",
       " 11599: 'Kingston',\n",
       " 11600: 'Kingston',\n",
       " 11601: 'Kingston',\n",
       " 11602: 'Kingston',\n",
       " 11603: 'Kingston',\n",
       " 11604: 'Kingston',\n",
       " 11605: 'Monash',\n",
       " 11606: 'Monash',\n",
       " 11607: 'Kingston',\n",
       " 11608: 'Yarra',\n",
       " 11609: 'Yarra',\n",
       " 11610: 'Moreland',\n",
       " 11611: 'Moreland',\n",
       " 11612: 'Moreland',\n",
       " 11613: 'Yarra',\n",
       " 11614: 'Yarra',\n",
       " 11615: 'Hume',\n",
       " 11616: 'Maroondah',\n",
       " 11617: 'Greater Dandenong',\n",
       " 11618: 'Melton',\n",
       " 11619: 'Greater Dandenong',\n",
       " 11620: 'Manningham',\n",
       " 11621: 'Casey',\n",
       " 11622: 'Casey',\n",
       " 11623: 'Nillumbik',\n",
       " 11624: 'Nillumbik',\n",
       " 11625: 'Nillumbik',\n",
       " 11626: 'Port Phillip',\n",
       " 11627: 'Whittlesea',\n",
       " 11628: 'Whittlesea',\n",
       " 11629: 'Moonee Valley',\n",
       " 11630: 'Moonee Valley',\n",
       " 11631: 'Moonee Valley',\n",
       " 11632: 'Darebin',\n",
       " 11633: 'Darebin',\n",
       " 11634: 'Moreland',\n",
       " 11635: 'Moreland',\n",
       " 11636: 'Yarra',\n",
       " 11637: 'Whitehorse',\n",
       " 11638: 'Frankston',\n",
       " 11639: 'Frankston',\n",
       " 11640: 'Frankston',\n",
       " 11641: 'Boroondara',\n",
       " 11642: 'Boroondara',\n",
       " 11643: 'Boroondara',\n",
       " 11644: 'Boroondara',\n",
       " 11645: 'Monash',\n",
       " 11646: 'Monash',\n",
       " 11647: 'Monash',\n",
       " 11648: 'Moreland',\n",
       " 11649: 'Banyule',\n",
       " 11650: 'Banyule',\n",
       " 11651: 'Hume',\n",
       " 11652: 'Casey',\n",
       " 11653: 'Bayside',\n",
       " 11654: 'Bayside',\n",
       " 11655: 'Bayside',\n",
       " 11656: 'Bayside',\n",
       " 11657: 'Bayside',\n",
       " 11658: 'Bayside',\n",
       " 11659: 'Boroondara',\n",
       " 11660: 'Boroondara',\n",
       " 11661: 'Banyule',\n",
       " 11662: 'Brimbank',\n",
       " 11663: 'Brimbank',\n",
       " 11664: 'Wyndham',\n",
       " 11665: 'Wyndham',\n",
       " 11666: 'Wyndham',\n",
       " 11667: 'Hume',\n",
       " 11668: 'Brimbank',\n",
       " 11669: 'Moonee Valley',\n",
       " 11670: 'Moonee Valley',\n",
       " 11671: 'Boroondara',\n",
       " 11672: 'Boroondara',\n",
       " 11673: 'Boroondara',\n",
       " 11674: 'Boroondara',\n",
       " 11675: 'Boroondara',\n",
       " 11676: 'Boroondara',\n",
       " 11677: 'Boroondara',\n",
       " 11678: 'Maribyrnong',\n",
       " 11679: 'Maribyrnong',\n",
       " 11680: 'Whittlesea',\n",
       " 11681: 'Whittlesea',\n",
       " 11682: 'Stonnington',\n",
       " 11683: 'Stonnington',\n",
       " 11684: 'Hume',\n",
       " 11685: 'Kingston',\n",
       " 11686: 'Kingston',\n",
       " 11687: 'Kingston',\n",
       " 11688: 'Whittlesea',\n",
       " 11689: 'Whittlesea',\n",
       " 11690: 'Whittlesea',\n",
       " 11691: 'Whittlesea',\n",
       " 11692: 'Whittlesea',\n",
       " 11693: 'Whittlesea',\n",
       " 11694: 'Whitehorse',\n",
       " 11695: 'Whitehorse',\n",
       " 11696: 'Whitehorse',\n",
       " 11697: 'Whitehorse',\n",
       " 11698: 'Whitehorse',\n",
       " 11699: 'Banyule',\n",
       " 11700: 'Moonee Valley',\n",
       " 11701: 'Moonee Valley',\n",
       " 11702: 'Kingston',\n",
       " 11703: 'Kingston',\n",
       " 11704: 'Monash',\n",
       " 11705: 'Monash',\n",
       " 11706: 'Monash',\n",
       " 11707: 'Monash',\n",
       " 11708: 'Monash',\n",
       " 11709: 'Monash',\n",
       " 11710: 'Casey',\n",
       " 11711: 'Hobsons Bay',\n",
       " 11712: 'Hobsons Bay',\n",
       " 11713: 'Brimbank',\n",
       " 11714: 'Darebin',\n",
       " 11715: 'Darebin',\n",
       " 11716: 'Darebin',\n",
       " 11717: 'Moreland',\n",
       " 11718: 'Moreland',\n",
       " 11719: 'Kingston',\n",
       " 11720: 'Kingston',\n",
       " 11721: 'Moreland',\n",
       " 11722: 'Moreland',\n",
       " 11723: 'Wyndham',\n",
       " 11724: 'Wyndham',\n",
       " 11725: 'Port Phillip',\n",
       " 11726: 'Port Phillip',\n",
       " 11727: 'Stonnington',\n",
       " 11728: 'Stonnington',\n",
       " 11729: 'Stonnington',\n",
       " 11730: 'Darebin',\n",
       " 11731: 'Darebin',\n",
       " 11732: 'Yarra',\n",
       " 11733: 'Darebin',\n",
       " 11734: 'Darebin',\n",
       " 11735: 'Darebin',\n",
       " 11736: 'Darebin',\n",
       " 11737: 'Darebin',\n",
       " 11738: 'Yarra',\n",
       " 11739: 'Yarra',\n",
       " 11740: 'Maroondah',\n",
       " 11741: 'Maroondah',\n",
       " 11742: 'Maroondah',\n",
       " 11743: 'Maroondah',\n",
       " 11744: 'Maroondah',\n",
       " 11745: 'Banyule',\n",
       " 11746: 'Banyule',\n",
       " 11747: 'Hume',\n",
       " 11748: 'Bayside',\n",
       " 11749: 'Bayside',\n",
       " 11750: 'Knox',\n",
       " 11751: 'Knox',\n",
       " 11752: 'Port Phillip',\n",
       " 11753: 'Stonnington',\n",
       " 11754: 'Greater Dandenong',\n",
       " 11755: 'Moonee Valley',\n",
       " 11756: 'Hume',\n",
       " 11757: 'Hume',\n",
       " 11758: 'Hume',\n",
       " 11759: 'Brimbank',\n",
       " 11760: 'Brimbank',\n",
       " 11761: 'Brimbank',\n",
       " 11762: 'Whitehorse',\n",
       " 11763: 'Whitehorse',\n",
       " 11764: 'Whitehorse',\n",
       " 11765: 'Whittlesea',\n",
       " 11766: 'Whittlesea',\n",
       " 11767: 'Whittlesea',\n",
       " 11768: 'Darebin',\n",
       " 11769: 'Darebin',\n",
       " 11770: 'Stonnington',\n",
       " 11771: 'Whitehorse',\n",
       " 11772: 'Banyule',\n",
       " 11774: 'Knox',\n",
       " 11775: 'Knox',\n",
       " 11776: 'Knox',\n",
       " 11777: 'Banyule',\n",
       " 11778: 'Banyule',\n",
       " 11779: 'Wyndham',\n",
       " 11780: 'Wyndham',\n",
       " 11781: 'Wyndham',\n",
       " 11782: 'Maribyrnong',\n",
       " 11783: 'Melbourne',\n",
       " 11784: 'Monash',\n",
       " 11785: 'Monash',\n",
       " 11786: 'Hobsons Bay',\n",
       " 11787: 'Stonnington',\n",
       " 11788: 'Stonnington',\n",
       " 11789: 'Stonnington',\n",
       " 11790: 'Maribyrnong',\n",
       " 11791: 'Maribyrnong',\n",
       " 11792: 'Yarra',\n",
       " 11793: 'Brimbank',\n",
       " 11794: 'Port Phillip',\n",
       " 11795: 'Hobsons Bay',\n",
       " 11796: 'Brimbank',\n",
       " 11797: 'Stonnington',\n",
       " 11798: 'Stonnington',\n",
       " 11799: 'Monash',\n",
       " 11800: 'Monash',\n",
       " 11801: 'Kingston',\n",
       " 11802: 'Boroondara',\n",
       " 11803: 'Boroondara',\n",
       " 11804: 'Boroondara',\n",
       " 11805: 'Boroondara',\n",
       " 11806: 'Boroondara',\n",
       " 11807: 'Boroondara',\n",
       " 11808: 'Boroondara',\n",
       " 11809: 'Boroondara',\n",
       " 11810: 'Glen Eira',\n",
       " 11811: 'Glen Eira',\n",
       " 11812: 'Glen Eira',\n",
       " 11813: 'Glen Eira',\n",
       " 11814: 'Glen Eira',\n",
       " 11815: 'Whitehorse',\n",
       " 11816: 'Whitehorse',\n",
       " 11817: 'Banyule',\n",
       " 11818: 'Bayside',\n",
       " 11819: 'Bayside',\n",
       " 11820: 'Bayside',\n",
       " 11821: 'Bayside',\n",
       " 11822: 'Hume',\n",
       " 11823: 'Hume',\n",
       " 11824: 'Moreland',\n",
       " 11825: 'Manningham',\n",
       " 11826: 'Manningham',\n",
       " 11827: 'Banyule',\n",
       " 11828: 'Whitehorse',\n",
       " 11829: 'Whitehorse',\n",
       " 11830: 'Hume',\n",
       " 11831: 'Boroondara',\n",
       " 11832: 'Yarra',\n",
       " 11833: 'Melton',\n",
       " 11834: 'Kingston',\n",
       " 11835: 'Kingston',\n",
       " 11836: 'Kingston',\n",
       " 11837: 'Kingston',\n",
       " 11838: 'Kingston',\n",
       " 11839: 'Yarra',\n",
       " 11840: 'Moreland',\n",
       " 11841: 'Moreland',\n",
       " 11842: 'Moreland',\n",
       " 11843: 'Moreland',\n",
       " 11844: 'Hume',\n",
       " 11845: 'Hume',\n",
       " 11846: 'Hume',\n",
       " 11847: 'Hume',\n",
       " 11848: 'Hume',\n",
       " 11849: 'Hume',\n",
       " 11850: 'Hume',\n",
       " 11851: 'Maroondah',\n",
       " 11852: 'Hume',\n",
       " 11853: 'Melton',\n",
       " 11854: 'Greater Dandenong',\n",
       " 11855: 'Greater Dandenong',\n",
       " 11856: 'Manningham',\n",
       " 11857: 'Manningham',\n",
       " 11858: 'Manningham',\n",
       " 11859: 'Manningham',\n",
       " 11860: 'Manningham',\n",
       " 11861: 'Manningham',\n",
       " 11862: 'Banyule',\n",
       " 11863: 'Kingston',\n",
       " 11864: 'Glen Eira',\n",
       " 11865: 'Glen Eira',\n",
       " 11866: 'Nillumbik',\n",
       " 11867: 'Port Phillip',\n",
       " 11868: 'Whittlesea',\n",
       " 11869: 'Whittlesea',\n",
       " 11870: 'Moonee Valley',\n",
       " 11871: 'Darebin',\n",
       " 11872: 'Moreland',\n",
       " 11873: 'Knox',\n",
       " 11874: 'Knox',\n",
       " 11875: 'Yarra',\n",
       " 11876: 'Yarra',\n",
       " 11877: 'Melbourne',\n",
       " 11878: 'Maribyrnong',\n",
       " 11879: 'Maribyrnong',\n",
       " 11880: 'Frankston',\n",
       " 11881: 'Frankston',\n",
       " 11882: 'Boroondara',\n",
       " 11883: 'Boroondara',\n",
       " 11884: 'Boroondara',\n",
       " 11885: 'Boroondara',\n",
       " 11886: 'Monash',\n",
       " 11887: 'Monash',\n",
       " 11888: 'Monash',\n",
       " 11889: 'Monash',\n",
       " 11890: 'Monash',\n",
       " 11891: 'Moreland',\n",
       " 11892: 'Moreland',\n",
       " 11893: 'Moreland',\n",
       " 11894: 'Hume',\n",
       " 11895: 'Bayside',\n",
       " 11896: 'Boroondara',\n",
       " 11897: 'Boroondara',\n",
       " 11898: 'Maroondah',\n",
       " 11899: 'Maroondah',\n",
       " 11900: 'Bayside',\n",
       " 11901: 'Bayside',\n",
       " 11902: 'Bayside',\n",
       " 11903: 'Brimbank',\n",
       " 11904: 'Brimbank',\n",
       " 11905: 'Wyndham',\n",
       " 11906: 'Hume',\n",
       " 11907: 'Moonee Valley',\n",
       " 11908: 'Moonee Valley',\n",
       " 11909: 'Moonee Valley',\n",
       " 11910: 'Moonee Valley',\n",
       " 11911: 'Moonee Valley',\n",
       " 11912: 'Melbourne',\n",
       " 11913: 'Boroondara',\n",
       " 11914: 'Boroondara',\n",
       " 11915: 'Boroondara',\n",
       " 11916: 'Boroondara',\n",
       " 11917: 'Maroondah',\n",
       " 11918: 'Maroondah',\n",
       " 11919: 'Whittlesea',\n",
       " 11920: 'Maribyrnong',\n",
       " 11921: 'Stonnington',\n",
       " 11922: 'Stonnington',\n",
       " 11923: 'Moonee Valley',\n",
       " 11924: 'Glen Eira',\n",
       " 11925: 'Melton',\n",
       " 11926: 'Kingston',\n",
       " 11927: 'Whittlesea',\n",
       " 11928: 'Whittlesea',\n",
       " 11929: 'Whittlesea',\n",
       " 11930: 'Banyule',\n",
       " 11931: 'Yarra Ranges',\n",
       " 11932: 'Monash',\n",
       " 11933: 'Monash',\n",
       " 11934: 'Brimbank',\n",
       " 11935: 'Whitehorse',\n",
       " 11936: 'Kingston',\n",
       " 11937: 'Glen Eira',\n",
       " 11938: 'Moreland',\n",
       " 11939: 'Moreland',\n",
       " 11940: 'Port Phillip',\n",
       " 11941: 'Darebin',\n",
       " 11942: 'Darebin',\n",
       " 11943: 'Darebin',\n",
       " 11944: 'Darebin',\n",
       " 11945: 'Darebin',\n",
       " 11946: 'Darebin',\n",
       " 11947: 'Hume',\n",
       " 11948: 'Port Phillip',\n",
       " 11949: 'Whittlesea',\n",
       " 11950: 'Stonnington',\n",
       " 11951: 'Hobsons Bay',\n",
       " 11952: 'Greater Dandenong',\n",
       " 11953: 'Brimbank',\n",
       " 11954: 'Moonee Valley',\n",
       " 11955: 'Hume',\n",
       " 11956: 'Hume',\n",
       " 11957: 'Brimbank',\n",
       " 11958: 'Brimbank',\n",
       " 11959: 'Whitehorse',\n",
       " 11960: 'Whitehorse',\n",
       " 11961: 'Manningham',\n",
       " 11962: 'Manningham',\n",
       " 11963: 'Darebin',\n",
       " 11964: 'Wyndham',\n",
       " 11965: 'Whitehorse',\n",
       " 11966: 'Whitehorse',\n",
       " 11967: 'Whitehorse',\n",
       " 11968: 'Whitehorse',\n",
       " 11969: 'Banyule',\n",
       " 11970: 'Knox',\n",
       " 11971: 'Knox',\n",
       " 11972: 'Manningham',\n",
       " 11973: 'Banyule',\n",
       " 11974: 'Wyndham',\n",
       " 11975: 'Wyndham',\n",
       " 11976: 'Maribyrnong',\n",
       " 11977: 'Maribyrnong',\n",
       " 11978: 'Maribyrnong',\n",
       " 11979: 'Maribyrnong',\n",
       " 11980: 'Monash',\n",
       " 11981: 'Monash',\n",
       " 11982: 'Monash',\n",
       " 11983: 'Monash',\n",
       " 11984: 'Hobsons Bay',\n",
       " 11985: 'Wyndham',\n",
       " 11986: 'Banyule',\n",
       " 11987: 'Brimbank',\n",
       " 11988: 'Brimbank',\n",
       " 11989: 'Brimbank',\n",
       " 11990: 'Port Phillip',\n",
       " 11991: 'Brimbank',\n",
       " 11992: 'Hobsons Bay',\n",
       " 11993: 'Hobsons Bay',\n",
       " 11994: 'Hobsons Bay',\n",
       " 11995: 'Stonnington',\n",
       " 11996: 'Stonnington',\n",
       " 11997: 'Moonee Valley',\n",
       " 11998: 'Monash',\n",
       " 11999: 'Monash',\n",
       " 12000: 'Boroondara',\n",
       " 12001: 'Knox',\n",
       " 12002: 'Knox',\n",
       " 12003: 'Knox',\n",
       " 12004: 'Bayside',\n",
       " 12005: 'Glen Eira',\n",
       " 12006: 'Glen Eira',\n",
       " 12007: 'Glen Eira',\n",
       " 12008: 'Glen Eira',\n",
       " 12009: 'Casey',\n",
       " 12010: 'Bayside',\n",
       " 12011: 'Whitehorse',\n",
       " 12012: 'Whitehorse',\n",
       " 12013: 'Whitehorse',\n",
       " 12014: 'Whitehorse',\n",
       " 12015: 'Kingston',\n",
       " 12016: 'Whitehorse',\n",
       " 12017: 'Bayside',\n",
       " 12018: 'Hume',\n",
       " 12019: 'Maribyrnong',\n",
       " 12020: 'Moreland',\n",
       " 12021: 'Moreland',\n",
       " 12022: 'Moreland',\n",
       " 12023: 'Moreland',\n",
       " 12024: 'Moreland',\n",
       " 12025: 'Moreland',\n",
       " 12026: 'Moreland',\n",
       " 12027: 'Moreland',\n",
       " 12028: 'Moreland',\n",
       " 12029: 'Moreland',\n",
       " 12030: 'Manningham',\n",
       " 12031: 'Manningham',\n",
       " 12032: 'Banyule',\n",
       " 12033: 'Melton',\n",
       " 12034: 'Whitehorse',\n",
       " 12035: 'Boroondara',\n",
       " 12036: 'Boroondara',\n",
       " 12037: 'Glen Eira',\n",
       " 12038: 'Melton',\n",
       " 12039: 'Kingston',\n",
       " 12040: 'Kingston',\n",
       " 12041: 'Kingston',\n",
       " 12042: 'Kingston',\n",
       " 12043: 'Kingston',\n",
       " 12044: 'Kingston',\n",
       " 12045: 'Moreland',\n",
       " 12046: 'Moreland',\n",
       " 12047: 'Hume',\n",
       " 12048: 'Hume',\n",
       " 12049: 'Hume',\n",
       " 12050: 'Hume',\n",
       " 12051: 'Maroondah',\n",
       " 12052: 'Maroondah',\n",
       " 12053: 'Melton',\n",
       " 12054: 'Brimbank',\n",
       " 12055: 'Brimbank',\n",
       " 12056: 'Wyndham',\n",
       " 12057: 'Manningham',\n",
       " 12058: 'Manningham',\n",
       " 12059: 'Manningham',\n",
       " 12060: 'Manningham',\n",
       " 12061: 'Whittlesea',\n",
       " 12062: 'Kingston',\n",
       " 12063: 'Kingston',\n",
       " 12064: 'Whittlesea',\n",
       " 12065: 'Whittlesea',\n",
       " 12066: 'Whittlesea',\n",
       " 12067: 'Moonee Valley',\n",
       " 12068: 'Moreland',\n",
       " 12069: 'Knox',\n",
       " 12070: 'Knox',\n",
       " 12071: 'Yarra',\n",
       " 12072: 'Yarra',\n",
       " 12073: 'Yarra',\n",
       " 12074: 'Melbourne',\n",
       " 12075: 'Whitehorse',\n",
       " 12076: 'Frankston',\n",
       " 12077: 'Frankston',\n",
       " 12078: 'Hume',\n",
       " 12079: 'Glen Eira',\n",
       " 12080: 'Boroondara',\n",
       " 12081: 'Monash',\n",
       " 12082: 'Monash',\n",
       " 12083: 'Monash',\n",
       " 12084: 'Monash',\n",
       " 12085: 'Moreland',\n",
       " 12086: 'Moreland',\n",
       " 12087: 'Moreland',\n",
       " 12088: 'Banyule',\n",
       " 12089: 'Bayside',\n",
       " 12090: 'Bayside',\n",
       " 12091: 'Bayside',\n",
       " 12092: 'Bayside',\n",
       " 12093: 'Boroondara',\n",
       " 12094: 'Banyule',\n",
       " 12095: 'Banyule',\n",
       " 12096: 'Wyndham',\n",
       " 12097: 'Wyndham',\n",
       " 12098: 'Wyndham',\n",
       " 12099: 'Wyndham',\n",
       " 12100: 'Banyule',\n",
       " 12101: 'Hume',\n",
       " 12102: 'Brimbank',\n",
       " 12103: 'Brimbank',\n",
       " 12104: 'Moonee Valley',\n",
       " 12105: 'Moonee Valley',\n",
       " 12106: 'Moonee Valley',\n",
       " 12107: 'Boroondara',\n",
       " 12108: 'Boroondara',\n",
       " 12109: 'Boroondara',\n",
       " 12110: 'Boroondara',\n",
       " 12111: 'Boroondara',\n",
       " 12112: 'Greater Dandenong',\n",
       " 12113: 'Whittlesea',\n",
       " 12114: 'Whittlesea',\n",
       " 12115: 'Stonnington',\n",
       " 12116: 'Moonee Valley',\n",
       " 12117: 'Melton',\n",
       " 12118: 'Melton',\n",
       " 12119: 'Kingston',\n",
       " 12120: 'Whittlesea',\n",
       " 12121: 'Whitehorse',\n",
       " 12122: 'Whitehorse',\n",
       " 12123: 'Whitehorse',\n",
       " 12124: 'Moonee Valley',\n",
       " 12125: 'Yarra Ranges',\n",
       " 12126: 'Monash',\n",
       " 12127: 'Monash',\n",
       " 12128: 'Monash',\n",
       " 12129: 'Monash',\n",
       " 12130: 'Monash',\n",
       " 12131: 'Monash',\n",
       " 12132: 'Monash',\n",
       " 12133: 'Glen Eira',\n",
       " 12134: 'Hobsons Bay',\n",
       " 12135: 'Hobsons Bay',\n",
       " 12136: 'Brimbank',\n",
       " 12137: 'Melbourne',\n",
       " 12138: 'Darebin',\n",
       " 12139: 'Darebin',\n",
       " 12140: 'Darebin',\n",
       " 12141: 'Darebin',\n",
       " 12142: 'Darebin',\n",
       " 12143: 'Monash',\n",
       " 12144: 'Moreland',\n",
       " 12145: 'Moreland',\n",
       " 12146: 'Monash',\n",
       " 12147: 'Monash',\n",
       " 12148: 'Kingston',\n",
       " 12149: 'Glen Eira',\n",
       " 12150: 'Glen Eira',\n",
       " 12151: 'Glen Eira',\n",
       " 12152: 'Melton',\n",
       " ...}"
      ]
     },
     "execution_count": 26,
     "metadata": {},
     "output_type": "execute_result"
    }
   ],
   "source": [
    " #diccionario que va a contener, como claves: índices donde hay CouncilArea NaN y como valores: \n",
    " #CouncilArea que le corresponde de acuerdo a dictionary (o sea su Postcode)\n",
    "\n",
    "dict_to_replace_ca = {}      \n",
    "for i in range(df_ca_null.shape[0]):  #recorremos el df de CouncilArea NaN\n",
    "  if df_ca_null.iloc[i].Postcode in dictionary.keys():                                        #Si el postcode de la iteración actual está dentro del dictionary, \n",
    "    dict_to_replace_ca.update({df_ca_null.index[i]: dictionary[df_ca_null.iloc[i].Postcode]}) #Agrega al diccionario que estamos armando el par (Clave: valor), \n",
    "                                                                                              #que tiene clave: el índice y valor: el CouncilArea que corresponde de acuerdo a dictionary\n",
    "\n",
    "dict_to_replace_ca"
   ]
  },
  {
   "cell_type": "code",
   "execution_count": 27,
   "metadata": {
    "colab": {
     "base_uri": "https://localhost:8080/"
    },
    "id": "pYy2ZWAufQhG",
    "outputId": "027e812f-0c29-4a2b-f89c-af5ad30250bf"
   },
   "outputs": [
    {
     "data": {
      "text/plain": [
       "0              Yarra\n",
       "1              Yarra\n",
       "2              Yarra\n",
       "3              Yarra\n",
       "4              Yarra\n",
       "            ...     \n",
       "12443         Monash\n",
       "12444    Hobsons Bay\n",
       "12445    Hobsons Bay\n",
       "12446    Hobsons Bay\n",
       "12447    Maribyrnong\n",
       "Name: CouncilArea, Length: 12448, dtype: object"
      ]
     },
     "execution_count": 27,
     "metadata": {},
     "output_type": "execute_result"
    }
   ],
   "source": [
    "Melb_df_encoded = melb_df2.copy()\n",
    "Melb_df_encoded['CouncilArea'] = Melb_df_encoded['CouncilArea'].fillna(dict_to_replace_ca) #Reemplazamos en el df final todo lo que corresponde a CouncilArea NaN con la info del último \n",
    "                                                                                               #diccionario creado\n",
    "Melb_df_encoded.CouncilArea"
   ]
  },
  {
   "cell_type": "code",
   "execution_count": 28,
   "metadata": {
    "colab": {
     "base_uri": "https://localhost:8080/"
    },
    "id": "UBNXku5yfeAk",
    "outputId": "503cfebf-a5da-499a-d901-f88b13a4f8d9"
   },
   "outputs": [
    {
     "name": "stdout",
     "output_type": "stream",
     "text": [
      "3\n",
      "12448\n"
     ]
    }
   ],
   "source": [
    "print(Melb_df_encoded.CouncilArea.isna().sum()) #Acá muestro cuantos registros son NaN\n",
    "print(len(Melb_df_encoded))          #Acá muestro la cantidad de filas del df completo"
   ]
  },
  {
   "cell_type": "code",
   "execution_count": 29,
   "metadata": {
    "id": "FTN8J4X8fd2S"
   },
   "outputs": [],
   "source": [
    "Melb_df_encoded.dropna(subset=['CouncilArea'], axis=0, how='any', inplace=True) #dropeamos los 3 registros que quedaron con valores faltantes en CouncilArea"
   ]
  },
  {
   "cell_type": "code",
   "execution_count": 30,
   "metadata": {
    "colab": {
     "base_uri": "https://localhost:8080/"
    },
    "id": "zxjejqIxo8xm",
    "outputId": "1719070d-7c57-4ab0-d3f3-6688f31ea136"
   },
   "outputs": [
    {
     "data": {
      "text/plain": [
       "Suburb                            0\n",
       "SellerG                           0\n",
       "CouncilArea                       0\n",
       "Type                              0\n",
       "Rooms                             0\n",
       "Propertycount                     0\n",
       "Lattitude                         0\n",
       "Longtitude                        0\n",
       "Distance                          0\n",
       "Postcode                          0\n",
       "airbnb_price_median              21\n",
       "airbnb_weekly_price_median      831\n",
       "airbnb_monthly_price_median    1202\n",
       "dtype: int64"
      ]
     },
     "execution_count": 30,
     "metadata": {},
     "output_type": "execute_result"
    }
   ],
   "source": [
    "Melb_df_encoded.isnull().sum()"
   ]
  },
  {
   "cell_type": "markdown",
   "metadata": {
    "id": "tsShL0EimTNz"
   },
   "source": [
    "Hacemos OneHot Encoding en las columnas identificadas"
   ]
  },
  {
   "cell_type": "code",
   "execution_count": 31,
   "metadata": {
    "colab": {
     "base_uri": "https://localhost:8080/"
    },
    "id": "bpFU6p87sfDg",
    "outputId": "a0f3e0a6-92b7-4837-e67a-28a838895950"
   },
   "outputs": [
    {
     "name": "stdout",
     "output_type": "stream",
     "text": [
      "La cantidad de categorías de Type a codificar son: 3\n",
      "La cantidad de categorías de SellerG a codificar son: 259\n",
      "La cantidad de categorías de Suburb a codificar son: 310\n",
      "La cantidad de categorías de CouncilArea a codificar son: 32\n"
     ]
    }
   ],
   "source": [
    "for i in columns_to_encode:\n",
    "  print(f'La cantidad de categorías de {i} a codificar son: {Melb_df_encoded[i].nunique()}')"
   ]
  },
  {
   "cell_type": "markdown",
   "metadata": {
    "id": "c21RRFy_bH4b"
   },
   "source": [
    "Como se observa, la cantidad de columnas que se van a generar es muy alta, de aquí la importancia de agrupar para reducirlas."
   ]
  },
  {
   "cell_type": "markdown",
   "metadata": {
    "id": "0zi5qCyusaMg"
   },
   "source": [
    "Nota: vamos a codificar todas las categorías de CouncilArea ya que tomar acciones como seleccionar aquellas categorías con mayor grado de ocurrencia implicaría achicar el dataset. Por ejemplo, podríamos utilizar las 10 o 20 CouncilArea con más frecuencia, pero esto produce una reducción importante de la cantidad de datos. Lo mismo para el resto de las variables categóricas.\n",
    "\n",
    "Creemos que para realizar una reducción de categorías, y que además sea representativa conservando la mayor cantidad de datos posibles, necesitamos analizar con más detalle el contexto del problema y apoyarnos con fuentes de datos externas. También podríamos utilizar variables como latitud y longitud para hacer el agrupamiento pero por razones de tiempo no podemos acceder a esta opción.\n",
    "\n",
    "Para un futuro trabajo sería válido analizar estas cuestiones ya que manejar una gran cantidad de columnas extras generadas por la codificación resulta inviable en terminos de recursos cuando las variables categóricas contienen grandes cantidades de clases."
   ]
  },
  {
   "cell_type": "code",
   "execution_count": 32,
   "metadata": {
    "id": "zd7a27SI7fqX"
   },
   "outputs": [],
   "source": [
    "from sklearn.preprocessing import OneHotEncoder\n",
    "\n",
    "encoded_melb_df = pandas.get_dummies(Melb_df_encoded, columns=columns_to_encode)"
   ]
  },
  {
   "cell_type": "code",
   "execution_count": 33,
   "metadata": {
    "id": "mMDbA8ZDBvFC"
   },
   "outputs": [],
   "source": [
    "#encoded_melb_df.loc[6743]\n",
    "#encoded_melb_df.loc[6743, encoded_melb_df.columns[pandas.Series(encoded_melb_df.columns).str.startswith('Council')]]\n"
   ]
  },
  {
   "cell_type": "code",
   "execution_count": 34,
   "metadata": {
    "colab": {
     "base_uri": "https://localhost:8080/",
     "height": 317
    },
    "id": "aKFck4h0nbb5",
    "outputId": "c43bd57b-2fb7-43ae-d547-70c25131fb75"
   },
   "outputs": [
    {
     "data": {
      "text/html": [
       "<div>\n",
       "<style scoped>\n",
       "    .dataframe tbody tr th:only-of-type {\n",
       "        vertical-align: middle;\n",
       "    }\n",
       "\n",
       "    .dataframe tbody tr th {\n",
       "        vertical-align: top;\n",
       "    }\n",
       "\n",
       "    .dataframe thead th {\n",
       "        text-align: right;\n",
       "    }\n",
       "</style>\n",
       "<table border=\"1\" class=\"dataframe\">\n",
       "  <thead>\n",
       "    <tr style=\"text-align: right;\">\n",
       "      <th></th>\n",
       "      <th>Rooms</th>\n",
       "      <th>Propertycount</th>\n",
       "      <th>Lattitude</th>\n",
       "      <th>Longtitude</th>\n",
       "      <th>Distance</th>\n",
       "      <th>Postcode</th>\n",
       "      <th>airbnb_price_median</th>\n",
       "      <th>airbnb_weekly_price_median</th>\n",
       "      <th>airbnb_monthly_price_median</th>\n",
       "      <th>Type_h</th>\n",
       "      <th>...</th>\n",
       "      <th>CouncilArea_Moorabool</th>\n",
       "      <th>CouncilArea_Moreland</th>\n",
       "      <th>CouncilArea_Nillumbik</th>\n",
       "      <th>CouncilArea_Port Phillip</th>\n",
       "      <th>CouncilArea_Stonnington</th>\n",
       "      <th>CouncilArea_Whitehorse</th>\n",
       "      <th>CouncilArea_Whittlesea</th>\n",
       "      <th>CouncilArea_Wyndham</th>\n",
       "      <th>CouncilArea_Yarra</th>\n",
       "      <th>CouncilArea_Yarra Ranges</th>\n",
       "    </tr>\n",
       "  </thead>\n",
       "  <tbody>\n",
       "    <tr>\n",
       "      <th>0</th>\n",
       "      <td>2.0</td>\n",
       "      <td>4019.0</td>\n",
       "      <td>-37.7996</td>\n",
       "      <td>144.9984</td>\n",
       "      <td>2.5</td>\n",
       "      <td>3067.0</td>\n",
       "      <td>100.0</td>\n",
       "      <td>380.0</td>\n",
       "      <td>1440.0</td>\n",
       "      <td>1</td>\n",
       "      <td>...</td>\n",
       "      <td>0</td>\n",
       "      <td>0</td>\n",
       "      <td>0</td>\n",
       "      <td>0</td>\n",
       "      <td>0</td>\n",
       "      <td>0</td>\n",
       "      <td>0</td>\n",
       "      <td>0</td>\n",
       "      <td>1</td>\n",
       "      <td>0</td>\n",
       "    </tr>\n",
       "    <tr>\n",
       "      <th>1</th>\n",
       "      <td>2.0</td>\n",
       "      <td>4019.0</td>\n",
       "      <td>-37.8079</td>\n",
       "      <td>144.9934</td>\n",
       "      <td>2.5</td>\n",
       "      <td>3067.0</td>\n",
       "      <td>100.0</td>\n",
       "      <td>380.0</td>\n",
       "      <td>1440.0</td>\n",
       "      <td>1</td>\n",
       "      <td>...</td>\n",
       "      <td>0</td>\n",
       "      <td>0</td>\n",
       "      <td>0</td>\n",
       "      <td>0</td>\n",
       "      <td>0</td>\n",
       "      <td>0</td>\n",
       "      <td>0</td>\n",
       "      <td>0</td>\n",
       "      <td>1</td>\n",
       "      <td>0</td>\n",
       "    </tr>\n",
       "    <tr>\n",
       "      <th>2</th>\n",
       "      <td>3.0</td>\n",
       "      <td>4019.0</td>\n",
       "      <td>-37.8093</td>\n",
       "      <td>144.9944</td>\n",
       "      <td>2.5</td>\n",
       "      <td>3067.0</td>\n",
       "      <td>100.0</td>\n",
       "      <td>380.0</td>\n",
       "      <td>1440.0</td>\n",
       "      <td>1</td>\n",
       "      <td>...</td>\n",
       "      <td>0</td>\n",
       "      <td>0</td>\n",
       "      <td>0</td>\n",
       "      <td>0</td>\n",
       "      <td>0</td>\n",
       "      <td>0</td>\n",
       "      <td>0</td>\n",
       "      <td>0</td>\n",
       "      <td>1</td>\n",
       "      <td>0</td>\n",
       "    </tr>\n",
       "    <tr>\n",
       "      <th>3</th>\n",
       "      <td>3.0</td>\n",
       "      <td>4019.0</td>\n",
       "      <td>-37.7969</td>\n",
       "      <td>144.9969</td>\n",
       "      <td>2.5</td>\n",
       "      <td>3067.0</td>\n",
       "      <td>100.0</td>\n",
       "      <td>380.0</td>\n",
       "      <td>1440.0</td>\n",
       "      <td>1</td>\n",
       "      <td>...</td>\n",
       "      <td>0</td>\n",
       "      <td>0</td>\n",
       "      <td>0</td>\n",
       "      <td>0</td>\n",
       "      <td>0</td>\n",
       "      <td>0</td>\n",
       "      <td>0</td>\n",
       "      <td>0</td>\n",
       "      <td>1</td>\n",
       "      <td>0</td>\n",
       "    </tr>\n",
       "    <tr>\n",
       "      <th>4</th>\n",
       "      <td>4.0</td>\n",
       "      <td>4019.0</td>\n",
       "      <td>-37.8072</td>\n",
       "      <td>144.9941</td>\n",
       "      <td>2.5</td>\n",
       "      <td>3067.0</td>\n",
       "      <td>100.0</td>\n",
       "      <td>380.0</td>\n",
       "      <td>1440.0</td>\n",
       "      <td>1</td>\n",
       "      <td>...</td>\n",
       "      <td>0</td>\n",
       "      <td>0</td>\n",
       "      <td>0</td>\n",
       "      <td>0</td>\n",
       "      <td>0</td>\n",
       "      <td>0</td>\n",
       "      <td>0</td>\n",
       "      <td>0</td>\n",
       "      <td>1</td>\n",
       "      <td>0</td>\n",
       "    </tr>\n",
       "  </tbody>\n",
       "</table>\n",
       "<p>5 rows × 613 columns</p>\n",
       "</div>"
      ],
      "text/plain": [
       "   Rooms  Propertycount  Lattitude  Longtitude  Distance  Postcode  \\\n",
       "0    2.0         4019.0   -37.7996    144.9984       2.5    3067.0   \n",
       "1    2.0         4019.0   -37.8079    144.9934       2.5    3067.0   \n",
       "2    3.0         4019.0   -37.8093    144.9944       2.5    3067.0   \n",
       "3    3.0         4019.0   -37.7969    144.9969       2.5    3067.0   \n",
       "4    4.0         4019.0   -37.8072    144.9941       2.5    3067.0   \n",
       "\n",
       "   airbnb_price_median  airbnb_weekly_price_median  \\\n",
       "0                100.0                       380.0   \n",
       "1                100.0                       380.0   \n",
       "2                100.0                       380.0   \n",
       "3                100.0                       380.0   \n",
       "4                100.0                       380.0   \n",
       "\n",
       "   airbnb_monthly_price_median  Type_h  ...  CouncilArea_Moorabool  \\\n",
       "0                       1440.0       1  ...                      0   \n",
       "1                       1440.0       1  ...                      0   \n",
       "2                       1440.0       1  ...                      0   \n",
       "3                       1440.0       1  ...                      0   \n",
       "4                       1440.0       1  ...                      0   \n",
       "\n",
       "   CouncilArea_Moreland  CouncilArea_Nillumbik  CouncilArea_Port Phillip  \\\n",
       "0                     0                      0                         0   \n",
       "1                     0                      0                         0   \n",
       "2                     0                      0                         0   \n",
       "3                     0                      0                         0   \n",
       "4                     0                      0                         0   \n",
       "\n",
       "   CouncilArea_Stonnington  CouncilArea_Whitehorse  CouncilArea_Whittlesea  \\\n",
       "0                        0                       0                       0   \n",
       "1                        0                       0                       0   \n",
       "2                        0                       0                       0   \n",
       "3                        0                       0                       0   \n",
       "4                        0                       0                       0   \n",
       "\n",
       "   CouncilArea_Wyndham  CouncilArea_Yarra  CouncilArea_Yarra Ranges  \n",
       "0                    0                  1                         0  \n",
       "1                    0                  1                         0  \n",
       "2                    0                  1                         0  \n",
       "3                    0                  1                         0  \n",
       "4                    0                  1                         0  \n",
       "\n",
       "[5 rows x 613 columns]"
      ]
     },
     "execution_count": 34,
     "metadata": {},
     "output_type": "execute_result"
    }
   ],
   "source": [
    "encoded_melb_df[:5]"
   ]
  },
  {
   "cell_type": "code",
   "execution_count": 35,
   "metadata": {
    "colab": {
     "base_uri": "https://localhost:8080/"
    },
    "id": "qoNoF6kS-MF3",
    "outputId": "08d5274b-002e-4eb6-8772-43905b6346dc"
   },
   "outputs": [
    {
     "name": "stdout",
     "output_type": "stream",
     "text": [
      "Dimensiones (original): 13\n",
      "Dimensiones (despues del encoding): 613\n"
     ]
    }
   ],
   "source": [
    "print(f'Dimensiones (original): {len(melb_df2.columns)}')\n",
    "print(f'Dimensiones (despues del encoding): {len(encoded_melb_df.columns)}')"
   ]
  },
  {
   "cell_type": "markdown",
   "metadata": {
    "id": "ismngxPcfoWb"
   },
   "source": [
    "## Ejercicio 2: Imputación por KNN\n",
    "\n",
    "En el teórico se presentó el método `IterativeImputer` para imputar valores faltantes en variables numéricas. Sin embargo, los ejemplos presentados sólo utilizaban algunas variables numéricas presentes en el conjunto de datos. En este ejercicio, utilizaremos la matriz de datos codificada para imputar datos faltantes de manera más precisa.\n",
    "\n",
    "1. Agregue a la matriz obtenida en el punto anterior las columnas `YearBuilt` y `BuildingArea`.\n",
    "2. Aplique una instancia de `IterativeImputer` con un estimador `KNeighborsRegressor` para imputar los valores de las variables. ¿Es necesario estandarizar o escalar los datos previamente?\n",
    "3. Realice un gráfico mostrando la distribución de cada variable antes de ser imputada, y con ambos métodos de imputación."
   ]
  },
  {
   "cell_type": "markdown",
   "metadata": {
    "id": "HYXESjYtxIrN"
   },
   "source": [
    "**1. Agregue a la matriz obtenida en el punto anterior las columnas `YearBuilt` y `BuildingArea`.**"
   ]
  },
  {
   "cell_type": "code",
   "execution_count": 36,
   "metadata": {
    "id": "NrAngXvsxHrL"
   },
   "outputs": [],
   "source": [
    "encoded_melb_df = encoded_melb_df.join(melb_df[['YearBuilt', 'BuildingArea']])"
   ]
  },
  {
   "cell_type": "markdown",
   "metadata": {
    "id": "tzf_DgeMxQqp"
   },
   "source": [
    "**2. Aplique una instancia de `IterativeImputer` con un estimador `KNeighborsRegressor` para imputar los valores de las variables. ¿Es necesario estandarizar o escalar los datos previamente?**\n",
    "\n"
   ]
  },
  {
   "cell_type": "markdown",
   "metadata": {
    "id": "7OgTnfhfFx4c"
   },
   "source": [
    "A continuacion vamos a mostrar graficos de la imputacion para ambas columnas, con los datos escalados y no escalados. \n",
    "\n",
    "Cuando se usa un algoritmo en el que se asocia como similar un vector con otro esa similitud suele medirse (aunque no siempre) con la distancia euclidea, como es el caso de KNN. Esto quiere decir que todas las columnas (features) van a tener la misma importancia (si no proveemos un array con los pesos de cada una) por lo cual para la correcta asociacion de vecinos mas cercanos es necesario que todas esten en la misma escala."
   ]
  },
  {
   "cell_type": "code",
   "execution_count": 37,
   "metadata": {
    "id": "LDswKfA_9jLv"
   },
   "outputs": [],
   "source": [
    "#estandarizamos\n",
    "from sklearn.preprocessing import StandardScaler\n",
    "\n",
    "scaler = StandardScaler()\n",
    "scaler.fit(encoded_melb_df.to_numpy())\n",
    "melb_data_scaled = scaler.transform(encoded_melb_df.to_numpy())\n",
    "melb_data_scaled = pandas.DataFrame(melb_data_scaled, columns=encoded_melb_df.columns)"
   ]
  },
  {
   "cell_type": "markdown",
   "metadata": {
    "id": "sNLqJSEefNAD"
   },
   "source": [
    "Vamos a utilizar solo las variables numéricas para la imputacion de valores faltantes usando KNN."
   ]
  },
  {
   "cell_type": "code",
   "execution_count": 38,
   "metadata": {
    "colab": {
     "base_uri": "https://localhost:8080/"
    },
    "id": "WWUtom62dLYo",
    "outputId": "31bf34c2-306e-456c-a777-977d7ad9e913"
   },
   "outputs": [
    {
     "data": {
      "text/plain": [
       "['BuildingArea',\n",
       " 'Propertycount',\n",
       " 'Lattitude',\n",
       " 'Longtitude',\n",
       " 'Distance',\n",
       " 'YearBuilt',\n",
       " 'Postcode',\n",
       " 'airbnb_price_median',\n",
       " 'airbnb_weekly_price_median',\n",
       " 'airbnb_monthly_price_median']"
      ]
     },
     "execution_count": 38,
     "metadata": {},
     "output_type": "execute_result"
    }
   ],
   "source": [
    "numerical = [var for var in melb_df.columns if (melb_df[var].dtype == float) or (melb_df[var].dtype == int)]\n",
    "numerical"
   ]
  },
  {
   "cell_type": "code",
   "execution_count": 39,
   "metadata": {
    "colab": {
     "base_uri": "https://localhost:8080/"
    },
    "id": "nQwvbTtqoJMP",
    "outputId": "51ec4f73-652a-419a-f9f9-6fec73636b44"
   },
   "outputs": [
    {
     "data": {
      "text/plain": [
       "BuildingArea                   6408\n",
       "Propertycount                     0\n",
       "Lattitude                         0\n",
       "Longtitude                        0\n",
       "Distance                          0\n",
       "YearBuilt                      5245\n",
       "Postcode                          0\n",
       "airbnb_price_median              21\n",
       "airbnb_weekly_price_median      831\n",
       "airbnb_monthly_price_median    1202\n",
       "dtype: int64"
      ]
     },
     "execution_count": 39,
     "metadata": {},
     "output_type": "execute_result"
    }
   ],
   "source": [
    "encoded_melb_df[numerical].isnull().sum()"
   ]
  },
  {
   "cell_type": "code",
   "execution_count": 40,
   "metadata": {
    "colab": {
     "base_uri": "https://localhost:8080/"
    },
    "id": "G4ClSr_JapCw",
    "outputId": "47d13c3e-2cf2-412b-befa-473bd62f5a40"
   },
   "outputs": [
    {
     "name": "stderr",
     "output_type": "stream",
     "text": [
      "D:\\anaconda3\\lib\\site-packages\\sklearn\\impute\\_iterative.py:685: ConvergenceWarning: [IterativeImputer] Early stopping criterion not reached.\n",
      "  warnings.warn(\"[IterativeImputer] Early stopping criterion not\"\n"
     ]
    }
   ],
   "source": [
    "from sklearn.experimental import enable_iterative_imputer\n",
    "from sklearn.neighbors import KNeighborsRegressor\n",
    "from sklearn.impute import IterativeImputer\n",
    "\n",
    "\n",
    "melb_data_mice_scaled = melb_data_scaled.copy(deep=True)\n",
    "\n",
    "imputer = IterativeImputer(random_state=0, estimator=KNeighborsRegressor())\n",
    "melb_data_mice_scaled[numerical] = imputer.fit_transform(melb_data_mice_scaled[numerical])\n",
    "\n"
   ]
  },
  {
   "cell_type": "markdown",
   "metadata": {
    "id": "A7nnBBjT4rj4"
   },
   "source": [
    "Chequeamos que hayan 0 filas para datos nullos en ambas columnas"
   ]
  },
  {
   "cell_type": "code",
   "execution_count": 41,
   "metadata": {
    "colab": {
     "base_uri": "https://localhost:8080/"
    },
    "id": "xS6HApEP4C8_",
    "outputId": "003dd608-b32a-4232-f089-b1f7ce1e3214"
   },
   "outputs": [
    {
     "name": "stdout",
     "output_type": "stream",
     "text": [
      "0\n",
      "0\n"
     ]
    }
   ],
   "source": [
    "print(len(melb_data_mice_scaled[melb_data_mice_scaled['BuildingArea'].isna()]))\n",
    "print(len(melb_data_mice_scaled[melb_data_mice_scaled['YearBuilt'].isna()]))"
   ]
  },
  {
   "cell_type": "markdown",
   "metadata": {
    "id": "ZD8ZAiHvyeex"
   },
   "source": [
    "**3. Realice un gráfico mostrando la distribución de cada variable antes de ser imputada, y con ambos métodos de imputación.**"
   ]
  },
  {
   "cell_type": "code",
   "execution_count": 42,
   "metadata": {
    "id": "5pGnBc6sic0i"
   },
   "outputs": [
    {
     "name": "stderr",
     "output_type": "stream",
     "text": [
      "D:\\anaconda3\\lib\\site-packages\\sklearn\\impute\\_iterative.py:685: ConvergenceWarning: [IterativeImputer] Early stopping criterion not reached.\n",
      "  warnings.warn(\"[IterativeImputer] Early stopping criterion not\"\n"
     ]
    }
   ],
   "source": [
    "#Para los gráficos\n",
    "#imputacion KNN sin estandarizar\n",
    "melb_data_mice= encoded_melb_df.copy(deep=True)\n",
    "melb_data_mice[numerical] = imputer.fit_transform(melb_data_mice[numerical])\n",
    "\n",
    "#Volvemos a los datos sin escalar para poder hacer los gráficos de forma interpretable\n",
    "melb_data_mice_unscaled = scaler.inverse_transform(melb_data_mice_scaled.to_numpy())\n",
    "melb_data_mice_unscaled = pandas.DataFrame(melb_data_mice_unscaled, columns=encoded_melb_df.columns)\n"
   ]
  },
  {
   "cell_type": "code",
   "execution_count": 43,
   "metadata": {
    "id": "GIQcfSIYif89"
   },
   "outputs": [
    {
     "name": "stdout",
     "output_type": "stream",
     "text": [
      "0\n",
      "0\n"
     ]
    }
   ],
   "source": [
    "print(len(melb_data_mice[melb_data_mice['BuildingArea'].isna()]))\n",
    "print(len(melb_data_mice[melb_data_mice['YearBuilt'].isna()]))"
   ]
  },
  {
   "cell_type": "markdown",
   "metadata": {
    "id": "Cg2nk8TGy_mR"
   },
   "source": [
    "#### Sin scaling"
   ]
  },
  {
   "cell_type": "markdown",
   "metadata": {
    "id": "IhMoqz-ODVIb"
   },
   "source": [
    "###### YearBuilt"
   ]
  },
  {
   "cell_type": "code",
   "execution_count": 44,
   "metadata": {
    "colab": {
     "base_uri": "https://localhost:8080/",
     "height": 482
    },
    "id": "PMK1ktqYQTJK",
    "outputId": "6451506e-acae-4845-a112-760882f76142"
   },
   "outputs": [
    {
     "data": {
      "text/plain": [
       "(1850.0, 2050.0)"
      ]
     },
     "execution_count": 44,
     "metadata": {},
     "output_type": "execute_result"
    },
    {
     "data": {
      "image/png": "[encoded data removed]",
      "text/plain": [
       "<Figure size 720x504 with 1 Axes>"
      ]
     },
     "metadata": {
      "needs_background": "light"
     },
     "output_type": "display_data"
    }
   ],
   "source": [
    "mice_year_built = melb_data_mice.YearBuilt.to_frame()\n",
    "mice_year_built['Imputation'] = 'KNN over YearBuilt'\n",
    "\n",
    "melb_year_build = melb_df.YearBuilt.dropna().to_frame()\n",
    "melb_year_build['Imputation'] = 'Original'\n",
    "\n",
    "data = pandas.concat([mice_year_built, melb_year_build], ignore_index=True) #agregué: ignore_index=True para solucionar el error\n",
    "fig = plt.figure(figsize=(10, 7))\n",
    "g = seaborn.kdeplot(data=data, x='YearBuilt', hue='Imputation')\n",
    "plt.xlim([1850, 2050])\n"
   ]
  },
  {
   "cell_type": "markdown",
   "metadata": {
    "id": "xv5_rBaHDY75"
   },
   "source": [
    "###### BuildingArea"
   ]
  },
  {
   "cell_type": "code",
   "execution_count": 45,
   "metadata": {
    "colab": {
     "base_uri": "https://localhost:8080/",
     "height": 464
    },
    "id": "6Clq2XHuCdWI",
    "outputId": "ab6fe250-b86b-471d-d34c-d1a8b9af3978"
   },
   "outputs": [
    {
     "data": {
      "image/png": "[encoded data removed]",
      "text/plain": [
       "<Figure size 720x504 with 1 Axes>"
      ]
     },
     "metadata": {
      "needs_background": "light"
     },
     "output_type": "display_data"
    }
   ],
   "source": [
    "mice_year_built = melb_data_mice.BuildingArea.to_frame()\n",
    "mice_year_built['Imputation'] = 'KNN over BuildingArea'\n",
    "\n",
    "melb_year_build = melb_df.BuildingArea.dropna().to_frame()\n",
    "melb_year_build['Imputation'] = 'Original'\n",
    "\n",
    "data = pandas.concat([mice_year_built, melb_year_build], ignore_index=True) #agregué: ignore_index=True para solucionar el error\n",
    "fig = plt.figure(figsize=(10, 7))\n",
    "g = seaborn.kdeplot(data=data, x='BuildingArea', hue='Imputation')"
   ]
  },
  {
   "cell_type": "markdown",
   "metadata": {
    "id": "fwQ34nef5AFJ"
   },
   "source": [
    "#### Con scaling"
   ]
  },
  {
   "cell_type": "markdown",
   "metadata": {
    "id": "I4YTX2Y7Dmb_"
   },
   "source": [
    "##### YearBuilt"
   ]
  },
  {
   "cell_type": "code",
   "execution_count": 46,
   "metadata": {
    "colab": {
     "base_uri": "https://localhost:8080/",
     "height": 506
    },
    "id": "lMeCKfQt4_Ac",
    "outputId": "067f2afd-1c66-40c4-ac8a-84102d2244ec"
   },
   "outputs": [
    {
     "name": "stdout",
     "output_type": "stream",
     "text": [
      "1196.0\n"
     ]
    },
    {
     "data": {
      "text/plain": [
       "(1850.0, 2050.0)"
      ]
     },
     "execution_count": 46,
     "metadata": {},
     "output_type": "execute_result"
    },
    {
     "data": {
      "image/png": "[encoded data removed]",
      "text/plain": [
       "<Figure size 720x504 with 1 Axes>"
      ]
     },
     "metadata": {
      "needs_background": "light"
     },
     "output_type": "display_data"
    }
   ],
   "source": [
    "mice_year_built = melb_data_mice_unscaled.YearBuilt.to_frame()\n",
    "mice_year_built['Imputation'] = 'KNN over YearBuilt'\n",
    "\n",
    "melb_year_build = encoded_melb_df.YearBuilt.dropna().to_frame()\n",
    "melb_year_build['Imputation'] = 'Original'\n",
    "\n",
    "data = pandas.concat([mice_year_built, melb_year_build], ignore_index=True) #agregué: ignore_index=True para solucionar el error\n",
    "\n",
    "fig = plt.figure(figsize=(10, 7))\n",
    "g = seaborn.kdeplot(data=data, x='YearBuilt', hue='Imputation')\n",
    "print(encoded_melb_df.YearBuilt.min())\n",
    "plt.xlim(1850, 2050)"
   ]
  },
  {
   "cell_type": "markdown",
   "metadata": {
    "id": "TUPq_sqhEBnD"
   },
   "source": [
    "##### BuildingArea"
   ]
  },
  {
   "cell_type": "code",
   "execution_count": 47,
   "metadata": {
    "colab": {
     "base_uri": "https://localhost:8080/",
     "height": 464
    },
    "id": "HvfTsIjyC5q3",
    "outputId": "19e8757b-bcbb-444f-e57f-747b0fff77e4"
   },
   "outputs": [
    {
     "data": {
      "image/png": "[encoded data removed]",
      "text/plain": [
       "<Figure size 720x504 with 1 Axes>"
      ]
     },
     "metadata": {
      "needs_background": "light"
     },
     "output_type": "display_data"
    }
   ],
   "source": [
    "mice_year_built = melb_data_mice_unscaled.BuildingArea.to_frame()\n",
    "mice_year_built['Imputation'] = 'KNN over BuildingArea'\n",
    "\n",
    "melb_year_build = encoded_melb_df.BuildingArea.dropna().to_frame()\n",
    "melb_year_build['Imputation'] = 'Original'\n",
    "\n",
    "data = pandas.concat([mice_year_built, melb_year_build], ignore_index=True) #agregué: ignore_index=True para solucionar el error\n",
    "\n",
    "fig = plt.figure(figsize=(10, 7))\n",
    "g = seaborn.kdeplot(data=data, x='BuildingArea', hue='Imputation')\n"
   ]
  },
  {
   "cell_type": "markdown",
   "metadata": {
    "id": "b0HeHEuuKsV_"
   },
   "source": [
    "Como se puede observar en los gráficos imputar valores faltantes usando KNN busca acercarse a la distribución de la variable original. Además, realizar una estandarización de los datos antes de imputar por KNN mejora la aproximación de ambas distribuciones. En la variable YearBuilt esto se puede ver con mayor claridad mediante el gráfico.\n",
    "\n",
    "Los resultados  mejorarían si en la imputación KNN se usaran todas las columnas del dataset. Esto implica, nuevamente, solucionar el problema de dimensionalidad generado por la codificación de las variables categóricas en los incisos anteriores."
   ]
  },
  {
   "cell_type": "markdown",
   "metadata": {
    "id": "NBN7-5OIxjJW"
   },
   "source": [
    "## Ejercicio 3: Reducción de dimensionalidad.\n",
    "\n",
    "Utilizando la matriz obtenida en el ejercicio anterior:\n",
    "1. Aplique `PCA` para obtener $n$ componentes principales de la matriz, donde `n = min(20, X.shape[0])`. ¿Es necesario estandarizar o escalar los datos?\n",
    "2. Grafique la varianza capturada por los primeros $n$ componentes principales, para cada $n$.\n",
    "3. En base al gráfico, seleccione las primeras $m$ columnas de la matriz transformada para agregar como nuevas características al conjunto de datos."
   ]
  },
  {
   "cell_type": "markdown",
   "metadata": {
    "id": "SeeZ0MCKHhQJ"
   },
   "source": [
    "**1. Aplique `PCA` para obtener $n$ componentes principales de la matriz, donde `n = min(20, X.shape[0])`. ¿Es necesario estandarizar o escalar los datos?**"
   ]
  },
  {
   "cell_type": "markdown",
   "metadata": {
    "id": "XbbKlq9gHnKB"
   },
   "source": [
    "El proceso de PCA identifica aquellas direcciones en las que la varianza es mayor. Como la varianza de una variable se mide en su misma escala elevada al cuadrado, si antes de calcular las componentes no se estandarizan todas las variables para que tengan media 0 y desviación estándar 1, aquellas variables cuya escala sea mayor dominarán al resto. De ahí que sea recomendable estandarizar siempre los datos.\n",
    "\n",
    "\n"
   ]
  },
  {
   "cell_type": "markdown",
   "metadata": {
    "id": "FjJf3UmxCvQa"
   },
   "source": [
    "**PCA con estandarizado**"
   ]
  },
  {
   "cell_type": "code",
   "execution_count": 48,
   "metadata": {
    "id": "v4TlaHagHQF-"
   },
   "outputs": [],
   "source": [
    "from sklearn.decomposition import PCA\n",
    "\n",
    "n_dim = min(20, melb_data_mice_scaled.shape[0])\n",
    "pca = PCA(n_dim)\n",
    "melb_dim_red = pca.fit_transform(melb_data_mice_scaled)"
   ]
  },
  {
   "cell_type": "markdown",
   "metadata": {
    "id": "o-0iLbvNPMgK"
   },
   "source": [
    "Grafica de la varianza capturada por los primeros $n$ componentes principales, para cada $n$."
   ]
  },
  {
   "cell_type": "code",
   "execution_count": 49,
   "metadata": {
    "colab": {
     "base_uri": "https://localhost:8080/",
     "height": 342
    },
    "id": "pJTtc_cMsfo7",
    "outputId": "71c55991-13ba-452b-8117-f6ede84818c3"
   },
   "outputs": [
    {
     "data": {
      "image/png": "[encoded data removed]",
      "text/plain": [
       "<Figure size 432x288 with 1 Axes>"
      ]
     },
     "metadata": {
      "needs_background": "light"
     },
     "output_type": "display_data"
    }
   ],
   "source": [
    "plt.plot(range(0, n_dim), pca.explained_variance_ratio_)\n",
    "plt.ylabel('Varianza')\n",
    "plt.xlabel('Componentes principales')\n",
    "plt.title('Varianza en componentes principales con\\n datos estandarizados')\n",
    "plt.show()\n"
   ]
  },
  {
   "cell_type": "code",
   "execution_count": 50,
   "metadata": {
    "colab": {
     "base_uri": "https://localhost:8080/"
    },
    "id": "M1wMILt5RD5z",
    "outputId": "f0828ce8-65f9-4acc-bf4f-b30f9a6db302"
   },
   "outputs": [
    {
     "data": {
      "text/plain": [
       "array([0.00866734, 0.00737594, 0.00533981, 0.00487824, 0.004803  ,\n",
       "       0.00451023, 0.0042973 , 0.00418285, 0.00417146, 0.00411528,\n",
       "       0.00404409, 0.0040055 , 0.00396979, 0.00394541, 0.00389136,\n",
       "       0.00382333, 0.00380333, 0.00378583, 0.00376962, 0.00373217])"
      ]
     },
     "execution_count": 50,
     "metadata": {},
     "output_type": "execute_result"
    }
   ],
   "source": [
    " pca.explained_variance_ratio_"
   ]
  },
  {
   "cell_type": "markdown",
   "metadata": {
    "id": "tcXd-NHiDk5m"
   },
   "source": [
    "**PCA con escalado**\n",
    "\n",
    "Volvemos a realizar los mismos pasos que en estandarizado, sólo que vamos a regresar al ejercicio 2 para imputar valores nulos con KNN partiendo de un conjunto de datos escalados con MinMaxScaler."
   ]
  },
  {
   "cell_type": "code",
   "execution_count": 51,
   "metadata": {
    "id": "qin6VOfmDzQx"
   },
   "outputs": [],
   "source": [
    "from sklearn.preprocessing import MinMaxScaler\n",
    "\n",
    "# Scale encoded melb_df\n",
    "scaler_min_max = MinMaxScaler()\n",
    "scaler_min_max.fit(encoded_melb_df.to_numpy())\n",
    "melb_data_scaled_min_max = scaler_min_max.transform(encoded_melb_df.to_numpy())\n",
    "melb_data_scaled_min_max = pandas.DataFrame(melb_data_scaled_min_max, columns=encoded_melb_df.columns)"
   ]
  },
  {
   "cell_type": "code",
   "execution_count": 52,
   "metadata": {
    "colab": {
     "base_uri": "https://localhost:8080/"
    },
    "id": "yk8ixSu4EiF_",
    "outputId": "a21ba4cf-f01b-4ca3-de67-6b633bc8c8c3"
   },
   "outputs": [
    {
     "name": "stderr",
     "output_type": "stream",
     "text": [
      "D:\\anaconda3\\lib\\site-packages\\sklearn\\impute\\_iterative.py:685: ConvergenceWarning: [IterativeImputer] Early stopping criterion not reached.\n",
      "  warnings.warn(\"[IterativeImputer] Early stopping criterion not\"\n"
     ]
    }
   ],
   "source": [
    "#KNN usando variables numéricas\n",
    "melb_data_mice_scaled_min_max= melb_data_scaled_min_max.copy(deep=True)\n",
    "melb_data_mice_scaled_min_max[numerical] = imputer.fit_transform(melb_data_mice_scaled_min_max[numerical])"
   ]
  },
  {
   "cell_type": "code",
   "execution_count": 53,
   "metadata": {
    "id": "TaNgSmFuDodR"
   },
   "outputs": [],
   "source": [
    "#PCA con datos escalados\n",
    "n_dim_2 = min(20, melb_data_mice_scaled_min_max.shape[0])\n",
    "pca_2 = PCA(n_dim_2)\n",
    "melb_dim_red_2 = pca_2.fit_transform(melb_data_mice_scaled_min_max)"
   ]
  },
  {
   "cell_type": "markdown",
   "metadata": {
    "id": "AiZd3HTpKU0R"
   },
   "source": [
    "Grafica de la varianza capturada por los primeros $n$ componentes principales, para cada $n$."
   ]
  },
  {
   "cell_type": "code",
   "execution_count": 54,
   "metadata": {
    "colab": {
     "base_uri": "https://localhost:8080/",
     "height": 342
    },
    "id": "UF2x32qFFZ9B",
    "outputId": "1fe2419e-9b18-4931-d918-7b0cdc143783"
   },
   "outputs": [
    {
     "data": {
      "image/png": "[encoded data removed]",
      "text/plain": [
       "<Figure size 432x288 with 1 Axes>"
      ]
     },
     "metadata": {
      "needs_background": "light"
     },
     "output_type": "display_data"
    }
   ],
   "source": [
    "plt.plot(range(0, n_dim_2), pca_2.explained_variance_ratio_)\n",
    "plt.ylabel('Varianza')\n",
    "plt.xlabel('Componentes principales')\n",
    "plt.title('Varianza en componentes principales\\n con datos escalados')\n",
    "plt.show()\n"
   ]
  },
  {
   "cell_type": "code",
   "execution_count": 55,
   "metadata": {
    "colab": {
     "base_uri": "https://localhost:8080/"
    },
    "id": "FZha8wdyFxS1",
    "outputId": "50d3741e-303c-4673-9c14-afc0ff3b580a"
   },
   "outputs": [
    {
     "data": {
      "text/plain": [
       "array([0.10093879, 0.04265084, 0.03450397, 0.03372631, 0.03109868,\n",
       "       0.02877271, 0.02695427, 0.02389385, 0.02231731, 0.0215633 ,\n",
       "       0.02087837, 0.01891203, 0.01803317, 0.01665089, 0.01627817,\n",
       "       0.0159279 , 0.01459203, 0.01365822, 0.01330446, 0.01164978])"
      ]
     },
     "execution_count": 55,
     "metadata": {},
     "output_type": "execute_result"
    }
   ],
   "source": [
    " pca_2.explained_variance_ratio_"
   ]
  },
  {
   "cell_type": "markdown",
   "metadata": {
    "id": "xC5QvRdyJIma"
   },
   "source": [
    "El porcentaje de varianza explicada por las 3 primeras componentes es mayor haciendo un escalado que un estandarizado, por lo que sería conveniente realizar esta última técnica para un PCA."
   ]
  },
  {
   "cell_type": "markdown",
   "metadata": {
    "id": "mdXk1fY2Jlrz"
   },
   "source": [
    "La gráfica de sedimentación muestra que los valores de la varianza explicada comienzan a formar una línea recta después del tercer componente principal. Por lo tanto, los componentes principales restantes explican una proporción muy pequeña de la variabilidad (cercana a cero) y probablemente carezcan de importancia."
   ]
  },
  {
   "cell_type": "markdown",
   "metadata": {
    "id": "7id9n0J7KcNT"
   },
   "source": [
    "A continuación hacemos la selección de las primeras $m$ columnas de la matriz transformada para agregar como nuevas características al conjunto de datos."
   ]
  },
  {
   "cell_type": "code",
   "execution_count": 56,
   "metadata": {
    "id": "jlfAYs6SJnFI"
   },
   "outputs": [],
   "source": [
    "n_pca_components = 3\n",
    "melb_pca_to_add = melb_dim_red_2[:, 0:n_pca_components]"
   ]
  },
  {
   "cell_type": "code",
   "execution_count": 57,
   "metadata": {
    "colab": {
     "base_uri": "https://localhost:8080/"
    },
    "id": "wT8A7PZYJvnH",
    "outputId": "3acb9cba-47a8-4a4c-fa60-125656482306"
   },
   "outputs": [
    {
     "data": {
      "text/plain": [
       "array([[-0.25624345, -0.05869225,  0.05943477],\n",
       "       [-0.23161929, -0.04303782,  0.06192121],\n",
       "       [-0.31905044, -0.08542969,  0.0491118 ],\n",
       "       ...,\n",
       "       [-0.34825878, -0.16584462, -0.09571561],\n",
       "       [-0.40137435, -0.19757789, -0.12432671],\n",
       "       [-0.38620369, -0.14313026, -0.17379072]])"
      ]
     },
     "execution_count": 57,
     "metadata": {},
     "output_type": "execute_result"
    }
   ],
   "source": [
    "melb_pca_to_add"
   ]
  },
  {
   "cell_type": "markdown",
   "metadata": {
    "id": "WrZTYmG_ZyDy"
   },
   "source": [
    "## Ejercicio 4: Composición del resultado\n",
    "\n",
    "Transformar nuevamente el conjunto de datos procesado en un `pandas.DataFrame` y guardarlo en un archivo.\n",
    "\n",
    "Para eso, será necesario recordar el nombre original de cada columna de la matriz, en el orden correcto. Tener en cuenta:\n",
    "1. El método `OneHotEncoder.get_feature_names` o el atributo `OneHotEncoder.categories_` permiten obtener una lista con los valores de la categoría que le corresponde a cada índice de la matriz.\n",
    "2. Ninguno de los métodos aplicados intercambia de lugar las columnas o las filas de la matriz."
   ]
  },
  {
   "cell_type": "code",
   "execution_count": 58,
   "metadata": {
    "id": "F2d894F5LYfg"
   },
   "outputs": [],
   "source": [
    "melb_extended_pca = numpy.hstack([melb_data_mice_scaled, melb_pca_to_add])\n",
    "\n",
    "new_pca_cols = [f'pca{i}' for i in range(1, n_pca_components + 1)]\n",
    "all_columns = [col_name.lower() for col_name in melb_data_mice_scaled.columns.to_list()] + new_pca_cols\n",
    "melb_extended_pca_df = pandas.DataFrame(data=melb_extended_pca, columns=all_columns)\n"
   ]
  },
  {
   "cell_type": "code",
   "execution_count": 59,
   "metadata": {
    "colab": {
     "base_uri": "https://localhost:8080/",
     "height": 473
    },
    "id": "9kHX6mC2x3Mm",
    "outputId": "2e5c55bc-26da-4eb4-dc31-eb8c58b555cc"
   },
   "outputs": [
    {
     "data": {
      "text/html": [
       "<div>\n",
       "<style scoped>\n",
       "    .dataframe tbody tr th:only-of-type {\n",
       "        vertical-align: middle;\n",
       "    }\n",
       "\n",
       "    .dataframe tbody tr th {\n",
       "        vertical-align: top;\n",
       "    }\n",
       "\n",
       "    .dataframe thead th {\n",
       "        text-align: right;\n",
       "    }\n",
       "</style>\n",
       "<table border=\"1\" class=\"dataframe\">\n",
       "  <thead>\n",
       "    <tr style=\"text-align: right;\">\n",
       "      <th></th>\n",
       "      <th>rooms</th>\n",
       "      <th>propertycount</th>\n",
       "      <th>lattitude</th>\n",
       "      <th>longtitude</th>\n",
       "      <th>distance</th>\n",
       "      <th>postcode</th>\n",
       "      <th>airbnb_price_median</th>\n",
       "      <th>airbnb_weekly_price_median</th>\n",
       "      <th>airbnb_monthly_price_median</th>\n",
       "      <th>type_h</th>\n",
       "      <th>...</th>\n",
       "      <th>councilarea_whitehorse</th>\n",
       "      <th>councilarea_whittlesea</th>\n",
       "      <th>councilarea_wyndham</th>\n",
       "      <th>councilarea_yarra</th>\n",
       "      <th>councilarea_yarra ranges</th>\n",
       "      <th>yearbuilt</th>\n",
       "      <th>buildingarea</th>\n",
       "      <th>pca1</th>\n",
       "      <th>pca2</th>\n",
       "      <th>pca3</th>\n",
       "    </tr>\n",
       "  </thead>\n",
       "  <tbody>\n",
       "    <tr>\n",
       "      <th>0</th>\n",
       "      <td>-1.108755</td>\n",
       "      <td>-0.775199</td>\n",
       "      <td>0.112137</td>\n",
       "      <td>0.035623</td>\n",
       "      <td>-1.32196</td>\n",
       "      <td>-0.415265</td>\n",
       "      <td>0.43428</td>\n",
       "      <td>-0.722429</td>\n",
       "      <td>-0.627648</td>\n",
       "      <td>0.626892</td>\n",
       "      <td>...</td>\n",
       "      <td>-0.172348</td>\n",
       "      <td>-0.131644</td>\n",
       "      <td>-0.099087</td>\n",
       "      <td>4.400937</td>\n",
       "      <td>-0.042082</td>\n",
       "      <td>-0.306554</td>\n",
       "      <td>-0.632691</td>\n",
       "      <td>-0.256243</td>\n",
       "      <td>-0.058692</td>\n",
       "      <td>0.059435</td>\n",
       "    </tr>\n",
       "    <tr>\n",
       "      <th>1</th>\n",
       "      <td>-1.108755</td>\n",
       "      <td>-0.775199</td>\n",
       "      <td>0.008348</td>\n",
       "      <td>-0.011873</td>\n",
       "      <td>-1.32196</td>\n",
       "      <td>-0.415265</td>\n",
       "      <td>0.43428</td>\n",
       "      <td>-0.722429</td>\n",
       "      <td>-0.627648</td>\n",
       "      <td>0.626892</td>\n",
       "      <td>...</td>\n",
       "      <td>-0.172348</td>\n",
       "      <td>-0.131644</td>\n",
       "      <td>-0.099087</td>\n",
       "      <td>4.400937</td>\n",
       "      <td>-0.042082</td>\n",
       "      <td>-1.672676</td>\n",
       "      <td>-1.195117</td>\n",
       "      <td>-0.231619</td>\n",
       "      <td>-0.043038</td>\n",
       "      <td>0.061921</td>\n",
       "    </tr>\n",
       "    <tr>\n",
       "      <th>2</th>\n",
       "      <td>0.058726</td>\n",
       "      <td>-0.775199</td>\n",
       "      <td>-0.009158</td>\n",
       "      <td>-0.002374</td>\n",
       "      <td>-1.32196</td>\n",
       "      <td>-0.415265</td>\n",
       "      <td>0.43428</td>\n",
       "      <td>-0.722429</td>\n",
       "      <td>-0.627648</td>\n",
       "      <td>0.626892</td>\n",
       "      <td>...</td>\n",
       "      <td>-0.172348</td>\n",
       "      <td>-0.131644</td>\n",
       "      <td>-0.099087</td>\n",
       "      <td>4.400937</td>\n",
       "      <td>-0.042082</td>\n",
       "      <td>-1.672676</td>\n",
       "      <td>0.191420</td>\n",
       "      <td>-0.319050</td>\n",
       "      <td>-0.085430</td>\n",
       "      <td>0.049112</td>\n",
       "    </tr>\n",
       "    <tr>\n",
       "      <th>3</th>\n",
       "      <td>0.058726</td>\n",
       "      <td>-0.775199</td>\n",
       "      <td>0.145899</td>\n",
       "      <td>0.021374</td>\n",
       "      <td>-1.32196</td>\n",
       "      <td>-0.415265</td>\n",
       "      <td>0.43428</td>\n",
       "      <td>-0.722429</td>\n",
       "      <td>-0.627648</td>\n",
       "      <td>0.626892</td>\n",
       "      <td>...</td>\n",
       "      <td>-0.172348</td>\n",
       "      <td>-0.131644</td>\n",
       "      <td>-0.099087</td>\n",
       "      <td>4.400937</td>\n",
       "      <td>-0.042082</td>\n",
       "      <td>-0.306554</td>\n",
       "      <td>-0.632691</td>\n",
       "      <td>-0.308053</td>\n",
       "      <td>-0.075619</td>\n",
       "      <td>0.050104</td>\n",
       "    </tr>\n",
       "    <tr>\n",
       "      <th>4</th>\n",
       "      <td>1.226207</td>\n",
       "      <td>-0.775199</td>\n",
       "      <td>0.017102</td>\n",
       "      <td>-0.005224</td>\n",
       "      <td>-1.32196</td>\n",
       "      <td>-0.415265</td>\n",
       "      <td>0.43428</td>\n",
       "      <td>-0.722429</td>\n",
       "      <td>-0.627648</td>\n",
       "      <td>0.626892</td>\n",
       "      <td>...</td>\n",
       "      <td>-0.172348</td>\n",
       "      <td>-0.131644</td>\n",
       "      <td>-0.099087</td>\n",
       "      <td>4.400937</td>\n",
       "      <td>-0.042082</td>\n",
       "      <td>1.345501</td>\n",
       "      <td>0.035191</td>\n",
       "      <td>-0.414647</td>\n",
       "      <td>0.587550</td>\n",
       "      <td>0.247670</td>\n",
       "    </tr>\n",
       "    <tr>\n",
       "      <th>5</th>\n",
       "      <td>-1.108755</td>\n",
       "      <td>-0.775199</td>\n",
       "      <td>0.055866</td>\n",
       "      <td>0.006175</td>\n",
       "      <td>-1.32196</td>\n",
       "      <td>-0.415265</td>\n",
       "      <td>0.43428</td>\n",
       "      <td>-0.722429</td>\n",
       "      <td>-0.627648</td>\n",
       "      <td>0.626892</td>\n",
       "      <td>...</td>\n",
       "      <td>-0.172348</td>\n",
       "      <td>-0.131644</td>\n",
       "      <td>-0.099087</td>\n",
       "      <td>4.400937</td>\n",
       "      <td>-0.042082</td>\n",
       "      <td>-1.630316</td>\n",
       "      <td>-0.820166</td>\n",
       "      <td>-0.234030</td>\n",
       "      <td>-0.196996</td>\n",
       "      <td>0.612708</td>\n",
       "    </tr>\n",
       "    <tr>\n",
       "      <th>6</th>\n",
       "      <td>0.058726</td>\n",
       "      <td>-0.775199</td>\n",
       "      <td>0.077124</td>\n",
       "      <td>0.044172</td>\n",
       "      <td>-1.32196</td>\n",
       "      <td>-0.415265</td>\n",
       "      <td>0.43428</td>\n",
       "      <td>-0.722429</td>\n",
       "      <td>-0.627648</td>\n",
       "      <td>0.626892</td>\n",
       "      <td>...</td>\n",
       "      <td>-0.172348</td>\n",
       "      <td>-0.131644</td>\n",
       "      <td>-0.099087</td>\n",
       "      <td>4.400937</td>\n",
       "      <td>-0.042082</td>\n",
       "      <td>-1.407924</td>\n",
       "      <td>1.363141</td>\n",
       "      <td>-0.399144</td>\n",
       "      <td>0.581872</td>\n",
       "      <td>0.257924</td>\n",
       "    </tr>\n",
       "    <tr>\n",
       "      <th>7</th>\n",
       "      <td>-1.108755</td>\n",
       "      <td>-0.775199</td>\n",
       "      <td>0.032107</td>\n",
       "      <td>0.007125</td>\n",
       "      <td>-1.32196</td>\n",
       "      <td>-0.415265</td>\n",
       "      <td>0.43428</td>\n",
       "      <td>-0.722429</td>\n",
       "      <td>-0.627648</td>\n",
       "      <td>0.626892</td>\n",
       "      <td>...</td>\n",
       "      <td>-0.172348</td>\n",
       "      <td>-0.131644</td>\n",
       "      <td>-0.099087</td>\n",
       "      <td>4.400937</td>\n",
       "      <td>-0.042082</td>\n",
       "      <td>-1.937428</td>\n",
       "      <td>-0.648314</td>\n",
       "      <td>-0.295737</td>\n",
       "      <td>0.634491</td>\n",
       "      <td>0.272437</td>\n",
       "    </tr>\n",
       "    <tr>\n",
       "      <th>8</th>\n",
       "      <td>-2.276237</td>\n",
       "      <td>-0.775199</td>\n",
       "      <td>0.097131</td>\n",
       "      <td>0.025174</td>\n",
       "      <td>-1.32196</td>\n",
       "      <td>-0.415265</td>\n",
       "      <td>0.43428</td>\n",
       "      <td>-0.722429</td>\n",
       "      <td>-0.627648</td>\n",
       "      <td>-1.595172</td>\n",
       "      <td>...</td>\n",
       "      <td>-0.172348</td>\n",
       "      <td>-0.131644</td>\n",
       "      <td>-0.099087</td>\n",
       "      <td>4.400937</td>\n",
       "      <td>-0.042082</td>\n",
       "      <td>-0.306554</td>\n",
       "      <td>-0.632691</td>\n",
       "      <td>1.135755</td>\n",
       "      <td>0.061318</td>\n",
       "      <td>0.069242</td>\n",
       "    </tr>\n",
       "    <tr>\n",
       "      <th>9</th>\n",
       "      <td>-1.108755</td>\n",
       "      <td>-0.775199</td>\n",
       "      <td>0.094630</td>\n",
       "      <td>0.040373</td>\n",
       "      <td>-1.32196</td>\n",
       "      <td>-0.415265</td>\n",
       "      <td>0.43428</td>\n",
       "      <td>-0.722429</td>\n",
       "      <td>-0.627648</td>\n",
       "      <td>0.626892</td>\n",
       "      <td>...</td>\n",
       "      <td>-0.172348</td>\n",
       "      <td>-0.131644</td>\n",
       "      <td>-0.099087</td>\n",
       "      <td>4.400937</td>\n",
       "      <td>-0.042082</td>\n",
       "      <td>-1.672676</td>\n",
       "      <td>-1.273232</td>\n",
       "      <td>-0.229842</td>\n",
       "      <td>-0.040740</td>\n",
       "      <td>0.062712</td>\n",
       "    </tr>\n",
       "  </tbody>\n",
       "</table>\n",
       "<p>10 rows × 618 columns</p>\n",
       "</div>"
      ],
      "text/plain": [
       "      rooms  propertycount  lattitude  longtitude  distance  postcode  \\\n",
       "0 -1.108755      -0.775199   0.112137    0.035623  -1.32196 -0.415265   \n",
       "1 -1.108755      -0.775199   0.008348   -0.011873  -1.32196 -0.415265   \n",
       "2  0.058726      -0.775199  -0.009158   -0.002374  -1.32196 -0.415265   \n",
       "3  0.058726      -0.775199   0.145899    0.021374  -1.32196 -0.415265   \n",
       "4  1.226207      -0.775199   0.017102   -0.005224  -1.32196 -0.415265   \n",
       "5 -1.108755      -0.775199   0.055866    0.006175  -1.32196 -0.415265   \n",
       "6  0.058726      -0.775199   0.077124    0.044172  -1.32196 -0.415265   \n",
       "7 -1.108755      -0.775199   0.032107    0.007125  -1.32196 -0.415265   \n",
       "8 -2.276237      -0.775199   0.097131    0.025174  -1.32196 -0.415265   \n",
       "9 -1.108755      -0.775199   0.094630    0.040373  -1.32196 -0.415265   \n",
       "\n",
       "   airbnb_price_median  airbnb_weekly_price_median  \\\n",
       "0              0.43428                   -0.722429   \n",
       "1              0.43428                   -0.722429   \n",
       "2              0.43428                   -0.722429   \n",
       "3              0.43428                   -0.722429   \n",
       "4              0.43428                   -0.722429   \n",
       "5              0.43428                   -0.722429   \n",
       "6              0.43428                   -0.722429   \n",
       "7              0.43428                   -0.722429   \n",
       "8              0.43428                   -0.722429   \n",
       "9              0.43428                   -0.722429   \n",
       "\n",
       "   airbnb_monthly_price_median    type_h  ...  councilarea_whitehorse  \\\n",
       "0                    -0.627648  0.626892  ...               -0.172348   \n",
       "1                    -0.627648  0.626892  ...               -0.172348   \n",
       "2                    -0.627648  0.626892  ...               -0.172348   \n",
       "3                    -0.627648  0.626892  ...               -0.172348   \n",
       "4                    -0.627648  0.626892  ...               -0.172348   \n",
       "5                    -0.627648  0.626892  ...               -0.172348   \n",
       "6                    -0.627648  0.626892  ...               -0.172348   \n",
       "7                    -0.627648  0.626892  ...               -0.172348   \n",
       "8                    -0.627648 -1.595172  ...               -0.172348   \n",
       "9                    -0.627648  0.626892  ...               -0.172348   \n",
       "\n",
       "   councilarea_whittlesea  councilarea_wyndham  councilarea_yarra  \\\n",
       "0               -0.131644            -0.099087           4.400937   \n",
       "1               -0.131644            -0.099087           4.400937   \n",
       "2               -0.131644            -0.099087           4.400937   \n",
       "3               -0.131644            -0.099087           4.400937   \n",
       "4               -0.131644            -0.099087           4.400937   \n",
       "5               -0.131644            -0.099087           4.400937   \n",
       "6               -0.131644            -0.099087           4.400937   \n",
       "7               -0.131644            -0.099087           4.400937   \n",
       "8               -0.131644            -0.099087           4.400937   \n",
       "9               -0.131644            -0.099087           4.400937   \n",
       "\n",
       "   councilarea_yarra ranges  yearbuilt  buildingarea      pca1      pca2  \\\n",
       "0                 -0.042082  -0.306554     -0.632691 -0.256243 -0.058692   \n",
       "1                 -0.042082  -1.672676     -1.195117 -0.231619 -0.043038   \n",
       "2                 -0.042082  -1.672676      0.191420 -0.319050 -0.085430   \n",
       "3                 -0.042082  -0.306554     -0.632691 -0.308053 -0.075619   \n",
       "4                 -0.042082   1.345501      0.035191 -0.414647  0.587550   \n",
       "5                 -0.042082  -1.630316     -0.820166 -0.234030 -0.196996   \n",
       "6                 -0.042082  -1.407924      1.363141 -0.399144  0.581872   \n",
       "7                 -0.042082  -1.937428     -0.648314 -0.295737  0.634491   \n",
       "8                 -0.042082  -0.306554     -0.632691  1.135755  0.061318   \n",
       "9                 -0.042082  -1.672676     -1.273232 -0.229842 -0.040740   \n",
       "\n",
       "       pca3  \n",
       "0  0.059435  \n",
       "1  0.061921  \n",
       "2  0.049112  \n",
       "3  0.050104  \n",
       "4  0.247670  \n",
       "5  0.612708  \n",
       "6  0.257924  \n",
       "7  0.272437  \n",
       "8  0.069242  \n",
       "9  0.062712  \n",
       "\n",
       "[10 rows x 618 columns]"
      ]
     },
     "execution_count": 59,
     "metadata": {},
     "output_type": "execute_result"
    }
   ],
   "source": [
    "melb_extended_pca_df[:10]"
   ]
  },
  {
   "cell_type": "code",
   "execution_count": 60,
   "metadata": {
    "colab": {
     "base_uri": "https://localhost:8080/"
    },
    "id": "hkm2ktsHpr9I",
    "outputId": "8cef6360-ddf2-415f-cc1e-f31406884943"
   },
   "outputs": [
    {
     "data": {
      "text/plain": [
       "Index(['rooms', 'propertycount', 'lattitude', 'longtitude', 'distance',\n",
       "       'postcode', 'airbnb_price_median', 'airbnb_weekly_price_median',\n",
       "       'airbnb_monthly_price_median', 'type_h',\n",
       "       ...\n",
       "       'councilarea_whitehorse', 'councilarea_whittlesea',\n",
       "       'councilarea_wyndham', 'councilarea_yarra', 'councilarea_yarra ranges',\n",
       "       'yearbuilt', 'buildingarea', 'pca1', 'pca2', 'pca3'],\n",
       "      dtype='object', length=618)"
      ]
     },
     "execution_count": 60,
     "metadata": {},
     "output_type": "execute_result"
    }
   ],
   "source": [
    "melb_extended_pca_df.columns"
   ]
  },
  {
   "cell_type": "code",
   "execution_count": 61,
   "metadata": {
    "id": "nOkgFoVpw9Cc"
   },
   "outputs": [],
   "source": [
    "##Archivo para descargar\n",
    "melb_extended_pca_df.to_csv('melb_pca_extended.csv')"
   ]
  },
  {
   "cell_type": "code",
   "execution_count": null,
   "metadata": {
    "id": "9ly6roKFmazh"
   },
   "outputs": [],
   "source": [
    "from google.colab import files\n",
    "files.download('melb_pca_extended.csv') "
   ]
  },
  {
   "cell_type": "code",
   "execution_count": null,
   "metadata": {
    "id": "DfchYPgTxvQ4"
   },
   "outputs": [],
   "source": [
    "# ## Small example\n",
    "# from sklearn.decomposition import PCA\n",
    "# from sklearn.preprocessing import OneHotEncoder\n",
    "\n",
    "# ## If we process our data with the following steps:\n",
    "# categorical_cols = ['Type', 'Regionname']\n",
    "# numerical_cols = ['Rooms', 'Distance']\n",
    "# new_columns = []\n",
    "\n",
    "# # Step 1: encode categorical columns\n",
    "# encoder = OneHotEncoder(handle_unknown='ignore', sparse=False)\n",
    "# X_cat = encoder.fit_transform(melb_df[categorical_cols])\n",
    "# for col, col_values in zip(categorical_cols, encoder.categories_):\n",
    "#   for col_value in col_values:\n",
    "#     new_columns.append('{}={}'.format(col, col_value))\n",
    "# print(\"Matrix has shape {}, with columns: {}\".format(X_cat.shape, new_columns))\n",
    "\n",
    "# # Step 2: Append the numerical columns\n",
    "# X = numpy.hstack([X_cat, melb_df[numerical_cols].values])\n",
    "# new_columns.extend(numerical_cols)\n",
    "# print(\"Matrix has shape {}, with columns: {}\".format(X_cat.shape, new_columns))\n",
    "\n",
    "# # Step 3: Append some new features, like PCA\n",
    "# pca = PCA(n_components=2)\n",
    "# pca_dummy_features = pca.fit_transform(X)\n",
    "# X_pca = numpy.hstack([X, pca_dummy_features])\n",
    "# new_columns.extend(['pca1', 'pca2'])\n",
    "\n",
    "# ## Re-build dataframe\n",
    "# processed_melb_df = pandas.DataFrame(data=X_pca, columns=new_columns)\n",
    "# processed_melb_df.head()"
   ]
  },
  {
   "cell_type": "markdown",
   "metadata": {
    "id": "mVBLFc8PhRtW"
   },
   "source": [
    "## Ejercicio 5: Documentación\n",
    "\n",
    "En un documento `.pdf` o `.md` realizar un reporte de las operaciones que realizaron para obtener el conjunto de datos final. Se debe incluir:\n",
    "  1. Criterios de exclusión (o inclusión) de filas\n",
    "  2. Interpretación de las columnas presentes\n",
    "  2. Todas las transofrmaciones realizadas\n",
    "\n",
    "Este documento es de uso técnico exclusivamente, y su objetivo es permitir que otres desarrolladores puedan reproducir los mismos pasos y obtener el mismo resultado. Debe ser detallado pero consiso. Por ejemplo:\n",
    "\n",
    "```\n",
    "  ## Criterios de exclusión de ejemplos\n",
    "  1. Se eliminan ejemplos donde el año de construcción es previo a 1900\n",
    "\n",
    "  ## Características seleccionadas\n",
    "  ### Características categóricas\n",
    "  1. Type: tipo de propiedad. 3 valores posibles\n",
    "  2. ...\n",
    "  Todas las características categóricas fueron codificadas con un\n",
    "  método OneHotEncoding utilizando como máximo sus 30 valores más \n",
    "  frecuentes.\n",
    "  \n",
    "  ### Características numéricas\n",
    "  1. Rooms: Cantidad de habitaciones\n",
    "  2. Distance: Distancia al centro de la ciudad.\n",
    "  3. airbnb_mean_price: Se agrega el precio promedio diario de \n",
    "     publicaciones de la plataforma AirBnB en el mismo código \n",
    "     postal. [Link al repositorio con datos externos].\n",
    "\n",
    "  ### Transformaciones:\n",
    "  1. Todas las características numéricas fueron estandarizadas.\n",
    "  2. La columna `Suburb` fue imputada utilizando el método ...\n",
    "  3. Las columnas `YearBuilt` y ... fueron imputadas utilizando el \n",
    "     algoritmo ...\n",
    "  4. ...\n",
    "\n",
    "  ### Datos aumentados\n",
    "  1. Se agregan las 5 primeras columnas obtenidas a través del\n",
    "     método de PCA, aplicado sobre el conjunto de datos\n",
    "     totalmente procesado.\n",
    "```\n"
   ]
  }
 ],
 "metadata": {
  "colab": {
   "collapsed_sections": [],
   "name": "Grupo14_entregable_Parte_2_2022.ipynb",
   "provenance": []
  },
  "gpuClass": "standard",
  "kernelspec": {
   "display_name": "Python 3 (ipykernel)",
   "language": "python",
   "name": "python3"
  },
  "language_info": {
   "codemirror_mode": {
    "name": "ipython",
    "version": 3
   },
   "file_extension": ".py",
   "mimetype": "text/x-python",
   "name": "python",
   "nbconvert_exporter": "python",
   "pygments_lexer": "ipython3",
   "version": "3.9.7"
  }
 },
 "nbformat": 4,
 "nbformat_minor": 1
}
