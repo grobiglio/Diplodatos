{
  "cells": [
    {
      "cell_type": "markdown",
      "metadata": {
        "id": "e0ff301b-5595-4a0b-a2b8-3d5609a0485d"
      },
      "source": [
        "**Diplomatura en Ciencia de Datos, Aprendizaje Automático y sus Aplicaciones**\n",
        "\n",
        "**Exploración y Curación de Datos**\n",
        "\n",
        "*Edición 2022*\n",
        "\n",
        "----\n",
        "**Integrantes Grupo 14:**\n",
        "\n",
        "*   Brunetto, Gisela\n",
        "*   Luna, Andres\n",
        "*   Robiglio, Guillermo\n",
        "*   Garay, Alejandro\n",
        "\n",
        "\n",
        "# Trabajo práctico entregable - parte 1\n",
        "\n",
        "En esta notebook, vamos a cargar el conjunto de datos de [la compentencia Kaggle](https://www.kaggle.com/dansbecker/melbourne-housing-snapshot) sobre estimación de precios de ventas de propiedades en Melbourne, Australia.\n",
        "\n",
        "Utilizaremos el conjunto de datos reducido producido por [DanB](https://www.kaggle.com/dansbecker). Hemos subido una copia a un servidor de la Universidad Nacional de Córdoba para facilitar su acceso remoto."
      ],
      "id": "e0ff301b-5595-4a0b-a2b8-3d5609a0485d"
    },
    {
      "cell_type": "code",
      "source": [
        "# Ejecutar en caso de que se quiera utilizar Google Colab y no se tenga el\n",
        "# módulo decouple.\n",
        "!pip install python-decouple"
      ],
      "metadata": {
        "colab": {
          "base_uri": "https://localhost:8080/"
        },
        "id": "wEvLDxwYUBbE",
        "outputId": "b715c47f-74d5-42d8-c757-0fc9f74fb9f2"
      },
      "id": "wEvLDxwYUBbE",
      "execution_count": null,
      "outputs": [
        {
          "output_type": "stream",
          "name": "stdout",
          "text": [
            "Looking in indexes: https://pypi.org/simple, https://us-python.pkg.dev/colab-wheels/public/simple/\n",
            "Collecting python-decouple\n",
            "  Downloading python_decouple-3.6-py3-none-any.whl (9.9 kB)\n",
            "Installing collected packages: python-decouple\n",
            "Successfully installed python-decouple-3.6\n"
          ]
        }
      ]
    },
    {
      "cell_type": "code",
      "source": [
        "# Ejecutar en caso de que se quiera utilizar Google Colab y no se tenga el\n",
        "# módulo rich, que sirve para embellecer salidas.\n",
        "!pip install rich"
      ],
      "metadata": {
        "colab": {
          "base_uri": "https://localhost:8080/"
        },
        "id": "Fvrhqv7RUEtk",
        "outputId": "5be1034c-ff97-4eea-b03f-8436900e43b0"
      },
      "id": "Fvrhqv7RUEtk",
      "execution_count": null,
      "outputs": [
        {
          "output_type": "stream",
          "name": "stdout",
          "text": [
            "Looking in indexes: https://pypi.org/simple, https://us-python.pkg.dev/colab-wheels/public/simple/\n",
            "Collecting rich\n",
            "  Downloading rich-12.5.1-py3-none-any.whl (235 kB)\n",
            "\u001b[K     |████████████████████████████████| 235 kB 5.1 MB/s \n",
            "\u001b[?25hRequirement already satisfied: typing-extensions<5.0,>=4.0.0 in /usr/local/lib/python3.7/dist-packages (from rich) (4.1.1)\n",
            "Requirement already satisfied: pygments<3.0.0,>=2.6.0 in /usr/local/lib/python3.7/dist-packages (from rich) (2.6.1)\n",
            "Collecting commonmark<0.10.0,>=0.9.0\n",
            "  Downloading commonmark-0.9.1-py2.py3-none-any.whl (51 kB)\n",
            "\u001b[K     |████████████████████████████████| 51 kB 6.0 MB/s \n",
            "\u001b[?25hInstalling collected packages: commonmark, rich\n",
            "Successfully installed commonmark-0.9.1 rich-12.5.1\n"
          ]
        }
      ]
    },
    {
      "cell_type": "code",
      "source": [
        "from typing_extensions import runtime_checkable\n",
        "import matplotlib.pyplot as plt\n",
        "import numpy as np\n",
        "import pandas\n",
        "\n",
        "import seaborn\n",
        "seaborn.set_context('talk')\n",
        "\n",
        "from decouple import config\n",
        "\n",
        "from rich.console import Console\n",
        "from rich.table import Table\n",
        "\n",
        "from sqlalchemy import create_engine, text\n",
        "\n",
        "import scipy.stats as ss\n",
        "! pip install scikit-plot\n",
        "import sklearn as sk"
      ],
      "metadata": {
        "colab": {
          "base_uri": "https://localhost:8080/"
        },
        "id": "jg4fZ6NwUNXK",
        "outputId": "86929521-5519-41e2-de5a-21a5f86203fa"
      },
      "id": "jg4fZ6NwUNXK",
      "execution_count": null,
      "outputs": [
        {
          "output_type": "stream",
          "name": "stdout",
          "text": [
            "Looking in indexes: https://pypi.org/simple, https://us-python.pkg.dev/colab-wheels/public/simple/\n",
            "Collecting scikit-plot\n",
            "  Downloading scikit_plot-0.3.7-py3-none-any.whl (33 kB)\n",
            "Requirement already satisfied: scikit-learn>=0.18 in /usr/local/lib/python3.7/dist-packages (from scikit-plot) (1.0.2)\n",
            "Requirement already satisfied: joblib>=0.10 in /usr/local/lib/python3.7/dist-packages (from scikit-plot) (1.1.0)\n",
            "Requirement already satisfied: scipy>=0.9 in /usr/local/lib/python3.7/dist-packages (from scikit-plot) (1.5.4)\n",
            "Requirement already satisfied: matplotlib>=1.4.0 in /usr/local/lib/python3.7/dist-packages (from scikit-plot) (3.2.2)\n",
            "Requirement already satisfied: pyparsing!=2.0.4,!=2.1.2,!=2.1.6,>=2.0.1 in /usr/local/lib/python3.7/dist-packages (from matplotlib>=1.4.0->scikit-plot) (3.0.9)\n",
            "Requirement already satisfied: kiwisolver>=1.0.1 in /usr/local/lib/python3.7/dist-packages (from matplotlib>=1.4.0->scikit-plot) (1.4.3)\n",
            "Requirement already satisfied: python-dateutil>=2.1 in /usr/local/lib/python3.7/dist-packages (from matplotlib>=1.4.0->scikit-plot) (2.8.2)\n",
            "Requirement already satisfied: numpy>=1.11 in /usr/local/lib/python3.7/dist-packages (from matplotlib>=1.4.0->scikit-plot) (1.21.6)\n",
            "Requirement already satisfied: cycler>=0.10 in /usr/local/lib/python3.7/dist-packages (from matplotlib>=1.4.0->scikit-plot) (0.11.0)\n",
            "Requirement already satisfied: typing-extensions in /usr/local/lib/python3.7/dist-packages (from kiwisolver>=1.0.1->matplotlib>=1.4.0->scikit-plot) (4.1.1)\n",
            "Requirement already satisfied: six>=1.5 in /usr/local/lib/python3.7/dist-packages (from python-dateutil>=2.1->matplotlib>=1.4.0->scikit-plot) (1.15.0)\n",
            "Requirement already satisfied: threadpoolctl>=2.0.0 in /usr/local/lib/python3.7/dist-packages (from scikit-learn>=0.18->scikit-plot) (3.1.0)\n",
            "Installing collected packages: scikit-plot\n",
            "Successfully installed scikit-plot-0.3.7\n"
          ]
        }
      ]
    },
    {
      "cell_type": "code",
      "execution_count": null,
      "metadata": {
        "colab": {
          "base_uri": "https://localhost:8080/",
          "height": 36
        },
        "id": "ce478cbd-0f49-4f15-8dc5-1fe1a5b39f17",
        "outputId": "4fd3ce4a-15aa-481d-d3d8-13e134561d9f"
      },
      "outputs": [
        {
          "output_type": "execute_result",
          "data": {
            "text/plain": [
              "'5.5.0'"
            ],
            "application/vnd.google.colaboratory.intrinsic+json": {
              "type": "string"
            }
          },
          "metadata": {},
          "execution_count": 4
        }
      ],
      "source": [
        "import plotly\n",
        "plotly.__version__\n",
        "# Make sure it's 4.14.3"
      ],
      "id": "ce478cbd-0f49-4f15-8dc5-1fe1a5b39f17"
    },
    {
      "cell_type": "code",
      "execution_count": null,
      "metadata": {
        "colab": {
          "base_uri": "https://localhost:8080/",
          "height": 306
        },
        "id": "5ba8bfd5-199a-4390-a5b4-11ec9669b3e1",
        "outputId": "2b4c30d4-6806-4d56-accc-10bb1e635859"
      },
      "outputs": [
        {
          "output_type": "execute_result",
          "data": {
            "text/plain": [
              "       Suburb          Address  Rooms Type      Price Method SellerG  \\\n",
              "0  Abbotsford     85 Turner St      2    h  1480000.0      S  Biggin   \n",
              "1  Abbotsford  25 Bloomburg St      2    h  1035000.0      S  Biggin   \n",
              "2  Abbotsford     5 Charles St      3    h  1465000.0     SP  Biggin   \n",
              "\n",
              "        Date  Distance  Postcode  ...  Bathroom  Car  Landsize  BuildingArea  \\\n",
              "0  3/12/2016       2.5    3067.0  ...       1.0  1.0     202.0           NaN   \n",
              "1  4/02/2016       2.5    3067.0  ...       1.0  0.0     156.0          79.0   \n",
              "2  4/03/2017       2.5    3067.0  ...       2.0  0.0     134.0         150.0   \n",
              "\n",
              "   YearBuilt  CouncilArea Lattitude  Longtitude             Regionname  \\\n",
              "0        NaN        Yarra  -37.7996    144.9984  Northern Metropolitan   \n",
              "1     1900.0        Yarra  -37.8079    144.9934  Northern Metropolitan   \n",
              "2     1900.0        Yarra  -37.8093    144.9944  Northern Metropolitan   \n",
              "\n",
              "  Propertycount  \n",
              "0        4019.0  \n",
              "1        4019.0  \n",
              "2        4019.0  \n",
              "\n",
              "[3 rows x 21 columns]"
            ],
            "text/html": [
              "\n",
              "  <div id=\"df-b97a983f-dbc9-4628-97b0-51e57eaf060c\">\n",
              "    <div class=\"colab-df-container\">\n",
              "      <div>\n",
              "<style scoped>\n",
              "    .dataframe tbody tr th:only-of-type {\n",
              "        vertical-align: middle;\n",
              "    }\n",
              "\n",
              "    .dataframe tbody tr th {\n",
              "        vertical-align: top;\n",
              "    }\n",
              "\n",
              "    .dataframe thead th {\n",
              "        text-align: right;\n",
              "    }\n",
              "</style>\n",
              "<table border=\"1\" class=\"dataframe\">\n",
              "  <thead>\n",
              "    <tr style=\"text-align: right;\">\n",
              "      <th></th>\n",
              "      <th>Suburb</th>\n",
              "      <th>Address</th>\n",
              "      <th>Rooms</th>\n",
              "      <th>Type</th>\n",
              "      <th>Price</th>\n",
              "      <th>Method</th>\n",
              "      <th>SellerG</th>\n",
              "      <th>Date</th>\n",
              "      <th>Distance</th>\n",
              "      <th>Postcode</th>\n",
              "      <th>...</th>\n",
              "      <th>Bathroom</th>\n",
              "      <th>Car</th>\n",
              "      <th>Landsize</th>\n",
              "      <th>BuildingArea</th>\n",
              "      <th>YearBuilt</th>\n",
              "      <th>CouncilArea</th>\n",
              "      <th>Lattitude</th>\n",
              "      <th>Longtitude</th>\n",
              "      <th>Regionname</th>\n",
              "      <th>Propertycount</th>\n",
              "    </tr>\n",
              "  </thead>\n",
              "  <tbody>\n",
              "    <tr>\n",
              "      <th>0</th>\n",
              "      <td>Abbotsford</td>\n",
              "      <td>85 Turner St</td>\n",
              "      <td>2</td>\n",
              "      <td>h</td>\n",
              "      <td>1480000.0</td>\n",
              "      <td>S</td>\n",
              "      <td>Biggin</td>\n",
              "      <td>3/12/2016</td>\n",
              "      <td>2.5</td>\n",
              "      <td>3067.0</td>\n",
              "      <td>...</td>\n",
              "      <td>1.0</td>\n",
              "      <td>1.0</td>\n",
              "      <td>202.0</td>\n",
              "      <td>NaN</td>\n",
              "      <td>NaN</td>\n",
              "      <td>Yarra</td>\n",
              "      <td>-37.7996</td>\n",
              "      <td>144.9984</td>\n",
              "      <td>Northern Metropolitan</td>\n",
              "      <td>4019.0</td>\n",
              "    </tr>\n",
              "    <tr>\n",
              "      <th>1</th>\n",
              "      <td>Abbotsford</td>\n",
              "      <td>25 Bloomburg St</td>\n",
              "      <td>2</td>\n",
              "      <td>h</td>\n",
              "      <td>1035000.0</td>\n",
              "      <td>S</td>\n",
              "      <td>Biggin</td>\n",
              "      <td>4/02/2016</td>\n",
              "      <td>2.5</td>\n",
              "      <td>3067.0</td>\n",
              "      <td>...</td>\n",
              "      <td>1.0</td>\n",
              "      <td>0.0</td>\n",
              "      <td>156.0</td>\n",
              "      <td>79.0</td>\n",
              "      <td>1900.0</td>\n",
              "      <td>Yarra</td>\n",
              "      <td>-37.8079</td>\n",
              "      <td>144.9934</td>\n",
              "      <td>Northern Metropolitan</td>\n",
              "      <td>4019.0</td>\n",
              "    </tr>\n",
              "    <tr>\n",
              "      <th>2</th>\n",
              "      <td>Abbotsford</td>\n",
              "      <td>5 Charles St</td>\n",
              "      <td>3</td>\n",
              "      <td>h</td>\n",
              "      <td>1465000.0</td>\n",
              "      <td>SP</td>\n",
              "      <td>Biggin</td>\n",
              "      <td>4/03/2017</td>\n",
              "      <td>2.5</td>\n",
              "      <td>3067.0</td>\n",
              "      <td>...</td>\n",
              "      <td>2.0</td>\n",
              "      <td>0.0</td>\n",
              "      <td>134.0</td>\n",
              "      <td>150.0</td>\n",
              "      <td>1900.0</td>\n",
              "      <td>Yarra</td>\n",
              "      <td>-37.8093</td>\n",
              "      <td>144.9944</td>\n",
              "      <td>Northern Metropolitan</td>\n",
              "      <td>4019.0</td>\n",
              "    </tr>\n",
              "  </tbody>\n",
              "</table>\n",
              "<p>3 rows × 21 columns</p>\n",
              "</div>\n",
              "      <button class=\"colab-df-convert\" onclick=\"convertToInteractive('df-b97a983f-dbc9-4628-97b0-51e57eaf060c')\"\n",
              "              title=\"Convert this dataframe to an interactive table.\"\n",
              "              style=\"display:none;\">\n",
              "        \n",
              "  <svg xmlns=\"http://www.w3.org/2000/svg\" height=\"24px\"viewBox=\"0 0 24 24\"\n",
              "       width=\"24px\">\n",
              "    <path d=\"M0 0h24v24H0V0z\" fill=\"none\"/>\n",
              "    <path d=\"M18.56 5.44l.94 2.06.94-2.06 2.06-.94-2.06-.94-.94-2.06-.94 2.06-2.06.94zm-11 1L8.5 8.5l.94-2.06 2.06-.94-2.06-.94L8.5 2.5l-.94 2.06-2.06.94zm10 10l.94 2.06.94-2.06 2.06-.94-2.06-.94-.94-2.06-.94 2.06-2.06.94z\"/><path d=\"M17.41 7.96l-1.37-1.37c-.4-.4-.92-.59-1.43-.59-.52 0-1.04.2-1.43.59L10.3 9.45l-7.72 7.72c-.78.78-.78 2.05 0 2.83L4 21.41c.39.39.9.59 1.41.59.51 0 1.02-.2 1.41-.59l7.78-7.78 2.81-2.81c.8-.78.8-2.07 0-2.86zM5.41 20L4 18.59l7.72-7.72 1.47 1.35L5.41 20z\"/>\n",
              "  </svg>\n",
              "      </button>\n",
              "      \n",
              "  <style>\n",
              "    .colab-df-container {\n",
              "      display:flex;\n",
              "      flex-wrap:wrap;\n",
              "      gap: 12px;\n",
              "    }\n",
              "\n",
              "    .colab-df-convert {\n",
              "      background-color: #E8F0FE;\n",
              "      border: none;\n",
              "      border-radius: 50%;\n",
              "      cursor: pointer;\n",
              "      display: none;\n",
              "      fill: #1967D2;\n",
              "      height: 32px;\n",
              "      padding: 0 0 0 0;\n",
              "      width: 32px;\n",
              "    }\n",
              "\n",
              "    .colab-df-convert:hover {\n",
              "      background-color: #E2EBFA;\n",
              "      box-shadow: 0px 1px 2px rgba(60, 64, 67, 0.3), 0px 1px 3px 1px rgba(60, 64, 67, 0.15);\n",
              "      fill: #174EA6;\n",
              "    }\n",
              "\n",
              "    [theme=dark] .colab-df-convert {\n",
              "      background-color: #3B4455;\n",
              "      fill: #D2E3FC;\n",
              "    }\n",
              "\n",
              "    [theme=dark] .colab-df-convert:hover {\n",
              "      background-color: #434B5C;\n",
              "      box-shadow: 0px 1px 3px 1px rgba(0, 0, 0, 0.15);\n",
              "      filter: drop-shadow(0px 1px 2px rgba(0, 0, 0, 0.3));\n",
              "      fill: #FFFFFF;\n",
              "    }\n",
              "  </style>\n",
              "\n",
              "      <script>\n",
              "        const buttonEl =\n",
              "          document.querySelector('#df-b97a983f-dbc9-4628-97b0-51e57eaf060c button.colab-df-convert');\n",
              "        buttonEl.style.display =\n",
              "          google.colab.kernel.accessAllowed ? 'block' : 'none';\n",
              "\n",
              "        async function convertToInteractive(key) {\n",
              "          const element = document.querySelector('#df-b97a983f-dbc9-4628-97b0-51e57eaf060c');\n",
              "          const dataTable =\n",
              "            await google.colab.kernel.invokeFunction('convertToInteractive',\n",
              "                                                     [key], {});\n",
              "          if (!dataTable) return;\n",
              "\n",
              "          const docLinkHtml = 'Like what you see? Visit the ' +\n",
              "            '<a target=\"_blank\" href=https://colab.research.google.com/notebooks/data_table.ipynb>data table notebook</a>'\n",
              "            + ' to learn more about interactive tables.';\n",
              "          element.innerHTML = '';\n",
              "          dataTable['output_type'] = 'display_data';\n",
              "          await google.colab.output.renderOutput(dataTable, element);\n",
              "          const docLink = document.createElement('div');\n",
              "          docLink.innerHTML = docLinkHtml;\n",
              "          element.appendChild(docLink);\n",
              "        }\n",
              "      </script>\n",
              "    </div>\n",
              "  </div>\n",
              "  "
            ]
          },
          "metadata": {},
          "execution_count": 5
        }
      ],
      "source": [
        "melb_df = pandas.read_csv(\n",
        "    'https://cs.famaf.unc.edu.ar/~mteruel/datasets/diplodatos/melb_data.csv')\n",
        "melb_df[:3]"
      ],
      "id": "5ba8bfd5-199a-4390-a5b4-11ec9669b3e1"
    },
    {
      "cell_type": "markdown",
      "metadata": {
        "id": "6cffe5bf-2498-498c-aa06-3e61422d91e6"
      },
      "source": [
        "## Ejercicio 1 SQL: \n",
        "\n",
        "1. Crear una base de datos en SQLite utilizando la libreria [SQLalchemy](https://stackoverflow.com/questions/2268050/execute-sql-from-file-in-sqlalchemy).\n",
        "https://docs.sqlalchemy.org/en/14/core/engines.html#sqlite\n",
        "\n",
        "2. Ingestar los datos provistos en 'https://cs.famaf.unc.edu.ar/~mteruel/datasets/diplodatos/melb_data.csv' en una tabla y el dataset generado en clase con datos de airbnb y sus precios por codigo postal en otra.\n",
        "\n",
        "3. Implementar consultas en SQL que respondan con la siguiente información:\n",
        "\n",
        "    - cantidad de registros totales por ciudad.\n",
        "    - cantidad de registros totales por barrio y ciudad.\n",
        "\n",
        "4. Combinar los datasets de ambas tablas ingestadas utilizando el comando JOIN de SQL  para obtener un resultado similar a lo realizado con Pandas en clase.  \n",
        "\n"
      ],
      "id": "6cffe5bf-2498-498c-aa06-3e61422d91e6"
    },
    {
      "cell_type": "markdown",
      "source": [
        "**Respuestas al ejercicio 1**"
      ],
      "metadata": {
        "id": "ZH8DQ8t2VEZM"
      },
      "id": "ZH8DQ8t2VEZM"
    },
    {
      "cell_type": "markdown",
      "source": [
        "**1)**"
      ],
      "metadata": {
        "id": "MAFOimqpVKm8"
      },
      "id": "MAFOimqpVKm8"
    },
    {
      "cell_type": "code",
      "source": [
        "interesting_cols = [\n",
        "  'description', 'neighborhood_overview',\n",
        "  'street', 'neighborhood', 'city', 'suburb', 'state', 'zipcode',\n",
        "  'price', 'weekly_price', 'monthly_price',\n",
        "  'latitude', 'longitude',\n",
        "]\n",
        "\n",
        "airbnb_df = pandas.read_csv(\n",
        "    'https://cs.famaf.unc.edu.ar/~mteruel/datasets/diplodatos/cleansed_listings_dec18.csv', \n",
        "    usecols=interesting_cols)"
      ],
      "metadata": {
        "colab": {
          "base_uri": "https://localhost:8080/"
        },
        "id": "wFmW9HdAVDKf",
        "outputId": "5b9c08a9-d4f1-4500-b51d-68b1df4b3cf8"
      },
      "id": "wFmW9HdAVDKf",
      "execution_count": null,
      "outputs": [
        {
          "output_type": "stream",
          "name": "stderr",
          "text": [
            "/usr/local/lib/python3.7/dist-packages/IPython/core/interactiveshell.py:2882: DtypeWarning: Columns (35) have mixed types.Specify dtype option on import or set low_memory=False.\n",
            "  exec(code_obj, self.user_global_ns, self.user_ns)\n"
          ]
        }
      ]
    },
    {
      "cell_type": "code",
      "source": [
        "engine = create_engine('sqlite:///entregable1.db', echo=False) "
      ],
      "metadata": {
        "id": "CcHiyX66TsnN"
      },
      "id": "CcHiyX66TsnN",
      "execution_count": null,
      "outputs": []
    },
    {
      "cell_type": "code",
      "source": [
        "airbnb_df.columns"
      ],
      "metadata": {
        "colab": {
          "base_uri": "https://localhost:8080/"
        },
        "id": "Z7uMDfffT93q",
        "outputId": "ca103aa5-6405-4fe1-ddb3-8027430426ec"
      },
      "id": "Z7uMDfffT93q",
      "execution_count": null,
      "outputs": [
        {
          "output_type": "execute_result",
          "data": {
            "text/plain": [
              "Index(['description', 'neighborhood_overview', 'street', 'neighborhood',\n",
              "       'city', 'suburb', 'state', 'zipcode', 'latitude', 'longitude', 'price',\n",
              "       'weekly_price', 'monthly_price'],\n",
              "      dtype='object')"
            ]
          },
          "metadata": {},
          "execution_count": 8
        }
      ]
    },
    {
      "cell_type": "code",
      "source": [
        "melb_df.columns"
      ],
      "metadata": {
        "colab": {
          "base_uri": "https://localhost:8080/"
        },
        "id": "iKjqCPHUVsQA",
        "outputId": "0877c12e-227a-4813-83ef-5aa5d28f1c28"
      },
      "id": "iKjqCPHUVsQA",
      "execution_count": null,
      "outputs": [
        {
          "output_type": "execute_result",
          "data": {
            "text/plain": [
              "Index(['Suburb', 'Address', 'Rooms', 'Type', 'Price', 'Method', 'SellerG',\n",
              "       'Date', 'Distance', 'Postcode', 'Bedroom2', 'Bathroom', 'Car',\n",
              "       'Landsize', 'BuildingArea', 'YearBuilt', 'CouncilArea', 'Lattitude',\n",
              "       'Longtitude', 'Regionname', 'Propertycount'],\n",
              "      dtype='object')"
            ]
          },
          "metadata": {},
          "execution_count": 9
        }
      ]
    },
    {
      "cell_type": "markdown",
      "source": [
        "**2)**"
      ],
      "metadata": {
        "id": "u9umHuqjYGeD"
      },
      "id": "u9umHuqjYGeD"
    },
    {
      "cell_type": "code",
      "execution_count": null,
      "metadata": {
        "id": "CDcxwDlQrDD8"
      },
      "outputs": [],
      "source": [
        "#tabla para Melb\n",
        "melb_df.to_sql('melb', con=engine, if_exists=\"replace\")"
      ],
      "id": "CDcxwDlQrDD8"
    },
    {
      "cell_type": "code",
      "source": [
        "#tabla para AirBnB\n",
        "airbnb_df.to_sql('airbnb', con=engine, if_exists=\"replace\")"
      ],
      "metadata": {
        "id": "xtp7BkoqXAAZ"
      },
      "id": "xtp7BkoqXAAZ",
      "execution_count": null,
      "outputs": []
    },
    {
      "cell_type": "markdown",
      "metadata": {
        "id": "LfKKegnOh5Z7"
      },
      "source": [
        "\n",
        "**3)** \n",
        "\n",
        "  \n",
        "   \n"
      ],
      "id": "LfKKegnOh5Z7"
    },
    {
      "cell_type": "markdown",
      "source": [
        "  - cantidad de registros totales por ciudad."
      ],
      "metadata": {
        "id": "lm90UvAUY-YI"
      },
      "id": "lm90UvAUY-YI"
    },
    {
      "cell_type": "code",
      "source": [
        "query1 = \"SELECT city, COUNT(*) FROM airbnb GROUP BY city ORDER BY COUNT(*) DESC\"\n",
        "\n",
        "pandas.read_sql_query(query1, engine)"
      ],
      "metadata": {
        "colab": {
          "base_uri": "https://localhost:8080/",
          "height": 989
        },
        "id": "4-rCL_xbZhMr",
        "outputId": "2792ab40-be71-4027-856e-e9a27a0dce37"
      },
      "id": "4-rCL_xbZhMr",
      "execution_count": null,
      "outputs": [
        {
          "output_type": "execute_result",
          "data": {
            "text/plain": [
              "                 city  COUNT(*)\n",
              "0           Melbourne      7368\n",
              "1        Port Phillip      2808\n",
              "2               Yarra      2049\n",
              "3         Stonnington      1621\n",
              "4            Moreland       967\n",
              "5        Yarra Ranges       771\n",
              "6             Darebin       698\n",
              "7          Boroondara       664\n",
              "8           Glen Eira       631\n",
              "9          Whitehorse       614\n",
              "10             Monash       571\n",
              "11        Maribyrnong       436\n",
              "12            Wyndham       426\n",
              "13            Bayside       375\n",
              "14      Moonee Valley       344\n",
              "15         Manningham       313\n",
              "16           Kingston       309\n",
              "17        Hobsons Bay       239\n",
              "18            Banyule       203\n",
              "19          Frankston       177\n",
              "20               Knox       175\n",
              "21               Hume       170\n",
              "22              Casey       153\n",
              "23  Greater Dandenong       147\n",
              "24         Whittlesea       137\n",
              "25           Cardinia       123\n",
              "26          Maroondah       115\n",
              "27           Brimbank       108\n",
              "28             Melton        95\n",
              "29          Nillumbik        88"
            ],
            "text/html": [
              "\n",
              "  <div id=\"df-26a9bd3c-54fa-400b-ae03-c5c4efe510e7\">\n",
              "    <div class=\"colab-df-container\">\n",
              "      <div>\n",
              "<style scoped>\n",
              "    .dataframe tbody tr th:only-of-type {\n",
              "        vertical-align: middle;\n",
              "    }\n",
              "\n",
              "    .dataframe tbody tr th {\n",
              "        vertical-align: top;\n",
              "    }\n",
              "\n",
              "    .dataframe thead th {\n",
              "        text-align: right;\n",
              "    }\n",
              "</style>\n",
              "<table border=\"1\" class=\"dataframe\">\n",
              "  <thead>\n",
              "    <tr style=\"text-align: right;\">\n",
              "      <th></th>\n",
              "      <th>city</th>\n",
              "      <th>COUNT(*)</th>\n",
              "    </tr>\n",
              "  </thead>\n",
              "  <tbody>\n",
              "    <tr>\n",
              "      <th>0</th>\n",
              "      <td>Melbourne</td>\n",
              "      <td>7368</td>\n",
              "    </tr>\n",
              "    <tr>\n",
              "      <th>1</th>\n",
              "      <td>Port Phillip</td>\n",
              "      <td>2808</td>\n",
              "    </tr>\n",
              "    <tr>\n",
              "      <th>2</th>\n",
              "      <td>Yarra</td>\n",
              "      <td>2049</td>\n",
              "    </tr>\n",
              "    <tr>\n",
              "      <th>3</th>\n",
              "      <td>Stonnington</td>\n",
              "      <td>1621</td>\n",
              "    </tr>\n",
              "    <tr>\n",
              "      <th>4</th>\n",
              "      <td>Moreland</td>\n",
              "      <td>967</td>\n",
              "    </tr>\n",
              "    <tr>\n",
              "      <th>5</th>\n",
              "      <td>Yarra Ranges</td>\n",
              "      <td>771</td>\n",
              "    </tr>\n",
              "    <tr>\n",
              "      <th>6</th>\n",
              "      <td>Darebin</td>\n",
              "      <td>698</td>\n",
              "    </tr>\n",
              "    <tr>\n",
              "      <th>7</th>\n",
              "      <td>Boroondara</td>\n",
              "      <td>664</td>\n",
              "    </tr>\n",
              "    <tr>\n",
              "      <th>8</th>\n",
              "      <td>Glen Eira</td>\n",
              "      <td>631</td>\n",
              "    </tr>\n",
              "    <tr>\n",
              "      <th>9</th>\n",
              "      <td>Whitehorse</td>\n",
              "      <td>614</td>\n",
              "    </tr>\n",
              "    <tr>\n",
              "      <th>10</th>\n",
              "      <td>Monash</td>\n",
              "      <td>571</td>\n",
              "    </tr>\n",
              "    <tr>\n",
              "      <th>11</th>\n",
              "      <td>Maribyrnong</td>\n",
              "      <td>436</td>\n",
              "    </tr>\n",
              "    <tr>\n",
              "      <th>12</th>\n",
              "      <td>Wyndham</td>\n",
              "      <td>426</td>\n",
              "    </tr>\n",
              "    <tr>\n",
              "      <th>13</th>\n",
              "      <td>Bayside</td>\n",
              "      <td>375</td>\n",
              "    </tr>\n",
              "    <tr>\n",
              "      <th>14</th>\n",
              "      <td>Moonee Valley</td>\n",
              "      <td>344</td>\n",
              "    </tr>\n",
              "    <tr>\n",
              "      <th>15</th>\n",
              "      <td>Manningham</td>\n",
              "      <td>313</td>\n",
              "    </tr>\n",
              "    <tr>\n",
              "      <th>16</th>\n",
              "      <td>Kingston</td>\n",
              "      <td>309</td>\n",
              "    </tr>\n",
              "    <tr>\n",
              "      <th>17</th>\n",
              "      <td>Hobsons Bay</td>\n",
              "      <td>239</td>\n",
              "    </tr>\n",
              "    <tr>\n",
              "      <th>18</th>\n",
              "      <td>Banyule</td>\n",
              "      <td>203</td>\n",
              "    </tr>\n",
              "    <tr>\n",
              "      <th>19</th>\n",
              "      <td>Frankston</td>\n",
              "      <td>177</td>\n",
              "    </tr>\n",
              "    <tr>\n",
              "      <th>20</th>\n",
              "      <td>Knox</td>\n",
              "      <td>175</td>\n",
              "    </tr>\n",
              "    <tr>\n",
              "      <th>21</th>\n",
              "      <td>Hume</td>\n",
              "      <td>170</td>\n",
              "    </tr>\n",
              "    <tr>\n",
              "      <th>22</th>\n",
              "      <td>Casey</td>\n",
              "      <td>153</td>\n",
              "    </tr>\n",
              "    <tr>\n",
              "      <th>23</th>\n",
              "      <td>Greater Dandenong</td>\n",
              "      <td>147</td>\n",
              "    </tr>\n",
              "    <tr>\n",
              "      <th>24</th>\n",
              "      <td>Whittlesea</td>\n",
              "      <td>137</td>\n",
              "    </tr>\n",
              "    <tr>\n",
              "      <th>25</th>\n",
              "      <td>Cardinia</td>\n",
              "      <td>123</td>\n",
              "    </tr>\n",
              "    <tr>\n",
              "      <th>26</th>\n",
              "      <td>Maroondah</td>\n",
              "      <td>115</td>\n",
              "    </tr>\n",
              "    <tr>\n",
              "      <th>27</th>\n",
              "      <td>Brimbank</td>\n",
              "      <td>108</td>\n",
              "    </tr>\n",
              "    <tr>\n",
              "      <th>28</th>\n",
              "      <td>Melton</td>\n",
              "      <td>95</td>\n",
              "    </tr>\n",
              "    <tr>\n",
              "      <th>29</th>\n",
              "      <td>Nillumbik</td>\n",
              "      <td>88</td>\n",
              "    </tr>\n",
              "  </tbody>\n",
              "</table>\n",
              "</div>\n",
              "      <button class=\"colab-df-convert\" onclick=\"convertToInteractive('df-26a9bd3c-54fa-400b-ae03-c5c4efe510e7')\"\n",
              "              title=\"Convert this dataframe to an interactive table.\"\n",
              "              style=\"display:none;\">\n",
              "        \n",
              "  <svg xmlns=\"http://www.w3.org/2000/svg\" height=\"24px\"viewBox=\"0 0 24 24\"\n",
              "       width=\"24px\">\n",
              "    <path d=\"M0 0h24v24H0V0z\" fill=\"none\"/>\n",
              "    <path d=\"M18.56 5.44l.94 2.06.94-2.06 2.06-.94-2.06-.94-.94-2.06-.94 2.06-2.06.94zm-11 1L8.5 8.5l.94-2.06 2.06-.94-2.06-.94L8.5 2.5l-.94 2.06-2.06.94zm10 10l.94 2.06.94-2.06 2.06-.94-2.06-.94-.94-2.06-.94 2.06-2.06.94z\"/><path d=\"M17.41 7.96l-1.37-1.37c-.4-.4-.92-.59-1.43-.59-.52 0-1.04.2-1.43.59L10.3 9.45l-7.72 7.72c-.78.78-.78 2.05 0 2.83L4 21.41c.39.39.9.59 1.41.59.51 0 1.02-.2 1.41-.59l7.78-7.78 2.81-2.81c.8-.78.8-2.07 0-2.86zM5.41 20L4 18.59l7.72-7.72 1.47 1.35L5.41 20z\"/>\n",
              "  </svg>\n",
              "      </button>\n",
              "      \n",
              "  <style>\n",
              "    .colab-df-container {\n",
              "      display:flex;\n",
              "      flex-wrap:wrap;\n",
              "      gap: 12px;\n",
              "    }\n",
              "\n",
              "    .colab-df-convert {\n",
              "      background-color: #E8F0FE;\n",
              "      border: none;\n",
              "      border-radius: 50%;\n",
              "      cursor: pointer;\n",
              "      display: none;\n",
              "      fill: #1967D2;\n",
              "      height: 32px;\n",
              "      padding: 0 0 0 0;\n",
              "      width: 32px;\n",
              "    }\n",
              "\n",
              "    .colab-df-convert:hover {\n",
              "      background-color: #E2EBFA;\n",
              "      box-shadow: 0px 1px 2px rgba(60, 64, 67, 0.3), 0px 1px 3px 1px rgba(60, 64, 67, 0.15);\n",
              "      fill: #174EA6;\n",
              "    }\n",
              "\n",
              "    [theme=dark] .colab-df-convert {\n",
              "      background-color: #3B4455;\n",
              "      fill: #D2E3FC;\n",
              "    }\n",
              "\n",
              "    [theme=dark] .colab-df-convert:hover {\n",
              "      background-color: #434B5C;\n",
              "      box-shadow: 0px 1px 3px 1px rgba(0, 0, 0, 0.15);\n",
              "      filter: drop-shadow(0px 1px 2px rgba(0, 0, 0, 0.3));\n",
              "      fill: #FFFFFF;\n",
              "    }\n",
              "  </style>\n",
              "\n",
              "      <script>\n",
              "        const buttonEl =\n",
              "          document.querySelector('#df-26a9bd3c-54fa-400b-ae03-c5c4efe510e7 button.colab-df-convert');\n",
              "        buttonEl.style.display =\n",
              "          google.colab.kernel.accessAllowed ? 'block' : 'none';\n",
              "\n",
              "        async function convertToInteractive(key) {\n",
              "          const element = document.querySelector('#df-26a9bd3c-54fa-400b-ae03-c5c4efe510e7');\n",
              "          const dataTable =\n",
              "            await google.colab.kernel.invokeFunction('convertToInteractive',\n",
              "                                                     [key], {});\n",
              "          if (!dataTable) return;\n",
              "\n",
              "          const docLinkHtml = 'Like what you see? Visit the ' +\n",
              "            '<a target=\"_blank\" href=https://colab.research.google.com/notebooks/data_table.ipynb>data table notebook</a>'\n",
              "            + ' to learn more about interactive tables.';\n",
              "          element.innerHTML = '';\n",
              "          dataTable['output_type'] = 'display_data';\n",
              "          await google.colab.output.renderOutput(dataTable, element);\n",
              "          const docLink = document.createElement('div');\n",
              "          docLink.innerHTML = docLinkHtml;\n",
              "          element.appendChild(docLink);\n",
              "        }\n",
              "      </script>\n",
              "    </div>\n",
              "  </div>\n",
              "  "
            ]
          },
          "metadata": {},
          "execution_count": 13
        }
      ]
    },
    {
      "cell_type": "markdown",
      "source": [
        " - cantidad de registros totales por barrio y ciudad."
      ],
      "metadata": {
        "id": "Abd5H2eEZ7yi"
      },
      "id": "Abd5H2eEZ7yi"
    },
    {
      "cell_type": "code",
      "source": [
        "query2 = '''\n",
        "SELECT city, neighborhood, COUNT(*)\n",
        "FROM airbnb\n",
        "GROUP BY city, neighborhood\n",
        "ORDER BY city;\n",
        "'''\n",
        "\n",
        "pandas.read_sql_query(query2, engine)"
      ],
      "metadata": {
        "colab": {
          "base_uri": "https://localhost:8080/",
          "height": 423
        },
        "id": "2AhTOzMIaNFC",
        "outputId": "c2582fad-b99f-4099-8918-3396af25f355"
      },
      "id": "2AhTOzMIaNFC",
      "execution_count": null,
      "outputs": [
        {
          "output_type": "execute_result",
          "data": {
            "text/plain": [
              "             city   neighborhood  COUNT(*)\n",
              "0         Banyule           None       174\n",
              "1         Banyule     Alphington        16\n",
              "2         Banyule        Preston         8\n",
              "3         Banyule      Thornbury         5\n",
              "4         Bayside           None       170\n",
              "..            ...            ...       ...\n",
              "129         Yarra        Fitzroy       381\n",
              "130         Yarra  Fitzroy North       225\n",
              "131         Yarra      Northcote         6\n",
              "132         Yarra       Richmond       547\n",
              "133  Yarra Ranges           None       771\n",
              "\n",
              "[134 rows x 3 columns]"
            ],
            "text/html": [
              "\n",
              "  <div id=\"df-ba43bd73-5df7-4702-b3b8-edde311fb62a\">\n",
              "    <div class=\"colab-df-container\">\n",
              "      <div>\n",
              "<style scoped>\n",
              "    .dataframe tbody tr th:only-of-type {\n",
              "        vertical-align: middle;\n",
              "    }\n",
              "\n",
              "    .dataframe tbody tr th {\n",
              "        vertical-align: top;\n",
              "    }\n",
              "\n",
              "    .dataframe thead th {\n",
              "        text-align: right;\n",
              "    }\n",
              "</style>\n",
              "<table border=\"1\" class=\"dataframe\">\n",
              "  <thead>\n",
              "    <tr style=\"text-align: right;\">\n",
              "      <th></th>\n",
              "      <th>city</th>\n",
              "      <th>neighborhood</th>\n",
              "      <th>COUNT(*)</th>\n",
              "    </tr>\n",
              "  </thead>\n",
              "  <tbody>\n",
              "    <tr>\n",
              "      <th>0</th>\n",
              "      <td>Banyule</td>\n",
              "      <td>None</td>\n",
              "      <td>174</td>\n",
              "    </tr>\n",
              "    <tr>\n",
              "      <th>1</th>\n",
              "      <td>Banyule</td>\n",
              "      <td>Alphington</td>\n",
              "      <td>16</td>\n",
              "    </tr>\n",
              "    <tr>\n",
              "      <th>2</th>\n",
              "      <td>Banyule</td>\n",
              "      <td>Preston</td>\n",
              "      <td>8</td>\n",
              "    </tr>\n",
              "    <tr>\n",
              "      <th>3</th>\n",
              "      <td>Banyule</td>\n",
              "      <td>Thornbury</td>\n",
              "      <td>5</td>\n",
              "    </tr>\n",
              "    <tr>\n",
              "      <th>4</th>\n",
              "      <td>Bayside</td>\n",
              "      <td>None</td>\n",
              "      <td>170</td>\n",
              "    </tr>\n",
              "    <tr>\n",
              "      <th>...</th>\n",
              "      <td>...</td>\n",
              "      <td>...</td>\n",
              "      <td>...</td>\n",
              "    </tr>\n",
              "    <tr>\n",
              "      <th>129</th>\n",
              "      <td>Yarra</td>\n",
              "      <td>Fitzroy</td>\n",
              "      <td>381</td>\n",
              "    </tr>\n",
              "    <tr>\n",
              "      <th>130</th>\n",
              "      <td>Yarra</td>\n",
              "      <td>Fitzroy North</td>\n",
              "      <td>225</td>\n",
              "    </tr>\n",
              "    <tr>\n",
              "      <th>131</th>\n",
              "      <td>Yarra</td>\n",
              "      <td>Northcote</td>\n",
              "      <td>6</td>\n",
              "    </tr>\n",
              "    <tr>\n",
              "      <th>132</th>\n",
              "      <td>Yarra</td>\n",
              "      <td>Richmond</td>\n",
              "      <td>547</td>\n",
              "    </tr>\n",
              "    <tr>\n",
              "      <th>133</th>\n",
              "      <td>Yarra Ranges</td>\n",
              "      <td>None</td>\n",
              "      <td>771</td>\n",
              "    </tr>\n",
              "  </tbody>\n",
              "</table>\n",
              "<p>134 rows × 3 columns</p>\n",
              "</div>\n",
              "      <button class=\"colab-df-convert\" onclick=\"convertToInteractive('df-ba43bd73-5df7-4702-b3b8-edde311fb62a')\"\n",
              "              title=\"Convert this dataframe to an interactive table.\"\n",
              "              style=\"display:none;\">\n",
              "        \n",
              "  <svg xmlns=\"http://www.w3.org/2000/svg\" height=\"24px\"viewBox=\"0 0 24 24\"\n",
              "       width=\"24px\">\n",
              "    <path d=\"M0 0h24v24H0V0z\" fill=\"none\"/>\n",
              "    <path d=\"M18.56 5.44l.94 2.06.94-2.06 2.06-.94-2.06-.94-.94-2.06-.94 2.06-2.06.94zm-11 1L8.5 8.5l.94-2.06 2.06-.94-2.06-.94L8.5 2.5l-.94 2.06-2.06.94zm10 10l.94 2.06.94-2.06 2.06-.94-2.06-.94-.94-2.06-.94 2.06-2.06.94z\"/><path d=\"M17.41 7.96l-1.37-1.37c-.4-.4-.92-.59-1.43-.59-.52 0-1.04.2-1.43.59L10.3 9.45l-7.72 7.72c-.78.78-.78 2.05 0 2.83L4 21.41c.39.39.9.59 1.41.59.51 0 1.02-.2 1.41-.59l7.78-7.78 2.81-2.81c.8-.78.8-2.07 0-2.86zM5.41 20L4 18.59l7.72-7.72 1.47 1.35L5.41 20z\"/>\n",
              "  </svg>\n",
              "      </button>\n",
              "      \n",
              "  <style>\n",
              "    .colab-df-container {\n",
              "      display:flex;\n",
              "      flex-wrap:wrap;\n",
              "      gap: 12px;\n",
              "    }\n",
              "\n",
              "    .colab-df-convert {\n",
              "      background-color: #E8F0FE;\n",
              "      border: none;\n",
              "      border-radius: 50%;\n",
              "      cursor: pointer;\n",
              "      display: none;\n",
              "      fill: #1967D2;\n",
              "      height: 32px;\n",
              "      padding: 0 0 0 0;\n",
              "      width: 32px;\n",
              "    }\n",
              "\n",
              "    .colab-df-convert:hover {\n",
              "      background-color: #E2EBFA;\n",
              "      box-shadow: 0px 1px 2px rgba(60, 64, 67, 0.3), 0px 1px 3px 1px rgba(60, 64, 67, 0.15);\n",
              "      fill: #174EA6;\n",
              "    }\n",
              "\n",
              "    [theme=dark] .colab-df-convert {\n",
              "      background-color: #3B4455;\n",
              "      fill: #D2E3FC;\n",
              "    }\n",
              "\n",
              "    [theme=dark] .colab-df-convert:hover {\n",
              "      background-color: #434B5C;\n",
              "      box-shadow: 0px 1px 3px 1px rgba(0, 0, 0, 0.15);\n",
              "      filter: drop-shadow(0px 1px 2px rgba(0, 0, 0, 0.3));\n",
              "      fill: #FFFFFF;\n",
              "    }\n",
              "  </style>\n",
              "\n",
              "      <script>\n",
              "        const buttonEl =\n",
              "          document.querySelector('#df-ba43bd73-5df7-4702-b3b8-edde311fb62a button.colab-df-convert');\n",
              "        buttonEl.style.display =\n",
              "          google.colab.kernel.accessAllowed ? 'block' : 'none';\n",
              "\n",
              "        async function convertToInteractive(key) {\n",
              "          const element = document.querySelector('#df-ba43bd73-5df7-4702-b3b8-edde311fb62a');\n",
              "          const dataTable =\n",
              "            await google.colab.kernel.invokeFunction('convertToInteractive',\n",
              "                                                     [key], {});\n",
              "          if (!dataTable) return;\n",
              "\n",
              "          const docLinkHtml = 'Like what you see? Visit the ' +\n",
              "            '<a target=\"_blank\" href=https://colab.research.google.com/notebooks/data_table.ipynb>data table notebook</a>'\n",
              "            + ' to learn more about interactive tables.';\n",
              "          element.innerHTML = '';\n",
              "          dataTable['output_type'] = 'display_data';\n",
              "          await google.colab.output.renderOutput(dataTable, element);\n",
              "          const docLink = document.createElement('div');\n",
              "          docLink.innerHTML = docLinkHtml;\n",
              "          element.appendChild(docLink);\n",
              "        }\n",
              "      </script>\n",
              "    </div>\n",
              "  </div>\n",
              "  "
            ]
          },
          "metadata": {},
          "execution_count": 18
        }
      ]
    },
    {
      "cell_type": "markdown",
      "source": [
        "**4)**"
      ],
      "metadata": {
        "id": "XzdvyJXZbmNL"
      },
      "id": "XzdvyJXZbmNL"
    },
    {
      "cell_type": "code",
      "source": [
        "query3 = '''\n",
        "SELECT *\n",
        "FROM \n",
        "    melb \n",
        "  LEFT JOIN\n",
        "    (\n",
        "      SELECT CAST(zipcode AS int) as zipcode_int, AVG(airbnb.price) AS airbnb_price_mean, \n",
        "             COUNT(zipcode) AS airbnb_record_count, AVG(weekly_price) AS airbnb_weekly_price_mean,\n",
        "             AVG(monthly_price) AS airbnb_monthly_price_mean\n",
        "      FROM airbnb\n",
        "      GROUP BY zipcode_int\n",
        "    ) AS airbnb_price_by_zipcode\n",
        "  ON airbnb_price_by_zipcode.zipcode_int = CAST(melb.Postcode AS INT)\n",
        "'''\n",
        "pandas.read_sql_query(query3, engine)"
      ],
      "metadata": {
        "colab": {
          "base_uri": "https://localhost:8080/",
          "height": 713
        },
        "id": "fbHGKR-UboVK",
        "outputId": "04fc4c4f-4bb4-482e-c2c4-c08f691fda62"
      },
      "id": "fbHGKR-UboVK",
      "execution_count": null,
      "outputs": [
        {
          "output_type": "execute_result",
          "data": {
            "text/plain": [
              "       index         Suburb           Address  Rooms Type      Price Method  \\\n",
              "0          0     Abbotsford      85 Turner St      2    h  1480000.0      S   \n",
              "1          1     Abbotsford   25 Bloomburg St      2    h  1035000.0      S   \n",
              "2          2     Abbotsford      5 Charles St      3    h  1465000.0     SP   \n",
              "3          3     Abbotsford  40 Federation La      3    h   850000.0     PI   \n",
              "4          4     Abbotsford       55a Park St      4    h  1600000.0     VB   \n",
              "...      ...            ...               ...    ...  ...        ...    ...   \n",
              "13575  13575  Wheelers Hill      12 Strada Cr      4    h  1245000.0      S   \n",
              "13576  13576   Williamstown     77 Merrett Dr      3    h  1031000.0     SP   \n",
              "13577  13577   Williamstown       83 Power St      3    h  1170000.0      S   \n",
              "13578  13578   Williamstown      96 Verdon St      4    h  2500000.0     PI   \n",
              "13579  13579     Yarraville        6 Agnes St      4    h  1285000.0     SP   \n",
              "\n",
              "        SellerG        Date  Distance  ...  CouncilArea  Lattitude  \\\n",
              "0        Biggin   3/12/2016       2.5  ...        Yarra  -37.79960   \n",
              "1        Biggin   4/02/2016       2.5  ...        Yarra  -37.80790   \n",
              "2        Biggin   4/03/2017       2.5  ...        Yarra  -37.80930   \n",
              "3        Biggin   4/03/2017       2.5  ...        Yarra  -37.79690   \n",
              "4        Nelson   4/06/2016       2.5  ...        Yarra  -37.80720   \n",
              "...         ...         ...       ...  ...          ...        ...   \n",
              "13575     Barry  26/08/2017      16.7  ...         None  -37.90562   \n",
              "13576  Williams  26/08/2017       6.8  ...         None  -37.85927   \n",
              "13577     Raine  26/08/2017       6.8  ...         None  -37.85274   \n",
              "13578   Sweeney  26/08/2017       6.8  ...         None  -37.85908   \n",
              "13579   Village  26/08/2017       6.3  ...         None  -37.81188   \n",
              "\n",
              "       Longtitude                  Regionname  Propertycount  zipcode_int  \\\n",
              "0       144.99840       Northern Metropolitan         4019.0       3067.0   \n",
              "1       144.99340       Northern Metropolitan         4019.0       3067.0   \n",
              "2       144.99440       Northern Metropolitan         4019.0       3067.0   \n",
              "3       144.99690       Northern Metropolitan         4019.0       3067.0   \n",
              "4       144.99410       Northern Metropolitan         4019.0       3067.0   \n",
              "...           ...                         ...            ...          ...   \n",
              "13575   145.16761  South-Eastern Metropolitan         7392.0       3150.0   \n",
              "13576   144.87904        Western Metropolitan         6380.0       3016.0   \n",
              "13577   144.88738        Western Metropolitan         6380.0       3016.0   \n",
              "13578   144.89299        Western Metropolitan         6380.0       3016.0   \n",
              "13579   144.88449        Western Metropolitan         6543.0       3013.0   \n",
              "\n",
              "       airbnb_price_mean airbnb_record_count  airbnb_weekly_price_mean  \\\n",
              "0             130.624031               258.0                605.152174   \n",
              "1             130.624031               258.0                605.152174   \n",
              "2             130.624031               258.0                605.152174   \n",
              "3             130.624031               258.0                605.152174   \n",
              "4             130.624031               258.0                605.152174   \n",
              "...                  ...                 ...                       ...   \n",
              "13575         124.026455               189.0                526.350000   \n",
              "13576         191.094595                74.0                612.250000   \n",
              "13577         191.094595                74.0                612.250000   \n",
              "13578         191.094595                74.0                612.250000   \n",
              "13579         135.609756                82.0                923.571429   \n",
              "\n",
              "       airbnb_monthly_price_mean  \n",
              "0                    2187.032258  \n",
              "1                    2187.032258  \n",
              "2                    2187.032258  \n",
              "3                    2187.032258  \n",
              "4                    2187.032258  \n",
              "...                          ...  \n",
              "13575                1901.611111  \n",
              "13576                2119.750000  \n",
              "13577                2119.750000  \n",
              "13578                2119.750000  \n",
              "13579                2966.090909  \n",
              "\n",
              "[13580 rows x 27 columns]"
            ],
            "text/html": [
              "\n",
              "  <div id=\"df-e0056bf4-ddb9-4f2d-93a3-ab84762685e1\">\n",
              "    <div class=\"colab-df-container\">\n",
              "      <div>\n",
              "<style scoped>\n",
              "    .dataframe tbody tr th:only-of-type {\n",
              "        vertical-align: middle;\n",
              "    }\n",
              "\n",
              "    .dataframe tbody tr th {\n",
              "        vertical-align: top;\n",
              "    }\n",
              "\n",
              "    .dataframe thead th {\n",
              "        text-align: right;\n",
              "    }\n",
              "</style>\n",
              "<table border=\"1\" class=\"dataframe\">\n",
              "  <thead>\n",
              "    <tr style=\"text-align: right;\">\n",
              "      <th></th>\n",
              "      <th>index</th>\n",
              "      <th>Suburb</th>\n",
              "      <th>Address</th>\n",
              "      <th>Rooms</th>\n",
              "      <th>Type</th>\n",
              "      <th>Price</th>\n",
              "      <th>Method</th>\n",
              "      <th>SellerG</th>\n",
              "      <th>Date</th>\n",
              "      <th>Distance</th>\n",
              "      <th>...</th>\n",
              "      <th>CouncilArea</th>\n",
              "      <th>Lattitude</th>\n",
              "      <th>Longtitude</th>\n",
              "      <th>Regionname</th>\n",
              "      <th>Propertycount</th>\n",
              "      <th>zipcode_int</th>\n",
              "      <th>airbnb_price_mean</th>\n",
              "      <th>airbnb_record_count</th>\n",
              "      <th>airbnb_weekly_price_mean</th>\n",
              "      <th>airbnb_monthly_price_mean</th>\n",
              "    </tr>\n",
              "  </thead>\n",
              "  <tbody>\n",
              "    <tr>\n",
              "      <th>0</th>\n",
              "      <td>0</td>\n",
              "      <td>Abbotsford</td>\n",
              "      <td>85 Turner St</td>\n",
              "      <td>2</td>\n",
              "      <td>h</td>\n",
              "      <td>1480000.0</td>\n",
              "      <td>S</td>\n",
              "      <td>Biggin</td>\n",
              "      <td>3/12/2016</td>\n",
              "      <td>2.5</td>\n",
              "      <td>...</td>\n",
              "      <td>Yarra</td>\n",
              "      <td>-37.79960</td>\n",
              "      <td>144.99840</td>\n",
              "      <td>Northern Metropolitan</td>\n",
              "      <td>4019.0</td>\n",
              "      <td>3067.0</td>\n",
              "      <td>130.624031</td>\n",
              "      <td>258.0</td>\n",
              "      <td>605.152174</td>\n",
              "      <td>2187.032258</td>\n",
              "    </tr>\n",
              "    <tr>\n",
              "      <th>1</th>\n",
              "      <td>1</td>\n",
              "      <td>Abbotsford</td>\n",
              "      <td>25 Bloomburg St</td>\n",
              "      <td>2</td>\n",
              "      <td>h</td>\n",
              "      <td>1035000.0</td>\n",
              "      <td>S</td>\n",
              "      <td>Biggin</td>\n",
              "      <td>4/02/2016</td>\n",
              "      <td>2.5</td>\n",
              "      <td>...</td>\n",
              "      <td>Yarra</td>\n",
              "      <td>-37.80790</td>\n",
              "      <td>144.99340</td>\n",
              "      <td>Northern Metropolitan</td>\n",
              "      <td>4019.0</td>\n",
              "      <td>3067.0</td>\n",
              "      <td>130.624031</td>\n",
              "      <td>258.0</td>\n",
              "      <td>605.152174</td>\n",
              "      <td>2187.032258</td>\n",
              "    </tr>\n",
              "    <tr>\n",
              "      <th>2</th>\n",
              "      <td>2</td>\n",
              "      <td>Abbotsford</td>\n",
              "      <td>5 Charles St</td>\n",
              "      <td>3</td>\n",
              "      <td>h</td>\n",
              "      <td>1465000.0</td>\n",
              "      <td>SP</td>\n",
              "      <td>Biggin</td>\n",
              "      <td>4/03/2017</td>\n",
              "      <td>2.5</td>\n",
              "      <td>...</td>\n",
              "      <td>Yarra</td>\n",
              "      <td>-37.80930</td>\n",
              "      <td>144.99440</td>\n",
              "      <td>Northern Metropolitan</td>\n",
              "      <td>4019.0</td>\n",
              "      <td>3067.0</td>\n",
              "      <td>130.624031</td>\n",
              "      <td>258.0</td>\n",
              "      <td>605.152174</td>\n",
              "      <td>2187.032258</td>\n",
              "    </tr>\n",
              "    <tr>\n",
              "      <th>3</th>\n",
              "      <td>3</td>\n",
              "      <td>Abbotsford</td>\n",
              "      <td>40 Federation La</td>\n",
              "      <td>3</td>\n",
              "      <td>h</td>\n",
              "      <td>850000.0</td>\n",
              "      <td>PI</td>\n",
              "      <td>Biggin</td>\n",
              "      <td>4/03/2017</td>\n",
              "      <td>2.5</td>\n",
              "      <td>...</td>\n",
              "      <td>Yarra</td>\n",
              "      <td>-37.79690</td>\n",
              "      <td>144.99690</td>\n",
              "      <td>Northern Metropolitan</td>\n",
              "      <td>4019.0</td>\n",
              "      <td>3067.0</td>\n",
              "      <td>130.624031</td>\n",
              "      <td>258.0</td>\n",
              "      <td>605.152174</td>\n",
              "      <td>2187.032258</td>\n",
              "    </tr>\n",
              "    <tr>\n",
              "      <th>4</th>\n",
              "      <td>4</td>\n",
              "      <td>Abbotsford</td>\n",
              "      <td>55a Park St</td>\n",
              "      <td>4</td>\n",
              "      <td>h</td>\n",
              "      <td>1600000.0</td>\n",
              "      <td>VB</td>\n",
              "      <td>Nelson</td>\n",
              "      <td>4/06/2016</td>\n",
              "      <td>2.5</td>\n",
              "      <td>...</td>\n",
              "      <td>Yarra</td>\n",
              "      <td>-37.80720</td>\n",
              "      <td>144.99410</td>\n",
              "      <td>Northern Metropolitan</td>\n",
              "      <td>4019.0</td>\n",
              "      <td>3067.0</td>\n",
              "      <td>130.624031</td>\n",
              "      <td>258.0</td>\n",
              "      <td>605.152174</td>\n",
              "      <td>2187.032258</td>\n",
              "    </tr>\n",
              "    <tr>\n",
              "      <th>...</th>\n",
              "      <td>...</td>\n",
              "      <td>...</td>\n",
              "      <td>...</td>\n",
              "      <td>...</td>\n",
              "      <td>...</td>\n",
              "      <td>...</td>\n",
              "      <td>...</td>\n",
              "      <td>...</td>\n",
              "      <td>...</td>\n",
              "      <td>...</td>\n",
              "      <td>...</td>\n",
              "      <td>...</td>\n",
              "      <td>...</td>\n",
              "      <td>...</td>\n",
              "      <td>...</td>\n",
              "      <td>...</td>\n",
              "      <td>...</td>\n",
              "      <td>...</td>\n",
              "      <td>...</td>\n",
              "      <td>...</td>\n",
              "      <td>...</td>\n",
              "    </tr>\n",
              "    <tr>\n",
              "      <th>13575</th>\n",
              "      <td>13575</td>\n",
              "      <td>Wheelers Hill</td>\n",
              "      <td>12 Strada Cr</td>\n",
              "      <td>4</td>\n",
              "      <td>h</td>\n",
              "      <td>1245000.0</td>\n",
              "      <td>S</td>\n",
              "      <td>Barry</td>\n",
              "      <td>26/08/2017</td>\n",
              "      <td>16.7</td>\n",
              "      <td>...</td>\n",
              "      <td>None</td>\n",
              "      <td>-37.90562</td>\n",
              "      <td>145.16761</td>\n",
              "      <td>South-Eastern Metropolitan</td>\n",
              "      <td>7392.0</td>\n",
              "      <td>3150.0</td>\n",
              "      <td>124.026455</td>\n",
              "      <td>189.0</td>\n",
              "      <td>526.350000</td>\n",
              "      <td>1901.611111</td>\n",
              "    </tr>\n",
              "    <tr>\n",
              "      <th>13576</th>\n",
              "      <td>13576</td>\n",
              "      <td>Williamstown</td>\n",
              "      <td>77 Merrett Dr</td>\n",
              "      <td>3</td>\n",
              "      <td>h</td>\n",
              "      <td>1031000.0</td>\n",
              "      <td>SP</td>\n",
              "      <td>Williams</td>\n",
              "      <td>26/08/2017</td>\n",
              "      <td>6.8</td>\n",
              "      <td>...</td>\n",
              "      <td>None</td>\n",
              "      <td>-37.85927</td>\n",
              "      <td>144.87904</td>\n",
              "      <td>Western Metropolitan</td>\n",
              "      <td>6380.0</td>\n",
              "      <td>3016.0</td>\n",
              "      <td>191.094595</td>\n",
              "      <td>74.0</td>\n",
              "      <td>612.250000</td>\n",
              "      <td>2119.750000</td>\n",
              "    </tr>\n",
              "    <tr>\n",
              "      <th>13577</th>\n",
              "      <td>13577</td>\n",
              "      <td>Williamstown</td>\n",
              "      <td>83 Power St</td>\n",
              "      <td>3</td>\n",
              "      <td>h</td>\n",
              "      <td>1170000.0</td>\n",
              "      <td>S</td>\n",
              "      <td>Raine</td>\n",
              "      <td>26/08/2017</td>\n",
              "      <td>6.8</td>\n",
              "      <td>...</td>\n",
              "      <td>None</td>\n",
              "      <td>-37.85274</td>\n",
              "      <td>144.88738</td>\n",
              "      <td>Western Metropolitan</td>\n",
              "      <td>6380.0</td>\n",
              "      <td>3016.0</td>\n",
              "      <td>191.094595</td>\n",
              "      <td>74.0</td>\n",
              "      <td>612.250000</td>\n",
              "      <td>2119.750000</td>\n",
              "    </tr>\n",
              "    <tr>\n",
              "      <th>13578</th>\n",
              "      <td>13578</td>\n",
              "      <td>Williamstown</td>\n",
              "      <td>96 Verdon St</td>\n",
              "      <td>4</td>\n",
              "      <td>h</td>\n",
              "      <td>2500000.0</td>\n",
              "      <td>PI</td>\n",
              "      <td>Sweeney</td>\n",
              "      <td>26/08/2017</td>\n",
              "      <td>6.8</td>\n",
              "      <td>...</td>\n",
              "      <td>None</td>\n",
              "      <td>-37.85908</td>\n",
              "      <td>144.89299</td>\n",
              "      <td>Western Metropolitan</td>\n",
              "      <td>6380.0</td>\n",
              "      <td>3016.0</td>\n",
              "      <td>191.094595</td>\n",
              "      <td>74.0</td>\n",
              "      <td>612.250000</td>\n",
              "      <td>2119.750000</td>\n",
              "    </tr>\n",
              "    <tr>\n",
              "      <th>13579</th>\n",
              "      <td>13579</td>\n",
              "      <td>Yarraville</td>\n",
              "      <td>6 Agnes St</td>\n",
              "      <td>4</td>\n",
              "      <td>h</td>\n",
              "      <td>1285000.0</td>\n",
              "      <td>SP</td>\n",
              "      <td>Village</td>\n",
              "      <td>26/08/2017</td>\n",
              "      <td>6.3</td>\n",
              "      <td>...</td>\n",
              "      <td>None</td>\n",
              "      <td>-37.81188</td>\n",
              "      <td>144.88449</td>\n",
              "      <td>Western Metropolitan</td>\n",
              "      <td>6543.0</td>\n",
              "      <td>3013.0</td>\n",
              "      <td>135.609756</td>\n",
              "      <td>82.0</td>\n",
              "      <td>923.571429</td>\n",
              "      <td>2966.090909</td>\n",
              "    </tr>\n",
              "  </tbody>\n",
              "</table>\n",
              "<p>13580 rows × 27 columns</p>\n",
              "</div>\n",
              "      <button class=\"colab-df-convert\" onclick=\"convertToInteractive('df-e0056bf4-ddb9-4f2d-93a3-ab84762685e1')\"\n",
              "              title=\"Convert this dataframe to an interactive table.\"\n",
              "              style=\"display:none;\">\n",
              "        \n",
              "  <svg xmlns=\"http://www.w3.org/2000/svg\" height=\"24px\"viewBox=\"0 0 24 24\"\n",
              "       width=\"24px\">\n",
              "    <path d=\"M0 0h24v24H0V0z\" fill=\"none\"/>\n",
              "    <path d=\"M18.56 5.44l.94 2.06.94-2.06 2.06-.94-2.06-.94-.94-2.06-.94 2.06-2.06.94zm-11 1L8.5 8.5l.94-2.06 2.06-.94-2.06-.94L8.5 2.5l-.94 2.06-2.06.94zm10 10l.94 2.06.94-2.06 2.06-.94-2.06-.94-.94-2.06-.94 2.06-2.06.94z\"/><path d=\"M17.41 7.96l-1.37-1.37c-.4-.4-.92-.59-1.43-.59-.52 0-1.04.2-1.43.59L10.3 9.45l-7.72 7.72c-.78.78-.78 2.05 0 2.83L4 21.41c.39.39.9.59 1.41.59.51 0 1.02-.2 1.41-.59l7.78-7.78 2.81-2.81c.8-.78.8-2.07 0-2.86zM5.41 20L4 18.59l7.72-7.72 1.47 1.35L5.41 20z\"/>\n",
              "  </svg>\n",
              "      </button>\n",
              "      \n",
              "  <style>\n",
              "    .colab-df-container {\n",
              "      display:flex;\n",
              "      flex-wrap:wrap;\n",
              "      gap: 12px;\n",
              "    }\n",
              "\n",
              "    .colab-df-convert {\n",
              "      background-color: #E8F0FE;\n",
              "      border: none;\n",
              "      border-radius: 50%;\n",
              "      cursor: pointer;\n",
              "      display: none;\n",
              "      fill: #1967D2;\n",
              "      height: 32px;\n",
              "      padding: 0 0 0 0;\n",
              "      width: 32px;\n",
              "    }\n",
              "\n",
              "    .colab-df-convert:hover {\n",
              "      background-color: #E2EBFA;\n",
              "      box-shadow: 0px 1px 2px rgba(60, 64, 67, 0.3), 0px 1px 3px 1px rgba(60, 64, 67, 0.15);\n",
              "      fill: #174EA6;\n",
              "    }\n",
              "\n",
              "    [theme=dark] .colab-df-convert {\n",
              "      background-color: #3B4455;\n",
              "      fill: #D2E3FC;\n",
              "    }\n",
              "\n",
              "    [theme=dark] .colab-df-convert:hover {\n",
              "      background-color: #434B5C;\n",
              "      box-shadow: 0px 1px 3px 1px rgba(0, 0, 0, 0.15);\n",
              "      filter: drop-shadow(0px 1px 2px rgba(0, 0, 0, 0.3));\n",
              "      fill: #FFFFFF;\n",
              "    }\n",
              "  </style>\n",
              "\n",
              "      <script>\n",
              "        const buttonEl =\n",
              "          document.querySelector('#df-e0056bf4-ddb9-4f2d-93a3-ab84762685e1 button.colab-df-convert');\n",
              "        buttonEl.style.display =\n",
              "          google.colab.kernel.accessAllowed ? 'block' : 'none';\n",
              "\n",
              "        async function convertToInteractive(key) {\n",
              "          const element = document.querySelector('#df-e0056bf4-ddb9-4f2d-93a3-ab84762685e1');\n",
              "          const dataTable =\n",
              "            await google.colab.kernel.invokeFunction('convertToInteractive',\n",
              "                                                     [key], {});\n",
              "          if (!dataTable) return;\n",
              "\n",
              "          const docLinkHtml = 'Like what you see? Visit the ' +\n",
              "            '<a target=\"_blank\" href=https://colab.research.google.com/notebooks/data_table.ipynb>data table notebook</a>'\n",
              "            + ' to learn more about interactive tables.';\n",
              "          element.innerHTML = '';\n",
              "          dataTable['output_type'] = 'display_data';\n",
              "          await google.colab.output.renderOutput(dataTable, element);\n",
              "          const docLink = document.createElement('div');\n",
              "          docLink.innerHTML = docLinkHtml;\n",
              "          element.appendChild(docLink);\n",
              "        }\n",
              "      </script>\n",
              "    </div>\n",
              "  </div>\n",
              "  "
            ]
          },
          "metadata": {},
          "execution_count": 15
        }
      ]
    },
    {
      "cell_type": "markdown",
      "metadata": {
        "id": "c5468c4f-5cdf-4df4-a317-60e1fb0c00db"
      },
      "source": [
        "## Ejercicio 2: \n",
        "\n",
        "1. Seleccionar un subconjunto de columnas que les parezcan relevantes al problema de predicción del valor de la propiedad. Justificar las columnas seleccionadas y las que no lo fueron.\n",
        " - Eliminar los valores extremos que no sean relevantes para la predicción de valores de las propiedades.\n",
        "\n",
        "2. Agregar información adicional respectiva al entorno de una propiedad a partir del [conjunto de datos de AirBnB](https://www.kaggle.com/tylerx/melbourne-airbnb-open-data?select=cleansed_listings_dec18.csv) utilizado en el práctico. \n",
        "  1. Seleccionar qué variables agregar y qué combinaciones aplicar a cada una. Por ejemplo, pueden utilizar solo la columna `price`, o aplicar múltiples transformaciones como la mediana o el mínimo.\n",
        "  1. Utilizar la variable zipcode para unir los conjuntos de datos. Sólo incluir los zipcodes que tengan una cantidad mínima de registros (a elección) como para que la información agregada sea relevante.\n",
        "  2. Investigar al menos otras 2 variables que puedan servir para combinar los datos, y justificar si serían adecuadas o no. Pueden asumir que cuentan con la ayuda de anotadores expertos para encontrar equivalencias entre barrios o direcciones, o que cuentan con algoritmos para encontrar las n ubicaciones más cercanas a una propiedad a partir de sus coordenadas geográficas. **NO** es necesario que realicen la implementación.\n",
        "\n",
        "Pueden leer otras columnas del conjunto de AirBnB además de las que están en `interesting_cols`, si les parecen relevantes."
      ],
      "id": "c5468c4f-5cdf-4df4-a317-60e1fb0c00db"
    },
    {
      "cell_type": "markdown",
      "metadata": {
        "id": "sx-qcq9sOjXA"
      },
      "source": [
        "**Respuestas ejercicio 2**\n",
        "\n",
        "1. Seleccionar un subconjunto de columnas que les parezcan relevantes al problema de predicción del valor de la propiedad. Justificar las columnas seleccionadas y las que no lo fueron.\n",
        "\n",
        "  Eliminar los valores extremos que no sean relevantes para la predicción de valores de las propiedades."
      ],
      "id": "sx-qcq9sOjXA"
    },
    {
      "cell_type": "markdown",
      "metadata": {
        "id": "01pF7pBpPP3V"
      },
      "source": [
        "Primero hacemos una inspección del data set para ubicarnos con las features con las que contamos, tipo de variables y valores faltantes."
      ],
      "id": "01pF7pBpPP3V"
    },
    {
      "cell_type": "code",
      "execution_count": null,
      "metadata": {
        "colab": {
          "base_uri": "https://localhost:8080/"
        },
        "id": "5d210b95-836f-45ac-a52d-1a4dafdb447a",
        "outputId": "02d5af19-4e54-46ca-938e-4b1899115b00"
      },
      "outputs": [
        {
          "output_type": "stream",
          "name": "stdout",
          "text": [
            "<class 'pandas.core.frame.DataFrame'>\n",
            "RangeIndex: 13580 entries, 0 to 13579\n",
            "Data columns (total 21 columns):\n",
            " #   Column         Non-Null Count  Dtype         \n",
            "---  ------         --------------  -----         \n",
            " 0   Suburb         13580 non-null  object        \n",
            " 1   Address        13580 non-null  object        \n",
            " 2   Rooms          13580 non-null  int64         \n",
            " 3   Type           13580 non-null  object        \n",
            " 4   Price          13580 non-null  float64       \n",
            " 5   Method         13580 non-null  object        \n",
            " 6   SellerG        13580 non-null  object        \n",
            " 7   Date           13580 non-null  datetime64[ns]\n",
            " 8   Distance       13580 non-null  float64       \n",
            " 9   Postcode       13580 non-null  float64       \n",
            " 10  Bedroom2       13580 non-null  float64       \n",
            " 11  Bathroom       13580 non-null  float64       \n",
            " 12  Car            13518 non-null  float64       \n",
            " 13  Landsize       13580 non-null  float64       \n",
            " 14  BuildingArea   7130 non-null   float64       \n",
            " 15  YearBuilt      8205 non-null   float64       \n",
            " 16  CouncilArea    12211 non-null  object        \n",
            " 17  Lattitude      13580 non-null  float64       \n",
            " 18  Longtitude     13580 non-null  float64       \n",
            " 19  Regionname     13580 non-null  object        \n",
            " 20  Propertycount  13580 non-null  float64       \n",
            "dtypes: datetime64[ns](1), float64(12), int64(1), object(7)\n",
            "memory usage: 2.2+ MB\n"
          ]
        }
      ],
      "source": [
        "melb_df.info()"
      ],
      "id": "5d210b95-836f-45ac-a52d-1a4dafdb447a"
    },
    {
      "cell_type": "markdown",
      "metadata": {
        "id": "jZOxtaB4T7lR"
      },
      "source": [
        "**Descripción de algunas variables específicas**\n",
        "\n",
        "Rooms: Número de habitaciones\n",
        "\n",
        "Price: Precio en dolares\n",
        "\n",
        "Método: S - propiedad vendida; SP - propiedad vendida antes; PI - propiedad pasada; PN - vendido antes no divulgado; SN - vendido no divulgado; NB - sin oferta; VB - oferta del vendedor; W - retirado antes de la subasta; SA - vendido después de una subasta; SS - vendido después del precio de la subasta no revelado. N/A: el precio o la oferta más alta no están disponibles.\n",
        "\n",
        "Type: br - dormitorio(s); h - casa, cabaña, villa, semi, terraza; u - unidad, dúplex; t - casa adosada; dev site - sitio de desarrollo; o res - otros residenciales.\n",
        "\n",
        "SellerG: Agente inmobiliario (vendedor)\n",
        "\n",
        "Date: Fecha de venta\n",
        "\n",
        "Distance: Distancia desde CDB (distrito central de negocios de Melbourne)\n",
        "\n",
        "Regionname : Región general (oeste, noroeste, norte, noreste, etc.)\n",
        "\n",
        "Propertycount: Número de propiedades que existen en el suburbio.\n",
        "\n",
        "Bedroom2: número de dormitorios (de una fuente diferente, Scraping)\n",
        "\n",
        "Bathroom : Número de Baños\n",
        "\n",
        "Car: número de cocheras\n",
        "\n",
        "Landsize: Tamaño del terreno\n",
        "\n",
        "BuildingArea: tamaño del edificio\n",
        "\n",
        "CouncilArea:  Consejo de gobierno de la zona"
      ],
      "id": "jZOxtaB4T7lR"
    },
    {
      "cell_type": "markdown",
      "metadata": {
        "id": "0W3aRMapbqAZ"
      },
      "source": [
        "Vamos a clasificar las variables según sean numéricas o categóricas:"
      ],
      "id": "0W3aRMapbqAZ"
    },
    {
      "cell_type": "code",
      "execution_count": null,
      "metadata": {
        "colab": {
          "base_uri": "https://localhost:8080/"
        },
        "id": "JGBNHxRPXNlk",
        "outputId": "03004d62-310f-48ed-c16a-2c6e03064838"
      },
      "outputs": [
        {
          "output_type": "execute_result",
          "data": {
            "text/plain": [
              "['Suburb',\n",
              " 'Address',\n",
              " 'Type',\n",
              " 'Method',\n",
              " 'SellerG',\n",
              " 'Date',\n",
              " 'CouncilArea',\n",
              " 'Regionname']"
            ]
          },
          "metadata": {},
          "execution_count": 26
        }
      ],
      "source": [
        "#variables categóricas\n",
        "\n",
        "categorical = [var for var in melb_df.columns if melb_df[var].dtype=='O'] \n",
        "categorical"
      ],
      "id": "JGBNHxRPXNlk"
    },
    {
      "cell_type": "code",
      "execution_count": null,
      "metadata": {
        "id": "QoV5fYiH13vX",
        "colab": {
          "base_uri": "https://localhost:8080/",
          "height": 175
        },
        "outputId": "41d6b8ea-698b-4e33-debc-1131b7b2913e"
      },
      "outputs": [
        {
          "output_type": "execute_result",
          "data": {
            "text/plain": [
              "           Suburb           Address   Type Method SellerG        Date  \\\n",
              "count       13580             13580  13580  13580   13580       13580   \n",
              "unique        314             13378      3      5     268          58   \n",
              "top     Reservoir  36 Aberfeldie St      h      S  Nelson  27/05/2017   \n",
              "freq          359                 3   9449   9022    1565         473   \n",
              "\n",
              "       CouncilArea             Regionname  \n",
              "count        12211                  13580  \n",
              "unique          33                      8  \n",
              "top       Moreland  Southern Metropolitan  \n",
              "freq          1163                   4695  "
            ],
            "text/html": [
              "\n",
              "  <div id=\"df-67c6cc6a-aaac-4b8c-b292-5a1d899dccf2\">\n",
              "    <div class=\"colab-df-container\">\n",
              "      <div>\n",
              "<style scoped>\n",
              "    .dataframe tbody tr th:only-of-type {\n",
              "        vertical-align: middle;\n",
              "    }\n",
              "\n",
              "    .dataframe tbody tr th {\n",
              "        vertical-align: top;\n",
              "    }\n",
              "\n",
              "    .dataframe thead th {\n",
              "        text-align: right;\n",
              "    }\n",
              "</style>\n",
              "<table border=\"1\" class=\"dataframe\">\n",
              "  <thead>\n",
              "    <tr style=\"text-align: right;\">\n",
              "      <th></th>\n",
              "      <th>Suburb</th>\n",
              "      <th>Address</th>\n",
              "      <th>Type</th>\n",
              "      <th>Method</th>\n",
              "      <th>SellerG</th>\n",
              "      <th>Date</th>\n",
              "      <th>CouncilArea</th>\n",
              "      <th>Regionname</th>\n",
              "    </tr>\n",
              "  </thead>\n",
              "  <tbody>\n",
              "    <tr>\n",
              "      <th>count</th>\n",
              "      <td>13580</td>\n",
              "      <td>13580</td>\n",
              "      <td>13580</td>\n",
              "      <td>13580</td>\n",
              "      <td>13580</td>\n",
              "      <td>13580</td>\n",
              "      <td>12211</td>\n",
              "      <td>13580</td>\n",
              "    </tr>\n",
              "    <tr>\n",
              "      <th>unique</th>\n",
              "      <td>314</td>\n",
              "      <td>13378</td>\n",
              "      <td>3</td>\n",
              "      <td>5</td>\n",
              "      <td>268</td>\n",
              "      <td>58</td>\n",
              "      <td>33</td>\n",
              "      <td>8</td>\n",
              "    </tr>\n",
              "    <tr>\n",
              "      <th>top</th>\n",
              "      <td>Reservoir</td>\n",
              "      <td>36 Aberfeldie St</td>\n",
              "      <td>h</td>\n",
              "      <td>S</td>\n",
              "      <td>Nelson</td>\n",
              "      <td>27/05/2017</td>\n",
              "      <td>Moreland</td>\n",
              "      <td>Southern Metropolitan</td>\n",
              "    </tr>\n",
              "    <tr>\n",
              "      <th>freq</th>\n",
              "      <td>359</td>\n",
              "      <td>3</td>\n",
              "      <td>9449</td>\n",
              "      <td>9022</td>\n",
              "      <td>1565</td>\n",
              "      <td>473</td>\n",
              "      <td>1163</td>\n",
              "      <td>4695</td>\n",
              "    </tr>\n",
              "  </tbody>\n",
              "</table>\n",
              "</div>\n",
              "      <button class=\"colab-df-convert\" onclick=\"convertToInteractive('df-67c6cc6a-aaac-4b8c-b292-5a1d899dccf2')\"\n",
              "              title=\"Convert this dataframe to an interactive table.\"\n",
              "              style=\"display:none;\">\n",
              "        \n",
              "  <svg xmlns=\"http://www.w3.org/2000/svg\" height=\"24px\"viewBox=\"0 0 24 24\"\n",
              "       width=\"24px\">\n",
              "    <path d=\"M0 0h24v24H0V0z\" fill=\"none\"/>\n",
              "    <path d=\"M18.56 5.44l.94 2.06.94-2.06 2.06-.94-2.06-.94-.94-2.06-.94 2.06-2.06.94zm-11 1L8.5 8.5l.94-2.06 2.06-.94-2.06-.94L8.5 2.5l-.94 2.06-2.06.94zm10 10l.94 2.06.94-2.06 2.06-.94-2.06-.94-.94-2.06-.94 2.06-2.06.94z\"/><path d=\"M17.41 7.96l-1.37-1.37c-.4-.4-.92-.59-1.43-.59-.52 0-1.04.2-1.43.59L10.3 9.45l-7.72 7.72c-.78.78-.78 2.05 0 2.83L4 21.41c.39.39.9.59 1.41.59.51 0 1.02-.2 1.41-.59l7.78-7.78 2.81-2.81c.8-.78.8-2.07 0-2.86zM5.41 20L4 18.59l7.72-7.72 1.47 1.35L5.41 20z\"/>\n",
              "  </svg>\n",
              "      </button>\n",
              "      \n",
              "  <style>\n",
              "    .colab-df-container {\n",
              "      display:flex;\n",
              "      flex-wrap:wrap;\n",
              "      gap: 12px;\n",
              "    }\n",
              "\n",
              "    .colab-df-convert {\n",
              "      background-color: #E8F0FE;\n",
              "      border: none;\n",
              "      border-radius: 50%;\n",
              "      cursor: pointer;\n",
              "      display: none;\n",
              "      fill: #1967D2;\n",
              "      height: 32px;\n",
              "      padding: 0 0 0 0;\n",
              "      width: 32px;\n",
              "    }\n",
              "\n",
              "    .colab-df-convert:hover {\n",
              "      background-color: #E2EBFA;\n",
              "      box-shadow: 0px 1px 2px rgba(60, 64, 67, 0.3), 0px 1px 3px 1px rgba(60, 64, 67, 0.15);\n",
              "      fill: #174EA6;\n",
              "    }\n",
              "\n",
              "    [theme=dark] .colab-df-convert {\n",
              "      background-color: #3B4455;\n",
              "      fill: #D2E3FC;\n",
              "    }\n",
              "\n",
              "    [theme=dark] .colab-df-convert:hover {\n",
              "      background-color: #434B5C;\n",
              "      box-shadow: 0px 1px 3px 1px rgba(0, 0, 0, 0.15);\n",
              "      filter: drop-shadow(0px 1px 2px rgba(0, 0, 0, 0.3));\n",
              "      fill: #FFFFFF;\n",
              "    }\n",
              "  </style>\n",
              "\n",
              "      <script>\n",
              "        const buttonEl =\n",
              "          document.querySelector('#df-67c6cc6a-aaac-4b8c-b292-5a1d899dccf2 button.colab-df-convert');\n",
              "        buttonEl.style.display =\n",
              "          google.colab.kernel.accessAllowed ? 'block' : 'none';\n",
              "\n",
              "        async function convertToInteractive(key) {\n",
              "          const element = document.querySelector('#df-67c6cc6a-aaac-4b8c-b292-5a1d899dccf2');\n",
              "          const dataTable =\n",
              "            await google.colab.kernel.invokeFunction('convertToInteractive',\n",
              "                                                     [key], {});\n",
              "          if (!dataTable) return;\n",
              "\n",
              "          const docLinkHtml = 'Like what you see? Visit the ' +\n",
              "            '<a target=\"_blank\" href=https://colab.research.google.com/notebooks/data_table.ipynb>data table notebook</a>'\n",
              "            + ' to learn more about interactive tables.';\n",
              "          element.innerHTML = '';\n",
              "          dataTable['output_type'] = 'display_data';\n",
              "          await google.colab.output.renderOutput(dataTable, element);\n",
              "          const docLink = document.createElement('div');\n",
              "          docLink.innerHTML = docLinkHtml;\n",
              "          element.appendChild(docLink);\n",
              "        }\n",
              "      </script>\n",
              "    </div>\n",
              "  </div>\n",
              "  "
            ]
          },
          "metadata": {},
          "execution_count": 27
        }
      ],
      "source": [
        "melb_df.describe(include='O') #RESUMEN PARA VARIABLES CATEGÓRICAS"
      ],
      "id": "QoV5fYiH13vX"
    },
    {
      "cell_type": "code",
      "execution_count": null,
      "metadata": {
        "colab": {
          "base_uri": "https://localhost:8080/"
        },
        "id": "J4ixKvftXcM3",
        "outputId": "480e9f63-8c2e-4ef6-d01e-86e9e3eb85e0"
      },
      "outputs": [
        {
          "output_type": "execute_result",
          "data": {
            "text/plain": [
              "['Rooms',\n",
              " 'Price',\n",
              " 'Distance',\n",
              " 'Postcode',\n",
              " 'Bedroom2',\n",
              " 'Bathroom',\n",
              " 'Car',\n",
              " 'Landsize',\n",
              " 'BuildingArea',\n",
              " 'YearBuilt',\n",
              " 'Lattitude',\n",
              " 'Longtitude',\n",
              " 'Propertycount']"
            ]
          },
          "metadata": {},
          "execution_count": 28
        }
      ],
      "source": [
        "# variables numéricas\n",
        "numerical = [var for var in melb_df.columns if (melb_df[var].dtype == float) or (melb_df[var].dtype == int)]\n",
        "numerical"
      ],
      "id": "J4ixKvftXcM3"
    },
    {
      "cell_type": "markdown",
      "source": [
        "Nota: para nuestro análisis la variable Postcode será considerada como  categórica."
      ],
      "metadata": {
        "id": "QRoXZNXV62va"
      },
      "id": "QRoXZNXV62va"
    },
    {
      "cell_type": "code",
      "execution_count": null,
      "metadata": {
        "colab": {
          "base_uri": "https://localhost:8080/",
          "height": 364
        },
        "id": "DWvjTN0_-DfX",
        "outputId": "27f5c001-bbe3-468d-d17e-00c9684a7a9a"
      },
      "outputs": [
        {
          "output_type": "execute_result",
          "data": {
            "text/plain": [
              "          Rooms       Price  Distance  Postcode  Bedroom2  Bathroom       Car  \\\n",
              "count  13580.00    13580.00  13580.00  13580.00  13580.00  13580.00  13518.00   \n",
              "mean       2.94  1075684.08     10.14   3105.30      2.91      1.53      1.61   \n",
              "std        0.96   639310.72      5.87     90.68      0.97      0.69      0.96   \n",
              "min        1.00    85000.00      0.00   3000.00      0.00      0.00      0.00   \n",
              "25%        2.00   650000.00      6.10   3044.00      2.00      1.00      1.00   \n",
              "50%        3.00   903000.00      9.20   3084.00      3.00      1.00      2.00   \n",
              "75%        3.00  1330000.00     13.00   3148.00      3.00      2.00      2.00   \n",
              "max       10.00  9000000.00     48.10   3977.00     20.00      8.00     10.00   \n",
              "\n",
              "        Landsize  BuildingArea  YearBuilt  Lattitude  Longtitude  \\\n",
              "count   13580.00       7130.00    8205.00   13580.00    13580.00   \n",
              "mean      558.42        151.97    1964.68     -37.81      145.00   \n",
              "std      3990.67        541.01      37.27       0.08        0.10   \n",
              "min         0.00          0.00    1196.00     -38.18      144.43   \n",
              "25%       177.00         93.00    1940.00     -37.86      144.93   \n",
              "50%       440.00        126.00    1970.00     -37.80      145.00   \n",
              "75%       651.00        174.00    1999.00     -37.76      145.06   \n",
              "max    433014.00      44515.00    2018.00     -37.41      145.53   \n",
              "\n",
              "       Propertycount  \n",
              "count       13580.00  \n",
              "mean         7454.42  \n",
              "std          4378.58  \n",
              "min           249.00  \n",
              "25%          4380.00  \n",
              "50%          6555.00  \n",
              "75%         10331.00  \n",
              "max         21650.00  "
            ],
            "text/html": [
              "\n",
              "  <div id=\"df-cf9b3655-0f9f-4125-8158-f71c3d8ac1cb\">\n",
              "    <div class=\"colab-df-container\">\n",
              "      <div>\n",
              "<style scoped>\n",
              "    .dataframe tbody tr th:only-of-type {\n",
              "        vertical-align: middle;\n",
              "    }\n",
              "\n",
              "    .dataframe tbody tr th {\n",
              "        vertical-align: top;\n",
              "    }\n",
              "\n",
              "    .dataframe thead th {\n",
              "        text-align: right;\n",
              "    }\n",
              "</style>\n",
              "<table border=\"1\" class=\"dataframe\">\n",
              "  <thead>\n",
              "    <tr style=\"text-align: right;\">\n",
              "      <th></th>\n",
              "      <th>Rooms</th>\n",
              "      <th>Price</th>\n",
              "      <th>Distance</th>\n",
              "      <th>Postcode</th>\n",
              "      <th>Bedroom2</th>\n",
              "      <th>Bathroom</th>\n",
              "      <th>Car</th>\n",
              "      <th>Landsize</th>\n",
              "      <th>BuildingArea</th>\n",
              "      <th>YearBuilt</th>\n",
              "      <th>Lattitude</th>\n",
              "      <th>Longtitude</th>\n",
              "      <th>Propertycount</th>\n",
              "    </tr>\n",
              "  </thead>\n",
              "  <tbody>\n",
              "    <tr>\n",
              "      <th>count</th>\n",
              "      <td>13580.00</td>\n",
              "      <td>13580.00</td>\n",
              "      <td>13580.00</td>\n",
              "      <td>13580.00</td>\n",
              "      <td>13580.00</td>\n",
              "      <td>13580.00</td>\n",
              "      <td>13518.00</td>\n",
              "      <td>13580.00</td>\n",
              "      <td>7130.00</td>\n",
              "      <td>8205.00</td>\n",
              "      <td>13580.00</td>\n",
              "      <td>13580.00</td>\n",
              "      <td>13580.00</td>\n",
              "    </tr>\n",
              "    <tr>\n",
              "      <th>mean</th>\n",
              "      <td>2.94</td>\n",
              "      <td>1075684.08</td>\n",
              "      <td>10.14</td>\n",
              "      <td>3105.30</td>\n",
              "      <td>2.91</td>\n",
              "      <td>1.53</td>\n",
              "      <td>1.61</td>\n",
              "      <td>558.42</td>\n",
              "      <td>151.97</td>\n",
              "      <td>1964.68</td>\n",
              "      <td>-37.81</td>\n",
              "      <td>145.00</td>\n",
              "      <td>7454.42</td>\n",
              "    </tr>\n",
              "    <tr>\n",
              "      <th>std</th>\n",
              "      <td>0.96</td>\n",
              "      <td>639310.72</td>\n",
              "      <td>5.87</td>\n",
              "      <td>90.68</td>\n",
              "      <td>0.97</td>\n",
              "      <td>0.69</td>\n",
              "      <td>0.96</td>\n",
              "      <td>3990.67</td>\n",
              "      <td>541.01</td>\n",
              "      <td>37.27</td>\n",
              "      <td>0.08</td>\n",
              "      <td>0.10</td>\n",
              "      <td>4378.58</td>\n",
              "    </tr>\n",
              "    <tr>\n",
              "      <th>min</th>\n",
              "      <td>1.00</td>\n",
              "      <td>85000.00</td>\n",
              "      <td>0.00</td>\n",
              "      <td>3000.00</td>\n",
              "      <td>0.00</td>\n",
              "      <td>0.00</td>\n",
              "      <td>0.00</td>\n",
              "      <td>0.00</td>\n",
              "      <td>0.00</td>\n",
              "      <td>1196.00</td>\n",
              "      <td>-38.18</td>\n",
              "      <td>144.43</td>\n",
              "      <td>249.00</td>\n",
              "    </tr>\n",
              "    <tr>\n",
              "      <th>25%</th>\n",
              "      <td>2.00</td>\n",
              "      <td>650000.00</td>\n",
              "      <td>6.10</td>\n",
              "      <td>3044.00</td>\n",
              "      <td>2.00</td>\n",
              "      <td>1.00</td>\n",
              "      <td>1.00</td>\n",
              "      <td>177.00</td>\n",
              "      <td>93.00</td>\n",
              "      <td>1940.00</td>\n",
              "      <td>-37.86</td>\n",
              "      <td>144.93</td>\n",
              "      <td>4380.00</td>\n",
              "    </tr>\n",
              "    <tr>\n",
              "      <th>50%</th>\n",
              "      <td>3.00</td>\n",
              "      <td>903000.00</td>\n",
              "      <td>9.20</td>\n",
              "      <td>3084.00</td>\n",
              "      <td>3.00</td>\n",
              "      <td>1.00</td>\n",
              "      <td>2.00</td>\n",
              "      <td>440.00</td>\n",
              "      <td>126.00</td>\n",
              "      <td>1970.00</td>\n",
              "      <td>-37.80</td>\n",
              "      <td>145.00</td>\n",
              "      <td>6555.00</td>\n",
              "    </tr>\n",
              "    <tr>\n",
              "      <th>75%</th>\n",
              "      <td>3.00</td>\n",
              "      <td>1330000.00</td>\n",
              "      <td>13.00</td>\n",
              "      <td>3148.00</td>\n",
              "      <td>3.00</td>\n",
              "      <td>2.00</td>\n",
              "      <td>2.00</td>\n",
              "      <td>651.00</td>\n",
              "      <td>174.00</td>\n",
              "      <td>1999.00</td>\n",
              "      <td>-37.76</td>\n",
              "      <td>145.06</td>\n",
              "      <td>10331.00</td>\n",
              "    </tr>\n",
              "    <tr>\n",
              "      <th>max</th>\n",
              "      <td>10.00</td>\n",
              "      <td>9000000.00</td>\n",
              "      <td>48.10</td>\n",
              "      <td>3977.00</td>\n",
              "      <td>20.00</td>\n",
              "      <td>8.00</td>\n",
              "      <td>10.00</td>\n",
              "      <td>433014.00</td>\n",
              "      <td>44515.00</td>\n",
              "      <td>2018.00</td>\n",
              "      <td>-37.41</td>\n",
              "      <td>145.53</td>\n",
              "      <td>21650.00</td>\n",
              "    </tr>\n",
              "  </tbody>\n",
              "</table>\n",
              "</div>\n",
              "      <button class=\"colab-df-convert\" onclick=\"convertToInteractive('df-cf9b3655-0f9f-4125-8158-f71c3d8ac1cb')\"\n",
              "              title=\"Convert this dataframe to an interactive table.\"\n",
              "              style=\"display:none;\">\n",
              "        \n",
              "  <svg xmlns=\"http://www.w3.org/2000/svg\" height=\"24px\"viewBox=\"0 0 24 24\"\n",
              "       width=\"24px\">\n",
              "    <path d=\"M0 0h24v24H0V0z\" fill=\"none\"/>\n",
              "    <path d=\"M18.56 5.44l.94 2.06.94-2.06 2.06-.94-2.06-.94-.94-2.06-.94 2.06-2.06.94zm-11 1L8.5 8.5l.94-2.06 2.06-.94-2.06-.94L8.5 2.5l-.94 2.06-2.06.94zm10 10l.94 2.06.94-2.06 2.06-.94-2.06-.94-.94-2.06-.94 2.06-2.06.94z\"/><path d=\"M17.41 7.96l-1.37-1.37c-.4-.4-.92-.59-1.43-.59-.52 0-1.04.2-1.43.59L10.3 9.45l-7.72 7.72c-.78.78-.78 2.05 0 2.83L4 21.41c.39.39.9.59 1.41.59.51 0 1.02-.2 1.41-.59l7.78-7.78 2.81-2.81c.8-.78.8-2.07 0-2.86zM5.41 20L4 18.59l7.72-7.72 1.47 1.35L5.41 20z\"/>\n",
              "  </svg>\n",
              "      </button>\n",
              "      \n",
              "  <style>\n",
              "    .colab-df-container {\n",
              "      display:flex;\n",
              "      flex-wrap:wrap;\n",
              "      gap: 12px;\n",
              "    }\n",
              "\n",
              "    .colab-df-convert {\n",
              "      background-color: #E8F0FE;\n",
              "      border: none;\n",
              "      border-radius: 50%;\n",
              "      cursor: pointer;\n",
              "      display: none;\n",
              "      fill: #1967D2;\n",
              "      height: 32px;\n",
              "      padding: 0 0 0 0;\n",
              "      width: 32px;\n",
              "    }\n",
              "\n",
              "    .colab-df-convert:hover {\n",
              "      background-color: #E2EBFA;\n",
              "      box-shadow: 0px 1px 2px rgba(60, 64, 67, 0.3), 0px 1px 3px 1px rgba(60, 64, 67, 0.15);\n",
              "      fill: #174EA6;\n",
              "    }\n",
              "\n",
              "    [theme=dark] .colab-df-convert {\n",
              "      background-color: #3B4455;\n",
              "      fill: #D2E3FC;\n",
              "    }\n",
              "\n",
              "    [theme=dark] .colab-df-convert:hover {\n",
              "      background-color: #434B5C;\n",
              "      box-shadow: 0px 1px 3px 1px rgba(0, 0, 0, 0.15);\n",
              "      filter: drop-shadow(0px 1px 2px rgba(0, 0, 0, 0.3));\n",
              "      fill: #FFFFFF;\n",
              "    }\n",
              "  </style>\n",
              "\n",
              "      <script>\n",
              "        const buttonEl =\n",
              "          document.querySelector('#df-cf9b3655-0f9f-4125-8158-f71c3d8ac1cb button.colab-df-convert');\n",
              "        buttonEl.style.display =\n",
              "          google.colab.kernel.accessAllowed ? 'block' : 'none';\n",
              "\n",
              "        async function convertToInteractive(key) {\n",
              "          const element = document.querySelector('#df-cf9b3655-0f9f-4125-8158-f71c3d8ac1cb');\n",
              "          const dataTable =\n",
              "            await google.colab.kernel.invokeFunction('convertToInteractive',\n",
              "                                                     [key], {});\n",
              "          if (!dataTable) return;\n",
              "\n",
              "          const docLinkHtml = 'Like what you see? Visit the ' +\n",
              "            '<a target=\"_blank\" href=https://colab.research.google.com/notebooks/data_table.ipynb>data table notebook</a>'\n",
              "            + ' to learn more about interactive tables.';\n",
              "          element.innerHTML = '';\n",
              "          dataTable['output_type'] = 'display_data';\n",
              "          await google.colab.output.renderOutput(dataTable, element);\n",
              "          const docLink = document.createElement('div');\n",
              "          docLink.innerHTML = docLinkHtml;\n",
              "          element.appendChild(docLink);\n",
              "        }\n",
              "      </script>\n",
              "    </div>\n",
              "  </div>\n",
              "  "
            ]
          },
          "metadata": {},
          "execution_count": 29
        }
      ],
      "source": [
        "round(melb_df.describe(),2)  #RESUMEN PARA VARIABLES NUMÉRICAS"
      ],
      "id": "DWvjTN0_-DfX"
    },
    {
      "cell_type": "markdown",
      "source": [
        "Para comenzar a seleccionar las variables relevantes en primera medida nos interesa saber el porcentaje de valores faltantes en nuestro conjunto de datos:"
      ],
      "metadata": {
        "id": "xpG8GEOKXlUF"
      },
      "id": "xpG8GEOKXlUF"
    },
    {
      "cell_type": "code",
      "execution_count": null,
      "metadata": {
        "colab": {
          "base_uri": "https://localhost:8080/"
        },
        "id": "42HlgQx4ZL59",
        "outputId": "c8e5e91b-d5fb-448b-955e-b97b76d63f13"
      },
      "outputs": [
        {
          "output_type": "execute_result",
          "data": {
            "text/plain": [
              "Suburb              0\n",
              "Address             0\n",
              "Rooms               0\n",
              "Type                0\n",
              "Price               0\n",
              "Method              0\n",
              "SellerG             0\n",
              "Date                0\n",
              "Distance            0\n",
              "Postcode            0\n",
              "Bedroom2            0\n",
              "Bathroom            0\n",
              "Car                62\n",
              "Landsize            0\n",
              "BuildingArea     6450\n",
              "YearBuilt        5375\n",
              "CouncilArea      1369\n",
              "Lattitude           0\n",
              "Longtitude          0\n",
              "Regionname          0\n",
              "Propertycount       0\n",
              "dtype: int64"
            ]
          },
          "metadata": {},
          "execution_count": 69
        }
      ],
      "source": [
        "melb_df.isnull().sum()"
      ],
      "id": "42HlgQx4ZL59"
    },
    {
      "cell_type": "markdown",
      "metadata": {
        "id": "-GVPQ0YZZX5_"
      },
      "source": [
        "Notemos que sólo algunas variables contienen valores faltantes. En el caso de BuildingArea y YearBuilt el porcentaje de estos valores es elevado, mientras que para la variable Car el porcentaje no es muy significativo.\n",
        "\n",
        "Para la elección de variables cuantitativas utilizaremos el coeficiente de correlación de Pearson y para elección de variables categóricas utilizaremos una medida denominada Razón de correlación.\n",
        "\n",
        "1. **Coeficiente de correlación de Pearson**: nos da una medida de asociación lineal entre variables numéricas. Toma valores en un rango entre $-1$ y $1$ y, formalmente, deberíamos diferenciar su definición dependiendo si estamos calculándolo sobre una población o sobre una muestra (que es el que utilizaremos en la mayoría de los casos).\n",
        "\n",
        "* El coeficiente de correlación de Pearson cuando se aplica a una **población**  se representa por la letra griega $\\rho$. Dado un par de variables aleatorias $(X, Y)$, el coeficiente de correlación poblacional de Pearson (también denotado por $\\rho_{X, Y}$ ) se define como\n",
        "$$\n",
        "\\rho_{X, Y}=\\frac{\\sigma_{X Y}}{\\sigma_{X} \\sigma_{Y}}=\\frac{\\operatorname{Cov}(X, Y)}{\\sqrt{\\operatorname{Var}(X) \\operatorname{Var}(Y)}}\n",
        "$$\n",
        "\n",
        " donde $\\sigma_{X Y}$ es la covarianza de $(X, Y)$, $\\sigma_{X}$ es la desviación estándar de la variable $X$ y $\\sigma_{Y}$ es la desviación estándar de la variable $Y$\n",
        "\n",
        "* El coeficiente de correlación de Pearson cuando es aplicado a una **muestra**, se denota por $r_{x y}$. Dados $n$ pares de datos $\\left\\{\\left(x_{i}, y_{i}\\right)\\right\\}_{i=1}^{n}$, se define el coeficiente de correlación muestral de Pearson como\n",
        "$$\n",
        "r_{x y}=\\frac{\\sum_{i=1}^{n}\\left(x_{i}-\\bar{x}\\right)\\left(y_{i}-\\bar{y}\\right)}{\\sqrt{\\sum_{i=1}^{n}\\left(x_{i}-\\bar{x}\\right)^{2}} \\sqrt{\\sum_{i=1}^{n}\\left(y_{i}-\\bar{y}\\right)^{2}}}\n",
        "$$\n",
        "\n",
        " donde $n$ es el tamaño de la muestra, $x_{i}, y_{i}$ son puntos muestrales individuales indexados con $i$ y $\\bar{x}$ denota la media muestral definida por $\\bar{x}=\\frac{1}{n} \\sum_{i=1}^{n} x_{i}$ (análogamente para $\\bar{y}$ ).\n",
        "\n",
        "2. **Razón de correlación**: (a menudo marcada con la letra griega $\\eta$ ) es un medida que nos permite cuantificar la relación entre la variable cuantitativa continua que queremos predecir, es decir Price y las variables categóricas que hemos elegido. La Razón de Correlación trabaja con una variable dependiente, que sería la cuantitativa, y una variable independiente, la cual pasaría a ser la categórica. Entonces, la relación se establece entre una variable independiente y una dependiente, lo cual  implica que la influencia de “X” sobre “Y” no siempre será la misma que la influencia de “Y” sobre “X”. \n",
        "\n",
        " Matemáticamente, se define como la varianza ponderada de la media de cada categoría dividida por la varianza de todas las muestras; esto es, la Razón de Correlación responde a la siguiente pregunta: dado un número continuo, ¿qué tan bien puedes saber a qué categoría pertenece?. La salida de $\\eta$ está en el rango de $[0,1]$.\n",
        "\n",
        " El límite $\\eta=0$ representa el caso especial de la no dispersión entre la medias de las diferentes categorías (se refiere al caso sin dispersión en las categorías que contribuyen a la dispersión global), mientras $\\eta=1$ se refiere a la no dispersión dentro de las respectivas categorias. Para $\\eta=1$ la dispersión de la muestra global se debe únicamente a la dispersión entre las categorías y en absoluto debido a la dispersión dentro de las categorías individuales.\n",
        "\n",
        "  Para calcular este coeficiente utilizaremos la librería Dython$^{(2)}$, específicamente el módulo llamado 'nominal'$^{(3)}$ .\n",
        "\n",
        "\n",
        "\n",
        "\n",
        "\n",
        "\n",
        "(1) https://towardsdatascience.com/the-search-for-categorical-correlation-a1cf7f1888c9\n",
        "\n",
        "(2) https://github.com/shakedzy/dython\n",
        "\n",
        "(3) http://shakedzy.xyz/dython/modules/nominal/\n",
        "\n"
      ],
      "id": "-GVPQ0YZZX5_"
    },
    {
      "cell_type": "markdown",
      "metadata": {
        "id": "EVYP8hQIGndF"
      },
      "source": [
        "**Análisis de la Razón de correlación para la elección de variables categóricas.**"
      ],
      "id": "EVYP8hQIGndF"
    },
    {
      "cell_type": "code",
      "execution_count": null,
      "metadata": {
        "colab": {
          "base_uri": "https://localhost:8080/",
          "height": 628
        },
        "id": "C1-Fq50XohgE",
        "outputId": "d7d38356-cd34-46f9-b889-5d42e2f4d5e9"
      },
      "outputs": [
        {
          "output_type": "stream",
          "name": "stdout",
          "text": [
            "Looking in indexes: https://pypi.org/simple, https://us-python.pkg.dev/colab-wheels/public/simple/\n",
            "Collecting git+https://github.com/shakedzy/dython.git\n",
            "  Cloning https://github.com/shakedzy/dython.git to /tmp/pip-req-build-pux4dqoy\n",
            "  Running command git clone -q https://github.com/shakedzy/dython.git /tmp/pip-req-build-pux4dqoy\n",
            "  Installing build dependencies ... \u001b[?25l\u001b[?25hdone\n",
            "  Getting requirements to build wheel ... \u001b[?25l\u001b[?25hdone\n",
            "    Preparing wheel metadata ... \u001b[?25l\u001b[?25hdone\n",
            "Requirement already satisfied: scipy>=1.7.1 in /usr/local/lib/python3.7/dist-packages (from dython==0.7.1.post4) (1.7.3)\n",
            "Collecting scikit-plot>=0.3.7\n",
            "  Downloading scikit_plot-0.3.7-py3-none-any.whl (33 kB)\n",
            "Requirement already satisfied: scikit-learn>=0.24.2 in /usr/local/lib/python3.7/dist-packages (from dython==0.7.1.post4) (1.0.2)\n",
            "Requirement already satisfied: pandas>=1.3.2 in /usr/local/lib/python3.7/dist-packages (from dython==0.7.1.post4) (1.3.5)\n",
            "Requirement already satisfied: seaborn>=0.11.0 in /usr/local/lib/python3.7/dist-packages (from dython==0.7.1.post4) (0.11.2)\n",
            "Requirement already satisfied: numpy>=1.19.5 in /usr/local/lib/python3.7/dist-packages (from dython==0.7.1.post4) (1.21.6)\n",
            "\u001b[31mERROR: Operation cancelled by user\u001b[0m\n"
          ]
        },
        {
          "output_type": "error",
          "ename": "ModuleNotFoundError",
          "evalue": "ignored",
          "traceback": [
            "\u001b[0;31m---------------------------------------------------------------------------\u001b[0m",
            "\u001b[0;31mModuleNotFoundError\u001b[0m                       Traceback (most recent call last)",
            "\u001b[0;32m<ipython-input-1-6047bf6974d0>\u001b[0m in \u001b[0;36m<module>\u001b[0;34m()\u001b[0m\n\u001b[1;32m      1\u001b[0m \u001b[0;31m#correr dos veces si marca error al cargar\u001b[0m\u001b[0;34m\u001b[0m\u001b[0;34m\u001b[0m\u001b[0;34m\u001b[0m\u001b[0m\n\u001b[1;32m      2\u001b[0m \u001b[0mget_ipython\u001b[0m\u001b[0;34m(\u001b[0m\u001b[0;34m)\u001b[0m\u001b[0;34m.\u001b[0m\u001b[0msystem\u001b[0m\u001b[0;34m(\u001b[0m\u001b[0;34m'pip install git+https://github.com/shakedzy/dython.git'\u001b[0m\u001b[0;34m)\u001b[0m\u001b[0;34m\u001b[0m\u001b[0;34m\u001b[0m\u001b[0m\n\u001b[0;32m----> 3\u001b[0;31m \u001b[0;32mfrom\u001b[0m \u001b[0mdython\u001b[0m\u001b[0;34m.\u001b[0m\u001b[0mnominal\u001b[0m \u001b[0;32mimport\u001b[0m \u001b[0massociations\u001b[0m\u001b[0;34m\u001b[0m\u001b[0;34m\u001b[0m\u001b[0m\n\u001b[0m",
            "\u001b[0;31mModuleNotFoundError\u001b[0m: No module named 'dython'",
            "",
            "\u001b[0;31m---------------------------------------------------------------------------\u001b[0;32m\nNOTE: If your import is failing due to a missing package, you can\nmanually install dependencies using either !pip or !apt.\n\nTo view examples of installing some common dependencies, click the\n\"Open Examples\" button below.\n\u001b[0;31m---------------------------------------------------------------------------\u001b[0m\n"
          ],
          "errorDetails": {
            "actions": [
              {
                "action": "open_url",
                "actionText": "Open Examples",
                "url": "/notebooks/snippets/importing_libraries.ipynb"
              }
            ]
          }
        }
      ],
      "source": [
        "#correr dos veces si marca error al cargar\n",
        "!pip install git+https://github.com/shakedzy/dython.git\n",
        "from dython.nominal import associations"
      ],
      "id": "C1-Fq50XohgE"
    },
    {
      "cell_type": "code",
      "source": [
        "!pip install matplotlib==3.1.1 #no graficaba, con esto se soluciona (correr dos veces)"
      ],
      "metadata": {
        "colab": {
          "base_uri": "https://localhost:8080/"
        },
        "id": "aN7FYFZ3YuaH",
        "outputId": "8b687f7f-40fd-4640-d041-04831bd19aa8"
      },
      "id": "aN7FYFZ3YuaH",
      "execution_count": null,
      "outputs": [
        {
          "output_type": "stream",
          "name": "stdout",
          "text": [
            "Looking in indexes: https://pypi.org/simple, https://us-python.pkg.dev/colab-wheels/public/simple/\n",
            "Requirement already satisfied: matplotlib==3.1.1 in /usr/local/lib/python3.7/dist-packages (3.1.1)\n",
            "Requirement already satisfied: numpy>=1.11 in /usr/local/lib/python3.7/dist-packages (from matplotlib==3.1.1) (1.21.6)\n",
            "Requirement already satisfied: pyparsing!=2.0.4,!=2.1.2,!=2.1.6,>=2.0.1 in /usr/local/lib/python3.7/dist-packages (from matplotlib==3.1.1) (3.0.9)\n",
            "Requirement already satisfied: cycler>=0.10 in /usr/local/lib/python3.7/dist-packages (from matplotlib==3.1.1) (0.11.0)\n",
            "Requirement already satisfied: python-dateutil>=2.1 in /usr/local/lib/python3.7/dist-packages (from matplotlib==3.1.1) (2.8.2)\n",
            "Requirement already satisfied: kiwisolver>=1.0.1 in /usr/local/lib/python3.7/dist-packages (from matplotlib==3.1.1) (1.4.2)\n",
            "Requirement already satisfied: typing-extensions in /usr/local/lib/python3.7/dist-packages (from kiwisolver>=1.0.1->matplotlib==3.1.1) (4.2.0)\n",
            "Requirement already satisfied: six>=1.5 in /usr/local/lib/python3.7/dist-packages (from python-dateutil>=2.1->matplotlib==3.1.1) (1.15.0)\n"
          ]
        }
      ]
    },
    {
      "cell_type": "code",
      "execution_count": null,
      "metadata": {
        "colab": {
          "base_uri": "https://localhost:8080/",
          "height": 1000
        },
        "id": "I4MejLuiwJBc",
        "outputId": "2a147be3-4a05-40f2-d632-a8d8d234c23c"
      },
      "outputs": [
        {
          "output_type": "display_data",
          "data": {
            "text/plain": [
              "<Figure size 720x720 with 2 Axes>"
            ],
            "image/png": "[encoded data removed]"
          },
          "metadata": {
            "needs_background": "light"
          }
        },
        {
          "output_type": "execute_result",
          "data": {
            "text/plain": [
              "{'ax': <matplotlib.axes._subplots.AxesSubplot at 0x7f9dd34791d0>,\n",
              " 'corr':                Suburb   Address      Type    Method   SellerG  CouncilArea  \\\n",
              " Suburb       1.000000  0.126482  0.317440  0.147973  0.258384     0.873973   \n",
              " Address      0.126482  1.000000  0.111130  0.000000  0.077828     0.083516   \n",
              " Type         0.317440  0.111130  1.000000  0.064245  0.203200     0.264013   \n",
              " Method       0.147973  0.000000  0.064245  1.000000  0.145176     0.109143   \n",
              " SellerG      0.258384  0.077828  0.203200  0.145176  1.000000     0.408350   \n",
              " CouncilArea  0.873973  0.083516  0.264013  0.109143  0.408350     1.000000   \n",
              " Regionname   0.988663  0.099809  0.153396  0.080390  0.503896     0.736603   \n",
              " Postcode     1.000000  0.996199  0.033861  0.043844  0.601802     0.777212   \n",
              " Price        0.559646  0.996781  0.414587  0.111624  0.478232     0.430997   \n",
              " \n",
              "              Regionname  Postcode     Price  \n",
              " Suburb         0.988663  1.000000  0.559646  \n",
              " Address        0.099809  0.996199  0.996781  \n",
              " Type           0.153396  0.033861  0.414587  \n",
              " Method         0.080390  0.043844  0.111624  \n",
              " SellerG        0.503896  0.601802  0.478232  \n",
              " CouncilArea    0.736603  0.777212  0.430997  \n",
              " Regionname     1.000000  0.710947  0.357660  \n",
              " Postcode       0.710947  1.000000  0.107867  \n",
              " Price          0.357660  0.107867  1.000000  }"
            ]
          },
          "metadata": {},
          "execution_count": 35
        }
      ],
      "source": [
        "#Calculamos la Razón de correlacion entre las varibles categóricas y Price\n",
        "associations(melb_df[categorical+['Postcode', 'Price']], nom_num_assoc='correlation_ratio', figsize=(10, 10))"
      ],
      "id": "I4MejLuiwJBc"
    },
    {
      "cell_type": "markdown",
      "metadata": {
        "id": "-G8NA9_o-qjZ"
      },
      "source": [
        "**Interpretación**\n",
        "       \n",
        "En el caso del coeficiente $\\eta$, se toma en cuenta la magnitud del resultado para indicar la proporción en la que una variable X explica la varianza en una variable Y, y se define en un rango que va de 0 a 1, siendo:\n",
        "\n",
        "*\t$0-0,3$ correlación baja.\n",
        "\n",
        "*\t$0,4-0,6$ correlación media.\n",
        "\n",
        "*\t$0,7-1$ correlación alta.\n",
        "\n",
        "En base a lo expuesto anteriormente, miramos los valores de $\\eta$ mayores a $0.4$ \n",
        "\n",
        "$\\eta(\\text{Price},\\text{Suburb})= 0.56$\n",
        "\n",
        "$\\eta(\\text{Price},\\text{Address})= 1$\n",
        "\n",
        "$\\eta(\\text{Price},\\text{Type})= 0.41$\n",
        "\n",
        "$\\eta(\\text{Price},\\text{SellerG})= 0.48$\n",
        "\n",
        "$\\eta(\\text{Price},\\text{CouncilArea})= 0.43$\n",
        "\n",
        "y optamos por las siguientes variables categóricas para la predicción del valor de la propiedad en Melbourne:\n",
        "\n",
        "- Address.\n",
        "\n",
        "- Suburb.\n",
        "\n",
        "- SellerG.\n",
        "\n",
        "- CouncilArea.\n",
        "\n",
        "- Type."
      ],
      "id": "-G8NA9_o-qjZ"
    },
    {
      "cell_type": "code",
      "execution_count": null,
      "metadata": {
        "id": "dva_mc9Zmqhw"
      },
      "outputs": [],
      "source": [
        "interesting_columns_categ=['Address', 'Suburb', 'SellerG', 'CouncilArea', 'Type']"
      ],
      "id": "dva_mc9Zmqhw"
    },
    {
      "cell_type": "markdown",
      "metadata": {
        "id": "un_ighswoUue"
      },
      "source": [
        "**Análisis de coeficiente de correlación muestral de Pearson para la elección de variables numéricas.**"
      ],
      "id": "un_ighswoUue"
    },
    {
      "cell_type": "code",
      "execution_count": null,
      "metadata": {
        "id": "_SSqAws2A1Kn"
      },
      "outputs": [],
      "source": [
        "#eliminamos la variable Postcode para el análisis de correlación porque la consideramos una variable categórica\n",
        "melb_df_sin_Postcode=melb_df.copy()\n",
        "melb_df_sin_Postcode=melb_df_sin_Postcode.drop('Postcode', axis=1) \n"
      ],
      "id": "_SSqAws2A1Kn"
    },
    {
      "cell_type": "code",
      "execution_count": null,
      "metadata": {
        "colab": {
          "base_uri": "https://localhost:8080/",
          "height": 919
        },
        "id": "PNbnzFSl7TPx",
        "outputId": "fc21f0d2-725b-4c46-ae51-b31ec80ae1f1"
      },
      "outputs": [
        {
          "output_type": "execute_result",
          "data": {
            "text/plain": [
              "<matplotlib.axes._subplots.AxesSubplot at 0x7f47a9c4fcd0>"
            ]
          },
          "metadata": {},
          "execution_count": 214
        },
        {
          "output_type": "display_data",
          "data": {
            "text/plain": [
              "<Figure size 1080x1080 with 2 Axes>"
            ],
            "image/png": "[encoded data removed]"
          },
          "metadata": {
            "needs_background": "light"
          }
        }
      ],
      "source": [
        "mask = np.triu(np.ones_like(melb_df_sin_Postcode.corr(), dtype=bool))\n",
        "\n",
        "# Set up the matplotlib figure\n",
        "f, ax = plt.subplots(figsize=(15, 15))\n",
        "\n",
        "# Generate a custom diverging colormap\n",
        "cmap = seaborn.diverging_palette(230, 20, as_cmap=True)\n",
        "\n",
        "# Draw the heatmap with the mask and correct aspect ratio\n",
        "seaborn.heatmap(round(melb_df_sin_Postcode.corr(),3), mask=mask, cmap=cmap,annot=True, center=0,\n",
        "            square=True, linewidths=.5)"
      ],
      "id": "PNbnzFSl7TPx"
    },
    {
      "cell_type": "markdown",
      "metadata": {
        "id": "yXgHUUo6rXmO"
      },
      "source": [
        "BuildingArea tiene  un coeficiente de correlación $r=0.5$ con la variable Landsize, que si bien es un grado de asociación moderado, decidimos conservar dentro de las columnas relevantes a BuildingArea a pesar de que ésta tiene un $47.49\\%$ de valores faltantes (esta variable es necesaria conservarla para la segunda parte del entregable).\n",
        "\n",
        "Aclarado lo anterior, miraremos los coeficientes de correlación muestrales mayores a 0.5 en valor absoluto $(\\mid r \\mid >0.5)$ y nos quedaremos con solo una variable del par:\n",
        "\n",
        "- $r(\\text{Bedroom2}, \\text{rooms})=0.94$\n",
        "- $r(\\text{Bathroom}, \\text{rooms})=0.59$\n",
        "- $r(\\text{Bathroom}, \\text{Bedroom2})=0.58$\n",
        "\n",
        "Nos quedamos con la variable Rooms; descartamos Bathroom y Bedroom2 .\n",
        "\n",
        "En resumen, las variables numéricas que vamos a incluir en columnas relevantes serán:\n",
        " - BuildingArea.\n",
        " - Rooms.\n",
        " - Propertycount.\n",
        " - Lattitude.\n",
        " - Longtitude.\n",
        " - Distance.\n",
        " - YearBuilt\n",
        " - Car\n",
        "\n",
        " \n",
        "\n",
        "\n",
        "\n",
        "\n"
      ],
      "id": "yXgHUUo6rXmO"
    },
    {
      "cell_type": "code",
      "execution_count": null,
      "metadata": {
        "id": "0T22GBIyTCS6"
      },
      "outputs": [],
      "source": [
        "#Actualizamos la lista de variables relevantes \n",
        "interesting_columns_categ_num=['Address', 'Suburb', 'SellerG', 'CouncilArea', 'Type', 'BuildingArea', 'Rooms', \n",
        "                                'Propertycount', 'Lattitude','Longtitude', 'Distance', 'YearBuilt', 'Car']"
      ],
      "id": "0T22GBIyTCS6"
    },
    {
      "cell_type": "markdown",
      "metadata": {
        "id": "QzBMj728ySX3"
      },
      "source": [
        "Como en la lista de columnas relevantes vamos a incluir a longitud y latitud, consideramos que la variable Address sería redundante en una primera instancia.\n",
        "\n",
        "Por otro lado, si bien la variable Postcode no fue seleccionada bajo los criteros que ulitizamos, va a ser incluida en las columnas de interés ya que la consigna del punto siguiente nos pide combinar los datos de Melbourne con los de AirBnb utilizando la variable zipcode lo cual se hace necesario considerar a Postcode para hacer dicha operación.\n",
        "\n",
        "Luego nuestra lista de variables para predecir el valor de una propiedad es la siguiente:"
      ],
      "id": "QzBMj728ySX3"
    },
    {
      "cell_type": "code",
      "execution_count": null,
      "metadata": {
        "id": "kJ5IXKZHzEhm"
      },
      "outputs": [],
      "source": [
        "interesting_columns_melb=['Suburb', 'SellerG', 'CouncilArea', 'Type', 'BuildingArea', 'Rooms', \n",
        "                          'Propertycount', 'Lattitude','Longtitude', 'Distance', 'YearBuilt', 'Car','Postcode']"
      ],
      "id": "kJ5IXKZHzEhm"
    },
    {
      "cell_type": "markdown",
      "metadata": {
        "id": "R2kb3iQZS1xN"
      },
      "source": [
        "**Análisis de valores extremos o irrelevantes para la predicción de valores de las propiedades.**"
      ],
      "id": "R2kb3iQZS1xN"
    },
    {
      "cell_type": "markdown",
      "metadata": {
        "id": "dGgBPkIibe1E"
      },
      "source": [
        "Variable numérica continua **BuildinArea**: por medio de un boxplot podemos visualizar los valores atípicos. Además, en el resumen de variables observamos que BuildinArea tiene un mínimo de $0$ m$^{2}$ lo cual no es posible."
      ],
      "id": "dGgBPkIibe1E"
    },
    {
      "cell_type": "code",
      "execution_count": null,
      "metadata": {
        "colab": {
          "base_uri": "https://localhost:8080/"
        },
        "id": "qTDOHh_FcwzA",
        "outputId": "158803a9-bde8-4ea3-f5a5-6014d41b244c"
      },
      "outputs": [
        {
          "output_type": "stream",
          "name": "stdout",
          "text": [
            "-28.5 295.5\n"
          ]
        }
      ],
      "source": [
        "#deteccion de puntos atípicos\n",
        "k = 75\n",
        "percentile_75 = melb_df['BuildingArea'].quantile(k/ 100)\n",
        "j=25\n",
        "percentile_25 = melb_df['BuildingArea'].quantile(j/ 100)\n",
        "\n",
        "\n",
        "\n",
        "RIQ= percentile_75 - percentile_25 #rango intercuartilico\n",
        "limite_inf= percentile_25 - (1.5*RIQ)\n",
        "limite_sup= percentile_75 + (1.5*RIQ)\n",
        "print(limite_inf, limite_sup)"
      ],
      "id": "qTDOHh_FcwzA"
    },
    {
      "cell_type": "markdown",
      "metadata": {
        "id": "M2tt46jWf5gO"
      },
      "source": [
        "Notemos que el límite inferior del bigote es $-28.5$, un valor que no pertenece a la muestra, por lo que el valor $0$ quedará como valor de dicho límite. Por este motivo consideramos utilizar a los percentiles como método para remover los outliers.\n",
        "\n",
        "En este caso consideraremos como outliers los valores de BuildingArea por debajo  del percentil $1\\%$  y los valores por encima del percentil $95\\%$.\n",
        "\n",
        "Decidimos utilizar estos valores porque son los aceptables para que no se considere al valor $0$ como parte de la muestra y para que la cantidad de outliers por arriba no sea excesivo."
      ],
      "id": "M2tt46jWf5gO"
    },
    {
      "cell_type": "code",
      "execution_count": null,
      "metadata": {
        "colab": {
          "base_uri": "https://localhost:8080/",
          "height": 321
        },
        "id": "OpXDfoSWliB_",
        "outputId": "6b50c503-2fb6-45e9-986b-5229553f76e6"
      },
      "outputs": [
        {
          "output_type": "display_data",
          "data": {
            "text/plain": [
              "<Figure size 432x288 with 1 Axes>"
            ],
            "image/png": "[encoded data removed]"
          },
          "metadata": {
            "needs_background": "light"
          }
        }
      ],
      "source": [
        "max_limit = melb_df['BuildingArea'].quantile(.93)\n",
        "min_limit= melb_df['BuildingArea'].quantile(.1)\n",
        "data = melb_df[~((melb_df['BuildingArea'] > max_limit) | (melb_df['BuildingArea'] < min_limit))]['BuildingArea']\n",
        "seaborn.boxplot(x=data)\n",
        "plt.title('Distribución de la variable BuildingArea')\n",
        "plt.show()"
      ],
      "id": "OpXDfoSWliB_"
    },
    {
      "cell_type": "code",
      "execution_count": null,
      "metadata": {
        "id": "2wdGid35xyWQ",
        "colab": {
          "base_uri": "https://localhost:8080/"
        },
        "outputId": "6f9d319f-eb27-4599-b783-aee52502ca89"
      },
      "outputs": [
        {
          "output_type": "execute_result",
          "data": {
            "text/plain": [
              "6450"
            ]
          },
          "metadata": {},
          "execution_count": 33
        }
      ],
      "source": [
        "#Filtro para la variable BuildingArea\n",
        "\n",
        "mask_b=~((melb_df['BuildingArea'] > max_limit) | (melb_df['BuildingArea'] < min_limit)) \n",
        "melb_df[mask_b].BuildingArea.isna().sum()"
      ],
      "id": "2wdGid35xyWQ"
    },
    {
      "cell_type": "markdown",
      "metadata": {
        "id": "WqEnUDVPUEMR"
      },
      "source": [
        "- Variable numérica discreta **Rooms**: por medio de un gráfico de barras podemos visualizar si existe alguna cantidad atípica para el número de habitaciones. Por otro lado, en el resumen de variables que Rooms posee un máximo de 10 habitaciones. Nos enfocaremos también en esta observación."
      ],
      "id": "WqEnUDVPUEMR"
    },
    {
      "cell_type": "code",
      "execution_count": null,
      "metadata": {
        "colab": {
          "base_uri": "https://localhost:8080/",
          "height": 321
        },
        "id": "tCaJVz0y4EQr",
        "outputId": "ec27ae7f-181c-4481-e1ca-d40c4a9685dd"
      },
      "outputs": [
        {
          "output_type": "display_data",
          "data": {
            "text/plain": [
              "<Figure size 432x288 with 1 Axes>"
            ],
            "image/png": "[encoded data removed]"
          },
          "metadata": {
            "needs_background": "light"
          }
        }
      ],
      "source": [
        "seaborn.countplot(x=\"Rooms\", data=melb_df)\n",
        "plt.title('Distribución de la variable Rooms')\n",
        "plt.show()\n",
        "\n"
      ],
      "id": "tCaJVz0y4EQr"
    },
    {
      "cell_type": "code",
      "execution_count": null,
      "metadata": {
        "colab": {
          "base_uri": "https://localhost:8080/"
        },
        "id": "tt1W_MnMSR9O",
        "outputId": "3494de12-de46-496c-890b-30a12bc4e102"
      },
      "outputs": [
        {
          "output_type": "execute_result",
          "data": {
            "text/plain": [
              "3     43.306333\n",
              "2     26.863034\n",
              "4     19.793814\n",
              "1      5.014728\n",
              "5      4.388807\n",
              "6      0.493373\n",
              "7      0.073638\n",
              "8      0.058910\n",
              "10     0.007364\n",
              "Name: Rooms, dtype: float64"
            ]
          },
          "metadata": {},
          "execution_count": 35
        }
      ],
      "source": [
        "melb_df.Rooms.value_counts(1)*100 #tabla de frecuencias porcentual"
      ],
      "id": "tt1W_MnMSR9O"
    },
    {
      "cell_type": "markdown",
      "metadata": {
        "id": "hveGLaABYcYC"
      },
      "source": [
        "Con el gráfico y la ayuda de la tabla de frecuencias relativas, decidimos que la cantidad de viviendas que tengan mas de 5 habitaciones (representan menos del 1% del total) serán consideradas irrelevantes."
      ],
      "id": "hveGLaABYcYC"
    },
    {
      "cell_type": "code",
      "execution_count": null,
      "metadata": {
        "id": "m8oejqpbWs2n"
      },
      "outputs": [],
      "source": [
        "#Máscara para filtrar Rooms\n",
        "mask_r=melb_df['Rooms'] < 6\n"
      ],
      "id": "m8oejqpbWs2n"
    },
    {
      "cell_type": "markdown",
      "source": [
        "* Variable numérica discreta **Car**: analizaremos los valores atípicos de esta variable con la misma lógica con la que trabajamos 'Rooms'. Primero medio de un gráfico de barrasvisualizamos si existe alguna cantidad atípica para el número de cocheras. Además en el resumen de variables numéricas vemos que 'Car' posee un máximo de 10 cocheras lo cual será un punto a analizar."
      ],
      "metadata": {
        "id": "Hj34CmhC2PtO"
      },
      "id": "Hj34CmhC2PtO"
    },
    {
      "cell_type": "code",
      "source": [
        "seaborn.countplot(x=\"Car\", data=melb_df)\n",
        "plt.title('Distribución de la variable Car')\n",
        "plt.show()"
      ],
      "metadata": {
        "colab": {
          "base_uri": "https://localhost:8080/",
          "height": 321
        },
        "id": "c0U0V_Yp2Zkr",
        "outputId": "75986002-5cb2-432f-c34e-674b7a375db8"
      },
      "id": "c0U0V_Yp2Zkr",
      "execution_count": null,
      "outputs": [
        {
          "output_type": "display_data",
          "data": {
            "text/plain": [
              "<Figure size 432x288 with 1 Axes>"
            ],
            "image/png": "[encoded data removed]"
          },
          "metadata": {
            "needs_background": "light"
          }
        }
      ]
    },
    {
      "cell_type": "code",
      "source": [
        "melb_df.Car.value_counts(1)*100 #tabla de frecuencias porcentual"
      ],
      "metadata": {
        "colab": {
          "base_uri": "https://localhost:8080/"
        },
        "id": "ZC2OOT5t28k4",
        "outputId": "0c7af599-70e8-476a-c4c3-1893aa4ac4c0"
      },
      "id": "ZC2OOT5t28k4",
      "execution_count": null,
      "outputs": [
        {
          "output_type": "execute_result",
          "data": {
            "text/plain": [
              "2.0     41.359669\n",
              "1.0     40.753070\n",
              "0.0      7.589880\n",
              "3.0      5.533363\n",
              "4.0      3.743157\n",
              "5.0      0.466045\n",
              "6.0      0.399467\n",
              "8.0      0.066578\n",
              "7.0      0.059180\n",
              "10.0     0.022193\n",
              "9.0      0.007398\n",
              "Name: Car, dtype: float64"
            ]
          },
          "metadata": {},
          "execution_count": 43
        }
      ]
    },
    {
      "cell_type": "markdown",
      "source": [
        "Con el gráfico y la ayuda de la tabla de frecuencias relativas, decidimos que la cantidad de viviendas que tengan mas de 4 cocheras (representan menos del 1% del total) serán consideradas irrelevantes."
      ],
      "metadata": {
        "id": "mVjQG99i40tK"
      },
      "id": "mVjQG99i40tK"
    },
    {
      "cell_type": "code",
      "source": [
        "#Máscara para filtrar Car\n",
        "mask_c=melb_df['Car'] < 5"
      ],
      "metadata": {
        "id": "vhWXP6Ov4z0a"
      },
      "id": "vhWXP6Ov4z0a",
      "execution_count": null,
      "outputs": []
    },
    {
      "cell_type": "markdown",
      "metadata": {
        "id": "78FFq60TqDZO"
      },
      "source": [
        "Variable numérica continua **Distance**: con esta variable sucede lo mismo que con Landsize, tiene un mínimo de $0$ lo cual podría considerarse atípico por tratarse de una distancia al centro de la ciudad de Melbourne. Sin embargo, CBD hace referencia a la región céntrica, en Wikipedia se puede encontrar la siguiente información${^{(1)}}$:\n",
        "\n",
        "\"El distrito central de negocios de Melbourne (también conocido coloquialmente simplemente como \" La ciudad \" o \" El CBD \") es el centro de la ciudad y el área urbana principal de la ciudad de Melbourne , Victoria, Australia , centrada en Hoddle Grid , la más antigua parte de la ciudad trazada en 1837, e incluye sus márgenes.\"\n",
        "\n",
        "Luego podemos considerar que hay viviendas dentro de esta región céntrica lo cual tendría lógica ese valor mínimo en el dataset.\n",
        "\n",
        "(1) https://en.wikipedia.org/wiki/Melbourne_central_business_district"
      ],
      "id": "78FFq60TqDZO"
    },
    {
      "cell_type": "markdown",
      "metadata": {
        "id": "D5GaX8Dq7YQk"
      },
      "source": [
        "El DataFrame que obtenemos luego de los análisis anteriores es el siguiente"
      ],
      "id": "D5GaX8Dq7YQk"
    },
    {
      "cell_type": "code",
      "execution_count": null,
      "metadata": {
        "id": "abXfWP3Y7Vyi"
      },
      "outputs": [],
      "source": [
        "#conjunto de datos final de Melbourne\n",
        "melb_1=melb_df.copy()\n",
        "melb_1=melb_1[interesting_columns_melb]\n",
        "mask= mask_b & mask_r & mask_c\n",
        "melb_final=melb_1[mask] \n",
        "\n"
      ],
      "id": "abXfWP3Y7Vyi"
    },
    {
      "cell_type": "code",
      "source": [
        "melb_final.info()"
      ],
      "metadata": {
        "colab": {
          "base_uri": "https://localhost:8080/"
        },
        "id": "miTV7AbT6oJy",
        "outputId": "dcd30647-b16c-47a1-98af-a4e734066a83"
      },
      "id": "miTV7AbT6oJy",
      "execution_count": null,
      "outputs": [
        {
          "output_type": "stream",
          "name": "stdout",
          "text": [
            "<class 'pandas.core.frame.DataFrame'>\n",
            "Int64Index: 12137 entries, 0 to 13579\n",
            "Data columns (total 13 columns):\n",
            " #   Column         Non-Null Count  Dtype  \n",
            "---  ------         --------------  -----  \n",
            " 0   Suburb         12137 non-null  object \n",
            " 1   SellerG        12137 non-null  object \n",
            " 2   CouncilArea    10946 non-null  object \n",
            " 3   Type           12137 non-null  object \n",
            " 4   BuildingArea   5825 non-null   float64\n",
            " 5   Rooms          12137 non-null  int64  \n",
            " 6   Propertycount  12137 non-null  float64\n",
            " 7   Lattitude      12137 non-null  float64\n",
            " 8   Longtitude     12137 non-null  float64\n",
            " 9   Distance       12137 non-null  float64\n",
            " 10  YearBuilt      6987 non-null   float64\n",
            " 11  Car            12137 non-null  float64\n",
            " 12  Postcode       12137 non-null  float64\n",
            "dtypes: float64(8), int64(1), object(4)\n",
            "memory usage: 1.3+ MB\n"
          ]
        }
      ]
    },
    {
      "cell_type": "code",
      "source": [
        "melb_final.isnull().mean()*100"
      ],
      "metadata": {
        "colab": {
          "base_uri": "https://localhost:8080/"
        },
        "id": "UhU4YVC46rzh",
        "outputId": "2e2dffdb-83ca-4536-8457-5d8519bd6633"
      },
      "id": "UhU4YVC46rzh",
      "execution_count": null,
      "outputs": [
        {
          "output_type": "execute_result",
          "data": {
            "text/plain": [
              "Suburb            0.000000\n",
              "SellerG           0.000000\n",
              "CouncilArea       9.812969\n",
              "Type              0.000000\n",
              "BuildingArea     52.006262\n",
              "Rooms             0.000000\n",
              "Propertycount     0.000000\n",
              "Lattitude         0.000000\n",
              "Longtitude        0.000000\n",
              "Distance          0.000000\n",
              "YearBuilt        42.432232\n",
              "Car               0.000000\n",
              "Postcode          0.000000\n",
              "dtype: float64"
            ]
          },
          "metadata": {},
          "execution_count": 47
        }
      ]
    },
    {
      "cell_type": "markdown",
      "metadata": {
        "id": "n2qs5Upz64rt"
      },
      "source": [
        "2. Agregar información adicional respectiva al entorno de una propiedad a partir del [conjunto de datos de AirBnB](https://www.kaggle.com/tylerx/melbourne-airbnb-open-data?select=cleansed_listings_dec18.csv) utilizado en el práctico. \n",
        "  1. Seleccionar qué variables agregar y qué combinaciones aplicar a cada una. Por ejemplo, pueden utilizar solo la columna `price`, o aplicar múltiples transformaciones como la mediana o el mínimo.\n",
        " "
      ],
      "id": "n2qs5Upz64rt"
    },
    {
      "cell_type": "code",
      "execution_count": null,
      "metadata": {
        "colab": {
          "base_uri": "https://localhost:8080/"
        },
        "id": "PO8X75Zk7Ww2",
        "outputId": "a386a2a7-ea45-462f-ebb4-96128ee55758"
      },
      "outputs": [
        {
          "output_type": "stream",
          "name": "stderr",
          "text": [
            "/usr/local/lib/python3.7/dist-packages/IPython/core/interactiveshell.py:2882: DtypeWarning: Columns (35) have mixed types.Specify dtype option on import or set low_memory=False.\n",
            "  exec(code_obj, self.user_global_ns, self.user_ns)\n"
          ]
        }
      ],
      "source": [
        "# Cargamos los datos de AirBnB\n",
        "# data source:\n",
        "# https://www.kaggle.com/tylerx/melbourne-airbnb-open-data?select=cleansed_listings_dec18.csv\n",
        "interesting_cols = [\n",
        "  'description', 'neighborhood_overview',\n",
        "  'street', 'neighborhood', 'city', 'suburb', 'state', 'zipcode',\n",
        "  'price', 'weekly_price', 'monthly_price',\n",
        "  'latitude', 'longitude',\n",
        "]\n",
        "airbnb_df = pandas.read_csv(\n",
        "    'https://cs.famaf.unc.edu.ar/~mteruel/datasets/diplodatos/cleansed_listings_dec18.csv',\n",
        "    usecols=interesting_cols)"
      ],
      "id": "PO8X75Zk7Ww2"
    },
    {
      "cell_type": "markdown",
      "metadata": {
        "id": "R61yB-Z49Ck1"
      },
      "source": [
        "Hacemos un primer acercamiento al conjunto de datos de AirBnB:"
      ],
      "id": "R61yB-Z49Ck1"
    },
    {
      "cell_type": "code",
      "execution_count": null,
      "metadata": {
        "colab": {
          "base_uri": "https://localhost:8080/",
          "height": 300
        },
        "id": "-NeTxtp_8xdD",
        "outputId": "5f86f709-68db-4544-c768-dfa26a6c171d"
      },
      "outputs": [
        {
          "output_type": "execute_result",
          "data": {
            "text/plain": [
              "       latitude  longitude    price  weekly_price  monthly_price\n",
              "count   22895.0    22895.0  22895.0        2524.0         1891.0\n",
              "mean      -37.8      145.0    148.0         907.0         3234.3\n",
              "std         0.1        0.1    210.9         821.2         2808.1\n",
              "min       -38.2      144.5      0.0          91.0          400.0\n",
              "25%       -37.9      145.0     71.0         450.0         1700.0\n",
              "50%       -37.8      145.0    111.0         750.0         2800.0\n",
              "75%       -37.8      145.0    165.0        1066.0         3912.5\n",
              "max       -37.5      145.8  12624.0       11536.0        54258.0"
            ],
            "text/html": [
              "\n",
              "  <div id=\"df-2fddc15f-8fcd-4014-ab1f-0e4101838751\">\n",
              "    <div class=\"colab-df-container\">\n",
              "      <div>\n",
              "<style scoped>\n",
              "    .dataframe tbody tr th:only-of-type {\n",
              "        vertical-align: middle;\n",
              "    }\n",
              "\n",
              "    .dataframe tbody tr th {\n",
              "        vertical-align: top;\n",
              "    }\n",
              "\n",
              "    .dataframe thead th {\n",
              "        text-align: right;\n",
              "    }\n",
              "</style>\n",
              "<table border=\"1\" class=\"dataframe\">\n",
              "  <thead>\n",
              "    <tr style=\"text-align: right;\">\n",
              "      <th></th>\n",
              "      <th>latitude</th>\n",
              "      <th>longitude</th>\n",
              "      <th>price</th>\n",
              "      <th>weekly_price</th>\n",
              "      <th>monthly_price</th>\n",
              "    </tr>\n",
              "  </thead>\n",
              "  <tbody>\n",
              "    <tr>\n",
              "      <th>count</th>\n",
              "      <td>22895.0</td>\n",
              "      <td>22895.0</td>\n",
              "      <td>22895.0</td>\n",
              "      <td>2524.0</td>\n",
              "      <td>1891.0</td>\n",
              "    </tr>\n",
              "    <tr>\n",
              "      <th>mean</th>\n",
              "      <td>-37.8</td>\n",
              "      <td>145.0</td>\n",
              "      <td>148.0</td>\n",
              "      <td>907.0</td>\n",
              "      <td>3234.3</td>\n",
              "    </tr>\n",
              "    <tr>\n",
              "      <th>std</th>\n",
              "      <td>0.1</td>\n",
              "      <td>0.1</td>\n",
              "      <td>210.9</td>\n",
              "      <td>821.2</td>\n",
              "      <td>2808.1</td>\n",
              "    </tr>\n",
              "    <tr>\n",
              "      <th>min</th>\n",
              "      <td>-38.2</td>\n",
              "      <td>144.5</td>\n",
              "      <td>0.0</td>\n",
              "      <td>91.0</td>\n",
              "      <td>400.0</td>\n",
              "    </tr>\n",
              "    <tr>\n",
              "      <th>25%</th>\n",
              "      <td>-37.9</td>\n",
              "      <td>145.0</td>\n",
              "      <td>71.0</td>\n",
              "      <td>450.0</td>\n",
              "      <td>1700.0</td>\n",
              "    </tr>\n",
              "    <tr>\n",
              "      <th>50%</th>\n",
              "      <td>-37.8</td>\n",
              "      <td>145.0</td>\n",
              "      <td>111.0</td>\n",
              "      <td>750.0</td>\n",
              "      <td>2800.0</td>\n",
              "    </tr>\n",
              "    <tr>\n",
              "      <th>75%</th>\n",
              "      <td>-37.8</td>\n",
              "      <td>145.0</td>\n",
              "      <td>165.0</td>\n",
              "      <td>1066.0</td>\n",
              "      <td>3912.5</td>\n",
              "    </tr>\n",
              "    <tr>\n",
              "      <th>max</th>\n",
              "      <td>-37.5</td>\n",
              "      <td>145.8</td>\n",
              "      <td>12624.0</td>\n",
              "      <td>11536.0</td>\n",
              "      <td>54258.0</td>\n",
              "    </tr>\n",
              "  </tbody>\n",
              "</table>\n",
              "</div>\n",
              "      <button class=\"colab-df-convert\" onclick=\"convertToInteractive('df-2fddc15f-8fcd-4014-ab1f-0e4101838751')\"\n",
              "              title=\"Convert this dataframe to an interactive table.\"\n",
              "              style=\"display:none;\">\n",
              "        \n",
              "  <svg xmlns=\"http://www.w3.org/2000/svg\" height=\"24px\"viewBox=\"0 0 24 24\"\n",
              "       width=\"24px\">\n",
              "    <path d=\"M0 0h24v24H0V0z\" fill=\"none\"/>\n",
              "    <path d=\"M18.56 5.44l.94 2.06.94-2.06 2.06-.94-2.06-.94-.94-2.06-.94 2.06-2.06.94zm-11 1L8.5 8.5l.94-2.06 2.06-.94-2.06-.94L8.5 2.5l-.94 2.06-2.06.94zm10 10l.94 2.06.94-2.06 2.06-.94-2.06-.94-.94-2.06-.94 2.06-2.06.94z\"/><path d=\"M17.41 7.96l-1.37-1.37c-.4-.4-.92-.59-1.43-.59-.52 0-1.04.2-1.43.59L10.3 9.45l-7.72 7.72c-.78.78-.78 2.05 0 2.83L4 21.41c.39.39.9.59 1.41.59.51 0 1.02-.2 1.41-.59l7.78-7.78 2.81-2.81c.8-.78.8-2.07 0-2.86zM5.41 20L4 18.59l7.72-7.72 1.47 1.35L5.41 20z\"/>\n",
              "  </svg>\n",
              "      </button>\n",
              "      \n",
              "  <style>\n",
              "    .colab-df-container {\n",
              "      display:flex;\n",
              "      flex-wrap:wrap;\n",
              "      gap: 12px;\n",
              "    }\n",
              "\n",
              "    .colab-df-convert {\n",
              "      background-color: #E8F0FE;\n",
              "      border: none;\n",
              "      border-radius: 50%;\n",
              "      cursor: pointer;\n",
              "      display: none;\n",
              "      fill: #1967D2;\n",
              "      height: 32px;\n",
              "      padding: 0 0 0 0;\n",
              "      width: 32px;\n",
              "    }\n",
              "\n",
              "    .colab-df-convert:hover {\n",
              "      background-color: #E2EBFA;\n",
              "      box-shadow: 0px 1px 2px rgba(60, 64, 67, 0.3), 0px 1px 3px 1px rgba(60, 64, 67, 0.15);\n",
              "      fill: #174EA6;\n",
              "    }\n",
              "\n",
              "    [theme=dark] .colab-df-convert {\n",
              "      background-color: #3B4455;\n",
              "      fill: #D2E3FC;\n",
              "    }\n",
              "\n",
              "    [theme=dark] .colab-df-convert:hover {\n",
              "      background-color: #434B5C;\n",
              "      box-shadow: 0px 1px 3px 1px rgba(0, 0, 0, 0.15);\n",
              "      filter: drop-shadow(0px 1px 2px rgba(0, 0, 0, 0.3));\n",
              "      fill: #FFFFFF;\n",
              "    }\n",
              "  </style>\n",
              "\n",
              "      <script>\n",
              "        const buttonEl =\n",
              "          document.querySelector('#df-2fddc15f-8fcd-4014-ab1f-0e4101838751 button.colab-df-convert');\n",
              "        buttonEl.style.display =\n",
              "          google.colab.kernel.accessAllowed ? 'block' : 'none';\n",
              "\n",
              "        async function convertToInteractive(key) {\n",
              "          const element = document.querySelector('#df-2fddc15f-8fcd-4014-ab1f-0e4101838751');\n",
              "          const dataTable =\n",
              "            await google.colab.kernel.invokeFunction('convertToInteractive',\n",
              "                                                     [key], {});\n",
              "          if (!dataTable) return;\n",
              "\n",
              "          const docLinkHtml = 'Like what you see? Visit the ' +\n",
              "            '<a target=\"_blank\" href=https://colab.research.google.com/notebooks/data_table.ipynb>data table notebook</a>'\n",
              "            + ' to learn more about interactive tables.';\n",
              "          element.innerHTML = '';\n",
              "          dataTable['output_type'] = 'display_data';\n",
              "          await google.colab.output.renderOutput(dataTable, element);\n",
              "          const docLink = document.createElement('div');\n",
              "          docLink.innerHTML = docLinkHtml;\n",
              "          element.appendChild(docLink);\n",
              "        }\n",
              "      </script>\n",
              "    </div>\n",
              "  </div>\n",
              "  "
            ]
          },
          "metadata": {},
          "execution_count": 49
        }
      ],
      "source": [
        "round(airbnb_df.describe(), 1)"
      ],
      "id": "-NeTxtp_8xdD"
    },
    {
      "cell_type": "markdown",
      "metadata": {
        "id": "zr_Pge4z9eTZ"
      },
      "source": [
        "Vamos a estar observando un subconjunto de las siguientes variables:"
      ],
      "id": "zr_Pge4z9eTZ"
    },
    {
      "cell_type": "code",
      "execution_count": null,
      "metadata": {
        "colab": {
          "base_uri": "https://localhost:8080/"
        },
        "id": "AZRtGkUn7w5n",
        "outputId": "9d138254-42c4-4fe7-e41f-2476bd764804"
      },
      "outputs": [
        {
          "output_type": "stream",
          "name": "stdout",
          "text": [
            "<class 'pandas.core.frame.DataFrame'>\n",
            "RangeIndex: 22895 entries, 0 to 22894\n",
            "Data columns (total 13 columns):\n",
            " #   Column                 Non-Null Count  Dtype  \n",
            "---  ------                 --------------  -----  \n",
            " 0   description            22563 non-null  object \n",
            " 1   neighborhood_overview  14424 non-null  object \n",
            " 2   street                 22895 non-null  object \n",
            " 3   neighborhood           17082 non-null  object \n",
            " 4   city                   22895 non-null  object \n",
            " 5   suburb                 22872 non-null  object \n",
            " 6   state                  22834 non-null  object \n",
            " 7   zipcode                22753 non-null  object \n",
            " 8   latitude               22895 non-null  float64\n",
            " 9   longitude              22895 non-null  float64\n",
            " 10  price                  22895 non-null  int64  \n",
            " 11  weekly_price           2524 non-null   float64\n",
            " 12  monthly_price          1891 non-null   float64\n",
            "dtypes: float64(4), int64(1), object(8)\n",
            "memory usage: 2.3+ MB\n"
          ]
        }
      ],
      "source": [
        "airbnb_df.info()"
      ],
      "id": "AZRtGkUn7w5n"
    },
    {
      "cell_type": "code",
      "execution_count": null,
      "metadata": {
        "id": "pDZmuMCP8Kf_"
      },
      "outputs": [],
      "source": [
        "columnas_relevantes=['price', 'weekly_price',  'monthly_price', 'zipcode'] # price, weekly_price y monthly_price son de tipo numérica y zipcode es de tipo object"
      ],
      "id": "pDZmuMCP8Kf_"
    },
    {
      "cell_type": "code",
      "source": [
        "airbnb_df['zipcode'] = pandas.to_numeric(airbnb_df.zipcode, errors='coerce') #convertimos a zipcode a tipo numerico"
      ],
      "metadata": {
        "id": "2Rx8GjtrTCqH"
      },
      "id": "2Rx8GjtrTCqH",
      "execution_count": null,
      "outputs": []
    },
    {
      "cell_type": "markdown",
      "source": [
        "Observamos la distribución de la variable price, monthly_price y weekly_price."
      ],
      "metadata": {
        "id": "cZtnldj-W4Tl"
      },
      "id": "cZtnldj-W4Tl"
    },
    {
      "cell_type": "code",
      "source": [
        "fig, axes = plt.subplots(nrows=3, figsize=(10,30)) #ancho=10, alto=30\n",
        "columnas_price=['price', 'weekly_price',  'monthly_price']\n",
        "\n",
        "for nombre, eje in zip(columnas_price, axes):\n",
        "    seaborn.distplot( x=airbnb_df[nombre], ax=eje)\n",
        "    eje.set_title(nombre)\n",
        "\n",
        "plt.show()"
      ],
      "metadata": {
        "colab": {
          "base_uri": "https://localhost:8080/",
          "height": 1000
        },
        "id": "i3i-wUI52IwA",
        "outputId": "e06b20b2-aca6-4bd3-8521-87dedbc82358"
      },
      "id": "i3i-wUI52IwA",
      "execution_count": null,
      "outputs": [
        {
          "output_type": "stream",
          "name": "stderr",
          "text": [
            "/usr/local/lib/python3.7/dist-packages/seaborn/distributions.py:2619: FutureWarning: `distplot` is a deprecated function and will be removed in a future version. Please adapt your code to use either `displot` (a figure-level function with similar flexibility) or `histplot` (an axes-level function for histograms).\n",
            "  warnings.warn(msg, FutureWarning)\n",
            "/usr/local/lib/python3.7/dist-packages/seaborn/distributions.py:2619: FutureWarning: `distplot` is a deprecated function and will be removed in a future version. Please adapt your code to use either `displot` (a figure-level function with similar flexibility) or `histplot` (an axes-level function for histograms).\n",
            "  warnings.warn(msg, FutureWarning)\n",
            "/usr/local/lib/python3.7/dist-packages/seaborn/distributions.py:2619: FutureWarning: `distplot` is a deprecated function and will be removed in a future version. Please adapt your code to use either `displot` (a figure-level function with similar flexibility) or `histplot` (an axes-level function for histograms).\n",
            "  warnings.warn(msg, FutureWarning)\n"
          ]
        },
        {
          "output_type": "display_data",
          "data": {
            "text/plain": [
              "<Figure size 720x2160 with 3 Axes>"
            ],
            "image/png": "[encoded data removed]"
          },
          "metadata": {
            "needs_background": "light"
          }
        }
      ]
    },
    {
      "cell_type": "markdown",
      "source": [
        "\n",
        "\n",
        "Como las variables asociadas a price tienen un insesgamiento hacia la derecha, vamos a utilizar la mediana de la muestra como criterio para transformar dichos datos. Entonces, agrupamos por zipcode y obtenemos la mediana de price, weekly_price y monthly_price por cada subgrupo."
      ],
      "metadata": {
        "id": "4cRmk0jWU3VS"
      },
      "id": "4cRmk0jWU3VS"
    },
    {
      "cell_type": "code",
      "execution_count": null,
      "metadata": {
        "id": "trCFQzke775F"
      },
      "outputs": [],
      "source": [
        "airbnb_prices_by_zipcode = airbnb_df[columnas_relevantes].groupby('zipcode')\\\n",
        "   .agg(airbnb_price_median=('price', 'median'),\n",
        "       airbnb_weekly_price_median=('weekly_price', 'median'),\n",
        "       airbnb_monthly_price_median=('monthly_price', 'median')).reset_index()\n",
        "   "
      ],
      "id": "trCFQzke775F"
    },
    {
      "cell_type": "code",
      "execution_count": null,
      "metadata": {
        "colab": {
          "base_uri": "https://localhost:8080/",
          "height": 363
        },
        "id": "xKHTAngrBGgS",
        "outputId": "b873ee0b-3343-43a1-cbe7-3663cc30e3f8"
      },
      "outputs": [
        {
          "output_type": "execute_result",
          "data": {
            "text/plain": [
              "   zipcode  airbnb_price_median  airbnb_weekly_price_median  \\\n",
              "0   2010.0                 40.0                         NaN   \n",
              "1   2134.0                 50.0                         NaN   \n",
              "2   2582.0                104.0                         NaN   \n",
              "3   3000.0                129.0                       857.0   \n",
              "4   3001.0                132.5                         NaN   \n",
              "5   3002.0                130.0                       775.0   \n",
              "6   3003.0                120.0                       728.0   \n",
              "7   3004.0                130.0                      1000.0   \n",
              "8   3006.0                150.0                      1099.5   \n",
              "9   3008.0                138.0                       850.0   \n",
              "\n",
              "   airbnb_monthly_price_median  \n",
              "0                          NaN  \n",
              "1                          NaN  \n",
              "2                          NaN  \n",
              "3                       3469.0  \n",
              "4                          NaN  \n",
              "5                       3300.0  \n",
              "6                       2500.0  \n",
              "7                       3895.0  \n",
              "8                       3955.0  \n",
              "9                       2902.0  "
            ],
            "text/html": [
              "\n",
              "  <div id=\"df-f27d883d-1db7-411f-bb86-078c56871427\">\n",
              "    <div class=\"colab-df-container\">\n",
              "      <div>\n",
              "<style scoped>\n",
              "    .dataframe tbody tr th:only-of-type {\n",
              "        vertical-align: middle;\n",
              "    }\n",
              "\n",
              "    .dataframe tbody tr th {\n",
              "        vertical-align: top;\n",
              "    }\n",
              "\n",
              "    .dataframe thead th {\n",
              "        text-align: right;\n",
              "    }\n",
              "</style>\n",
              "<table border=\"1\" class=\"dataframe\">\n",
              "  <thead>\n",
              "    <tr style=\"text-align: right;\">\n",
              "      <th></th>\n",
              "      <th>zipcode</th>\n",
              "      <th>airbnb_price_median</th>\n",
              "      <th>airbnb_weekly_price_median</th>\n",
              "      <th>airbnb_monthly_price_median</th>\n",
              "    </tr>\n",
              "  </thead>\n",
              "  <tbody>\n",
              "    <tr>\n",
              "      <th>0</th>\n",
              "      <td>2010.0</td>\n",
              "      <td>40.0</td>\n",
              "      <td>NaN</td>\n",
              "      <td>NaN</td>\n",
              "    </tr>\n",
              "    <tr>\n",
              "      <th>1</th>\n",
              "      <td>2134.0</td>\n",
              "      <td>50.0</td>\n",
              "      <td>NaN</td>\n",
              "      <td>NaN</td>\n",
              "    </tr>\n",
              "    <tr>\n",
              "      <th>2</th>\n",
              "      <td>2582.0</td>\n",
              "      <td>104.0</td>\n",
              "      <td>NaN</td>\n",
              "      <td>NaN</td>\n",
              "    </tr>\n",
              "    <tr>\n",
              "      <th>3</th>\n",
              "      <td>3000.0</td>\n",
              "      <td>129.0</td>\n",
              "      <td>857.0</td>\n",
              "      <td>3469.0</td>\n",
              "    </tr>\n",
              "    <tr>\n",
              "      <th>4</th>\n",
              "      <td>3001.0</td>\n",
              "      <td>132.5</td>\n",
              "      <td>NaN</td>\n",
              "      <td>NaN</td>\n",
              "    </tr>\n",
              "    <tr>\n",
              "      <th>5</th>\n",
              "      <td>3002.0</td>\n",
              "      <td>130.0</td>\n",
              "      <td>775.0</td>\n",
              "      <td>3300.0</td>\n",
              "    </tr>\n",
              "    <tr>\n",
              "      <th>6</th>\n",
              "      <td>3003.0</td>\n",
              "      <td>120.0</td>\n",
              "      <td>728.0</td>\n",
              "      <td>2500.0</td>\n",
              "    </tr>\n",
              "    <tr>\n",
              "      <th>7</th>\n",
              "      <td>3004.0</td>\n",
              "      <td>130.0</td>\n",
              "      <td>1000.0</td>\n",
              "      <td>3895.0</td>\n",
              "    </tr>\n",
              "    <tr>\n",
              "      <th>8</th>\n",
              "      <td>3006.0</td>\n",
              "      <td>150.0</td>\n",
              "      <td>1099.5</td>\n",
              "      <td>3955.0</td>\n",
              "    </tr>\n",
              "    <tr>\n",
              "      <th>9</th>\n",
              "      <td>3008.0</td>\n",
              "      <td>138.0</td>\n",
              "      <td>850.0</td>\n",
              "      <td>2902.0</td>\n",
              "    </tr>\n",
              "  </tbody>\n",
              "</table>\n",
              "</div>\n",
              "      <button class=\"colab-df-convert\" onclick=\"convertToInteractive('df-f27d883d-1db7-411f-bb86-078c56871427')\"\n",
              "              title=\"Convert this dataframe to an interactive table.\"\n",
              "              style=\"display:none;\">\n",
              "        \n",
              "  <svg xmlns=\"http://www.w3.org/2000/svg\" height=\"24px\"viewBox=\"0 0 24 24\"\n",
              "       width=\"24px\">\n",
              "    <path d=\"M0 0h24v24H0V0z\" fill=\"none\"/>\n",
              "    <path d=\"M18.56 5.44l.94 2.06.94-2.06 2.06-.94-2.06-.94-.94-2.06-.94 2.06-2.06.94zm-11 1L8.5 8.5l.94-2.06 2.06-.94-2.06-.94L8.5 2.5l-.94 2.06-2.06.94zm10 10l.94 2.06.94-2.06 2.06-.94-2.06-.94-.94-2.06-.94 2.06-2.06.94z\"/><path d=\"M17.41 7.96l-1.37-1.37c-.4-.4-.92-.59-1.43-.59-.52 0-1.04.2-1.43.59L10.3 9.45l-7.72 7.72c-.78.78-.78 2.05 0 2.83L4 21.41c.39.39.9.59 1.41.59.51 0 1.02-.2 1.41-.59l7.78-7.78 2.81-2.81c.8-.78.8-2.07 0-2.86zM5.41 20L4 18.59l7.72-7.72 1.47 1.35L5.41 20z\"/>\n",
              "  </svg>\n",
              "      </button>\n",
              "      \n",
              "  <style>\n",
              "    .colab-df-container {\n",
              "      display:flex;\n",
              "      flex-wrap:wrap;\n",
              "      gap: 12px;\n",
              "    }\n",
              "\n",
              "    .colab-df-convert {\n",
              "      background-color: #E8F0FE;\n",
              "      border: none;\n",
              "      border-radius: 50%;\n",
              "      cursor: pointer;\n",
              "      display: none;\n",
              "      fill: #1967D2;\n",
              "      height: 32px;\n",
              "      padding: 0 0 0 0;\n",
              "      width: 32px;\n",
              "    }\n",
              "\n",
              "    .colab-df-convert:hover {\n",
              "      background-color: #E2EBFA;\n",
              "      box-shadow: 0px 1px 2px rgba(60, 64, 67, 0.3), 0px 1px 3px 1px rgba(60, 64, 67, 0.15);\n",
              "      fill: #174EA6;\n",
              "    }\n",
              "\n",
              "    [theme=dark] .colab-df-convert {\n",
              "      background-color: #3B4455;\n",
              "      fill: #D2E3FC;\n",
              "    }\n",
              "\n",
              "    [theme=dark] .colab-df-convert:hover {\n",
              "      background-color: #434B5C;\n",
              "      box-shadow: 0px 1px 3px 1px rgba(0, 0, 0, 0.15);\n",
              "      filter: drop-shadow(0px 1px 2px rgba(0, 0, 0, 0.3));\n",
              "      fill: #FFFFFF;\n",
              "    }\n",
              "  </style>\n",
              "\n",
              "      <script>\n",
              "        const buttonEl =\n",
              "          document.querySelector('#df-f27d883d-1db7-411f-bb86-078c56871427 button.colab-df-convert');\n",
              "        buttonEl.style.display =\n",
              "          google.colab.kernel.accessAllowed ? 'block' : 'none';\n",
              "\n",
              "        async function convertToInteractive(key) {\n",
              "          const element = document.querySelector('#df-f27d883d-1db7-411f-bb86-078c56871427');\n",
              "          const dataTable =\n",
              "            await google.colab.kernel.invokeFunction('convertToInteractive',\n",
              "                                                     [key], {});\n",
              "          if (!dataTable) return;\n",
              "\n",
              "          const docLinkHtml = 'Like what you see? Visit the ' +\n",
              "            '<a target=\"_blank\" href=https://colab.research.google.com/notebooks/data_table.ipynb>data table notebook</a>'\n",
              "            + ' to learn more about interactive tables.';\n",
              "          element.innerHTML = '';\n",
              "          dataTable['output_type'] = 'display_data';\n",
              "          await google.colab.output.renderOutput(dataTable, element);\n",
              "          const docLink = document.createElement('div');\n",
              "          docLink.innerHTML = docLinkHtml;\n",
              "          element.appendChild(docLink);\n",
              "        }\n",
              "      </script>\n",
              "    </div>\n",
              "  </div>\n",
              "  "
            ]
          },
          "metadata": {},
          "execution_count": 61
        }
      ],
      "source": [
        "airbnb_prices_by_zipcode[:10]"
      ],
      "id": "xKHTAngrBGgS"
    },
    {
      "cell_type": "markdown",
      "source": [
        "2. Utilizar la variable zipcode para unir los conjuntos de datos. Sólo incluir los zipcodes que tengan una cantidad mínima de registros (a elección) como para que la información agregada sea relevante.\n",
        "\n"
      ],
      "metadata": {
        "id": "ecXFQ0Lna-eL"
      },
      "id": "ecXFQ0Lna-eL"
    },
    {
      "cell_type": "markdown",
      "source": [
        "Vamos a inspeccionar cuáles son los registros más altos por zipcode."
      ],
      "metadata": {
        "id": "ndpbdQbm7Egb"
      },
      "id": "ndpbdQbm7Egb"
    },
    {
      "cell_type": "code",
      "source": [
        "num_registros_zipcode=airbnb_df.groupby('zipcode').agg(cantidad_reg=('zipcode','count')).reset_index()\n",
        "num_registros_zipcode.sort_values(by='cantidad_reg', ascending=True)\n"
      ],
      "metadata": {
        "colab": {
          "base_uri": "https://localhost:8080/",
          "height": 423
        },
        "id": "RXwS5FqVa2kn",
        "outputId": "58c970f3-3fd4-46b2-fc34-ef5b6265cfa9"
      },
      "id": "RXwS5FqVa2kn",
      "execution_count": null,
      "outputs": [
        {
          "output_type": "execute_result",
          "data": {
            "text/plain": [
              "     zipcode  cantidad_reg\n",
              "0     2010.0             1\n",
              "172   3200.0             1\n",
              "187   3753.0             1\n",
              "199   3778.0             1\n",
              "203   3785.0             1\n",
              "..       ...           ...\n",
              "7     3004.0           728\n",
              "116   3141.0           881\n",
              "154   3182.0          1135\n",
              "8     3006.0          1268\n",
              "3     3000.0          3367\n",
              "\n",
              "[247 rows x 2 columns]"
            ],
            "text/html": [
              "\n",
              "  <div id=\"df-081a3a48-c1df-419c-9d00-e06cb7261108\">\n",
              "    <div class=\"colab-df-container\">\n",
              "      <div>\n",
              "<style scoped>\n",
              "    .dataframe tbody tr th:only-of-type {\n",
              "        vertical-align: middle;\n",
              "    }\n",
              "\n",
              "    .dataframe tbody tr th {\n",
              "        vertical-align: top;\n",
              "    }\n",
              "\n",
              "    .dataframe thead th {\n",
              "        text-align: right;\n",
              "    }\n",
              "</style>\n",
              "<table border=\"1\" class=\"dataframe\">\n",
              "  <thead>\n",
              "    <tr style=\"text-align: right;\">\n",
              "      <th></th>\n",
              "      <th>zipcode</th>\n",
              "      <th>cantidad_reg</th>\n",
              "    </tr>\n",
              "  </thead>\n",
              "  <tbody>\n",
              "    <tr>\n",
              "      <th>0</th>\n",
              "      <td>2010.0</td>\n",
              "      <td>1</td>\n",
              "    </tr>\n",
              "    <tr>\n",
              "      <th>172</th>\n",
              "      <td>3200.0</td>\n",
              "      <td>1</td>\n",
              "    </tr>\n",
              "    <tr>\n",
              "      <th>187</th>\n",
              "      <td>3753.0</td>\n",
              "      <td>1</td>\n",
              "    </tr>\n",
              "    <tr>\n",
              "      <th>199</th>\n",
              "      <td>3778.0</td>\n",
              "      <td>1</td>\n",
              "    </tr>\n",
              "    <tr>\n",
              "      <th>203</th>\n",
              "      <td>3785.0</td>\n",
              "      <td>1</td>\n",
              "    </tr>\n",
              "    <tr>\n",
              "      <th>...</th>\n",
              "      <td>...</td>\n",
              "      <td>...</td>\n",
              "    </tr>\n",
              "    <tr>\n",
              "      <th>7</th>\n",
              "      <td>3004.0</td>\n",
              "      <td>728</td>\n",
              "    </tr>\n",
              "    <tr>\n",
              "      <th>116</th>\n",
              "      <td>3141.0</td>\n",
              "      <td>881</td>\n",
              "    </tr>\n",
              "    <tr>\n",
              "      <th>154</th>\n",
              "      <td>3182.0</td>\n",
              "      <td>1135</td>\n",
              "    </tr>\n",
              "    <tr>\n",
              "      <th>8</th>\n",
              "      <td>3006.0</td>\n",
              "      <td>1268</td>\n",
              "    </tr>\n",
              "    <tr>\n",
              "      <th>3</th>\n",
              "      <td>3000.0</td>\n",
              "      <td>3367</td>\n",
              "    </tr>\n",
              "  </tbody>\n",
              "</table>\n",
              "<p>247 rows × 2 columns</p>\n",
              "</div>\n",
              "      <button class=\"colab-df-convert\" onclick=\"convertToInteractive('df-081a3a48-c1df-419c-9d00-e06cb7261108')\"\n",
              "              title=\"Convert this dataframe to an interactive table.\"\n",
              "              style=\"display:none;\">\n",
              "        \n",
              "  <svg xmlns=\"http://www.w3.org/2000/svg\" height=\"24px\"viewBox=\"0 0 24 24\"\n",
              "       width=\"24px\">\n",
              "    <path d=\"M0 0h24v24H0V0z\" fill=\"none\"/>\n",
              "    <path d=\"M18.56 5.44l.94 2.06.94-2.06 2.06-.94-2.06-.94-.94-2.06-.94 2.06-2.06.94zm-11 1L8.5 8.5l.94-2.06 2.06-.94-2.06-.94L8.5 2.5l-.94 2.06-2.06.94zm10 10l.94 2.06.94-2.06 2.06-.94-2.06-.94-.94-2.06-.94 2.06-2.06.94z\"/><path d=\"M17.41 7.96l-1.37-1.37c-.4-.4-.92-.59-1.43-.59-.52 0-1.04.2-1.43.59L10.3 9.45l-7.72 7.72c-.78.78-.78 2.05 0 2.83L4 21.41c.39.39.9.59 1.41.59.51 0 1.02-.2 1.41-.59l7.78-7.78 2.81-2.81c.8-.78.8-2.07 0-2.86zM5.41 20L4 18.59l7.72-7.72 1.47 1.35L5.41 20z\"/>\n",
              "  </svg>\n",
              "      </button>\n",
              "      \n",
              "  <style>\n",
              "    .colab-df-container {\n",
              "      display:flex;\n",
              "      flex-wrap:wrap;\n",
              "      gap: 12px;\n",
              "    }\n",
              "\n",
              "    .colab-df-convert {\n",
              "      background-color: #E8F0FE;\n",
              "      border: none;\n",
              "      border-radius: 50%;\n",
              "      cursor: pointer;\n",
              "      display: none;\n",
              "      fill: #1967D2;\n",
              "      height: 32px;\n",
              "      padding: 0 0 0 0;\n",
              "      width: 32px;\n",
              "    }\n",
              "\n",
              "    .colab-df-convert:hover {\n",
              "      background-color: #E2EBFA;\n",
              "      box-shadow: 0px 1px 2px rgba(60, 64, 67, 0.3), 0px 1px 3px 1px rgba(60, 64, 67, 0.15);\n",
              "      fill: #174EA6;\n",
              "    }\n",
              "\n",
              "    [theme=dark] .colab-df-convert {\n",
              "      background-color: #3B4455;\n",
              "      fill: #D2E3FC;\n",
              "    }\n",
              "\n",
              "    [theme=dark] .colab-df-convert:hover {\n",
              "      background-color: #434B5C;\n",
              "      box-shadow: 0px 1px 3px 1px rgba(0, 0, 0, 0.15);\n",
              "      filter: drop-shadow(0px 1px 2px rgba(0, 0, 0, 0.3));\n",
              "      fill: #FFFFFF;\n",
              "    }\n",
              "  </style>\n",
              "\n",
              "      <script>\n",
              "        const buttonEl =\n",
              "          document.querySelector('#df-081a3a48-c1df-419c-9d00-e06cb7261108 button.colab-df-convert');\n",
              "        buttonEl.style.display =\n",
              "          google.colab.kernel.accessAllowed ? 'block' : 'none';\n",
              "\n",
              "        async function convertToInteractive(key) {\n",
              "          const element = document.querySelector('#df-081a3a48-c1df-419c-9d00-e06cb7261108');\n",
              "          const dataTable =\n",
              "            await google.colab.kernel.invokeFunction('convertToInteractive',\n",
              "                                                     [key], {});\n",
              "          if (!dataTable) return;\n",
              "\n",
              "          const docLinkHtml = 'Like what you see? Visit the ' +\n",
              "            '<a target=\"_blank\" href=https://colab.research.google.com/notebooks/data_table.ipynb>data table notebook</a>'\n",
              "            + ' to learn more about interactive tables.';\n",
              "          element.innerHTML = '';\n",
              "          dataTable['output_type'] = 'display_data';\n",
              "          await google.colab.output.renderOutput(dataTable, element);\n",
              "          const docLink = document.createElement('div');\n",
              "          docLink.innerHTML = docLinkHtml;\n",
              "          element.appendChild(docLink);\n",
              "        }\n",
              "      </script>\n",
              "    </div>\n",
              "  </div>\n",
              "  "
            ]
          },
          "metadata": {},
          "execution_count": 48
        }
      ]
    },
    {
      "cell_type": "markdown",
      "source": [
        "Consideramos que todos los zipcode con registros mayores a 1 son significativos para enriquecer la base de datos de Melbourne."
      ],
      "metadata": {
        "id": "suvAqJQMR8Rr"
      },
      "id": "suvAqJQMR8Rr"
    },
    {
      "cell_type": "code",
      "source": [
        "#zipcode con más de 1 registro\n",
        "zip_1=num_registros_zipcode[num_registros_zipcode.cantidad_reg>1][['zipcode']]\n",
        "zip_1.reset_index(drop=True)"
      ],
      "metadata": {
        "colab": {
          "base_uri": "https://localhost:8080/",
          "height": 423
        },
        "id": "7x5ePPqcReiq",
        "outputId": "fce94cac-1d21-46c2-dbae-1d69de7710bb"
      },
      "id": "7x5ePPqcReiq",
      "execution_count": null,
      "outputs": [
        {
          "output_type": "execute_result",
          "data": {
            "text/plain": [
              "     zipcode\n",
              "0     3000.0\n",
              "1     3001.0\n",
              "2     3002.0\n",
              "3     3003.0\n",
              "4     3004.0\n",
              "..       ...\n",
              "222   3975.0\n",
              "223   3976.0\n",
              "224   3977.0\n",
              "225   3978.0\n",
              "226   3980.0\n",
              "\n",
              "[227 rows x 1 columns]"
            ],
            "text/html": [
              "\n",
              "  <div id=\"df-ebdd1b37-dccc-4907-b4c8-ec332370ee4d\">\n",
              "    <div class=\"colab-df-container\">\n",
              "      <div>\n",
              "<style scoped>\n",
              "    .dataframe tbody tr th:only-of-type {\n",
              "        vertical-align: middle;\n",
              "    }\n",
              "\n",
              "    .dataframe tbody tr th {\n",
              "        vertical-align: top;\n",
              "    }\n",
              "\n",
              "    .dataframe thead th {\n",
              "        text-align: right;\n",
              "    }\n",
              "</style>\n",
              "<table border=\"1\" class=\"dataframe\">\n",
              "  <thead>\n",
              "    <tr style=\"text-align: right;\">\n",
              "      <th></th>\n",
              "      <th>zipcode</th>\n",
              "    </tr>\n",
              "  </thead>\n",
              "  <tbody>\n",
              "    <tr>\n",
              "      <th>0</th>\n",
              "      <td>3000.0</td>\n",
              "    </tr>\n",
              "    <tr>\n",
              "      <th>1</th>\n",
              "      <td>3001.0</td>\n",
              "    </tr>\n",
              "    <tr>\n",
              "      <th>2</th>\n",
              "      <td>3002.0</td>\n",
              "    </tr>\n",
              "    <tr>\n",
              "      <th>3</th>\n",
              "      <td>3003.0</td>\n",
              "    </tr>\n",
              "    <tr>\n",
              "      <th>4</th>\n",
              "      <td>3004.0</td>\n",
              "    </tr>\n",
              "    <tr>\n",
              "      <th>...</th>\n",
              "      <td>...</td>\n",
              "    </tr>\n",
              "    <tr>\n",
              "      <th>222</th>\n",
              "      <td>3975.0</td>\n",
              "    </tr>\n",
              "    <tr>\n",
              "      <th>223</th>\n",
              "      <td>3976.0</td>\n",
              "    </tr>\n",
              "    <tr>\n",
              "      <th>224</th>\n",
              "      <td>3977.0</td>\n",
              "    </tr>\n",
              "    <tr>\n",
              "      <th>225</th>\n",
              "      <td>3978.0</td>\n",
              "    </tr>\n",
              "    <tr>\n",
              "      <th>226</th>\n",
              "      <td>3980.0</td>\n",
              "    </tr>\n",
              "  </tbody>\n",
              "</table>\n",
              "<p>227 rows × 1 columns</p>\n",
              "</div>\n",
              "      <button class=\"colab-df-convert\" onclick=\"convertToInteractive('df-ebdd1b37-dccc-4907-b4c8-ec332370ee4d')\"\n",
              "              title=\"Convert this dataframe to an interactive table.\"\n",
              "              style=\"display:none;\">\n",
              "        \n",
              "  <svg xmlns=\"http://www.w3.org/2000/svg\" height=\"24px\"viewBox=\"0 0 24 24\"\n",
              "       width=\"24px\">\n",
              "    <path d=\"M0 0h24v24H0V0z\" fill=\"none\"/>\n",
              "    <path d=\"M18.56 5.44l.94 2.06.94-2.06 2.06-.94-2.06-.94-.94-2.06-.94 2.06-2.06.94zm-11 1L8.5 8.5l.94-2.06 2.06-.94-2.06-.94L8.5 2.5l-.94 2.06-2.06.94zm10 10l.94 2.06.94-2.06 2.06-.94-2.06-.94-.94-2.06-.94 2.06-2.06.94z\"/><path d=\"M17.41 7.96l-1.37-1.37c-.4-.4-.92-.59-1.43-.59-.52 0-1.04.2-1.43.59L10.3 9.45l-7.72 7.72c-.78.78-.78 2.05 0 2.83L4 21.41c.39.39.9.59 1.41.59.51 0 1.02-.2 1.41-.59l7.78-7.78 2.81-2.81c.8-.78.8-2.07 0-2.86zM5.41 20L4 18.59l7.72-7.72 1.47 1.35L5.41 20z\"/>\n",
              "  </svg>\n",
              "      </button>\n",
              "      \n",
              "  <style>\n",
              "    .colab-df-container {\n",
              "      display:flex;\n",
              "      flex-wrap:wrap;\n",
              "      gap: 12px;\n",
              "    }\n",
              "\n",
              "    .colab-df-convert {\n",
              "      background-color: #E8F0FE;\n",
              "      border: none;\n",
              "      border-radius: 50%;\n",
              "      cursor: pointer;\n",
              "      display: none;\n",
              "      fill: #1967D2;\n",
              "      height: 32px;\n",
              "      padding: 0 0 0 0;\n",
              "      width: 32px;\n",
              "    }\n",
              "\n",
              "    .colab-df-convert:hover {\n",
              "      background-color: #E2EBFA;\n",
              "      box-shadow: 0px 1px 2px rgba(60, 64, 67, 0.3), 0px 1px 3px 1px rgba(60, 64, 67, 0.15);\n",
              "      fill: #174EA6;\n",
              "    }\n",
              "\n",
              "    [theme=dark] .colab-df-convert {\n",
              "      background-color: #3B4455;\n",
              "      fill: #D2E3FC;\n",
              "    }\n",
              "\n",
              "    [theme=dark] .colab-df-convert:hover {\n",
              "      background-color: #434B5C;\n",
              "      box-shadow: 0px 1px 3px 1px rgba(0, 0, 0, 0.15);\n",
              "      filter: drop-shadow(0px 1px 2px rgba(0, 0, 0, 0.3));\n",
              "      fill: #FFFFFF;\n",
              "    }\n",
              "  </style>\n",
              "\n",
              "      <script>\n",
              "        const buttonEl =\n",
              "          document.querySelector('#df-ebdd1b37-dccc-4907-b4c8-ec332370ee4d button.colab-df-convert');\n",
              "        buttonEl.style.display =\n",
              "          google.colab.kernel.accessAllowed ? 'block' : 'none';\n",
              "\n",
              "        async function convertToInteractive(key) {\n",
              "          const element = document.querySelector('#df-ebdd1b37-dccc-4907-b4c8-ec332370ee4d');\n",
              "          const dataTable =\n",
              "            await google.colab.kernel.invokeFunction('convertToInteractive',\n",
              "                                                     [key], {});\n",
              "          if (!dataTable) return;\n",
              "\n",
              "          const docLinkHtml = 'Like what you see? Visit the ' +\n",
              "            '<a target=\"_blank\" href=https://colab.research.google.com/notebooks/data_table.ipynb>data table notebook</a>'\n",
              "            + ' to learn more about interactive tables.';\n",
              "          element.innerHTML = '';\n",
              "          dataTable['output_type'] = 'display_data';\n",
              "          await google.colab.output.renderOutput(dataTable, element);\n",
              "          const docLink = document.createElement('div');\n",
              "          docLink.innerHTML = docLinkHtml;\n",
              "          element.appendChild(docLink);\n",
              "        }\n",
              "      </script>\n",
              "    </div>\n",
              "  </div>\n",
              "  "
            ]
          },
          "metadata": {},
          "execution_count": 49
        }
      ]
    },
    {
      "cell_type": "markdown",
      "source": [
        "filtramos los datos de airbnb_prices_by_zipcode por aquellos zipcode que tengan más de 1 registro."
      ],
      "metadata": {
        "id": "kvEk-gz2fSkq"
      },
      "id": "kvEk-gz2fSkq"
    },
    {
      "cell_type": "code",
      "source": [
        "b=airbnb_prices_by_zipcode.reset_index(drop=True)\n",
        "airbnb_prices_by_zipcode_final=b.loc[b['zipcode'].isin(zip_1['zipcode'])]\n",
        "airbnb_prices_by_zipcode_final.zipcode.describe() #controlamos que los valores de zipcode estén en el rango elegido"
      ],
      "metadata": {
        "colab": {
          "base_uri": "https://localhost:8080/"
        },
        "id": "zsdNkNdpETgt",
        "outputId": "ef21c7ef-b439-4252-b894-cb95ba871269"
      },
      "id": "zsdNkNdpETgt",
      "execution_count": null,
      "outputs": [
        {
          "output_type": "execute_result",
          "data": {
            "text/plain": [
              "count     227.000000\n",
              "mean     3261.180617\n",
              "std       293.525033\n",
              "min      3000.000000\n",
              "25%      3070.500000\n",
              "50%      3142.000000\n",
              "75%      3203.000000\n",
              "max      3980.000000\n",
              "Name: zipcode, dtype: float64"
            ]
          },
          "metadata": {},
          "execution_count": 50
        }
      ]
    },
    {
      "cell_type": "code",
      "source": [
        "#dataset final de las variables price, weekly_price y monthly_price con su respectiva mediana y \n",
        "#filtrado por zipcodes con registros mayores a 1\n",
        "\n",
        "airbnb_prices_by_zipcode_final=airbnb_prices_by_zipcode_final.reset_index(drop=True) \n"
      ],
      "metadata": {
        "id": "sqi5oIGobjBW"
      },
      "id": "sqi5oIGobjBW",
      "execution_count": null,
      "outputs": []
    },
    {
      "cell_type": "markdown",
      "source": [
        "Ahora ya estamos en condiciones de unir los dos dataset: melb_final y airbnb_prices_by_zipcode_final.\n",
        "\n",
        "Como el objetivo es ampliar o enriquecer la cantidad de datos de la base de datos melb_final haremos un left merge.\n"
      ],
      "metadata": {
        "id": "LRwiNSGQZOBN"
      },
      "id": "LRwiNSGQZOBN"
    },
    {
      "cell_type": "code",
      "source": [
        "merged_sales_Melb_df = melb_final.merge(\n",
        "    airbnb_prices_by_zipcode_final, how='left',\n",
        "    left_on='Postcode', right_on='zipcode'\n",
        ")\n",
        "merged_sales_Melb_df.sample(10)"
      ],
      "metadata": {
        "colab": {
          "base_uri": "https://localhost:8080/",
          "height": 444
        },
        "id": "2YksnGX_JEEc",
        "outputId": "3b587583-c527-4b8d-951f-cf65d52bb8b3"
      },
      "id": "2YksnGX_JEEc",
      "execution_count": null,
      "outputs": [
        {
          "output_type": "execute_result",
          "data": {
            "text/plain": [
              "            Suburb   SellerG   CouncilArea Type  BuildingArea  Rooms  \\\n",
              "11604       Epping       Ray           NaN    h           NaN      4   \n",
              "1862   Collingwood     Peter         Yarra    h           NaN      2   \n",
              "5080     Southbank   VICPROP     Melbourne    u         106.0      3   \n",
              "11405       Hallam     REMAX           NaN    h           NaN      3   \n",
              "4761      Richmond    Biggin         Yarra    u           NaN      3   \n",
              "10955     Armadale    Jellis           NaN    u           NaN      2   \n",
              "6529     Ripponlea      Gary  Port Phillip    u           NaN      2   \n",
              "4751      Richmond  Marshall         Yarra    h         118.0      3   \n",
              "7178       Malvern    Jellis   Stonnington    u           NaN      1   \n",
              "8284   Pascoe Vale      Brad      Moreland    u           NaN      3   \n",
              "\n",
              "       Propertycount  Lattitude  Longtitude  Distance  YearBuilt  Car  \\\n",
              "11604        10926.0  -37.64213   145.06141      19.6        NaN  2.0   \n",
              "1862          4553.0  -37.80670   144.98400       1.6        NaN  2.0   \n",
              "5080          8400.0  -37.82350   144.96550       1.2     1993.0  1.0   \n",
              "11405         3728.0  -38.00377   145.26161      32.3        NaN  3.0   \n",
              "4761         14949.0  -37.81280   145.01390       2.6        NaN  2.0   \n",
              "10955         4836.0  -37.85280   145.02684       6.3        NaN  1.0   \n",
              "6529           821.0  -37.87940   144.99470       7.4     1970.0  1.0   \n",
              "4751         14949.0  -37.82470   145.00010       2.6     1900.0  3.0   \n",
              "7178          4675.0  -37.85150   145.03720       7.4        NaN  1.0   \n",
              "8284          7485.0  -37.72737   144.94593       8.5        NaN  1.0   \n",
              "\n",
              "       Postcode  zipcode  airbnb_price_median  airbnb_weekly_price_median  \\\n",
              "11604    3076.0   3076.0                 48.0                       435.0   \n",
              "1862     3066.0   3066.0                120.0                       830.0   \n",
              "5080     3006.0   3006.0                150.0                      1099.5   \n",
              "11405    3803.0   3803.0                 52.0                         NaN   \n",
              "4761     3121.0   3121.0                126.5                       831.0   \n",
              "10955    3143.0   3143.0                100.0                       550.0   \n",
              "6529     3185.0   3185.0                103.5                       659.5   \n",
              "4751     3121.0   3121.0                126.5                       831.0   \n",
              "7178     3144.0   3144.0                140.0                       627.5   \n",
              "8284     3044.0   3044.0                 79.5                       280.0   \n",
              "\n",
              "       airbnb_monthly_price_median  \n",
              "11604                       1620.0  \n",
              "1862                        3150.0  \n",
              "5080                        3955.0  \n",
              "11405                          NaN  \n",
              "4761                        3170.0  \n",
              "10955                       2390.0  \n",
              "6529                        3071.0  \n",
              "4751                        3170.0  \n",
              "7178                        3000.0  \n",
              "8284                         850.0  "
            ],
            "text/html": [
              "\n",
              "  <div id=\"df-e694fd04-025d-4c73-8f7b-51e87d91159b\">\n",
              "    <div class=\"colab-df-container\">\n",
              "      <div>\n",
              "<style scoped>\n",
              "    .dataframe tbody tr th:only-of-type {\n",
              "        vertical-align: middle;\n",
              "    }\n",
              "\n",
              "    .dataframe tbody tr th {\n",
              "        vertical-align: top;\n",
              "    }\n",
              "\n",
              "    .dataframe thead th {\n",
              "        text-align: right;\n",
              "    }\n",
              "</style>\n",
              "<table border=\"1\" class=\"dataframe\">\n",
              "  <thead>\n",
              "    <tr style=\"text-align: right;\">\n",
              "      <th></th>\n",
              "      <th>Suburb</th>\n",
              "      <th>SellerG</th>\n",
              "      <th>CouncilArea</th>\n",
              "      <th>Type</th>\n",
              "      <th>BuildingArea</th>\n",
              "      <th>Rooms</th>\n",
              "      <th>Propertycount</th>\n",
              "      <th>Lattitude</th>\n",
              "      <th>Longtitude</th>\n",
              "      <th>Distance</th>\n",
              "      <th>YearBuilt</th>\n",
              "      <th>Car</th>\n",
              "      <th>Postcode</th>\n",
              "      <th>zipcode</th>\n",
              "      <th>airbnb_price_median</th>\n",
              "      <th>airbnb_weekly_price_median</th>\n",
              "      <th>airbnb_monthly_price_median</th>\n",
              "    </tr>\n",
              "  </thead>\n",
              "  <tbody>\n",
              "    <tr>\n",
              "      <th>11604</th>\n",
              "      <td>Epping</td>\n",
              "      <td>Ray</td>\n",
              "      <td>NaN</td>\n",
              "      <td>h</td>\n",
              "      <td>NaN</td>\n",
              "      <td>4</td>\n",
              "      <td>10926.0</td>\n",
              "      <td>-37.64213</td>\n",
              "      <td>145.06141</td>\n",
              "      <td>19.6</td>\n",
              "      <td>NaN</td>\n",
              "      <td>2.0</td>\n",
              "      <td>3076.0</td>\n",
              "      <td>3076.0</td>\n",
              "      <td>48.0</td>\n",
              "      <td>435.0</td>\n",
              "      <td>1620.0</td>\n",
              "    </tr>\n",
              "    <tr>\n",
              "      <th>1862</th>\n",
              "      <td>Collingwood</td>\n",
              "      <td>Peter</td>\n",
              "      <td>Yarra</td>\n",
              "      <td>h</td>\n",
              "      <td>NaN</td>\n",
              "      <td>2</td>\n",
              "      <td>4553.0</td>\n",
              "      <td>-37.80670</td>\n",
              "      <td>144.98400</td>\n",
              "      <td>1.6</td>\n",
              "      <td>NaN</td>\n",
              "      <td>2.0</td>\n",
              "      <td>3066.0</td>\n",
              "      <td>3066.0</td>\n",
              "      <td>120.0</td>\n",
              "      <td>830.0</td>\n",
              "      <td>3150.0</td>\n",
              "    </tr>\n",
              "    <tr>\n",
              "      <th>5080</th>\n",
              "      <td>Southbank</td>\n",
              "      <td>VICPROP</td>\n",
              "      <td>Melbourne</td>\n",
              "      <td>u</td>\n",
              "      <td>106.0</td>\n",
              "      <td>3</td>\n",
              "      <td>8400.0</td>\n",
              "      <td>-37.82350</td>\n",
              "      <td>144.96550</td>\n",
              "      <td>1.2</td>\n",
              "      <td>1993.0</td>\n",
              "      <td>1.0</td>\n",
              "      <td>3006.0</td>\n",
              "      <td>3006.0</td>\n",
              "      <td>150.0</td>\n",
              "      <td>1099.5</td>\n",
              "      <td>3955.0</td>\n",
              "    </tr>\n",
              "    <tr>\n",
              "      <th>11405</th>\n",
              "      <td>Hallam</td>\n",
              "      <td>REMAX</td>\n",
              "      <td>NaN</td>\n",
              "      <td>h</td>\n",
              "      <td>NaN</td>\n",
              "      <td>3</td>\n",
              "      <td>3728.0</td>\n",
              "      <td>-38.00377</td>\n",
              "      <td>145.26161</td>\n",
              "      <td>32.3</td>\n",
              "      <td>NaN</td>\n",
              "      <td>3.0</td>\n",
              "      <td>3803.0</td>\n",
              "      <td>3803.0</td>\n",
              "      <td>52.0</td>\n",
              "      <td>NaN</td>\n",
              "      <td>NaN</td>\n",
              "    </tr>\n",
              "    <tr>\n",
              "      <th>4761</th>\n",
              "      <td>Richmond</td>\n",
              "      <td>Biggin</td>\n",
              "      <td>Yarra</td>\n",
              "      <td>u</td>\n",
              "      <td>NaN</td>\n",
              "      <td>3</td>\n",
              "      <td>14949.0</td>\n",
              "      <td>-37.81280</td>\n",
              "      <td>145.01390</td>\n",
              "      <td>2.6</td>\n",
              "      <td>NaN</td>\n",
              "      <td>2.0</td>\n",
              "      <td>3121.0</td>\n",
              "      <td>3121.0</td>\n",
              "      <td>126.5</td>\n",
              "      <td>831.0</td>\n",
              "      <td>3170.0</td>\n",
              "    </tr>\n",
              "    <tr>\n",
              "      <th>10955</th>\n",
              "      <td>Armadale</td>\n",
              "      <td>Jellis</td>\n",
              "      <td>NaN</td>\n",
              "      <td>u</td>\n",
              "      <td>NaN</td>\n",
              "      <td>2</td>\n",
              "      <td>4836.0</td>\n",
              "      <td>-37.85280</td>\n",
              "      <td>145.02684</td>\n",
              "      <td>6.3</td>\n",
              "      <td>NaN</td>\n",
              "      <td>1.0</td>\n",
              "      <td>3143.0</td>\n",
              "      <td>3143.0</td>\n",
              "      <td>100.0</td>\n",
              "      <td>550.0</td>\n",
              "      <td>2390.0</td>\n",
              "    </tr>\n",
              "    <tr>\n",
              "      <th>6529</th>\n",
              "      <td>Ripponlea</td>\n",
              "      <td>Gary</td>\n",
              "      <td>Port Phillip</td>\n",
              "      <td>u</td>\n",
              "      <td>NaN</td>\n",
              "      <td>2</td>\n",
              "      <td>821.0</td>\n",
              "      <td>-37.87940</td>\n",
              "      <td>144.99470</td>\n",
              "      <td>7.4</td>\n",
              "      <td>1970.0</td>\n",
              "      <td>1.0</td>\n",
              "      <td>3185.0</td>\n",
              "      <td>3185.0</td>\n",
              "      <td>103.5</td>\n",
              "      <td>659.5</td>\n",
              "      <td>3071.0</td>\n",
              "    </tr>\n",
              "    <tr>\n",
              "      <th>4751</th>\n",
              "      <td>Richmond</td>\n",
              "      <td>Marshall</td>\n",
              "      <td>Yarra</td>\n",
              "      <td>h</td>\n",
              "      <td>118.0</td>\n",
              "      <td>3</td>\n",
              "      <td>14949.0</td>\n",
              "      <td>-37.82470</td>\n",
              "      <td>145.00010</td>\n",
              "      <td>2.6</td>\n",
              "      <td>1900.0</td>\n",
              "      <td>3.0</td>\n",
              "      <td>3121.0</td>\n",
              "      <td>3121.0</td>\n",
              "      <td>126.5</td>\n",
              "      <td>831.0</td>\n",
              "      <td>3170.0</td>\n",
              "    </tr>\n",
              "    <tr>\n",
              "      <th>7178</th>\n",
              "      <td>Malvern</td>\n",
              "      <td>Jellis</td>\n",
              "      <td>Stonnington</td>\n",
              "      <td>u</td>\n",
              "      <td>NaN</td>\n",
              "      <td>1</td>\n",
              "      <td>4675.0</td>\n",
              "      <td>-37.85150</td>\n",
              "      <td>145.03720</td>\n",
              "      <td>7.4</td>\n",
              "      <td>NaN</td>\n",
              "      <td>1.0</td>\n",
              "      <td>3144.0</td>\n",
              "      <td>3144.0</td>\n",
              "      <td>140.0</td>\n",
              "      <td>627.5</td>\n",
              "      <td>3000.0</td>\n",
              "    </tr>\n",
              "    <tr>\n",
              "      <th>8284</th>\n",
              "      <td>Pascoe Vale</td>\n",
              "      <td>Brad</td>\n",
              "      <td>Moreland</td>\n",
              "      <td>u</td>\n",
              "      <td>NaN</td>\n",
              "      <td>3</td>\n",
              "      <td>7485.0</td>\n",
              "      <td>-37.72737</td>\n",
              "      <td>144.94593</td>\n",
              "      <td>8.5</td>\n",
              "      <td>NaN</td>\n",
              "      <td>1.0</td>\n",
              "      <td>3044.0</td>\n",
              "      <td>3044.0</td>\n",
              "      <td>79.5</td>\n",
              "      <td>280.0</td>\n",
              "      <td>850.0</td>\n",
              "    </tr>\n",
              "  </tbody>\n",
              "</table>\n",
              "</div>\n",
              "      <button class=\"colab-df-convert\" onclick=\"convertToInteractive('df-e694fd04-025d-4c73-8f7b-51e87d91159b')\"\n",
              "              title=\"Convert this dataframe to an interactive table.\"\n",
              "              style=\"display:none;\">\n",
              "        \n",
              "  <svg xmlns=\"http://www.w3.org/2000/svg\" height=\"24px\"viewBox=\"0 0 24 24\"\n",
              "       width=\"24px\">\n",
              "    <path d=\"M0 0h24v24H0V0z\" fill=\"none\"/>\n",
              "    <path d=\"M18.56 5.44l.94 2.06.94-2.06 2.06-.94-2.06-.94-.94-2.06-.94 2.06-2.06.94zm-11 1L8.5 8.5l.94-2.06 2.06-.94-2.06-.94L8.5 2.5l-.94 2.06-2.06.94zm10 10l.94 2.06.94-2.06 2.06-.94-2.06-.94-.94-2.06-.94 2.06-2.06.94z\"/><path d=\"M17.41 7.96l-1.37-1.37c-.4-.4-.92-.59-1.43-.59-.52 0-1.04.2-1.43.59L10.3 9.45l-7.72 7.72c-.78.78-.78 2.05 0 2.83L4 21.41c.39.39.9.59 1.41.59.51 0 1.02-.2 1.41-.59l7.78-7.78 2.81-2.81c.8-.78.8-2.07 0-2.86zM5.41 20L4 18.59l7.72-7.72 1.47 1.35L5.41 20z\"/>\n",
              "  </svg>\n",
              "      </button>\n",
              "      \n",
              "  <style>\n",
              "    .colab-df-container {\n",
              "      display:flex;\n",
              "      flex-wrap:wrap;\n",
              "      gap: 12px;\n",
              "    }\n",
              "\n",
              "    .colab-df-convert {\n",
              "      background-color: #E8F0FE;\n",
              "      border: none;\n",
              "      border-radius: 50%;\n",
              "      cursor: pointer;\n",
              "      display: none;\n",
              "      fill: #1967D2;\n",
              "      height: 32px;\n",
              "      padding: 0 0 0 0;\n",
              "      width: 32px;\n",
              "    }\n",
              "\n",
              "    .colab-df-convert:hover {\n",
              "      background-color: #E2EBFA;\n",
              "      box-shadow: 0px 1px 2px rgba(60, 64, 67, 0.3), 0px 1px 3px 1px rgba(60, 64, 67, 0.15);\n",
              "      fill: #174EA6;\n",
              "    }\n",
              "\n",
              "    [theme=dark] .colab-df-convert {\n",
              "      background-color: #3B4455;\n",
              "      fill: #D2E3FC;\n",
              "    }\n",
              "\n",
              "    [theme=dark] .colab-df-convert:hover {\n",
              "      background-color: #434B5C;\n",
              "      box-shadow: 0px 1px 3px 1px rgba(0, 0, 0, 0.15);\n",
              "      filter: drop-shadow(0px 1px 2px rgba(0, 0, 0, 0.3));\n",
              "      fill: #FFFFFF;\n",
              "    }\n",
              "  </style>\n",
              "\n",
              "      <script>\n",
              "        const buttonEl =\n",
              "          document.querySelector('#df-e694fd04-025d-4c73-8f7b-51e87d91159b button.colab-df-convert');\n",
              "        buttonEl.style.display =\n",
              "          google.colab.kernel.accessAllowed ? 'block' : 'none';\n",
              "\n",
              "        async function convertToInteractive(key) {\n",
              "          const element = document.querySelector('#df-e694fd04-025d-4c73-8f7b-51e87d91159b');\n",
              "          const dataTable =\n",
              "            await google.colab.kernel.invokeFunction('convertToInteractive',\n",
              "                                                     [key], {});\n",
              "          if (!dataTable) return;\n",
              "\n",
              "          const docLinkHtml = 'Like what you see? Visit the ' +\n",
              "            '<a target=\"_blank\" href=https://colab.research.google.com/notebooks/data_table.ipynb>data table notebook</a>'\n",
              "            + ' to learn more about interactive tables.';\n",
              "          element.innerHTML = '';\n",
              "          dataTable['output_type'] = 'display_data';\n",
              "          await google.colab.output.renderOutput(dataTable, element);\n",
              "          const docLink = document.createElement('div');\n",
              "          docLink.innerHTML = docLinkHtml;\n",
              "          element.appendChild(docLink);\n",
              "        }\n",
              "      </script>\n",
              "    </div>\n",
              "  </div>\n",
              "  "
            ]
          },
          "metadata": {},
          "execution_count": 67
        }
      ]
    },
    {
      "cell_type": "code",
      "source": [
        "merged_sales_Melb_df=merged_sales_Melb_df.drop('zipcode', axis=1)  #eliminamos la columna zipcode"
      ],
      "metadata": {
        "id": "gJmEX2rpgUgK"
      },
      "id": "gJmEX2rpgUgK",
      "execution_count": null,
      "outputs": []
    },
    {
      "cell_type": "code",
      "source": [
        "merged_sales_Melb_df.isnull().mean()*100"
      ],
      "metadata": {
        "colab": {
          "base_uri": "https://localhost:8080/"
        },
        "id": "PzHON3bL5xlY",
        "outputId": "c6805252-f7de-4f23-8e96-2d7772785bd5"
      },
      "id": "PzHON3bL5xlY",
      "execution_count": null,
      "outputs": [
        {
          "output_type": "execute_result",
          "data": {
            "text/plain": [
              "Suburb                          0.000000\n",
              "SellerG                         0.000000\n",
              "CouncilArea                     9.812969\n",
              "Type                            0.000000\n",
              "BuildingArea                   52.006262\n",
              "Rooms                           0.000000\n",
              "Propertycount                   0.000000\n",
              "Lattitude                       0.000000\n",
              "Longtitude                      0.000000\n",
              "Distance                        0.000000\n",
              "YearBuilt                      42.432232\n",
              "Car                             0.000000\n",
              "Postcode                        0.000000\n",
              "airbnb_price_median             0.173025\n",
              "airbnb_weekly_price_median      6.715004\n",
              "airbnb_monthly_price_median     9.689380\n",
              "dtype: float64"
            ]
          },
          "metadata": {},
          "execution_count": 69
        }
      ]
    },
    {
      "cell_type": "markdown",
      "source": [
        "\n",
        "**3)**"
      ],
      "metadata": {
        "id": "_XP7vDPje_ZA"
      },
      "id": "_XP7vDPje_ZA"
    },
    {
      "cell_type": "markdown",
      "source": [
        "Para predecir precios de viviendas o de cualquier entidad a la cual se le pueda asociar datos con connotación geográfica es de importacia pensar en métodos de geolocalización. \n",
        "\n",
        "La geolocalización es cada vez más habitual en la analítica de negocio e inteligencia comercial y para utilizarla debemos poder ubicar el objeto de estudio (o nuestra unidad experimental) en un mapa. Esta estrategia permite estudiar el problema en un contexto más amplio y preciso, es decir, si un cliente solo brinda su Código Postal (CP) o su Provincia, su coordenada geográfica será el centroide del CP o de la provincia, y tendrá nivel de precisión bajo; en cambio, si otro cliente indica una dirección completa y válida, sus coordenadas estarán en el número de vía y, por tanto, tendrá un nivel de precisión alto.\n",
        "\n",
        "Una de las ventajas de contar con la geolocalización es que podemos aportar información externa a nuestra base de datos. Al momento de geolocalizar una vivienda, podemos cualificar su entorno: podemos saber el nivel de renta, precio de las propiedades circundantes, la distancia a los principales centros comerciales o de educación, etc. Así, el enlace o cruce con otra información permite enriquecer la representación de la realidad que se busca.\n",
        "\n",
        "\n",
        "Para poder sacar provecho de esta tecnología es necesario trabajar con coordenadas geográficas, es decir, latitud y longitud. Bajo este enfonque sería interesante poder combinar ambos dataset, Melbourne y AirBnB, por medio de las variables Lattitude y Longtitude.\n",
        "\n",
        "Ambas variables serían adecuadas si pudieramos validar su consistencia y homogeneidad, por lo cual podríamos suponer que contamos con API's de georreferenciación que nos ayuden a constatarlo.\n",
        "\n",
        "También se podría utilizar una variable temporal y mediante el estudio de series de tiempo enriquecer la base de datos de interés.\n"
      ],
      "metadata": {
        "id": "eul3yfrLk6U2"
      },
      "id": "eul3yfrLk6U2"
    },
    {
      "cell_type": "markdown",
      "source": [
        "## Ejercicio 3:\n",
        "\n",
        "Crear y guardar un nuevo conjunto de datos con todas las transformaciones realizadas anteriormente."
      ],
      "metadata": {
        "id": "wEdNfkl_cfPU"
      },
      "id": "wEdNfkl_cfPU"
    },
    {
      "cell_type": "markdown",
      "source": [
        "**Respuesta ejercicio 3**\n",
        "\n",
        "Crear y guardar un nuevo conjunto de datos con todas las transformaciones realizadas anteriormente."
      ],
      "metadata": {
        "id": "WOR5p7hSxSUy"
      },
      "id": "WOR5p7hSxSUy"
    },
    {
      "cell_type": "code",
      "source": [
        "merged_sales_Melb_df.to_csv(\"melb_data_complet.csv\", index=None)"
      ],
      "metadata": {
        "id": "No3dan6xw6sn"
      },
      "id": "No3dan6xw6sn",
      "execution_count": null,
      "outputs": []
    },
    {
      "cell_type": "code",
      "source": [
        "from google.colab import files\n",
        "files.download('melb_data_complet.csv') "
      ],
      "metadata": {
        "id": "7tYQ3q2JxLpk",
        "colab": {
          "base_uri": "https://localhost:8080/",
          "height": 34
        },
        "outputId": "57af028a-00eb-4e1d-e384-a0bd7b772811"
      },
      "id": "7tYQ3q2JxLpk",
      "execution_count": null,
      "outputs": [
        {
          "output_type": "display_data",
          "data": {
            "text/plain": [
              "<IPython.core.display.Javascript object>"
            ],
            "application/javascript": [
              "\n",
              "    async function download(id, filename, size) {\n",
              "      if (!google.colab.kernel.accessAllowed) {\n",
              "        return;\n",
              "      }\n",
              "      const div = document.createElement('div');\n",
              "      const label = document.createElement('label');\n",
              "      label.textContent = `Downloading \"${filename}\": `;\n",
              "      div.appendChild(label);\n",
              "      const progress = document.createElement('progress');\n",
              "      progress.max = size;\n",
              "      div.appendChild(progress);\n",
              "      document.body.appendChild(div);\n",
              "\n",
              "      const buffers = [];\n",
              "      let downloaded = 0;\n",
              "\n",
              "      const channel = await google.colab.kernel.comms.open(id);\n",
              "      // Send a message to notify the kernel that we're ready.\n",
              "      channel.send({})\n",
              "\n",
              "      for await (const message of channel.messages) {\n",
              "        // Send a message to notify the kernel that we're ready.\n",
              "        channel.send({})\n",
              "        if (message.buffers) {\n",
              "          for (const buffer of message.buffers) {\n",
              "            buffers.push(buffer);\n",
              "            downloaded += buffer.byteLength;\n",
              "            progress.value = downloaded;\n",
              "          }\n",
              "        }\n",
              "      }\n",
              "      const blob = new Blob(buffers, {type: 'application/binary'});\n",
              "      const a = document.createElement('a');\n",
              "      a.href = window.URL.createObjectURL(blob);\n",
              "      a.download = filename;\n",
              "      div.appendChild(a);\n",
              "      a.click();\n",
              "      div.remove();\n",
              "    }\n",
              "  "
            ]
          },
          "metadata": {}
        },
        {
          "output_type": "display_data",
          "data": {
            "text/plain": [
              "<IPython.core.display.Javascript object>"
            ],
            "application/javascript": [
              "download(\"download_ee194b63-679a-4d2f-b127-8bd1f548a6fe\", \"melb_data_complet.csv\", 1194436)"
            ]
          },
          "metadata": {}
        }
      ]
    },
    {
      "cell_type": "markdown",
      "source": [
        "## Ejercicios opcionales:\n",
        "\n",
        "1. Armar un script en python (archivo .py) [ETL](https://towardsdatascience.com/what-to-log-from-python-etl-pipelines-9e0cfe29950e) que corra los pasos de extraccion, transformacion y carga, armando una funcion para cada etapa del proceso y luego un main que corra todos los pasos requeridos.\n",
        "\n",
        "2. Armar un DAG en Apache Airflow que corra el ETL. (https://airflow.apache.org/docs/apache-airflow/stable/tutorial.html)"
      ],
      "metadata": {
        "id": "E5lgEm2Vc1bx"
      },
      "id": "E5lgEm2Vc1bx"
    }
  ],
  "metadata": {
    "colab": {
      "collapsed_sections": [],
      "name": "Grupo14_entregable_parte_1_22.ipynb",
      "provenance": []
    },
    "kernelspec": {
      "display_name": "Python 3",
      "language": "python",
      "name": "python3"
    },
    "language_info": {
      "codemirror_mode": {
        "name": "ipython",
        "version": 3
      },
      "file_extension": ".py",
      "mimetype": "text/x-python",
      "name": "python",
      "nbconvert_exporter": "python",
      "pygments_lexer": "ipython3",
      "version": "3.8.8"
    }
  },
  "nbformat": 4,
  "nbformat_minor": 5
}