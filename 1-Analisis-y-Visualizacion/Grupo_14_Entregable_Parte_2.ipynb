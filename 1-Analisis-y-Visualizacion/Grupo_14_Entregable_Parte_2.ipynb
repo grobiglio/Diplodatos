{
 "cells": [
  {
   "cell_type": "markdown",
   "metadata": {
    "id": "LYvAOR2VzHmW"
   },
   "source": [
    "\n",
    "**Diplomatura en Ciencia de Datos, Aprendizaje Automático y sus Aplicaciones**\n",
    "\n",
    "**Edición 2022**\n",
    "\n",
    "---\n",
    "\n",
    "# Trabajo práctico entregable - Parte 2"
   ]
  },
  {
   "cell_type": "code",
   "execution_count": 1,
   "metadata": {
    "executionInfo": {
     "elapsed": 808,
     "status": "ok",
     "timestamp": 1653010920427,
     "user": {
      "displayName": "Gisela Brunetto",
      "userId": "11324151902072542495"
     },
     "user_tz": 180
    },
    "id": "Xwdfo7z20TUK"
   },
   "outputs": [],
   "source": [
    "import io\n",
    "import matplotlib\n",
    "import matplotlib.pyplot as plt\n",
    "import numpy as np\n",
    "import pandas as pd\n",
    "import seaborn\n",
    "import scipy.stats as stats\n",
    "from scipy.stats import kstest\n",
    "\n",
    "seaborn.set_context('talk')"
   ]
  },
  {
   "cell_type": "markdown",
   "metadata": {
    "id": "XY2Hl-Ma07Nn"
   },
   "source": [
    "## Lectura del dataset\n",
    "\n",
    "En la notebook 00 se explican los detalles de la siguiente sección."
   ]
  },
  {
   "cell_type": "code",
   "execution_count": 2,
   "metadata": {
    "executionInfo": {
     "elapsed": 2274,
     "status": "ok",
     "timestamp": 1653010953356,
     "user": {
      "displayName": "Gisela Brunetto",
      "userId": "11324151902072542495"
     },
     "user_tz": 180
    },
    "id": "Vviv_sqXdR5W"
   },
   "outputs": [],
   "source": [
    "url = 'https://cs.famaf.unc.edu.ar/~mteruel/datasets/diplodatos/sysarmy_survey_2020_processed.csv'\n",
    "df = pd.read_csv(url)"
   ]
  },
  {
   "cell_type": "code",
   "execution_count": 3,
   "metadata": {
    "colab": {
     "base_uri": "https://localhost:8080/",
     "height": 323
    },
    "id": "gckNHXXLktJ4",
    "outputId": "34ea23c5-ed53-4e7d-b0a1-acf750be6505"
   },
   "outputs": [
    {
     "data": {
      "text/html": [
       "<div>\n",
       "<style scoped>\n",
       "    .dataframe tbody tr th:only-of-type {\n",
       "        vertical-align: middle;\n",
       "    }\n",
       "\n",
       "    .dataframe tbody tr th {\n",
       "        vertical-align: top;\n",
       "    }\n",
       "\n",
       "    .dataframe thead th {\n",
       "        text-align: right;\n",
       "    }\n",
       "</style>\n",
       "<table border=\"1\" class=\"dataframe\">\n",
       "  <thead>\n",
       "    <tr style=\"text-align: right;\">\n",
       "      <th></th>\n",
       "      <th>profile_gender</th>\n",
       "      <th>profile_age</th>\n",
       "      <th>work_country</th>\n",
       "      <th>work_province</th>\n",
       "      <th>profile_years_experience</th>\n",
       "      <th>work_years_in_company</th>\n",
       "      <th>work_years_in_current_position</th>\n",
       "      <th>work_people_in_charge_of</th>\n",
       "      <th>profile_studies_level</th>\n",
       "      <th>profile_studies_level_state</th>\n",
       "      <th>...</th>\n",
       "      <th>work_has_violence_situations</th>\n",
       "      <th>profile_sexual_orientation</th>\n",
       "      <th>profile_has_disabilities</th>\n",
       "      <th>profile_has_disabilities_hiring_difficulties</th>\n",
       "      <th>company_employee_number</th>\n",
       "      <th>company_main_activity</th>\n",
       "      <th>company_recommended</th>\n",
       "      <th>company_diversity_policies</th>\n",
       "      <th>company_extra_benefits</th>\n",
       "      <th>company_best_companies_city</th>\n",
       "    </tr>\n",
       "  </thead>\n",
       "  <tbody>\n",
       "    <tr>\n",
       "      <th>0</th>\n",
       "      <td>Mujer</td>\n",
       "      <td>26</td>\n",
       "      <td>Argentina</td>\n",
       "      <td>Ciudad Autónoma de Buenos Aires</td>\n",
       "      <td>3.0</td>\n",
       "      <td>3.0</td>\n",
       "      <td>3.0</td>\n",
       "      <td>0</td>\n",
       "      <td>Universitario</td>\n",
       "      <td>En curso</td>\n",
       "      <td>...</td>\n",
       "      <td>En mi trabajo actual</td>\n",
       "      <td>Homosexual</td>\n",
       "      <td>NaN</td>\n",
       "      <td>NaN</td>\n",
       "      <td>501-1000</td>\n",
       "      <td>Servicios / Consultoría de Software / Digital</td>\n",
       "      <td>7</td>\n",
       "      <td>2</td>\n",
       "      <td>Capacitaciones y/o cursos, Comidas pagas / sub...</td>\n",
       "      <td>NaN</td>\n",
       "    </tr>\n",
       "    <tr>\n",
       "      <th>1</th>\n",
       "      <td>Hombre</td>\n",
       "      <td>29</td>\n",
       "      <td>Argentina</td>\n",
       "      <td>Corrientes</td>\n",
       "      <td>5.0</td>\n",
       "      <td>2.0</td>\n",
       "      <td>2.0</td>\n",
       "      <td>4</td>\n",
       "      <td>Universitario</td>\n",
       "      <td>En curso</td>\n",
       "      <td>...</td>\n",
       "      <td>Jamás</td>\n",
       "      <td>Heterosexual</td>\n",
       "      <td>Visual</td>\n",
       "      <td>No</td>\n",
       "      <td>201-500</td>\n",
       "      <td>Otras industrias</td>\n",
       "      <td>8</td>\n",
       "      <td>9</td>\n",
       "      <td>Horarios flexibles, Stock options / RSUs, Viát...</td>\n",
       "      <td>NaN</td>\n",
       "    </tr>\n",
       "    <tr>\n",
       "      <th>2</th>\n",
       "      <td>Mujer</td>\n",
       "      <td>22</td>\n",
       "      <td>Argentina</td>\n",
       "      <td>Ciudad Autónoma de Buenos Aires</td>\n",
       "      <td>2.0</td>\n",
       "      <td>0.0</td>\n",
       "      <td>0.0</td>\n",
       "      <td>0</td>\n",
       "      <td>Secundario</td>\n",
       "      <td>Completado</td>\n",
       "      <td>...</td>\n",
       "      <td>En un trabajo anterior</td>\n",
       "      <td>Bisexual o queer</td>\n",
       "      <td>NaN</td>\n",
       "      <td>No</td>\n",
       "      <td>2001-5000</td>\n",
       "      <td>Otras industrias</td>\n",
       "      <td>6</td>\n",
       "      <td>9</td>\n",
       "      <td>Clases de gimnasia online, Comidas pagas / sub...</td>\n",
       "      <td>NaN</td>\n",
       "    </tr>\n",
       "  </tbody>\n",
       "</table>\n",
       "<p>3 rows × 48 columns</p>\n",
       "</div>"
      ],
      "text/plain": [
       "  profile_gender  profile_age work_country                    work_province  \\\n",
       "0          Mujer           26    Argentina  Ciudad Autónoma de Buenos Aires   \n",
       "1         Hombre           29    Argentina                       Corrientes   \n",
       "2          Mujer           22    Argentina  Ciudad Autónoma de Buenos Aires   \n",
       "\n",
       "   profile_years_experience  work_years_in_company  \\\n",
       "0                       3.0                    3.0   \n",
       "1                       5.0                    2.0   \n",
       "2                       2.0                    0.0   \n",
       "\n",
       "   work_years_in_current_position  work_people_in_charge_of  \\\n",
       "0                             3.0                         0   \n",
       "1                             2.0                         4   \n",
       "2                             0.0                         0   \n",
       "\n",
       "  profile_studies_level profile_studies_level_state  ...  \\\n",
       "0         Universitario                    En curso  ...   \n",
       "1         Universitario                    En curso  ...   \n",
       "2            Secundario                  Completado  ...   \n",
       "\n",
       "  work_has_violence_situations profile_sexual_orientation  \\\n",
       "0         En mi trabajo actual                 Homosexual   \n",
       "1                        Jamás               Heterosexual   \n",
       "2       En un trabajo anterior           Bisexual o queer   \n",
       "\n",
       "  profile_has_disabilities profile_has_disabilities_hiring_difficulties  \\\n",
       "0                      NaN                                          NaN   \n",
       "1                   Visual                                           No   \n",
       "2                      NaN                                           No   \n",
       "\n",
       "  company_employee_number                          company_main_activity  \\\n",
       "0                501-1000  Servicios / Consultoría de Software / Digital   \n",
       "1                 201-500                               Otras industrias   \n",
       "2               2001-5000                               Otras industrias   \n",
       "\n",
       "  company_recommended company_diversity_policies  \\\n",
       "0                   7                          2   \n",
       "1                   8                          9   \n",
       "2                   6                          9   \n",
       "\n",
       "                              company_extra_benefits  \\\n",
       "0  Capacitaciones y/o cursos, Comidas pagas / sub...   \n",
       "1  Horarios flexibles, Stock options / RSUs, Viát...   \n",
       "2  Clases de gimnasia online, Comidas pagas / sub...   \n",
       "\n",
       "  company_best_companies_city  \n",
       "0                         NaN  \n",
       "1                         NaN  \n",
       "2                         NaN  \n",
       "\n",
       "[3 rows x 48 columns]"
      ]
     },
     "execution_count": 3,
     "metadata": {},
     "output_type": "execute_result"
    }
   ],
   "source": [
    "df[:3]"
   ]
  },
  {
   "cell_type": "code",
   "execution_count": 4,
   "metadata": {
    "colab": {
     "base_uri": "https://localhost:8080/",
     "height": 206
    },
    "id": "2lzmzK1NuPNT",
    "outputId": "2dd4e6df-6c7a-486d-e2d8-99a92dc0f990"
   },
   "outputs": [
    {
     "data": {
      "text/html": [
       "<div>\n",
       "<style scoped>\n",
       "    .dataframe tbody tr th:only-of-type {\n",
       "        vertical-align: middle;\n",
       "    }\n",
       "\n",
       "    .dataframe tbody tr th {\n",
       "        vertical-align: top;\n",
       "    }\n",
       "\n",
       "    .dataframe thead tr th {\n",
       "        text-align: left;\n",
       "    }\n",
       "\n",
       "    .dataframe thead tr:last-of-type th {\n",
       "        text-align: right;\n",
       "    }\n",
       "</style>\n",
       "<table border=\"1\" class=\"dataframe\">\n",
       "  <thead>\n",
       "    <tr>\n",
       "      <th></th>\n",
       "      <th colspan=\"8\" halign=\"left\">salary_monthly_NETO</th>\n",
       "    </tr>\n",
       "    <tr>\n",
       "      <th></th>\n",
       "      <th>count</th>\n",
       "      <th>mean</th>\n",
       "      <th>std</th>\n",
       "      <th>min</th>\n",
       "      <th>25%</th>\n",
       "      <th>50%</th>\n",
       "      <th>75%</th>\n",
       "      <th>max</th>\n",
       "    </tr>\n",
       "    <tr>\n",
       "      <th>profile_gender</th>\n",
       "      <th></th>\n",
       "      <th></th>\n",
       "      <th></th>\n",
       "      <th></th>\n",
       "      <th></th>\n",
       "      <th></th>\n",
       "      <th></th>\n",
       "      <th></th>\n",
       "    </tr>\n",
       "  </thead>\n",
       "  <tbody>\n",
       "    <tr>\n",
       "      <th>Hombre</th>\n",
       "      <td>4944.0</td>\n",
       "      <td>98836.063558</td>\n",
       "      <td>102159.664237</td>\n",
       "      <td>1.0</td>\n",
       "      <td>53285.0</td>\n",
       "      <td>80000.0</td>\n",
       "      <td>110000.0</td>\n",
       "      <td>2080000.0</td>\n",
       "    </tr>\n",
       "    <tr>\n",
       "      <th>Mujer</th>\n",
       "      <td>908.0</td>\n",
       "      <td>73501.414465</td>\n",
       "      <td>56256.880181</td>\n",
       "      <td>2.0</td>\n",
       "      <td>43818.0</td>\n",
       "      <td>65000.0</td>\n",
       "      <td>92000.0</td>\n",
       "      <td>800000.0</td>\n",
       "    </tr>\n",
       "    <tr>\n",
       "      <th>Otros</th>\n",
       "      <td>31.0</td>\n",
       "      <td>95441.354839</td>\n",
       "      <td>88635.674358</td>\n",
       "      <td>40.0</td>\n",
       "      <td>39500.0</td>\n",
       "      <td>74000.0</td>\n",
       "      <td>117500.0</td>\n",
       "      <td>380000.0</td>\n",
       "    </tr>\n",
       "  </tbody>\n",
       "</table>\n",
       "</div>"
      ],
      "text/plain": [
       "               salary_monthly_NETO                                     \\\n",
       "                             count          mean            std   min   \n",
       "profile_gender                                                          \n",
       "Hombre                      4944.0  98836.063558  102159.664237   1.0   \n",
       "Mujer                        908.0  73501.414465   56256.880181   2.0   \n",
       "Otros                         31.0  95441.354839   88635.674358  40.0   \n",
       "\n",
       "                                                       \n",
       "                    25%      50%       75%        max  \n",
       "profile_gender                                         \n",
       "Hombre          53285.0  80000.0  110000.0  2080000.0  \n",
       "Mujer           43818.0  65000.0   92000.0   800000.0  \n",
       "Otros           39500.0  74000.0  117500.0   380000.0  "
      ]
     },
     "execution_count": 4,
     "metadata": {},
     "output_type": "execute_result"
    }
   ],
   "source": [
    "df[['profile_gender', 'salary_monthly_NETO']].groupby('profile_gender').describe()"
   ]
  },
  {
   "cell_type": "code",
   "execution_count": 5,
   "metadata": {
    "colab": {
     "base_uri": "https://localhost:8080/",
     "height": 206
    },
    "id": "pycKJ5jWkShW",
    "outputId": "28a2e17b-2198-49e2-b94f-16969a15418b"
   },
   "outputs": [
    {
     "data": {
      "text/html": [
       "<div>\n",
       "<style scoped>\n",
       "    .dataframe tbody tr th:only-of-type {\n",
       "        vertical-align: middle;\n",
       "    }\n",
       "\n",
       "    .dataframe tbody tr th {\n",
       "        vertical-align: top;\n",
       "    }\n",
       "\n",
       "    .dataframe thead tr th {\n",
       "        text-align: left;\n",
       "    }\n",
       "\n",
       "    .dataframe thead tr:last-of-type th {\n",
       "        text-align: right;\n",
       "    }\n",
       "</style>\n",
       "<table border=\"1\" class=\"dataframe\">\n",
       "  <thead>\n",
       "    <tr>\n",
       "      <th></th>\n",
       "      <th colspan=\"8\" halign=\"left\">salary_monthly_NETO</th>\n",
       "    </tr>\n",
       "    <tr>\n",
       "      <th></th>\n",
       "      <th>count</th>\n",
       "      <th>mean</th>\n",
       "      <th>std</th>\n",
       "      <th>min</th>\n",
       "      <th>25%</th>\n",
       "      <th>50%</th>\n",
       "      <th>75%</th>\n",
       "      <th>max</th>\n",
       "    </tr>\n",
       "    <tr>\n",
       "      <th>profile_gender</th>\n",
       "      <th></th>\n",
       "      <th></th>\n",
       "      <th></th>\n",
       "      <th></th>\n",
       "      <th></th>\n",
       "      <th></th>\n",
       "      <th></th>\n",
       "      <th></th>\n",
       "    </tr>\n",
       "  </thead>\n",
       "  <tbody>\n",
       "    <tr>\n",
       "      <th>Hombre</th>\n",
       "      <td>4815.0</td>\n",
       "      <td>101481.624343</td>\n",
       "      <td>102215.304684</td>\n",
       "      <td>1100.0</td>\n",
       "      <td>55000.0</td>\n",
       "      <td>80000.0</td>\n",
       "      <td>110000.0</td>\n",
       "      <td>2080000.0</td>\n",
       "    </tr>\n",
       "    <tr>\n",
       "      <th>Mujer</th>\n",
       "      <td>863.0</td>\n",
       "      <td>77328.913778</td>\n",
       "      <td>55082.760570</td>\n",
       "      <td>2000.0</td>\n",
       "      <td>47850.0</td>\n",
       "      <td>67200.0</td>\n",
       "      <td>93000.0</td>\n",
       "      <td>800000.0</td>\n",
       "    </tr>\n",
       "    <tr>\n",
       "      <th>Otros</th>\n",
       "      <td>28.0</td>\n",
       "      <td>105660.714286</td>\n",
       "      <td>87235.710235</td>\n",
       "      <td>34000.0</td>\n",
       "      <td>43750.0</td>\n",
       "      <td>78900.0</td>\n",
       "      <td>122750.0</td>\n",
       "      <td>380000.0</td>\n",
       "    </tr>\n",
       "  </tbody>\n",
       "</table>\n",
       "</div>"
      ],
      "text/plain": [
       "               salary_monthly_NETO                                         \\\n",
       "                             count           mean            std      min   \n",
       "profile_gender                                                              \n",
       "Hombre                      4815.0  101481.624343  102215.304684   1100.0   \n",
       "Mujer                        863.0   77328.913778   55082.760570   2000.0   \n",
       "Otros                         28.0  105660.714286   87235.710235  34000.0   \n",
       "\n",
       "                                                       \n",
       "                    25%      50%       75%        max  \n",
       "profile_gender                                         \n",
       "Hombre          55000.0  80000.0  110000.0  2080000.0  \n",
       "Mujer           47850.0  67200.0   93000.0   800000.0  \n",
       "Otros           43750.0  78900.0  122750.0   380000.0  "
      ]
     },
     "execution_count": 5,
     "metadata": {},
     "output_type": "execute_result"
    }
   ],
   "source": [
    "df[df.salary_monthly_NETO > 1000]\\\n",
    "  [['profile_gender', 'salary_monthly_NETO']].groupby('profile_gender').describe()"
   ]
  },
  {
   "cell_type": "code",
   "execution_count": 6,
   "metadata": {
    "id": "uZ1GxkLylHx0"
   },
   "outputs": [],
   "source": [
    "alpha = 0.05"
   ]
  },
  {
   "cell_type": "code",
   "execution_count": 7,
   "metadata": {
    "executionInfo": {
     "elapsed": 289,
     "status": "ok",
     "timestamp": 1653010955359,
     "user": {
      "displayName": "Gisela Brunetto",
      "userId": "11324151902072542495"
     },
     "user_tz": 180
    },
    "id": "OfzFpDO-lYxk"
   },
   "outputs": [],
   "source": [
    "is_man = df.profile_gender == 'Hombre'\n",
    "\n",
    "groupA = df[(df.salary_monthly_NETO > 1000) & is_man].salary_monthly_NETO\n",
    "groupB = df[(df.salary_monthly_NETO > 1000) & ~is_man].salary_monthly_NETO"
   ]
  },
  {
   "cell_type": "markdown",
   "metadata": {
    "id": "co_0M_ojtmUh"
   },
   "source": [
    "## Ejercicio 1: Estimación\n",
    "\n",
    "**Consigna:**  Calcular una estimación puntual y un intervalo de confianza de nivel (1-alpha) para la resta entre la media del salario Neto para Hombres menos la media del salario Neto para otros géneros(diferencia de las medias entre el grupoA y grupoB). \n",
    "¿Cómo se relaciona este intervalo de confianza con el test de hipótesis?"
   ]
  },
  {
   "cell_type": "markdown",
   "metadata": {
    "id": "L99WE5IFKwYX"
   },
   "source": [
    "Comenzamos por obtener los estadísticos necesarios para la construcción del intervalo de confianza."
   ]
  },
  {
   "cell_type": "code",
   "execution_count": 8,
   "metadata": {
    "executionInfo": {
     "elapsed": 317,
     "status": "ok",
     "timestamp": 1653010958956,
     "user": {
      "displayName": "Gisela Brunetto",
      "userId": "11324151902072542495"
     },
     "user_tz": 180
    },
    "id": "0fA1RQ0upe6N"
   },
   "outputs": [],
   "source": [
    "meanA = groupA.mean()\n",
    "meanB = groupB.mean()\n",
    "stdA = groupA.std()\n",
    "stdB = groupB.std()\n",
    "\n",
    "estimador_puntual = round(meanA - meanB, 2)\n",
    "sample_std = round(stdA - stdB, 2)\n",
    "\n",
    "N_A = groupA.count()\n",
    "N_B = groupB.count()\n"
   ]
  },
  {
   "cell_type": "markdown",
   "metadata": {
    "id": "Zlqxum79LhUj"
   },
   "source": [
    "**Estimador puntual de la diferencia de medias:**"
   ]
  },
  {
   "cell_type": "code",
   "execution_count": 9,
   "metadata": {
    "colab": {
     "base_uri": "https://localhost:8080/"
    },
    "executionInfo": {
     "elapsed": 284,
     "status": "ok",
     "timestamp": 1653010964000,
     "user": {
      "displayName": "Gisela Brunetto",
      "userId": "11324151902072542495"
     },
     "user_tz": 180
    },
    "id": "GFmAkv1HGNQu",
    "outputId": "1fca0cb0-a064-4a4d-d6be-043de67dd01a"
   },
   "outputs": [
    {
     "name": "stdout",
     "output_type": "stream",
     "text": [
      "Un estimador puntual de la diferencia de medias entre el grupo A y el B es: 23262.37\n"
     ]
    }
   ],
   "source": [
    "print(f'Un estimador puntual de la diferencia de medias entre el grupo A y el B es: {estimador_puntual}')\n"
   ]
  },
  {
   "cell_type": "markdown",
   "metadata": {
    "id": "lKfOspyqLizx"
   },
   "source": [
    "**Construcción del intervalo de confianza:**"
   ]
  },
  {
   "cell_type": "code",
   "execution_count": 10,
   "metadata": {
    "colab": {
     "base_uri": "https://localhost:8080/",
     "height": 1000
    },
    "id": "pH64mq6jKMGb",
    "outputId": "f36c9c09-3412-47ae-da50-8362b110fdbb"
   },
   "outputs": [
    {
     "name": "stderr",
     "output_type": "stream",
     "text": [
      "D:\\anaconda3\\lib\\site-packages\\seaborn\\_decorators.py:36: FutureWarning: Pass the following variable as a keyword arg: x. From version 0.12, the only valid positional argument will be `data`, and passing other arguments without an explicit keyword will result in an error or misinterpretation.\n",
      "  warnings.warn(\n",
      "D:\\anaconda3\\lib\\site-packages\\seaborn\\_decorators.py:36: FutureWarning: Pass the following variable as a keyword arg: x. From version 0.12, the only valid positional argument will be `data`, and passing other arguments without an explicit keyword will result in an error or misinterpretation.\n",
      "  warnings.warn(\n"
     ]
    },
    {
     "data": {
      "image/png": "[encoded data removed]",
      "text/plain": [
       "<Figure size 1440x1440 with 4 Axes>"
      ]
     },
     "metadata": {
      "needs_background": "light"
     },
     "output_type": "display_data"
    }
   ],
   "source": [
    "#Antes de construir el intervalo tenemos que saber si podemos considerar varianzas iguales o distintas. Lo veamos por medio de gráficos\n",
    "fig, ax = plt.subplots(nrows=2, ncols=2, figsize=(20,20), sharey='row')\n",
    "seaborn.boxplot(groupA, ax=ax[0,0]).set(title='BoxPlot del salario mensual neto para la muestra del grupo A')\n",
    "seaborn.boxplot(groupB, ax=ax[0,1]).set(title='BoxPlot del salario mensual neto para la muestra del grupo B')\n",
    "\n",
    "seaborn.kdeplot(data=groupA, ax=ax[1,0]).set(title='Distribución del salario mensual neto del grupo A')\n",
    "seaborn.kdeplot(data=groupB, ax=ax[1,1]).set(title='Distribución del salario mensual neto del grupo B')\n",
    "\n",
    "plt.ticklabel_format(style='plain', axis='x') \n",
    "\n",
    "plt.show()"
   ]
  },
  {
   "cell_type": "markdown",
   "metadata": {
    "id": "mG9gvJqRI29r"
   },
   "source": [
    "Las cajas de los boxplot difieren de su ancho por lo que podemos sospechar que son distintas. El test de Levene nos informa acerca de la homogeneidad de las varianzas de ambos grupos. Las hipótesis a contrastar son:\n",
    "\n",
    "$H_0:\\frac{\\sigma_A}{\\sigma_B}=1$\n",
    "\n",
    "$H_1:\\frac{\\sigma_A}{\\sigma_B} \\neq 1$"
   ]
  },
  {
   "cell_type": "code",
   "execution_count": 11,
   "metadata": {
    "id": "Pdr6FLJJJK8e"
   },
   "outputs": [
    {
     "name": "stdout",
     "output_type": "stream",
     "text": [
      "P-valor = 1.563076059819447e-09\n"
     ]
    }
   ],
   "source": [
    "# Levene test\n",
    "# ==============================================================================\n",
    "levene_test = stats.levene(groupA, groupB, center='mean')\n",
    "print(f'P-valor = {levene_test[1]}')"
   ]
  },
  {
   "cell_type": "markdown",
   "metadata": {
    "id": "fclw8gKSJNLO"
   },
   "source": [
    "**Decisión:** como  $p$ -valor  $<<<α=0.05$ , se rechaza  $H_0$ .\n",
    "\n",
    "**Conclusión**: Hay evidencia estadísticamente significativa para afirmar que la varianza del grupo A y del grupo B son distintas."
   ]
  },
  {
   "cell_type": "markdown",
   "metadata": {
    "id": "3NCy3KXfJTAR"
   },
   "source": [
    "A continuación analizamos si los datos de las muestras provienen de una distribución normal para determinar si el intervalos será asintótico o no.\n",
    "Los graficos qqplot nos sirve para intuir si las muestras van a tener distribucion normal (se comparan los quantiles teoricos de una N(0,1) con los muestrales)"
   ]
  },
  {
   "cell_type": "code",
   "execution_count": 12,
   "metadata": {
    "colab": {
     "base_uri": "https://localhost:8080/",
     "height": 647
    },
    "id": "w_m9HqQjutI8",
    "outputId": "4bc247c6-2c2e-4143-80f8-76860fed223a"
   },
   "outputs": [
    {
     "name": "stderr",
     "output_type": "stream",
     "text": [
      "D:\\anaconda3\\lib\\site-packages\\statsmodels\\graphics\\gofplots.py:993: UserWarning: marker is redundantly defined by the 'marker' keyword argument and the fmt string \"bo\" (-> marker='o'). The keyword argument will take precedence.\n",
      "  ax.plot(x, y, fmt, **plot_style)\n",
      "D:\\anaconda3\\lib\\site-packages\\statsmodels\\graphics\\gofplots.py:993: UserWarning: marker is redundantly defined by the 'marker' keyword argument and the fmt string \"bo\" (-> marker='o'). The keyword argument will take precedence.\n",
      "  ax.plot(x, y, fmt, **plot_style)\n"
     ]
    },
    {
     "data": {
      "image/png": "[encoded data removed]",
      "text/plain": [
       "<Figure size 720x720 with 2 Axes>"
      ]
     },
     "metadata": {
      "needs_background": "light"
     },
     "output_type": "display_data"
    }
   ],
   "source": [
    "\n",
    "from statsmodels.graphics.gofplots import qqplot\n",
    "ig, ax = plt.subplots(nrows=1, ncols=2, figsize=(10,10), sharey='row')\n",
    "\n",
    "qqplot(groupA , line='45', ax=ax[0])\n",
    "ax[0].set_title('Qqplot grupo A') \n",
    "\n",
    "qqplot(groupB , line='45', ax=ax[1] )\n",
    "\n",
    "ax[1].set_title('Qqplot grupo B') \n",
    "\n",
    "\n",
    "plt.show()\n",
    "\n"
   ]
  },
  {
   "cell_type": "markdown",
   "metadata": {
    "id": "I7O4ekKkJpZP"
   },
   "source": [
    "Los puntos azules (cuantiles muestrales) deberían caer en la linea roja \n",
    "(cuantiles teóricos para esos valores de la muestra), o estar muy cercanos a \n",
    "ella. \n",
    "Claramente esto no sucede aquí, luego las muestras no provienen de una \n",
    "distribución normal."
   ]
  },
  {
   "cell_type": "markdown",
   "metadata": {
    "id": "bcsBqdtJtLOF"
   },
   "source": [
    "Por medio de los test correspondientes, verificamos lo que se aprecia en los gráficos:"
   ]
  },
  {
   "cell_type": "code",
   "execution_count": 13,
   "metadata": {
    "colab": {
     "base_uri": "https://localhost:8080/"
    },
    "id": "e7Yw00VxoWGQ",
    "outputId": "ed659f7b-ec36-4710-fa7a-74e3b929131c"
   },
   "outputs": [
    {
     "name": "stdout",
     "output_type": "stream",
     "text": [
      "P-valor para groupA: 8.156377970171486e-237\n",
      "P-valor para groupB: 1.0373672430655502e-20\n"
     ]
    }
   ],
   "source": [
    "#Shapiro-Wilk test\n",
    "\n",
    "from scipy.stats import norm, kstest\n",
    "\n",
    "def probability_is_normal(data):\n",
    "\n",
    "  \"\"\"\n",
    "  https://stackoverflow.com/questions/46678239/p-value-is-0-when-i-use-scipy-stats-kstest-for-large-dataset\n",
    "  \"\"\"\n",
    "  loc, scale = norm.fit(data)\n",
    "  # create a normal distribution with loc and scale\n",
    "  n = norm(loc=loc, scale=scale)\n",
    "  return kstest(data, n.cdf)[1]  #pvalue on second position\n",
    "\n",
    "print(f'P-valor para groupA: {probability_is_normal(groupA)}')\n",
    "print(f'P-valor para groupB: {probability_is_normal(groupB)}')"
   ]
  },
  {
   "cell_type": "markdown",
   "metadata": {
    "id": "pO4QAEBvtnYu"
   },
   "source": [
    "El test de Shapiro-Wilk muestra que efectivamente las distribuciones de ambas muestras no son normales, ya que el $p$-valor es prácticamente cero. Es decir, la probabilidad de que las muestras provengan de poblaciones con distribución normal se puede considerar nula.\n",
    "\n",
    "Las hipótesis que manejamos aquí son:\n",
    "\n",
    "$H_0:$ La muestra groupA (groupB) proviene de una población con distribución normal.\n",
    "\n",
    "$H_1:$ La muestra groupA (groupB) no proviene de una población con distribución normal.\n",
    "\n",
    "**Decisión**: como $p$-valor $<<< \\alpha=0.05$, se rechaza $H_0$ (esta decisión es compartida para ambos grupos).\n",
    "\n",
    "**Conclusión**: Hay evidencia estadísticamente significativa para decir que la muestra groupA (groupB) no proviene de una distribución normal.\n"
   ]
  },
  {
   "cell_type": "markdown",
   "metadata": {
    "id": "lx2gBIO7ucJB"
   },
   "source": [
    "**Construcción del intervalo de confianza:** enfoque teórico en base a los resultados de los test."
   ]
  },
  {
   "cell_type": "markdown",
   "metadata": {
    "id": "JqSSyjv4NIym"
   },
   "source": [
    "Dada las dos muestras A y B con tamaños muestrales $n_A$ y $n_B$, respectivamente. Si sus varianzas $s_{A}^{2}$ y $s_{B}^{2}$ son distintas, vamos a utilizar como pivote para la construcción del intervalo de contianza del 95%, el estadístico de la prueba $t$ de Welch. Este pivote se construye con la siguiente fórmula:\n",
    "\n",
    "$$\n",
    "t=\\frac{(\\bar{X_A}-\\bar{X_B})-(\\mu_{A}-\\mu_{B})}{\\sqrt{\\frac{s_{A}^{2}}{n_{A}}+\\frac{s_{B}^{2}}{n_{B}}}}\n",
    "$$\n",
    "\n",
    "y tiene una distribución $t$ de Student con $f$ grados de libertad dados por la ecuación de Welch-Sattertwaite, la cual se expresa como:\n",
    "\n",
    "$$\n",
    "\\text { f }=\\frac{\\left(s_{A}^{2} / n_{A}+s_{B}^{2} / n_{B}\\right)^{2}}{\\left(s_{A}^{2} / n_{A}\\right)^{2} /\\left(n_{A}-1\\right)+\\left(s_{B}^{2} / n_{B}\\right)^{2} /\\left(n_{B}-1\\right)}\n",
    "$$\n",
    "\n",
    "\n",
    "\n",
    "Moore* también propone obtener los grados de libertad $f$ con la siguiente expresión:\n",
    "\n",
    "$$f=min\\{n_A , n_B \\}-1$$\n",
    "\n",
    "sobre todo cuando no contamos con una computadora, la fórmula anterior nos brinda una herramienta sencilla para hacer los cálculos a mano.\n",
    "\n",
    "\n",
    "Entonces, el intervalo de confianza quedará construido de la siguiente manera**:\n",
    "\n",
    "Para $\\alpha = 0.05$:\n",
    "$$P\\left(\\hat{\\theta}_{1} \\leq \\theta \\leq \\hat{\\theta}_{2}\\right)=1-\\alpha$$\n",
    "\n",
    "Donde $ \\theta = \\mu_A - \\mu_B$ y,  $\\hat{\\theta}_{1}, \\hat{\\theta}_{2}$ son los extremos del intervalo a calcular utilizando la información de que el pivote sigue una distribución $t$ de Student con $f$ grados de libertad.\n",
    "\n",
    "$$\n",
    "P\\left(-t_f \\leq \\frac{(\\bar{X_A}-\\bar{X_B})-(\\mu_{A}-\\mu_{B})}{\\sqrt{\\frac{s_{A}^{2}}{n_{A}}+\\frac{s_{B}^{2}}{n_{B}}}} \\leq t_f\\right)=0.95\n",
    "$$\n",
    "\n",
    "\n",
    "$$\n",
    "P\\left(-t_f \\sqrt{\\frac{s_{A}^{2}}{n_{A}}+\\frac{s_{B}^{2}}{n_{B}}} \\leq (\\bar{X_A}-\\bar{X_B})-(\\mu_{A}-\\mu_{B}) \\leq t_f \\sqrt{\\frac{s_{A}^{2}}{n_{A}}+\\frac{s_{B}^{2}}{n_{B}}}\\right)=0.95\n",
    "$$\n",
    "\n",
    "$$\n",
    "P\\left((\\bar{X_A}-\\bar{X_B})-t_f \\sqrt{\\frac{s_{A}^{2}}{n_{A}}+\\frac{s_{B}^{2}}{n_{B}}} \\leq (\\mu_{A}-\\mu_{B}) \\leq (\\bar{X_A}-\\bar{X_B})+t_f \\sqrt{\\frac{s_{A}^{2}}{n_{A}}+\\frac{s_{B}^{2}}{n_{B}}}\\right)=0.95\n",
    "$$\n",
    "\n",
    "\n",
    "Así:\n",
    "\n",
    "$\\hat{\\theta}_{1}= (\\bar{X_A}-\\bar{X_B})-t_f \\sqrt{\\frac{s_{A}^{2}}{n_{A}}+\\frac{s_{B}^{2}}{n_{B}}}$\n",
    "\n",
    "y\n",
    "\n",
    "$\\hat{\\theta}_{2}= (\\bar{X_A}-\\bar{X_B})+t_f \\sqrt{\\frac{s_{A}^{2}}{n_{A}}+\\frac{s_{B}^{2}}{n_{B}}}$\n",
    "\n",
    "\n",
    "Nota: $t_f$ es el percentil correspondiente a una probabilidad acumulada de $97.5\\%$ de una distribución $t$ de Student con $f$ grados de libertad. Por simplicidad en la notación usamos $t_{f,0.975}=t_f$.\n",
    "\n",
    "(*) David Moore, Estadística Aplicada Básica, segunda edición.\n",
    "\n",
    "(**) Supondremos un intervalo de confianza asintótico, pues las muestras no provienen de distribuciones normales.\n"
   ]
  },
  {
   "cell_type": "code",
   "execution_count": 14,
   "metadata": {
    "id": "oR98nXgLinGw"
   },
   "outputs": [],
   "source": [
    "#Grados de libertad propuesto por Welch\n",
    "N=((stdA**2/N_A)+ (stdB**2/N_B))**2 \n",
    "D=(stdA**2/N_A)**2 / (N_A-1) + (stdB**2/N_B)**2 / (N_B-1)\n",
    "f_W=round(N/D) \n",
    "#---------------------------------------------------------------\n",
    "#Grados de libertad usando el mínimo entre N_A y N_B\n",
    "f_M=np.min([N_A, N_B])-1 \n",
    "\n"
   ]
  },
  {
   "cell_type": "code",
   "execution_count": 15,
   "metadata": {
    "colab": {
     "base_uri": "https://localhost:8080/"
    },
    "id": "-n30GF17mskK",
    "outputId": "de81a4d2-496d-41ee-e529-ed85fdc73397"
   },
   "outputs": [
    {
     "name": "stdout",
     "output_type": "stream",
     "text": [
      "El percentil que corresponde a f_M= 890 grados de libertad y una probabilidad acumulada de 97.5 % es: 1.963\n"
     ]
    }
   ],
   "source": [
    "#percentil 97.5% de una t de student con f_M grados de libertad\n",
    "t = stats.t(f_M)\n",
    "confianza=0.95\n",
    "t_f = np.abs(t.ppf((1-confianza)/2)) #saca el percentil para alpha=0.05/2 de una t de Student con f_M grados de libertad (esto es lo que sería nuestro z0975 si la distribución fuese N(0,1))\n",
    "print('El percentil que corresponde a f_M=',f_M, 'grados de libertad y una probabilidad acumulada de', confianza*100+(alpha*100)/2,'%', 'es:', round(t_f,3))"
   ]
  },
  {
   "cell_type": "code",
   "execution_count": 16,
   "metadata": {
    "colab": {
     "base_uri": "https://localhost:8080/"
    },
    "id": "_TP5e9q6JM3E",
    "outputId": "22f52221-ae24-4000-e0fc-4918ca73a3d6"
   },
   "outputs": [
    {
     "name": "stdout",
     "output_type": "stream",
     "text": [
      "IC= ( 18554.261 , 27970.479 )\n",
      "La longitud del intervalo construido con 890 grados de libertad es  9416.218\n"
     ]
    }
   ],
   "source": [
    "#Construcción de intervalo de confianza asintótico para la diferencia de medias usando el pivote con f_M= 890 gdl\n",
    "theta_cop_1= estimador_puntual - t_f * np.sqrt((stdA**2/N_A)+ (stdB**2/N_B)) #limite inferior del intervalo\n",
    "theta_cop_2= estimador_puntual + t_f * np.sqrt((stdA**2/N_A)+ (stdB**2/N_B)) #limite superior del intervalo\n",
    "\n",
    "print('IC= (', round(theta_cop_1,3), ',', round(theta_cop_2,3), ')')\n",
    "print('La longitud del intervalo construido con', f_M, 'grados de libertad es ', round(theta_cop_2-theta_cop_1,3))"
   ]
  },
  {
   "cell_type": "code",
   "execution_count": 17,
   "metadata": {
    "colab": {
     "base_uri": "https://localhost:8080/"
    },
    "id": "4mUzmdXRiBKZ",
    "outputId": "55440b97-454e-4bca-a4ed-ed86a5003481"
   },
   "outputs": [
    {
     "name": "stdout",
     "output_type": "stream",
     "text": [
      "El percentil que corresponde a f_W= 2148 grados de libertad y una probabilidad acumulada de 97.5 % es: 1.961\n"
     ]
    }
   ],
   "source": [
    "#Construcción de intervalo de confianza asintótico para la diferencia de medias usando el pivote con f_W= 2148 gdl\n",
    "t_W = stats.t(f_W)\n",
    "t_f_W = np.abs(t_W.ppf((1-confianza)/2))\n",
    "\n",
    "print('El percentil que corresponde a f_W=',f_W, 'grados de libertad y una probabilidad acumulada de', confianza*100+(alpha*100)/2,'%', 'es:', round(t_f_W,3))\n"
   ]
  },
  {
   "cell_type": "code",
   "execution_count": 18,
   "metadata": {
    "colab": {
     "base_uri": "https://localhost:8080/"
    },
    "id": "Bux3IjvInjVv",
    "outputId": "09f5f8af-43c5-4697-8e83-a6c712471fc7"
   },
   "outputs": [
    {
     "name": "stdout",
     "output_type": "stream",
     "text": [
      "IC_W= ( 18558.013 , 27966.727 )\n",
      "La longitud del intervalo construido con 2148 grados de libertad es  9408.714\n"
     ]
    }
   ],
   "source": [
    "theta_cop_1_W= estimador_puntual - t_f_W * np.sqrt((stdA**2/N_A)+ (stdB**2/N_B)) #limite inferior del intervalo\n",
    "theta_cop_2_W= estimador_puntual + t_f_W * np.sqrt((stdA**2/N_A)+ (stdB**2/N_B)) #limite superior del intervalo\n",
    "\n",
    "print('IC_W= (', round(theta_cop_1_W,3), ',', round(theta_cop_2_W,3), ')')\n",
    "print('La longitud del intervalo construido con', f_W, 'grados de libertad es ', round(theta_cop_2_W-theta_cop_1_W,3))"
   ]
  },
  {
   "cell_type": "markdown",
   "metadata": {
    "id": "aV03Ux7_olGz"
   },
   "source": [
    "Notar que el intervalo construido a partir de una distribución $t$ de Student con más grados de libertad es más preciso que el construido con menos gdl. Nos quedaremos con el intervalo de confianza de menor longitud."
   ]
  },
  {
   "cell_type": "markdown",
   "metadata": {
    "id": "zzxHhBy_Rzwa"
   },
   "source": [
    "El intervalo de confianza  del $95 \\text{%}$ para la diferencia de medias obtenido a partir de las muestras A y B es: $$IC_W= ( 18558.013 , 27966.727 )$$\n",
    "\n",
    "**Interpretación**: Hay **aproximadamente** un $95 \\text{%}$ de confianza de que el intervalo construido a partir de la diferencia de medias entre el salario mensual neto de los hombres y el salario mensual neto del resto de los géneros, cubra al verdadero valor de dicha diferencia.\n",
    "\n",
    "Si realizamos el experimento (encuestar, de la forma correcta, a personas de ambos grupos acerca de su salario mensual neto) un número grande $N$ de veces y por cada realización computamos el intervalo obtendríamos **aproximadamente** $0.95 · N$ intervalos que contienen a $\\theta$ y los restantes no.\n",
    "Nuestro intervalo particular $IC_W= ( 18558.013 , 27966.727 )$ forma parte de los $N$ intervalos, con lo cual tenemos una alta chance que forme parte del grupo de $0.95 · N$ intervalos que contiene a $\\theta$.\n",
    "\n",
    "\n",
    "\n",
    "\n",
    "**¿Cómo interpretamos el estimador puntual de la diferencia de medias?** \n",
    "\n",
    "El estimador puntual de la diferencia entre las dos medias que obtuvimos en una primera instancia es $\\widehat{\\mu_A - \\mu_B}=\\hat{\\mu_A } - \\hat{\\mu_B}= \\bar{X_A} - \\bar{X_A}= 23262.37$ . Esto significa que, con base a los datos, pareciera que en promedio el salario neto mensual del grupo de hombres (grupo A) es ARG 23.262,37 mayor que el resto de los géneros (grupo B)."
   ]
  },
  {
   "cell_type": "markdown",
   "metadata": {
    "id": "uoxDFhDB7NrA"
   },
   "source": [
    "**¿Cómo se relaciona este intervalo de confianza con el test de hipótesis?**\n",
    "\n",
    "Los intervalos de confianza son construidos a partir de un pivote al cual se le asocia una distribución, en este caso, simétrica (en lo mejor de los casos será normal, pero en la práctica la varianza resulta, la mayoría de las veces, no conocida por lo que trabajamos con $t$ de Student). Los percentiles utilizados en la construcción de los límites de un intervalo con $(1-\\alpha)\\%$ de confianza resultan coincidir con los extremos que delimitan la zona de rechazo o no rechazo del test de hipótesis bilateral:\n",
    "\n",
    "$H_0: \\theta = \\theta_0$ \n",
    "\n",
    "$H_0: \\theta \\neq \\theta_0$\n",
    "\n",
    "Bajo $H_0$, el pivote que se utiliza en un intervalo de confianza pasa a formar parte del estadístico de prueba del test, al que llamaremos $\\epsilon$.\n",
    "\n",
    "Contamos así con una forma alternativa de tomar una decisión en una prueba de hipótesis **bilateral**. Para tomar una decisión acerca de éstas hipótesis se pueden seguir dos caminos, tal como se indica a continuación:\n",
    "\n",
    "a) Realizar la prueba de hipótesis construyendo, para un valor de $\\alpha$ especificado, la zona de rechazo $Z=(-\\infty,-a] \\cup[a,+\\infty)$, de donde la zona de no rechazo es $(-a, a)$.\n",
    "\n",
    "b) Construir un intervalo de confianza para $\\theta$ de nivel $(1-\\alpha)$. Aquí afirmamos que $\\theta_0 \\in IC_{(1-\\alpha)\\%}$ y reconstruimos el estadístico de prueba. Al realizar las operaciones obtendremos una expresión de la forma: $$-a < \\epsilon < a$$\n",
    "\n",
    "donde $-a$ es el percentil $t_{\\alpha/2}$ y $a$ es el percentil $t_{1-\\alpha/2}$ correspondientes a los utilizados en la construcción del intervalo de confianza.\n",
    "\n",
    "Bajo esta lógica, si el estadístico de prueba $\\epsilon$ cae en la zona de rechazo, entonces rechazamos la hipótesis nula. De lo contrario, no rechazamos.\n",
    "\n",
    "Cuando afirmamos que $\\theta_{0} \\in IC_{95\\%}$, para un $\\alpha=0.05$ y para el caso de diferencia de medias con varianzas distintas, decimos lo siguiente:\n",
    "\n",
    "$$\n",
    "(\\bar{X_A}-\\bar{X_B})-t_f \\sqrt{\\frac{s_{A}^{2}}{n_{A}}+\\frac{s_{B}^{2}}{n_{B}}} \\leq \\theta_0 \\leq (\\bar{X_A}-\\bar{X_B})+t_f \\sqrt{\\frac{s_{A}^{2}}{n_{A}}+\\frac{s_{B}^{2}}{n_{B}}}\n",
    "$$\n",
    "\n",
    "$$\n",
    "-t_f \\leq \\frac{(\\bar{X_A}-\\bar{X_B})-\\theta_0}{\\sqrt{\\frac{s_{A}^{2}}{n_{A}}+\\frac{s_{B}^{2}}{n_{B}}}} \\leq t_f\n",
    "$$\n",
    "\n",
    "\n",
    "lo que más arriba se tradujo como $-a < \\epsilon < a$.\n",
    "\n",
    "Este conjunto delimitado por $-t_f$ y $t_f$ es el que nos provee la zona de no rechazo y, su complemento, la zona de rechazo del test. En una prueba para diferencia de medias nos interesa saber si el valor de $\\theta_0=0$ va a caer dentro del intervalo (o no), luego el estadístico de prueba del test de hipótesis, bajo $H_0$, será \n",
    "\n",
    "\n",
    "  $$\\epsilon=\\frac{\\bar{X}_A − \\bar{X}_B}{\\sqrt{\\frac{s_{A}^{2}}{n_{A}}+\\frac{s_{B}^{2}}{n_{B}}}}$$\n",
    "\n",
    "\n",
    "\n",
    "Notar que si la probabilidad de error de tipo I de un test de hipótesis bilateral es $\\alpha$, entonces el intervalo de confianza que se le asocia es uno de tipo $IC_{(1-\\alpha)\\%}$.\n",
    "\n"
   ]
  },
  {
   "cell_type": "markdown",
   "metadata": {
    "id": "IFi2T7Y6nM92"
   },
   "source": [
    "## Ejercicio 2: Test de hipótesis\n"
   ]
  },
  {
   "cell_type": "markdown",
   "metadata": {
    "id": "Rzxe8UYU6EfJ"
   },
   "source": [
    "\n",
    "### 2.1 Formalización\n",
    "\n",
    "Describir formalmente los distintos componentes de un test de hipótesis para comprobar si la distribución de los salarios es distinta entre los grupos A y B.\n",
    "\n",
    "**Hipótesis Nula:**\n",
    "\n",
    "$H_0: \\mu_{A}-\\mu_{B} = 0$ \n",
    "\n",
    "**Hipótesis alternativa:**\n",
    "\n",
    "$H_1: \\mu_{A}-\\mu_{B} \\neq 0$\n",
    "\n",
    "En palabras:\n",
    "\n",
    "$H_0:$ No hay diferencia en la distribución promedio de los salarios entre los grupos A y B.\n",
    "\n",
    "$H_1:$ La distribución promedio de los salarios entre los grupos A y B es distinta.\n",
    "\n",
    "**Estadístico (Pivote)**\n",
    "  * Identificar el estadístico:\n",
    "\n",
    "Bajo $H_0$, usamos el estadístico de prueba $t$ de Welch\n",
    "\n",
    "  $$\\epsilon=\\frac{\\bar{X}_A − \\bar{X}_B}{\\sqrt{\\frac{s_{A}^{2}}{n_{A}}+\\frac{s_{B}^{2}}{n_{B}}}}$$\n",
    "\n",
    "\n",
    "  * Escribir qué distribución tiene bajo $H_0$:\n",
    "\n",
    "  $$\\epsilon \\sim t_f$$\n",
    "\n",
    "donde $f$ son los grados de libertad dados por la ecuación de Welch-Sattertwaite dada en el inciso 1 para una distribucion $t$ de Student.\n",
    "\n",
    "**Nota:**\n",
    "Los datos, en un **problema** de dos muestras, son dos muestras aleatorias simples independientes cada una de ellas obtenida de una población distinta distribuida\n",
    "normalmente.\n",
    "Las pruebas de significación y los intervalos de confianza para la diferencia entre las medias $\\mu_1$ y $\\mu_2$ de dos poblaciones parten de la diferencia  entre las dos medias muestrales, $\\bar{X}_1 − \\bar{X}_2$. Con distribuciones no normales, el teorema del límite central garantiza que los procedimientos de cálculo son aproximadamente correctos cuando las muestras son grandes*.\n",
    "\n",
    "\n",
    "(*) David Moore, Estadística Aplicada Básica, segunda edición."
   ]
  },
  {
   "cell_type": "markdown",
   "metadata": {
    "id": "3Ip_5YdenC8u"
   },
   "source": [
    "## 2.2 P-valor\n",
    "\n",
    "1. Calcule el p-valor y decida si rechazar o no la hipótesis nula.\n",
    "2. Interprete el resultado.\n",
    "\n",
    "Links útiles:\n",
    "* [Test de hipótesis usando scipy](https://docs.scipy.org/doc/scipy/reference/generated/scipy.stats.ttest_ind.html)\n",
    "* [Test de Welch](http://daniellakens.blogspot.com/2015/01/always-use-welchs-t-test-instead-of.html)"
   ]
  },
  {
   "cell_type": "markdown",
   "metadata": {
    "id": "wLBqpq_9uckC"
   },
   "source": [
    "**Cálculo del $p$- valor**:"
   ]
  },
  {
   "cell_type": "code",
   "execution_count": 19,
   "metadata": {
    "colab": {
     "base_uri": "https://localhost:8080/"
    },
    "id": "fSEs2iS5umv2",
    "outputId": "d5720ccd-cece-4d5d-8435-aedd93bf2058"
   },
   "outputs": [
    {
     "data": {
      "text/plain": [
       "Ttest_indResult(statistic=9.697205976350673, pvalue=8.605197322133209e-22)"
      ]
     },
     "execution_count": 19,
     "metadata": {},
     "output_type": "execute_result"
    }
   ],
   "source": [
    "stats.ttest_ind(groupA, groupB, equal_var=False)\n"
   ]
  },
  {
   "cell_type": "markdown",
   "metadata": {
    "id": "1NLn8VdNxRK2"
   },
   "source": [
    "Como el $p$-valor $<<< 0.05$, rechazamos $H_0$."
   ]
  },
  {
   "cell_type": "markdown",
   "metadata": {
    "id": "adYiLdXLumOW"
   },
   "source": [
    "**Interpretación del resultado**\n",
    "\n",
    "Hay evidencia estadísticamente significativa para decir que la distribución promedio del salario mensual neto del grupo de los hombres es distinta a la distribución promedio del salario mensual neto del resto de los géneros.\n",
    "\n",
    "Notemos que el estadístico calculado $\\epsilon= 9.697$ cae en la zona de rechazo delimitada por el valor $\\text{t_f_W = np.abs(t_W.ppf((1-confianza)/2))= 1.961}$\n",
    "\n",
    "$$Z= (-\\infty,-1.961] \\cup [1.961, \\infty)$$\n",
    "\n",
    "El valor de t_f_W, representa el valor de $a$ especificado en el inciso 1. "
   ]
  },
  {
   "cell_type": "markdown",
   "metadata": {
    "id": "8VxiQr5YrQYR"
   },
   "source": [
    "### [Opcional] 2.3 Potencia del test\n",
    "\n",
    "Nuestra muestra, ¿era lo suficientemente grande para detectar si existe o no una diferencia entre los grupos?\n",
    "\n",
    "1. Utilice la función `tt_ind_solve_power` para calcular el tamaño necesario de la muestra para un poder estadístico de 0.8, 0.9 y 0.95, asumiendo una significancia estadística de 0.05.\n",
    "2. ¿Cómo intepretan el poder estadístico de un test? Dado su conocimiento de dominio sobre los datos, ¿les parece que esta muestra es lo suficientemente grande para ser representativo de la tendencia general? ¿y para utilizarlo en un juicio penal contra una empresa XX por una causa de discriminación?\n",
    "\n",
    "[Documentación](https://www.statsmodels.org/stable/generated/statsmodels.stats.power.tt_ind_solve_power.html)\n",
    "\n",
    "NOTA: este análisis debería hacerse ANTES de recolectar los datos."
   ]
  },
  {
   "cell_type": "code",
   "execution_count": 20,
   "metadata": {
    "id": "_IiqGfo4t6Db"
   },
   "outputs": [],
   "source": [
    "from statsmodels.stats.power import tt_ind_solve_power"
   ]
  },
  {
   "cell_type": "code",
   "execution_count": 21,
   "metadata": {
    "id": "LUQ7MA2Apj9x"
   },
   "outputs": [],
   "source": [
    "effect_size = (groupA.mean() - groupB.mean()) / groupB.std()\n",
    "# nobs1=None  - What we want to know\n",
    "alpha = 0.05\n",
    "ratio = len(groupB) / len(groupA)"
   ]
  },
  {
   "cell_type": "code",
   "execution_count": 22,
   "metadata": {
    "colab": {
     "base_uri": "https://localhost:8080/"
    },
    "id": "cvHcpY-3ty8Q",
    "outputId": "574bb350-5d81-45ee-aa5b-ae308de9d10f"
   },
   "outputs": [
    {
     "data": {
      "text/plain": [
       "492.8117730248978"
      ]
     },
     "execution_count": 22,
     "metadata": {},
     "output_type": "execute_result"
    }
   ],
   "source": [
    "tt_ind_solve_power(effect_size=effect_size, alpha=alpha, power=0.95, ratio=ratio)"
   ]
  },
  {
   "cell_type": "markdown",
   "metadata": {
    "id": "useKMdPyMod5"
   },
   "source": [
    "## Ejercicio 3: Comunicación y visualización\n",
    "\n",
    "**Consigna:** Seleccionen un resultado que les parezca relevante a partir de alguno de los ejercicios del entregable. Diseñe e implemente una comunicación en base a este mensaje, en un archivo PDF.\n",
    "\n",
    "Elija las palabras y visualización más adecuada para que la comunicación sea entendible, efectiva y se dapte a UNA de las siguientes situaciones:\n",
    "\n",
    "1. Una sección en un artículo de difusión a presentar como parte de una organización sin fines de lucro.\n",
    "No más de 1 página A4 (o dos si los gráficos son muy grandes).\n",
    "  1. Ejemplo: Alguna de las secciones [Los ecosistemas de emprendimiento de América Latina y el Caribe frente al COVID-19: Impactos, necesidades y recomendaciones](https://publications.iadb.org/es/los-ecosistemas-de-emprendimiento-de-america-latina-y-el-caribe-frente-al-covid-19-impactos-necesidades-y-recomendaciones), por ejemplo la sección *2.2. Reacciones de los emprendedores*.\n",
    "  2. Ejemplo: Alguna de las secciones de [The state of gender pay gap in 2021](https://www.payscale.com/data/gender-pay-gap?tk=carousel-ps-rc-job)\n",
    "  3. Puntos clave: \n",
    "    1. Simpleza de los gráficos.\n",
    "    2. Comunicación en lenguaje simple a personas que no son necesariamente expertos de dominio.\n",
    "    2. Selección de UNA oración sobre la que se hace énfasis.\n",
    "    3. No es necesario que mencionen objetivos ni descripciones del conjunto de datos, se supone que eso ya estaría explicado en otras secciones del informe.\n",
    "\n",
    "2. Una publicación científica o reporte técnico interno. No más de una página A4:\n",
    "  2. Ejemplo: La sección de resultados de [IZA DP No. 12914: The Impact of a Minimum Wage Change on the Distribution of Wages and Household Income](https://www.iza.org/publications/dp/12914/the-impact-of-a-minimum-wage-change-on-the-distribution-of-wages-and-household-income).\n",
    "  2. Ejemplo: Alguna de las secciones de [Temporary reduction in daily global CO2 emissions during the COVID-19 forced confinement](https://www.nature.com/articles/s41558-020-0797-x)\n",
    "  3. Puntos clave:\n",
    "    3. Nivel de detalle técnico requerido. Es necesario justificar la validez del análisis.\n",
    "    4. La idea presentada puede ser más compleja. Pueden asumir que la audiencia tiene conocimiento técnico y va a analizar las visualizaciones en detalle. \n",
    "    5. Pueden presentar más en detalle las limitaciones del análisis (significancia estadística, etc.)\n",
    "    2. No es necesario que mencionen objetivos ni descripciones del conjunto de datos, se supone que eso ya estaría explicado en otras secciones del informe.\n",
    "\n",
    "3. Un tweet (o post de LinkedIn) para la cuenta de su empresa consultora que hace análisis de datos. El objetivo es promocionar un análisis de datos abiertos que van a incluir en su portfolio:\n",
    "  1. Ejemplo: [Comparación vacunas covid](https://twitter.com/infobeautiful/status/1381577746527236098?s=20)\n",
    "  2. Ejemplo: [Tweet del BID](https://twitter.com/el_BID/status/1388508583944507396?s=20). Lo valioso de este tweet es que usaron un único número para transmitir un mensaje. Puede ser algo así, o con un gráfico muy simple.\n",
    "  3. Ejemplo: [Cambio climático](https://twitter.com/UNFCCC/status/1387732156190011394?s=20) Es un muy buen ejemplo, excepto que el gráfico no se lee nada y hay que entrar a la publicación original.\n",
    "  3. Ejemplo: [¿Cuánto están los programadores en las empresas?](https://www.linkedin.com/posts/denis-rothman-0b034043_tech-career-work-activity-6793861923269054464-gS6y) (No verificamos la veracidad o seriedad de la fuente).\n",
    "  4. Puntos clave:\n",
    "    1. Su audiencia no va a mirar la visualización por más de unos segundos, y no tiene conocimiento técnico.\n",
    "  3. Tienen que incluir además una *breve* descripción de cómo obtuvieron los datos que están presentando, que no entraría en el tweet.\n"
   ]
  },
  {
   "cell_type": "markdown",
   "metadata": {
    "id": "bZm4uxc7Kxus"
   },
   "source": [
    "## Respuesta:\n",
    "\n",
    "Hacer [click aquí](./Grupo_14_Entregable_2_Ejercicio_3.pdf) para abrir el archivo que es la respuesta a este ejercicio."
   ]
  }
 ],
 "metadata": {
  "colab": {
   "collapsed_sections": [],
   "name": "Grupo_14_Entregable_Parte_2.ipynb",
   "provenance": []
  },
  "kernelspec": {
   "display_name": "Python 3 (ipykernel)",
   "language": "python",
   "name": "python3"
  },
  "language_info": {
   "codemirror_mode": {
    "name": "ipython",
    "version": 3
   },
   "file_extension": ".py",
   "mimetype": "text/x-python",
   "name": "python",
   "nbconvert_exporter": "python",
   "pygments_lexer": "ipython3",
   "version": "3.9.7"
  }
 },
 "nbformat": 4,
 "nbformat_minor": 1
}
